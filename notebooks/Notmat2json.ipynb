{
  "nbformat": 4,
  "nbformat_minor": 0,
  "metadata": {
    "colab": {
      "name": "Notmat2json.ipynb",
      "provenance": [],
      "collapsed_sections": [],
      "authorship_tag": "ABX9TyOyo5rg/73tXMM1OwhgO64L",
      "include_colab_link": true
    },
    "kernelspec": {
      "name": "python3",
      "display_name": "Python 3"
    },
    "language_info": {
      "name": "python"
    }
  },
  "cells": [
    {
      "cell_type": "markdown",
      "metadata": {
        "id": "view-in-github",
        "colab_type": "text"
      },
      "source": [
        "<a href=\"https://colab.research.google.com/github/AvisP/Nest-Seq-Analysis/blob/main/notebooks/Notmat2json.ipynb\" target=\"_parent\"><img src=\"https://colab.research.google.com/assets/colab-badge.svg\" alt=\"Open In Colab\"/></a>"
      ]
    },
    {
      "cell_type": "code",
      "metadata": {
        "id": "7ACBAznHUxRu"
      },
      "source": [
        "import pickle\n",
        "import pandas as pd"
      ],
      "execution_count": 1,
      "outputs": []
    },
    {
      "cell_type": "code",
      "metadata": {
        "colab": {
          "base_uri": "https://localhost:8080/"
        },
        "id": "alEcCNEiVLsi",
        "outputId": "41e7f5b1-f2d3-446a-e504-b6b3a0bc6fc2"
      },
      "source": [
        "from google.colab import drive\n",
        "drive.mount('/content/gdrive')"
      ],
      "execution_count": 2,
      "outputs": [
        {
          "output_type": "stream",
          "text": [
            "Drive already mounted at /content/gdrive; to attempt to forcibly remount, call drive.mount(\"/content/gdrive\", force_remount=True).\n"
          ],
          "name": "stdout"
        }
      ]
    },
    {
      "cell_type": "code",
      "metadata": {
        "id": "F2GZFro1Uy-6"
      },
      "source": [
        "base_path = '/content/gdrive/My Drive/ZFDataset/'"
      ],
      "execution_count": 3,
      "outputs": []
    },
    {
      "cell_type": "code",
      "metadata": {
        "id": "HzJsUW-elDe_"
      },
      "source": [
        "syllable_df_Nest_Total = pd.read_pickle(base_path+'Nest1_Densenet121.pkl')"
      ],
      "execution_count": null,
      "outputs": []
    },
    {
      "cell_type": "code",
      "metadata": {
        "colab": {
          "base_uri": "https://localhost:8080/",
          "height": 771
        },
        "id": "9J-TF3IpVZGc",
        "outputId": "b74851ec-229b-4de1-dafe-379ef61d6093"
      },
      "source": [
        "syllable_df_Nest_Total"
      ],
      "execution_count": null,
      "outputs": [
        {
          "output_type": "execute_result",
          "data": {
            "text/html": [
              "<div>\n",
              "<style scoped>\n",
              "    .dataframe tbody tr th:only-of-type {\n",
              "        vertical-align: middle;\n",
              "    }\n",
              "\n",
              "    .dataframe tbody tr th {\n",
              "        vertical-align: top;\n",
              "    }\n",
              "\n",
              "    .dataframe thead th {\n",
              "        text-align: right;\n",
              "    }\n",
              "</style>\n",
              "<table border=\"1\" class=\"dataframe\">\n",
              "  <thead>\n",
              "    <tr style=\"text-align: right;\">\n",
              "      <th></th>\n",
              "      <th>start_time</th>\n",
              "      <th>end_time</th>\n",
              "      <th>labels</th>\n",
              "      <th>indv</th>\n",
              "      <th>indvi</th>\n",
              "      <th>key</th>\n",
              "      <th>audio</th>\n",
              "      <th>rate</th>\n",
              "      <th>spectrogram</th>\n",
              "      <th>labels_indv</th>\n",
              "      <th>densenet121_features</th>\n",
              "    </tr>\n",
              "  </thead>\n",
              "  <tbody>\n",
              "    <tr>\n",
              "      <th>0</th>\n",
              "      <td>0.103084</td>\n",
              "      <td>0.133787</td>\n",
              "      <td>-</td>\n",
              "      <td>cyea</td>\n",
              "      <td>1</td>\n",
              "      <td>cyea_0000</td>\n",
              "      <td>[-0.0037507678, -0.0037730576, -0.0033396403, ...</td>\n",
              "      <td>44100</td>\n",
              "      <td>[[0, 0, 0, 0, 0, 0, 0, 0, 0, 0, 0, 0, 0, 0, 0,...</td>\n",
              "      <td>cyea_-</td>\n",
              "      <td>[0.00036964213, 0.0061388216, 0.0023623325, 0....</td>\n",
              "    </tr>\n",
              "    <tr>\n",
              "      <th>1</th>\n",
              "      <td>0.197664</td>\n",
              "      <td>0.342063</td>\n",
              "      <td>a</td>\n",
              "      <td>cyea</td>\n",
              "      <td>2</td>\n",
              "      <td>cyea_0000</td>\n",
              "      <td>[-0.0016009295, -0.00080086064, 0.00024397256,...</td>\n",
              "      <td>44100</td>\n",
              "      <td>[[0, 0, 0, 0, 0, 0, 0, 0, 0, 0, 0, 0, 0, 0, 0,...</td>\n",
              "      <td>cyea_a</td>\n",
              "      <td>[0.00039546576, 0.0042689457, 0.0021646945, 0....</td>\n",
              "    </tr>\n",
              "    <tr>\n",
              "      <th>2</th>\n",
              "      <td>0.369546</td>\n",
              "      <td>0.536848</td>\n",
              "      <td>b</td>\n",
              "      <td>cyea</td>\n",
              "      <td>3</td>\n",
              "      <td>cyea_0000</td>\n",
              "      <td>[0.0028250518, 0.0025573175, 0.002130959, 0.00...</td>\n",
              "      <td>44100</td>\n",
              "      <td>[[0, 0, 0, 0, 0, 0, 0, 0, 0, 0, 0, 0, 0, 0, 0,...</td>\n",
              "      <td>cyea_b</td>\n",
              "      <td>[0.00043923515, 0.0035873966, 0.0023025582, 0....</td>\n",
              "    </tr>\n",
              "    <tr>\n",
              "      <th>3</th>\n",
              "      <td>0.559955</td>\n",
              "      <td>0.687823</td>\n",
              "      <td>c</td>\n",
              "      <td>cyea</td>\n",
              "      <td>4</td>\n",
              "      <td>cyea_0000</td>\n",
              "      <td>[0.00036472746, 0.00013401418, -0.00052369735,...</td>\n",
              "      <td>44100</td>\n",
              "      <td>[[0, 0, 0, 0, 0, 0, 0, 0, 0, 0, 0, 0, 0, 0, 0,...</td>\n",
              "      <td>cyea_c</td>\n",
              "      <td>[0.0004885812, 0.0055127405, 0.0017675881, 0.0...</td>\n",
              "    </tr>\n",
              "    <tr>\n",
              "      <th>4</th>\n",
              "      <td>0.726644</td>\n",
              "      <td>0.832925</td>\n",
              "      <td>d</td>\n",
              "      <td>cyea</td>\n",
              "      <td>5</td>\n",
              "      <td>cyea_0000</td>\n",
              "      <td>[0.0033374317, 0.004109387, 0.003555804, 0.002...</td>\n",
              "      <td>44100</td>\n",
              "      <td>[[0, 0, 0, 0, 0, 0, 0, 0, 0, 0, 0, 0, 0, 0, 0,...</td>\n",
              "      <td>cyea_d</td>\n",
              "      <td>[0.00040706727, 0.004342597, 0.0018088806, 0.0...</td>\n",
              "    </tr>\n",
              "    <tr>\n",
              "      <th>...</th>\n",
              "      <td>...</td>\n",
              "      <td>...</td>\n",
              "      <td>...</td>\n",
              "      <td>...</td>\n",
              "      <td>...</td>\n",
              "      <td>...</td>\n",
              "      <td>...</td>\n",
              "      <td>...</td>\n",
              "      <td>...</td>\n",
              "      <td>...</td>\n",
              "      <td>...</td>\n",
              "    </tr>\n",
              "    <tr>\n",
              "      <th>2934</th>\n",
              "      <td>0.102356</td>\n",
              "      <td>0.135123</td>\n",
              "      <td>0</td>\n",
              "      <td>phpd</td>\n",
              "      <td>1</td>\n",
              "      <td>phpd_0062</td>\n",
              "      <td>[-0.0035796678, 0.00066409475, 0.0039508683, 0...</td>\n",
              "      <td>44100</td>\n",
              "      <td>[[0, 0, 0, 0, 0, 0, 0, 0, 0, 0, 0, 0, 0, 0, 0,...</td>\n",
              "      <td>phpd_0</td>\n",
              "      <td>[0.00035229328, 0.0069653825, 0.00236547, 0.00...</td>\n",
              "    </tr>\n",
              "    <tr>\n",
              "      <th>2935</th>\n",
              "      <td>0.228433</td>\n",
              "      <td>0.287435</td>\n",
              "      <td>0</td>\n",
              "      <td>phpd</td>\n",
              "      <td>2</td>\n",
              "      <td>phpd_0062</td>\n",
              "      <td>[0.0010511333, 0.00033233757, -0.00028101055, ...</td>\n",
              "      <td>44100</td>\n",
              "      <td>[[0, 0, 0, 0, 0, 0, 0, 0, 0, 0, 0, 0, 0, 0, 0,...</td>\n",
              "      <td>phpd_0</td>\n",
              "      <td>[0.00036833377, 0.006149904, 0.0025585291, 0.0...</td>\n",
              "    </tr>\n",
              "    <tr>\n",
              "      <th>2936</th>\n",
              "      <td>0.323399</td>\n",
              "      <td>0.392424</td>\n",
              "      <td>0</td>\n",
              "      <td>phpd</td>\n",
              "      <td>3</td>\n",
              "      <td>phpd_0062</td>\n",
              "      <td>[0.0036439702, 0.001985288, 0.00042269952, -0....</td>\n",
              "      <td>44100</td>\n",
              "      <td>[[0, 0, 0, 0, 0, 0, 0, 0, 0, 0, 0, 0, 0, 0, 0,...</td>\n",
              "      <td>phpd_0</td>\n",
              "      <td>[0.00036655215, 0.005553442, 0.0027189297, 0.0...</td>\n",
              "    </tr>\n",
              "    <tr>\n",
              "      <th>2937</th>\n",
              "      <td>0.426528</td>\n",
              "      <td>0.540746</td>\n",
              "      <td>0</td>\n",
              "      <td>phpd</td>\n",
              "      <td>4</td>\n",
              "      <td>phpd_0062</td>\n",
              "      <td>[0.007070427, 0.0066078743, 0.0063827583, 0.00...</td>\n",
              "      <td>44100</td>\n",
              "      <td>[[0, 0, 0, 0, 0, 0, 0, 0, 0, 0, 0, 0, 0, 0, 0,...</td>\n",
              "      <td>phpd_0</td>\n",
              "      <td>[0.00043264066, 0.004336921, 0.002199093, 0.00...</td>\n",
              "    </tr>\n",
              "    <tr>\n",
              "      <th>2938</th>\n",
              "      <td>0.560996</td>\n",
              "      <td>0.606415</td>\n",
              "      <td>0</td>\n",
              "      <td>phpd</td>\n",
              "      <td>5</td>\n",
              "      <td>phpd_0062</td>\n",
              "      <td>[0.00012365187, 9.9252546e-05, 6.6792077e-06, ...</td>\n",
              "      <td>44100</td>\n",
              "      <td>[[0, 0, 0, 0, 0, 0, 0, 0, 0, 0, 0, 0, 0, 0, 0,...</td>\n",
              "      <td>phpd_0</td>\n",
              "      <td>[0.00036569627, 0.0069330796, 0.0024534285, 0....</td>\n",
              "    </tr>\n",
              "  </tbody>\n",
              "</table>\n",
              "<p>2939 rows × 11 columns</p>\n",
              "</div>"
            ],
            "text/plain": [
              "      start_time  ...                               densenet121_features\n",
              "0       0.103084  ...  [0.00036964213, 0.0061388216, 0.0023623325, 0....\n",
              "1       0.197664  ...  [0.00039546576, 0.0042689457, 0.0021646945, 0....\n",
              "2       0.369546  ...  [0.00043923515, 0.0035873966, 0.0023025582, 0....\n",
              "3       0.559955  ...  [0.0004885812, 0.0055127405, 0.0017675881, 0.0...\n",
              "4       0.726644  ...  [0.00040706727, 0.004342597, 0.0018088806, 0.0...\n",
              "...          ...  ...                                                ...\n",
              "2934    0.102356  ...  [0.00035229328, 0.0069653825, 0.00236547, 0.00...\n",
              "2935    0.228433  ...  [0.00036833377, 0.006149904, 0.0025585291, 0.0...\n",
              "2936    0.323399  ...  [0.00036655215, 0.005553442, 0.0027189297, 0.0...\n",
              "2937    0.426528  ...  [0.00043264066, 0.004336921, 0.002199093, 0.00...\n",
              "2938    0.560996  ...  [0.00036569627, 0.0069330796, 0.0024534285, 0....\n",
              "\n",
              "[2939 rows x 11 columns]"
            ]
          },
          "metadata": {
            "tags": []
          },
          "execution_count": 9
        }
      ]
    },
    {
      "cell_type": "code",
      "metadata": {
        "id": "OfLoLsWLVxmx"
      },
      "source": [
        "Nest1 = pd.read_pickle(base_path+'zf_Nest1_noRescale1.pickle')"
      ],
      "execution_count": null,
      "outputs": []
    },
    {
      "cell_type": "code",
      "metadata": {
        "id": "Wln7LoGrV5Xv",
        "colab": {
          "base_uri": "https://localhost:8080/",
          "height": 597
        },
        "outputId": "c349bdf0-edd9-4da7-9f48-fdd3f9ab466b"
      },
      "source": [
        "Nest1"
      ],
      "execution_count": null,
      "outputs": [
        {
          "output_type": "execute_result",
          "data": {
            "text/html": [
              "<div>\n",
              "<style scoped>\n",
              "    .dataframe tbody tr th:only-of-type {\n",
              "        vertical-align: middle;\n",
              "    }\n",
              "\n",
              "    .dataframe tbody tr th {\n",
              "        vertical-align: top;\n",
              "    }\n",
              "\n",
              "    .dataframe thead th {\n",
              "        text-align: right;\n",
              "    }\n",
              "</style>\n",
              "<table border=\"1\" class=\"dataframe\">\n",
              "  <thead>\n",
              "    <tr style=\"text-align: right;\">\n",
              "      <th></th>\n",
              "      <th>start_time</th>\n",
              "      <th>end_time</th>\n",
              "      <th>labels</th>\n",
              "      <th>indv</th>\n",
              "      <th>indvi</th>\n",
              "      <th>key</th>\n",
              "      <th>audio</th>\n",
              "      <th>rate</th>\n",
              "      <th>spectrogram</th>\n",
              "    </tr>\n",
              "  </thead>\n",
              "  <tbody>\n",
              "    <tr>\n",
              "      <th>0</th>\n",
              "      <td>0.103084</td>\n",
              "      <td>0.133787</td>\n",
              "      <td>-</td>\n",
              "      <td>cyea</td>\n",
              "      <td>1</td>\n",
              "      <td>cyea_0000</td>\n",
              "      <td>[-0.0037507678, -0.0037730576, -0.0033396403, ...</td>\n",
              "      <td>44100</td>\n",
              "      <td>[[0, 0, 0, 0, 0, 0, 0, 0, 0, 0, 0, 0, 0, 0, 0,...</td>\n",
              "    </tr>\n",
              "    <tr>\n",
              "      <th>1</th>\n",
              "      <td>0.197664</td>\n",
              "      <td>0.342063</td>\n",
              "      <td>a</td>\n",
              "      <td>cyea</td>\n",
              "      <td>2</td>\n",
              "      <td>cyea_0000</td>\n",
              "      <td>[-0.0016009295, -0.00080086064, 0.00024397256,...</td>\n",
              "      <td>44100</td>\n",
              "      <td>[[0, 0, 0, 0, 0, 0, 0, 0, 0, 0, 0, 0, 0, 0, 0,...</td>\n",
              "    </tr>\n",
              "    <tr>\n",
              "      <th>2</th>\n",
              "      <td>0.369546</td>\n",
              "      <td>0.536848</td>\n",
              "      <td>b</td>\n",
              "      <td>cyea</td>\n",
              "      <td>3</td>\n",
              "      <td>cyea_0000</td>\n",
              "      <td>[0.0028250518, 0.0025573175, 0.002130959, 0.00...</td>\n",
              "      <td>44100</td>\n",
              "      <td>[[0, 0, 0, 0, 0, 0, 0, 0, 0, 0, 0, 0, 0, 0, 0,...</td>\n",
              "    </tr>\n",
              "    <tr>\n",
              "      <th>3</th>\n",
              "      <td>0.559955</td>\n",
              "      <td>0.687823</td>\n",
              "      <td>c</td>\n",
              "      <td>cyea</td>\n",
              "      <td>4</td>\n",
              "      <td>cyea_0000</td>\n",
              "      <td>[0.00036472746, 0.00013401418, -0.00052369735,...</td>\n",
              "      <td>44100</td>\n",
              "      <td>[[0, 0, 0, 0, 0, 0, 0, 0, 0, 0, 0, 0, 0, 0, 0,...</td>\n",
              "    </tr>\n",
              "    <tr>\n",
              "      <th>4</th>\n",
              "      <td>0.726644</td>\n",
              "      <td>0.832925</td>\n",
              "      <td>d</td>\n",
              "      <td>cyea</td>\n",
              "      <td>5</td>\n",
              "      <td>cyea_0000</td>\n",
              "      <td>[0.0033374317, 0.004109387, 0.003555804, 0.002...</td>\n",
              "      <td>44100</td>\n",
              "      <td>[[0, 0, 0, 0, 0, 0, 0, 0, 0, 0, 0, 0, 0, 0, 0,...</td>\n",
              "    </tr>\n",
              "    <tr>\n",
              "      <th>...</th>\n",
              "      <td>...</td>\n",
              "      <td>...</td>\n",
              "      <td>...</td>\n",
              "      <td>...</td>\n",
              "      <td>...</td>\n",
              "      <td>...</td>\n",
              "      <td>...</td>\n",
              "      <td>...</td>\n",
              "      <td>...</td>\n",
              "    </tr>\n",
              "    <tr>\n",
              "      <th>2934</th>\n",
              "      <td>0.102356</td>\n",
              "      <td>0.135123</td>\n",
              "      <td>0</td>\n",
              "      <td>phpd</td>\n",
              "      <td>1</td>\n",
              "      <td>phpd_0062</td>\n",
              "      <td>[-0.0035796678, 0.00066409475, 0.0039508683, 0...</td>\n",
              "      <td>44100</td>\n",
              "      <td>[[0, 0, 0, 0, 0, 0, 0, 0, 0, 0, 0, 0, 0, 0, 0,...</td>\n",
              "    </tr>\n",
              "    <tr>\n",
              "      <th>2935</th>\n",
              "      <td>0.228433</td>\n",
              "      <td>0.287435</td>\n",
              "      <td>0</td>\n",
              "      <td>phpd</td>\n",
              "      <td>2</td>\n",
              "      <td>phpd_0062</td>\n",
              "      <td>[0.0010511333, 0.00033233757, -0.00028101055, ...</td>\n",
              "      <td>44100</td>\n",
              "      <td>[[0, 0, 0, 0, 0, 0, 0, 0, 0, 0, 0, 0, 0, 0, 0,...</td>\n",
              "    </tr>\n",
              "    <tr>\n",
              "      <th>2936</th>\n",
              "      <td>0.323399</td>\n",
              "      <td>0.392424</td>\n",
              "      <td>0</td>\n",
              "      <td>phpd</td>\n",
              "      <td>3</td>\n",
              "      <td>phpd_0062</td>\n",
              "      <td>[0.0036439702, 0.001985288, 0.00042269952, -0....</td>\n",
              "      <td>44100</td>\n",
              "      <td>[[0, 0, 0, 0, 0, 0, 0, 0, 0, 0, 0, 0, 0, 0, 0,...</td>\n",
              "    </tr>\n",
              "    <tr>\n",
              "      <th>2937</th>\n",
              "      <td>0.426528</td>\n",
              "      <td>0.540746</td>\n",
              "      <td>0</td>\n",
              "      <td>phpd</td>\n",
              "      <td>4</td>\n",
              "      <td>phpd_0062</td>\n",
              "      <td>[0.007070427, 0.0066078743, 0.0063827583, 0.00...</td>\n",
              "      <td>44100</td>\n",
              "      <td>[[0, 0, 0, 0, 0, 0, 0, 0, 0, 0, 0, 0, 0, 0, 0,...</td>\n",
              "    </tr>\n",
              "    <tr>\n",
              "      <th>2938</th>\n",
              "      <td>0.560996</td>\n",
              "      <td>0.606415</td>\n",
              "      <td>0</td>\n",
              "      <td>phpd</td>\n",
              "      <td>5</td>\n",
              "      <td>phpd_0062</td>\n",
              "      <td>[0.00012365187, 9.9252546e-05, 6.6792077e-06, ...</td>\n",
              "      <td>44100</td>\n",
              "      <td>[[0, 0, 0, 0, 0, 0, 0, 0, 0, 0, 0, 0, 0, 0, 0,...</td>\n",
              "    </tr>\n",
              "  </tbody>\n",
              "</table>\n",
              "<p>2939 rows × 9 columns</p>\n",
              "</div>"
            ],
            "text/plain": [
              "      start_time  ...                                        spectrogram\n",
              "0       0.103084  ...  [[0, 0, 0, 0, 0, 0, 0, 0, 0, 0, 0, 0, 0, 0, 0,...\n",
              "1       0.197664  ...  [[0, 0, 0, 0, 0, 0, 0, 0, 0, 0, 0, 0, 0, 0, 0,...\n",
              "2       0.369546  ...  [[0, 0, 0, 0, 0, 0, 0, 0, 0, 0, 0, 0, 0, 0, 0,...\n",
              "3       0.559955  ...  [[0, 0, 0, 0, 0, 0, 0, 0, 0, 0, 0, 0, 0, 0, 0,...\n",
              "4       0.726644  ...  [[0, 0, 0, 0, 0, 0, 0, 0, 0, 0, 0, 0, 0, 0, 0,...\n",
              "...          ...  ...                                                ...\n",
              "2934    0.102356  ...  [[0, 0, 0, 0, 0, 0, 0, 0, 0, 0, 0, 0, 0, 0, 0,...\n",
              "2935    0.228433  ...  [[0, 0, 0, 0, 0, 0, 0, 0, 0, 0, 0, 0, 0, 0, 0,...\n",
              "2936    0.323399  ...  [[0, 0, 0, 0, 0, 0, 0, 0, 0, 0, 0, 0, 0, 0, 0,...\n",
              "2937    0.426528  ...  [[0, 0, 0, 0, 0, 0, 0, 0, 0, 0, 0, 0, 0, 0, 0,...\n",
              "2938    0.560996  ...  [[0, 0, 0, 0, 0, 0, 0, 0, 0, 0, 0, 0, 0, 0, 0,...\n",
              "\n",
              "[2939 rows x 9 columns]"
            ]
          },
          "metadata": {
            "tags": []
          },
          "execution_count": 11
        }
      ]
    },
    {
      "cell_type": "code",
      "metadata": {
        "colab": {
          "base_uri": "https://localhost:8080/"
        },
        "id": "22kJVL2SXmCz",
        "outputId": "f0306b3a-65cf-4a01-f59a-d1a271ab4c1f"
      },
      "source": [
        "ls"
      ],
      "execution_count": 4,
      "outputs": [
        {
          "output_type": "stream",
          "text": [
            "\u001b[0m\u001b[01;34mgdrive\u001b[0m/  \u001b[01;34mNest-Seq-Analysis\u001b[0m/  \u001b[01;34msample_data\u001b[0m/\n"
          ],
          "name": "stdout"
        }
      ]
    },
    {
      "cell_type": "code",
      "metadata": {
        "colab": {
          "base_uri": "https://localhost:8080/"
        },
        "id": "-YBc76kfgUcQ",
        "outputId": "f9f42d97-6231-4ea2-bb91-45a02a41d18a"
      },
      "source": [
        "!git clone https://github.com/AvisP/Nest-Seq-Analysis.git"
      ],
      "execution_count": 6,
      "outputs": [
        {
          "output_type": "stream",
          "text": [
            "Cloning into 'Nest-Seq-Analysis'...\n",
            "remote: Enumerating objects: 66, done.\u001b[K\n",
            "remote: Counting objects: 100% (66/66), done.\u001b[K\n",
            "remote: Compressing objects: 100% (56/56), done.\u001b[K\n",
            "remote: Total 66 (delta 8), reused 49 (delta 3), pack-reused 0\u001b[K\n",
            "Unpacking objects: 100% (66/66), done.\n"
          ],
          "name": "stdout"
        }
      ]
    },
    {
      "cell_type": "code",
      "metadata": {
        "colab": {
          "base_uri": "https://localhost:8080/"
        },
        "id": "RevZOH8elo23",
        "outputId": "072c6cae-4fb6-4068-fc76-571ebeff5754"
      },
      "source": [
        "cd Nest-Seq-Analysis/"
      ],
      "execution_count": 7,
      "outputs": [
        {
          "output_type": "stream",
          "text": [
            "/content/Nest-Seq-Analysis\n"
          ],
          "name": "stdout"
        }
      ]
    },
    {
      "cell_type": "code",
      "metadata": {
        "colab": {
          "base_uri": "https://localhost:8080/"
        },
        "id": "QeHv8fcMlrSz",
        "outputId": "777d74c6-eadf-4fff-8252-cccf8b13d224"
      },
      "source": [
        "ls"
      ],
      "execution_count": 8,
      "outputs": [
        {
          "output_type": "stream",
          "text": [
            "\u001b[0m\u001b[01;34mavgn\u001b[0m/  \u001b[01;34mmodels\u001b[0m/  \u001b[01;34mnotebooks\u001b[0m/  README.md  \u001b[01;34mscripts\u001b[0m/\n"
          ],
          "name": "stdout"
        }
      ]
    },
    {
      "cell_type": "code",
      "metadata": {
        "colab": {
          "base_uri": "https://localhost:8080/"
        },
        "id": "9kgC2CYYmdAE",
        "outputId": "5268a2f7-a931-4c12-9f8f-fd2c4c9697b0"
      },
      "source": [
        "pip install pathlib2"
      ],
      "execution_count": 9,
      "outputs": [
        {
          "output_type": "stream",
          "text": [
            "Requirement already satisfied: pathlib2 in /usr/local/lib/python3.7/dist-packages (2.3.5)\n",
            "Requirement already satisfied: six in /usr/local/lib/python3.7/dist-packages (from pathlib2) (1.15.0)\n"
          ],
          "name": "stdout"
        }
      ]
    },
    {
      "cell_type": "code",
      "metadata": {
        "id": "uVCgDphhlyTs"
      },
      "source": [
        "from joblib import Parallel, delayed\n",
        "import tqdm\n",
        "import pandas as pd\n",
        "pd.options.display.max_columns = None\n",
        "import librosa\n",
        "from datetime import datetime\n",
        "import numpy as np\n",
        "import pathlib2"
      ],
      "execution_count": 10,
      "outputs": []
    },
    {
      "cell_type": "code",
      "metadata": {
        "colab": {
          "base_uri": "https://localhost:8080/"
        },
        "id": "tPa07nYNmW4z",
        "outputId": "17442af1-b33e-426a-e4a7-61b0e0f307d0"
      },
      "source": [
        "import avgn\n",
        "from avgn.custom_parsing.bengalese_finch_sakata import (\n",
        "    generate_json_wav_not_mat,\n",
        "    parse_song_df,\n",
        ")\n",
        "from avgn.utils.paths import DATA_DIR"
      ],
      "execution_count": 11,
      "outputs": [
        {
          "output_type": "stream",
          "text": [
            "/content/Nest-Seq-Analysis/avgn/utils/general.py:8: TqdmExperimentalWarning: Using `tqdm.autonotebook.tqdm` in notebook mode. Use `tqdm.tqdm` instead to force console mode (e.g. in jupyter console)\n",
            "  from tqdm.autonotebook import tqdm\n"
          ],
          "name": "stderr"
        }
      ]
    },
    {
      "cell_type": "code",
      "metadata": {
        "id": "52-PioSJmlzJ",
        "colab": {
          "base_uri": "https://localhost:8080/",
          "height": 36
        },
        "outputId": "b8c03976-4715-4d64-dd3e-dd297cd3bd67"
      },
      "source": [
        "DATASET_ID = 'zebra_finch_sakata'\n",
        "species = \"Taeniopygia guttata\"\n",
        "common_name = \"Zebra Finch\"\n",
        "\n",
        "DT_ID = datetime.now().strftime(\"%Y-%m-%d_%H-%M-%S\")\n",
        "DT_ID"
      ],
      "execution_count": 12,
      "outputs": [
        {
          "output_type": "execute_result",
          "data": {
            "application/vnd.google.colaboratory.intrinsic+json": {
              "type": "string"
            },
            "text/plain": [
              "'2021-06-23_05-43-30'"
            ]
          },
          "metadata": {
            "tags": []
          },
          "execution_count": 12
        }
      ]
    },
    {
      "cell_type": "code",
      "metadata": {
        "colab": {
          "base_uri": "https://localhost:8080/",
          "height": 36
        },
        "id": "m-lCOpratPWc",
        "outputId": "83519fbd-3b9f-42f7-f2d2-0540ad280ff9"
      },
      "source": [
        "pwd"
      ],
      "execution_count": 13,
      "outputs": [
        {
          "output_type": "execute_result",
          "data": {
            "application/vnd.google.colaboratory.intrinsic+json": {
              "type": "string"
            },
            "text/plain": [
              "'/content/Nest-Seq-Analysis'"
            ]
          },
          "metadata": {
            "tags": []
          },
          "execution_count": 13
        }
      ]
    },
    {
      "cell_type": "code",
      "metadata": {
        "colab": {
          "base_uri": "https://localhost:8080/"
        },
        "id": "J21AREXNsZT1",
        "outputId": "df2b3cd8-7d32-4a6c-8e03-123635d30094"
      },
      "source": [
        "# DSLOC = avgn.utils.paths.Path('I:/ZebraFinchGenerations/Nest5')\n",
        "DSLOC = avgn.utils.paths.Path('/content/gdrive/MyDrive/ZFDataset/Nest6')\n",
        "DSLOC"
      ],
      "execution_count": 14,
      "outputs": [
        {
          "output_type": "execute_result",
          "data": {
            "text/plain": [
              "PosixPath('/content/gdrive/MyDrive/ZFDataset/Nest6')"
            ]
          },
          "metadata": {
            "tags": []
          },
          "execution_count": 14
        }
      ]
    },
    {
      "cell_type": "markdown",
      "metadata": {
        "id": "CV41tDVuNLR-"
      },
      "source": [
        "## DSLOC is single folder \n"
      ]
    },
    {
      "cell_type": "code",
      "metadata": {
        "id": "QE-c6lxRLwM8"
      },
      "source": [
        "WAVLIST = list((DSLOC).expanduser().glob('*.wav'))\n",
        "len(WAVLIST), WAVLIST[0]\n",
        "\n",
        "MATLIST = list((DSLOC).expanduser().glob('*.wav.not.mat'))\n",
        "len(MATLIST), MATLIST[0]\n",
        "\n",
        "song_df = parse_song_df(WAVLIST,MATLIST)\n",
        "\n",
        "song_df[:3]\n",
        "\n",
        "wav_names = np.array([i.name for i in WAVLIST])"
      ],
      "execution_count": null,
      "outputs": []
    },
    {
      "cell_type": "code",
      "metadata": {
        "colab": {
          "base_uri": "https://localhost:8080/"
        },
        "id": "CK3uuKuaNgLt",
        "outputId": "621edb5a-c508-4c50-acd6-f212a10f9a7f"
      },
      "source": [
        "wav_names"
      ],
      "execution_count": 25,
      "outputs": [
        {
          "output_type": "execute_result",
          "data": {
            "text/plain": [
              "array(['bbyj_32330135.wav', 'bbyj_32093595.wav', 'bbyj_31889145.wav',\n",
              "       'bbyj_28966505.wav', 'bbyj_28909755.wav', 'bbyj_28773435.wav',\n",
              "       'bbyj_28624536.wav', 'bbyj_28537845.wav', 'bbyj_28228036.wav',\n",
              "       'bbyj_28951615.wav', 'bbyj_36317085.wav', 'bbyj_32395295.wav',\n",
              "       'bbyj_32385955.wav', 'bbyj_32339032.wav', 'bbyj_36397205.wav',\n",
              "       'bbyj_36411742.wav', 'bbyj_36356545.wav', 'bbyj_36332451.wav',\n",
              "       'bbyj_32423385.wav', 'bbyj_36479735.wav', 'bbyj_36460695.wav',\n",
              "       'bbyj_36525125.wav', 'bbyj_36536085.wav', 'bbyj_36502495.wav',\n",
              "       'bbyj_36548925.wav', 'bbyj_37148455.wav', 'bbyj_36774061.wav',\n",
              "       'bbyj_36578702.wav', 'bbyj_36739382.wav', 'bbyj_50111045.wav',\n",
              "       'bbyj_47959575.wav', 'bbyj_47806695.wav', 'bbyj_46014341.wav',\n",
              "       'bbyj_47331591.wav', 'bbyj_45836022.wav', 'bbyj_45822065.wav',\n",
              "       'bbyj_40302075.wav', 'bbyj_44148622.wav', 'bbyj_39891156.wav',\n",
              "       'bbyj_39630716.wav', 'bbyj_55013585.wav', 'bbyj_52131046.wav',\n",
              "       'bbyj_52049302.wav', 'bbyj_50429466_Copy.wav', 'bbyj_50429466.wav'],\n",
              "      dtype='<U22')"
            ]
          },
          "metadata": {
            "tags": []
          },
          "execution_count": 25
        }
      ]
    },
    {
      "cell_type": "markdown",
      "metadata": {
        "id": "_d7b_EIQNkTB"
      },
      "source": [
        "## DSLOC has multiple folders"
      ]
    },
    {
      "cell_type": "code",
      "metadata": {
        "colab": {
          "base_uri": "https://localhost:8080/"
        },
        "id": "ViXf2KCDN-uE",
        "outputId": "19bf0ffb-dd8e-4eec-da54-27d7e5acaf9c"
      },
      "source": [
        "folder_list = list((DSLOC).expanduser().glob('*'))\n",
        "\n",
        "WAVPATH = []\n",
        "\n",
        "for idx, folder_path in enumerate(folder_list):\n",
        "    WAVLIST = list((pathlib2.Path(folder_path.parent,folder_path.parts[-1])).expanduser().glob('*.wav'))\n",
        "    MATLIST = list((pathlib2.Path(folder_path.parent,folder_path.parts[-1])).expanduser().glob('*.wav.not.mat'))\n",
        "    song_temp = parse_song_df(WAVLIST,MATLIST)\n",
        "    if idx == 0:\n",
        "        song_df = song_temp\n",
        "        wav_names = np.array([i.name for i in WAVLIST])\n",
        "        WAVPATH = WAVLIST\n",
        "    else:\n",
        "        song_df = pd.concat([song_df, song_temp], axis=0, ignore_index=True)\n",
        "        wav_names = np.concatenate((wav_names, np.array([i.name for i in WAVLIST])), axis=0)\n",
        "        WAVPATH = WAVPATH + WAVLIST\n",
        "    \n",
        "# song_df = song_df.drop(columns='index')\n",
        "WAVLIST = WAVPATH"
      ],
      "execution_count": 17,
      "outputs": [
        {
          "output_type": "stream",
          "text": [
            " 22%|██▏       | 14/64 [00:00<00:00, 139.32it/s]"
          ],
          "name": "stderr"
        },
        {
          "output_type": "stream",
          "text": [
            "Expected wav file format structure : wh70bk90_May_07_2020_26053151_Copy.wav\n",
            "All wav files have corresponding not.mat files\n"
          ],
          "name": "stdout"
        },
        {
          "output_type": "stream",
          "text": [
            "100%|██████████| 64/64 [00:00<00:00, 133.39it/s]\n",
            " 53%|█████▎    | 16/30 [00:00<00:00, 151.33it/s]"
          ],
          "name": "stderr"
        },
        {
          "output_type": "stream",
          "text": [
            "Expected wav file format structure : wh70bk90_May_07_2020_26053151_Copy.wav\n",
            "All wav files have corresponding not.mat files\n"
          ],
          "name": "stdout"
        },
        {
          "output_type": "stream",
          "text": [
            "100%|██████████| 30/30 [00:00<00:00, 136.35it/s]\n",
            " 36%|███▌      | 16/45 [00:00<00:00, 153.30it/s]"
          ],
          "name": "stderr"
        },
        {
          "output_type": "stream",
          "text": [
            "Expected wav file format structure : wh70bk90_May_07_2020_26053151_Copy.wav\n",
            "All wav files have corresponding not.mat files\n"
          ],
          "name": "stdout"
        },
        {
          "output_type": "stream",
          "text": [
            "100%|██████████| 45/45 [00:00<00:00, 133.64it/s]\n"
          ],
          "name": "stderr"
        }
      ]
    },
    {
      "cell_type": "code",
      "metadata": {
        "colab": {
          "base_uri": "https://localhost:8080/"
        },
        "id": "olX6IziCRMK2",
        "outputId": "e60a86f2-78af-4e02-b36c-e4416fc830fa"
      },
      "source": [
        "WAVLIST"
      ],
      "execution_count": 18,
      "outputs": [
        {
          "output_type": "execute_result",
          "data": {
            "text/plain": [
              "[PosixPath('/content/gdrive/MyDrive/ZFDataset/Nest6/kccr/kccr_26805365.wav'),\n",
              " PosixPath('/content/gdrive/MyDrive/ZFDataset/Nest6/kccr/kccr_27450846.wav'),\n",
              " PosixPath('/content/gdrive/MyDrive/ZFDataset/Nest6/kccr/kccr_25119546_Copy.wav'),\n",
              " PosixPath('/content/gdrive/MyDrive/ZFDataset/Nest6/kccr/kccr_24934065.wav'),\n",
              " PosixPath('/content/gdrive/MyDrive/ZFDataset/Nest6/kccr/kccr_32946156.wav'),\n",
              " PosixPath('/content/gdrive/MyDrive/ZFDataset/Nest6/kccr/kccr_25426751.wav'),\n",
              " PosixPath('/content/gdrive/MyDrive/ZFDataset/Nest6/kccr/kccr_25365325_Copy.wav'),\n",
              " PosixPath('/content/gdrive/MyDrive/ZFDataset/Nest6/kccr/kccr_33178028.wav'),\n",
              " PosixPath('/content/gdrive/MyDrive/ZFDataset/Nest6/kccr/kccr_25119546.wav'),\n",
              " PosixPath('/content/gdrive/MyDrive/ZFDataset/Nest6/kccr/kccr_25365325.wav'),\n",
              " PosixPath('/content/gdrive/MyDrive/ZFDataset/Nest6/kccr/kccr_26744002.wav'),\n",
              " PosixPath('/content/gdrive/MyDrive/ZFDataset/Nest6/kccr/kccr_26682628_Copy.wav'),\n",
              " PosixPath('/content/gdrive/MyDrive/ZFDataset/Nest6/kccr/kccr_25673836_Copy.wav'),\n",
              " PosixPath('/content/gdrive/MyDrive/ZFDataset/Nest6/kccr/kccr_25673836.wav'),\n",
              " PosixPath('/content/gdrive/MyDrive/ZFDataset/Nest6/kccr/kccr_25426751_Copy.wav'),\n",
              " PosixPath('/content/gdrive/MyDrive/ZFDataset/Nest6/kccr/kccr_28157295.wav'),\n",
              " PosixPath('/content/gdrive/MyDrive/ZFDataset/Nest6/kccr/kccr_27297222.wav'),\n",
              " PosixPath('/content/gdrive/MyDrive/ZFDataset/Nest6/kccr/kccr_26897683.wav'),\n",
              " PosixPath('/content/gdrive/MyDrive/ZFDataset/Nest6/kccr/kccr_26774685.wav'),\n",
              " PosixPath('/content/gdrive/MyDrive/ZFDataset/Nest6/kccr/kccr_26682628.wav'),\n",
              " PosixPath('/content/gdrive/MyDrive/ZFDataset/Nest6/kccr/kccr_26744002_Copy1.wav'),\n",
              " PosixPath('/content/gdrive/MyDrive/ZFDataset/Nest6/kccr/kccr_26744002_Copy.wav'),\n",
              " PosixPath('/content/gdrive/MyDrive/ZFDataset/Nest6/kccr/kccr_32356888.wav'),\n",
              " PosixPath('/content/gdrive/MyDrive/ZFDataset/Nest6/kccr/kccr_31968718.wav'),\n",
              " PosixPath('/content/gdrive/MyDrive/ZFDataset/Nest6/kccr/kccr_29816705.wav'),\n",
              " PosixPath('/content/gdrive/MyDrive/ZFDataset/Nest6/kccr/kccr_28280105.wav'),\n",
              " PosixPath('/content/gdrive/MyDrive/ZFDataset/Nest6/kccr/kccr_28157295_Copy.wav'),\n",
              " PosixPath('/content/gdrive/MyDrive/ZFDataset/Nest6/kccr/kccr_33322042.wav'),\n",
              " PosixPath('/content/gdrive/MyDrive/ZFDataset/Nest6/kccr/kccr_32829496.wav'),\n",
              " PosixPath('/content/gdrive/MyDrive/ZFDataset/Nest6/kccr/kccr_32770805_Copy1.wav'),\n",
              " PosixPath('/content/gdrive/MyDrive/ZFDataset/Nest6/kccr/kccr_32770805_Copy.wav'),\n",
              " PosixPath('/content/gdrive/MyDrive/ZFDataset/Nest6/kccr/kccr_32770805.wav'),\n",
              " PosixPath('/content/gdrive/MyDrive/ZFDataset/Nest6/kccr/kccr_32452016.wav'),\n",
              " PosixPath('/content/gdrive/MyDrive/ZFDataset/Nest6/kccr/kccr_34055115.wav'),\n",
              " PosixPath('/content/gdrive/MyDrive/ZFDataset/Nest6/kccr/kccr_33971769.wav'),\n",
              " PosixPath('/content/gdrive/MyDrive/ZFDataset/Nest6/kccr/kccr_33376198.wav'),\n",
              " PosixPath('/content/gdrive/MyDrive/ZFDataset/Nest6/kccr/kccr_33108694.wav'),\n",
              " PosixPath('/content/gdrive/MyDrive/ZFDataset/Nest6/kccr/kccr_33949975.wav'),\n",
              " PosixPath('/content/gdrive/MyDrive/ZFDataset/Nest6/kccr/kccr_34676518.wav'),\n",
              " PosixPath('/content/gdrive/MyDrive/ZFDataset/Nest6/kccr/kccr_34665625.wav'),\n",
              " PosixPath('/content/gdrive/MyDrive/ZFDataset/Nest6/kccr/kccr_34606765.wav'),\n",
              " PosixPath('/content/gdrive/MyDrive/ZFDataset/Nest6/kccr/kccr_34596965.wav'),\n",
              " PosixPath('/content/gdrive/MyDrive/ZFDataset/Nest6/kccr/kccr_34265996.wav'),\n",
              " PosixPath('/content/gdrive/MyDrive/ZFDataset/Nest6/kccr/kccr_34918936.wav'),\n",
              " PosixPath('/content/gdrive/MyDrive/ZFDataset/Nest6/kccr/kccr_34908165.wav'),\n",
              " PosixPath('/content/gdrive/MyDrive/ZFDataset/Nest6/kccr/kccr_34895256.wav'),\n",
              " PosixPath('/content/gdrive/MyDrive/ZFDataset/Nest6/kccr/kccr_34773363.wav'),\n",
              " PosixPath('/content/gdrive/MyDrive/ZFDataset/Nest6/kccr/kccr_39397505_Copy.wav'),\n",
              " PosixPath('/content/gdrive/MyDrive/ZFDataset/Nest6/kccr/kccr_39397505.wav'),\n",
              " PosixPath('/content/gdrive/MyDrive/ZFDataset/Nest6/kccr/kccr_35104565_Copy.wav'),\n",
              " PosixPath('/content/gdrive/MyDrive/ZFDataset/Nest6/kccr/kccr_35104565.wav'),\n",
              " PosixPath('/content/gdrive/MyDrive/ZFDataset/Nest6/kccr/kccr_35080472_Copy.wav'),\n",
              " PosixPath('/content/gdrive/MyDrive/ZFDataset/Nest6/kccr/kccr_35080472.wav'),\n",
              " PosixPath('/content/gdrive/MyDrive/ZFDataset/Nest6/kccr/kccr_40289296_Copy.wav'),\n",
              " PosixPath('/content/gdrive/MyDrive/ZFDataset/Nest6/kccr/kccr_40289296.wav'),\n",
              " PosixPath('/content/gdrive/MyDrive/ZFDataset/Nest6/kccr/kccr_39575035.wav'),\n",
              " PosixPath('/content/gdrive/MyDrive/ZFDataset/Nest6/kccr/kccr_39569198.wav'),\n",
              " PosixPath('/content/gdrive/MyDrive/ZFDataset/Nest6/kccr/kccr_39476408.wav'),\n",
              " PosixPath('/content/gdrive/MyDrive/ZFDataset/Nest6/kccr/kccr_39397505_Copy1.wav'),\n",
              " PosixPath('/content/gdrive/MyDrive/ZFDataset/Nest6/kccr/kccr_41584195_Copy1.wav'),\n",
              " PosixPath('/content/gdrive/MyDrive/ZFDataset/Nest6/kccr/kccr_41584195_Copy.wav'),\n",
              " PosixPath('/content/gdrive/MyDrive/ZFDataset/Nest6/kccr/kccr_41584195.wav'),\n",
              " PosixPath('/content/gdrive/MyDrive/ZFDataset/Nest6/kccr/kccr_41026245.wav'),\n",
              " PosixPath('/content/gdrive/MyDrive/ZFDataset/Nest6/kccr/kccr_40553155.wav'),\n",
              " PosixPath('/content/gdrive/MyDrive/ZFDataset/Nest6/isab/isab_38063159.wav'),\n",
              " PosixPath('/content/gdrive/MyDrive/ZFDataset/Nest6/isab/isab_38095304.wav'),\n",
              " PosixPath('/content/gdrive/MyDrive/ZFDataset/Nest6/isab/isab_46124724.wav'),\n",
              " PosixPath('/content/gdrive/MyDrive/ZFDataset/Nest6/isab/isab_48145024.wav'),\n",
              " PosixPath('/content/gdrive/MyDrive/ZFDataset/Nest6/isab/isab_60052054.wav'),\n",
              " PosixPath('/content/gdrive/MyDrive/ZFDataset/Nest6/isab/isab_57835804.wav'),\n",
              " PosixPath('/content/gdrive/MyDrive/ZFDataset/Nest6/isab/isab_60694074.wav'),\n",
              " PosixPath('/content/gdrive/MyDrive/ZFDataset/Nest6/isab/isab_60106304.wav'),\n",
              " PosixPath('/content/gdrive/MyDrive/ZFDataset/Nest6/isab/isab_38111124.wav'),\n",
              " PosixPath('/content/gdrive/MyDrive/ZFDataset/Nest6/isab/isab_37692554.wav'),\n",
              " PosixPath('/content/gdrive/MyDrive/ZFDataset/Nest6/isab/isab_37581860.wav'),\n",
              " PosixPath('/content/gdrive/MyDrive/ZFDataset/Nest6/isab/isab_35288289.wav'),\n",
              " PosixPath('/content/gdrive/MyDrive/ZFDataset/Nest6/isab/isab_41794694.wav'),\n",
              " PosixPath('/content/gdrive/MyDrive/ZFDataset/Nest6/isab/isab_40100004.wav'),\n",
              " PosixPath('/content/gdrive/MyDrive/ZFDataset/Nest6/isab/isab_38615434.wav'),\n",
              " PosixPath('/content/gdrive/MyDrive/ZFDataset/Nest6/isab/isab_63795364.wav'),\n",
              " PosixPath('/content/gdrive/MyDrive/ZFDataset/Nest6/isab/isab_47157044.wav'),\n",
              " PosixPath('/content/gdrive/MyDrive/ZFDataset/Nest6/isab/isab_67949742.wav'),\n",
              " PosixPath('/content/gdrive/MyDrive/ZFDataset/Nest6/isab/isab_42299569.wav'),\n",
              " PosixPath('/content/gdrive/MyDrive/ZFDataset/Nest6/isab/isab_46138974.wav'),\n",
              " PosixPath('/content/gdrive/MyDrive/ZFDataset/Nest6/isab/isab_54761059.wav'),\n",
              " PosixPath('/content/gdrive/MyDrive/ZFDataset/Nest6/isab/isab_47150411.wav'),\n",
              " PosixPath('/content/gdrive/MyDrive/ZFDataset/Nest6/isab/isab_48469594.wav'),\n",
              " PosixPath('/content/gdrive/MyDrive/ZFDataset/Nest6/isab/isab_58555404.wav'),\n",
              " PosixPath('/content/gdrive/MyDrive/ZFDataset/Nest6/isab/isab_59731544.wav'),\n",
              " PosixPath('/content/gdrive/MyDrive/ZFDataset/Nest6/isab/isab_58522509.wav'),\n",
              " PosixPath('/content/gdrive/MyDrive/ZFDataset/Nest6/isab/isab_74112524.wav'),\n",
              " PosixPath('/content/gdrive/MyDrive/ZFDataset/Nest6/isab/isab_72802769.wav'),\n",
              " PosixPath('/content/gdrive/MyDrive/ZFDataset/Nest6/isab/isab_67651004.wav'),\n",
              " PosixPath('/content/gdrive/MyDrive/ZFDataset/Nest6/isab/isab_62727694.wav'),\n",
              " PosixPath('/content/gdrive/MyDrive/ZFDataset/Nest6/bbyj/bbyj_32330135.wav'),\n",
              " PosixPath('/content/gdrive/MyDrive/ZFDataset/Nest6/bbyj/bbyj_32093595.wav'),\n",
              " PosixPath('/content/gdrive/MyDrive/ZFDataset/Nest6/bbyj/bbyj_31889145.wav'),\n",
              " PosixPath('/content/gdrive/MyDrive/ZFDataset/Nest6/bbyj/bbyj_28966505.wav'),\n",
              " PosixPath('/content/gdrive/MyDrive/ZFDataset/Nest6/bbyj/bbyj_28909755.wav'),\n",
              " PosixPath('/content/gdrive/MyDrive/ZFDataset/Nest6/bbyj/bbyj_28773435.wav'),\n",
              " PosixPath('/content/gdrive/MyDrive/ZFDataset/Nest6/bbyj/bbyj_28624536.wav'),\n",
              " PosixPath('/content/gdrive/MyDrive/ZFDataset/Nest6/bbyj/bbyj_28537845.wav'),\n",
              " PosixPath('/content/gdrive/MyDrive/ZFDataset/Nest6/bbyj/bbyj_28228036.wav'),\n",
              " PosixPath('/content/gdrive/MyDrive/ZFDataset/Nest6/bbyj/bbyj_28951615.wav'),\n",
              " PosixPath('/content/gdrive/MyDrive/ZFDataset/Nest6/bbyj/bbyj_36317085.wav'),\n",
              " PosixPath('/content/gdrive/MyDrive/ZFDataset/Nest6/bbyj/bbyj_32395295.wav'),\n",
              " PosixPath('/content/gdrive/MyDrive/ZFDataset/Nest6/bbyj/bbyj_32385955.wav'),\n",
              " PosixPath('/content/gdrive/MyDrive/ZFDataset/Nest6/bbyj/bbyj_32339032.wav'),\n",
              " PosixPath('/content/gdrive/MyDrive/ZFDataset/Nest6/bbyj/bbyj_36397205.wav'),\n",
              " PosixPath('/content/gdrive/MyDrive/ZFDataset/Nest6/bbyj/bbyj_36411742.wav'),\n",
              " PosixPath('/content/gdrive/MyDrive/ZFDataset/Nest6/bbyj/bbyj_36356545.wav'),\n",
              " PosixPath('/content/gdrive/MyDrive/ZFDataset/Nest6/bbyj/bbyj_36332451.wav'),\n",
              " PosixPath('/content/gdrive/MyDrive/ZFDataset/Nest6/bbyj/bbyj_32423385.wav'),\n",
              " PosixPath('/content/gdrive/MyDrive/ZFDataset/Nest6/bbyj/bbyj_36479735.wav'),\n",
              " PosixPath('/content/gdrive/MyDrive/ZFDataset/Nest6/bbyj/bbyj_36460695.wav'),\n",
              " PosixPath('/content/gdrive/MyDrive/ZFDataset/Nest6/bbyj/bbyj_36525125.wav'),\n",
              " PosixPath('/content/gdrive/MyDrive/ZFDataset/Nest6/bbyj/bbyj_36536085.wav'),\n",
              " PosixPath('/content/gdrive/MyDrive/ZFDataset/Nest6/bbyj/bbyj_36502495.wav'),\n",
              " PosixPath('/content/gdrive/MyDrive/ZFDataset/Nest6/bbyj/bbyj_36548925.wav'),\n",
              " PosixPath('/content/gdrive/MyDrive/ZFDataset/Nest6/bbyj/bbyj_37148455.wav'),\n",
              " PosixPath('/content/gdrive/MyDrive/ZFDataset/Nest6/bbyj/bbyj_36774061.wav'),\n",
              " PosixPath('/content/gdrive/MyDrive/ZFDataset/Nest6/bbyj/bbyj_36578702.wav'),\n",
              " PosixPath('/content/gdrive/MyDrive/ZFDataset/Nest6/bbyj/bbyj_36739382.wav'),\n",
              " PosixPath('/content/gdrive/MyDrive/ZFDataset/Nest6/bbyj/bbyj_50111045.wav'),\n",
              " PosixPath('/content/gdrive/MyDrive/ZFDataset/Nest6/bbyj/bbyj_47959575.wav'),\n",
              " PosixPath('/content/gdrive/MyDrive/ZFDataset/Nest6/bbyj/bbyj_47806695.wav'),\n",
              " PosixPath('/content/gdrive/MyDrive/ZFDataset/Nest6/bbyj/bbyj_46014341.wav'),\n",
              " PosixPath('/content/gdrive/MyDrive/ZFDataset/Nest6/bbyj/bbyj_47331591.wav'),\n",
              " PosixPath('/content/gdrive/MyDrive/ZFDataset/Nest6/bbyj/bbyj_45836022.wav'),\n",
              " PosixPath('/content/gdrive/MyDrive/ZFDataset/Nest6/bbyj/bbyj_45822065.wav'),\n",
              " PosixPath('/content/gdrive/MyDrive/ZFDataset/Nest6/bbyj/bbyj_40302075.wav'),\n",
              " PosixPath('/content/gdrive/MyDrive/ZFDataset/Nest6/bbyj/bbyj_44148622.wav'),\n",
              " PosixPath('/content/gdrive/MyDrive/ZFDataset/Nest6/bbyj/bbyj_39891156.wav'),\n",
              " PosixPath('/content/gdrive/MyDrive/ZFDataset/Nest6/bbyj/bbyj_39630716.wav'),\n",
              " PosixPath('/content/gdrive/MyDrive/ZFDataset/Nest6/bbyj/bbyj_55013585.wav'),\n",
              " PosixPath('/content/gdrive/MyDrive/ZFDataset/Nest6/bbyj/bbyj_52131046.wav'),\n",
              " PosixPath('/content/gdrive/MyDrive/ZFDataset/Nest6/bbyj/bbyj_52049302.wav'),\n",
              " PosixPath('/content/gdrive/MyDrive/ZFDataset/Nest6/bbyj/bbyj_50429466_Copy.wav'),\n",
              " PosixPath('/content/gdrive/MyDrive/ZFDataset/Nest6/bbyj/bbyj_50429466.wav')]"
            ]
          },
          "metadata": {
            "tags": []
          },
          "execution_count": 18
        }
      ]
    },
    {
      "cell_type": "code",
      "metadata": {
        "colab": {
          "base_uri": "https://localhost:8080/"
        },
        "id": "E9eB4HANOhRl",
        "outputId": "5cb311c7-3936-478e-d3a3-ed96e5f971db"
      },
      "source": [
        "Parallel(n_jobs=1, verbose=10)(\n",
        "    delayed(generate_json_wav_not_mat)(row, WAVLIST, wav_names, DT_ID, species, common_name, DATASET_ID)\n",
        "    for idx, row in tqdm.tqdm(song_df.iterrows(), total=len(song_df))\n",
        ");"
      ],
      "execution_count": 19,
      "outputs": [
        {
          "output_type": "stream",
          "text": [
            "\r  0%|          | 0/139 [00:00<?, ?it/s][Parallel(n_jobs=1)]: Using backend SequentialBackend with 1 concurrent workers.\n",
            "[Parallel(n_jobs=1)]: Done   1 out of   1 | elapsed:    0.0s remaining:    0.0s\n"
          ],
          "name": "stderr"
        },
        {
          "output_type": "stream",
          "text": [
            "/content/gdrive/MyDrive/ZFDataset/Nest6/kccr/kccr_25119546_Copy.wav\n",
            "/content/gdrive/MyDrive/ZFDataset/Nest6/kccr/kccr_25119546.wav\n"
          ],
          "name": "stdout"
        },
        {
          "output_type": "stream",
          "text": [
            "[Parallel(n_jobs=1)]: Done   2 out of   2 | elapsed:    2.1s remaining:    0.0s\n",
            "\r  1%|▏         | 2/139 [00:02<02:24,  1.06s/it]"
          ],
          "name": "stderr"
        },
        {
          "output_type": "stream",
          "text": [
            "/content/gdrive/MyDrive/ZFDataset/Nest6/kccr/kccr_24934065.wav\n"
          ],
          "name": "stdout"
        },
        {
          "output_type": "stream",
          "text": [
            "[Parallel(n_jobs=1)]: Done   3 out of   3 | elapsed:    2.8s remaining:    0.0s\n",
            "\r  2%|▏         | 3/139 [00:02<02:09,  1.05it/s]"
          ],
          "name": "stderr"
        },
        {
          "output_type": "stream",
          "text": [
            "/content/gdrive/MyDrive/ZFDataset/Nest6/kccr/kccr_25426751.wav\n"
          ],
          "name": "stdout"
        },
        {
          "output_type": "stream",
          "text": [
            "[Parallel(n_jobs=1)]: Done   4 out of   4 | elapsed:    3.5s remaining:    0.0s\n",
            "\r  3%|▎         | 4/139 [00:03<01:56,  1.16it/s]"
          ],
          "name": "stderr"
        },
        {
          "output_type": "stream",
          "text": [
            "/content/gdrive/MyDrive/ZFDataset/Nest6/kccr/kccr_25365325_Copy.wav\n"
          ],
          "name": "stdout"
        },
        {
          "output_type": "stream",
          "text": [
            "[Parallel(n_jobs=1)]: Done   5 out of   5 | elapsed:    4.3s remaining:    0.0s\n",
            "\r  4%|▎         | 5/139 [00:04<01:54,  1.17it/s]"
          ],
          "name": "stderr"
        },
        {
          "output_type": "stream",
          "text": [
            "/content/gdrive/MyDrive/ZFDataset/Nest6/kccr/kccr_25365325.wav\n"
          ],
          "name": "stdout"
        },
        {
          "output_type": "stream",
          "text": [
            "[Parallel(n_jobs=1)]: Done   6 out of   6 | elapsed:    5.4s remaining:    0.0s\n",
            "\r  4%|▍         | 6/139 [00:05<02:04,  1.07it/s]"
          ],
          "name": "stderr"
        },
        {
          "output_type": "stream",
          "text": [
            "/content/gdrive/MyDrive/ZFDataset/Nest6/kccr/kccr_26744002.wav\n"
          ],
          "name": "stdout"
        },
        {
          "output_type": "stream",
          "text": [
            "[Parallel(n_jobs=1)]: Done   7 out of   7 | elapsed:    6.6s remaining:    0.0s\n",
            "\r  5%|▌         | 7/139 [00:06<02:12,  1.01s/it]"
          ],
          "name": "stderr"
        },
        {
          "output_type": "stream",
          "text": [
            "/content/gdrive/MyDrive/ZFDataset/Nest6/kccr/kccr_26682628_Copy.wav\n"
          ],
          "name": "stdout"
        },
        {
          "output_type": "stream",
          "text": [
            "[Parallel(n_jobs=1)]: Done   8 out of   8 | elapsed:    7.9s remaining:    0.0s\n",
            "\r  6%|▌         | 8/139 [00:07<02:22,  1.09s/it]"
          ],
          "name": "stderr"
        },
        {
          "output_type": "stream",
          "text": [
            "/content/gdrive/MyDrive/ZFDataset/Nest6/kccr/kccr_26682628.wav\n"
          ],
          "name": "stdout"
        },
        {
          "output_type": "stream",
          "text": [
            "[Parallel(n_jobs=1)]: Done   9 out of   9 | elapsed:    8.6s remaining:    0.0s\n",
            "\r  6%|▋         | 9/139 [00:08<02:07,  1.02it/s]"
          ],
          "name": "stderr"
        },
        {
          "output_type": "stream",
          "text": [
            "/content/gdrive/MyDrive/ZFDataset/Nest6/kccr/kccr_25673836_Copy.wav\n"
          ],
          "name": "stdout"
        },
        {
          "output_type": "stream",
          "text": [
            "\r  7%|▋         | 10/139 [00:09<01:57,  1.10it/s]"
          ],
          "name": "stderr"
        },
        {
          "output_type": "stream",
          "text": [
            "/content/gdrive/MyDrive/ZFDataset/Nest6/kccr/kccr_25673836.wav\n"
          ],
          "name": "stdout"
        },
        {
          "output_type": "stream",
          "text": [
            "\r  8%|▊         | 11/139 [00:10<01:47,  1.19it/s]"
          ],
          "name": "stderr"
        },
        {
          "output_type": "stream",
          "text": [
            "/content/gdrive/MyDrive/ZFDataset/Nest6/kccr/kccr_25426751_Copy.wav\n"
          ],
          "name": "stdout"
        },
        {
          "output_type": "stream",
          "text": [
            "\r  9%|▊         | 12/139 [00:10<01:39,  1.28it/s]"
          ],
          "name": "stderr"
        },
        {
          "output_type": "stream",
          "text": [
            "/content/gdrive/MyDrive/ZFDataset/Nest6/kccr/kccr_28157295.wav\n"
          ],
          "name": "stdout"
        },
        {
          "output_type": "stream",
          "text": [
            "\r  9%|▉         | 13/139 [00:11<01:33,  1.34it/s]"
          ],
          "name": "stderr"
        },
        {
          "output_type": "stream",
          "text": [
            "/content/gdrive/MyDrive/ZFDataset/Nest6/kccr/kccr_27450846.wav\n"
          ],
          "name": "stdout"
        },
        {
          "output_type": "stream",
          "text": [
            "\r 10%|█         | 14/139 [00:12<01:49,  1.14it/s]"
          ],
          "name": "stderr"
        },
        {
          "output_type": "stream",
          "text": [
            "/content/gdrive/MyDrive/ZFDataset/Nest6/kccr/kccr_27297222.wav\n"
          ],
          "name": "stdout"
        },
        {
          "output_type": "stream",
          "text": [
            "\r 11%|█         | 15/139 [00:13<01:40,  1.23it/s]"
          ],
          "name": "stderr"
        },
        {
          "output_type": "stream",
          "text": [
            "/content/gdrive/MyDrive/ZFDataset/Nest6/kccr/kccr_26897683.wav\n"
          ],
          "name": "stdout"
        },
        {
          "output_type": "stream",
          "text": [
            "\r 12%|█▏        | 16/139 [00:13<01:34,  1.30it/s]"
          ],
          "name": "stderr"
        },
        {
          "output_type": "stream",
          "text": [
            "/content/gdrive/MyDrive/ZFDataset/Nest6/kccr/kccr_26805365.wav\n"
          ],
          "name": "stdout"
        },
        {
          "output_type": "stream",
          "text": [
            "\r 12%|█▏        | 17/139 [00:15<01:49,  1.11it/s]"
          ],
          "name": "stderr"
        },
        {
          "output_type": "stream",
          "text": [
            "/content/gdrive/MyDrive/ZFDataset/Nest6/kccr/kccr_26774685.wav\n"
          ],
          "name": "stdout"
        },
        {
          "output_type": "stream",
          "text": [
            "\r 13%|█▎        | 18/139 [00:15<01:40,  1.20it/s]"
          ],
          "name": "stderr"
        },
        {
          "output_type": "stream",
          "text": [
            "/content/gdrive/MyDrive/ZFDataset/Nest6/kccr/kccr_26744002_Copy1.wav\n"
          ],
          "name": "stdout"
        },
        {
          "output_type": "stream",
          "text": [
            "\r 14%|█▎        | 19/139 [00:16<01:33,  1.29it/s]"
          ],
          "name": "stderr"
        },
        {
          "output_type": "stream",
          "text": [
            "/content/gdrive/MyDrive/ZFDataset/Nest6/kccr/kccr_26744002_Copy.wav\n"
          ],
          "name": "stdout"
        },
        {
          "output_type": "stream",
          "text": [
            "\r 14%|█▍        | 20/139 [00:17<01:27,  1.35it/s]"
          ],
          "name": "stderr"
        },
        {
          "output_type": "stream",
          "text": [
            "/content/gdrive/MyDrive/ZFDataset/Nest6/kccr/kccr_32356888.wav\n"
          ],
          "name": "stdout"
        },
        {
          "output_type": "stream",
          "text": [
            "\r 15%|█▌        | 21/139 [00:18<01:41,  1.16it/s]"
          ],
          "name": "stderr"
        },
        {
          "output_type": "stream",
          "text": [
            "/content/gdrive/MyDrive/ZFDataset/Nest6/kccr/kccr_31968718.wav\n"
          ],
          "name": "stdout"
        },
        {
          "output_type": "stream",
          "text": [
            "\r 16%|█▌        | 22/139 [00:19<01:50,  1.06it/s]"
          ],
          "name": "stderr"
        },
        {
          "output_type": "stream",
          "text": [
            "/content/gdrive/MyDrive/ZFDataset/Nest6/kccr/kccr_29816705.wav\n"
          ],
          "name": "stdout"
        },
        {
          "output_type": "stream",
          "text": [
            "\r 17%|█▋        | 23/139 [00:19<01:39,  1.17it/s]"
          ],
          "name": "stderr"
        },
        {
          "output_type": "stream",
          "text": [
            "/content/gdrive/MyDrive/ZFDataset/Nest6/kccr/kccr_28280105.wav\n"
          ],
          "name": "stdout"
        },
        {
          "output_type": "stream",
          "text": [
            "\r 17%|█▋        | 24/139 [00:21<01:48,  1.06it/s]"
          ],
          "name": "stderr"
        },
        {
          "output_type": "stream",
          "text": [
            "/content/gdrive/MyDrive/ZFDataset/Nest6/kccr/kccr_28157295_Copy.wav\n"
          ],
          "name": "stdout"
        },
        {
          "output_type": "stream",
          "text": [
            "\r 18%|█▊        | 25/139 [00:21<01:38,  1.15it/s]"
          ],
          "name": "stderr"
        },
        {
          "output_type": "stream",
          "text": [
            "/content/gdrive/MyDrive/ZFDataset/Nest6/kccr/kccr_33178028.wav\n"
          ],
          "name": "stdout"
        },
        {
          "output_type": "stream",
          "text": [
            "\r 19%|█▊        | 26/139 [00:22<01:47,  1.05it/s]"
          ],
          "name": "stderr"
        },
        {
          "output_type": "stream",
          "text": [
            "/content/gdrive/MyDrive/ZFDataset/Nest6/kccr/kccr_33108694.wav\n"
          ],
          "name": "stdout"
        },
        {
          "output_type": "stream",
          "text": [
            "\r 19%|█▉        | 27/139 [00:23<01:36,  1.16it/s]"
          ],
          "name": "stderr"
        },
        {
          "output_type": "stream",
          "text": [
            "/content/gdrive/MyDrive/ZFDataset/Nest6/kccr/kccr_32946156.wav\n"
          ],
          "name": "stdout"
        },
        {
          "output_type": "stream",
          "text": [
            "\r 20%|██        | 28/139 [00:25<01:53,  1.02s/it]"
          ],
          "name": "stderr"
        },
        {
          "output_type": "stream",
          "text": [
            "/content/gdrive/MyDrive/ZFDataset/Nest6/kccr/kccr_32829496.wav\n"
          ],
          "name": "stdout"
        },
        {
          "output_type": "stream",
          "text": [
            "\r 21%|██        | 29/139 [00:25<01:41,  1.09it/s]"
          ],
          "name": "stderr"
        },
        {
          "output_type": "stream",
          "text": [
            "/content/gdrive/MyDrive/ZFDataset/Nest6/kccr/kccr_32770805_Copy1.wav\n"
          ],
          "name": "stdout"
        },
        {
          "output_type": "stream",
          "text": [
            "\r 22%|██▏       | 30/139 [00:27<02:14,  1.23s/it]"
          ],
          "name": "stderr"
        },
        {
          "output_type": "stream",
          "text": [
            "/content/gdrive/MyDrive/ZFDataset/Nest6/kccr/kccr_32770805_Copy.wav\n"
          ],
          "name": "stdout"
        },
        {
          "output_type": "stream",
          "text": [
            "\r 22%|██▏       | 31/139 [00:28<01:54,  1.06s/it]"
          ],
          "name": "stderr"
        },
        {
          "output_type": "stream",
          "text": [
            "/content/gdrive/MyDrive/ZFDataset/Nest6/kccr/kccr_32770805.wav\n"
          ],
          "name": "stdout"
        },
        {
          "output_type": "stream",
          "text": [
            "\r 23%|██▎       | 32/139 [00:29<01:54,  1.07s/it]"
          ],
          "name": "stderr"
        },
        {
          "output_type": "stream",
          "text": [
            "/content/gdrive/MyDrive/ZFDataset/Nest6/kccr/kccr_32452016.wav\n"
          ],
          "name": "stdout"
        },
        {
          "output_type": "stream",
          "text": [
            "\r 24%|██▎       | 33/139 [00:30<01:41,  1.04it/s]"
          ],
          "name": "stderr"
        },
        {
          "output_type": "stream",
          "text": [
            "/content/gdrive/MyDrive/ZFDataset/Nest6/kccr/kccr_34055115.wav\n"
          ],
          "name": "stdout"
        },
        {
          "output_type": "stream",
          "text": [
            "\r 24%|██▍       | 34/139 [00:30<01:32,  1.13it/s]"
          ],
          "name": "stderr"
        },
        {
          "output_type": "stream",
          "text": [
            "/content/gdrive/MyDrive/ZFDataset/Nest6/kccr/kccr_33971769.wav\n"
          ],
          "name": "stdout"
        },
        {
          "output_type": "stream",
          "text": [
            "\r 25%|██▌       | 35/139 [00:31<01:25,  1.22it/s]"
          ],
          "name": "stderr"
        },
        {
          "output_type": "stream",
          "text": [
            "/content/gdrive/MyDrive/ZFDataset/Nest6/kccr/kccr_33949975.wav\n"
          ],
          "name": "stdout"
        },
        {
          "output_type": "stream",
          "text": [
            "\r 26%|██▌       | 36/139 [00:32<01:22,  1.24it/s]"
          ],
          "name": "stderr"
        },
        {
          "output_type": "stream",
          "text": [
            "/content/gdrive/MyDrive/ZFDataset/Nest6/kccr/kccr_33376198.wav\n"
          ],
          "name": "stdout"
        },
        {
          "output_type": "stream",
          "text": [
            "\r 27%|██▋       | 37/139 [00:32<01:17,  1.31it/s]"
          ],
          "name": "stderr"
        },
        {
          "output_type": "stream",
          "text": [
            "/content/gdrive/MyDrive/ZFDataset/Nest6/kccr/kccr_33322042.wav\n"
          ],
          "name": "stdout"
        },
        {
          "output_type": "stream",
          "text": [
            "\r 27%|██▋       | 38/139 [00:34<01:32,  1.09it/s]"
          ],
          "name": "stderr"
        },
        {
          "output_type": "stream",
          "text": [
            "/content/gdrive/MyDrive/ZFDataset/Nest6/kccr/kccr_34676518.wav\n"
          ],
          "name": "stdout"
        },
        {
          "output_type": "stream",
          "text": [
            "\r 28%|██▊       | 39/139 [00:34<01:23,  1.20it/s]"
          ],
          "name": "stderr"
        },
        {
          "output_type": "stream",
          "text": [
            "/content/gdrive/MyDrive/ZFDataset/Nest6/kccr/kccr_34665625.wav\n"
          ],
          "name": "stdout"
        },
        {
          "output_type": "stream",
          "text": [
            "\r 29%|██▉       | 40/139 [00:35<01:19,  1.24it/s]"
          ],
          "name": "stderr"
        },
        {
          "output_type": "stream",
          "text": [
            "/content/gdrive/MyDrive/ZFDataset/Nest6/kccr/kccr_34606765.wav\n"
          ],
          "name": "stdout"
        },
        {
          "output_type": "stream",
          "text": [
            "\r 29%|██▉       | 41/139 [00:36<01:15,  1.30it/s]"
          ],
          "name": "stderr"
        },
        {
          "output_type": "stream",
          "text": [
            "/content/gdrive/MyDrive/ZFDataset/Nest6/kccr/kccr_34596965.wav\n"
          ],
          "name": "stdout"
        },
        {
          "output_type": "stream",
          "text": [
            "\r 30%|███       | 42/139 [00:37<01:25,  1.14it/s]"
          ],
          "name": "stderr"
        },
        {
          "output_type": "stream",
          "text": [
            "/content/gdrive/MyDrive/ZFDataset/Nest6/kccr/kccr_34265996.wav\n"
          ],
          "name": "stdout"
        },
        {
          "output_type": "stream",
          "text": [
            "\r 31%|███       | 43/139 [00:38<01:19,  1.21it/s]"
          ],
          "name": "stderr"
        },
        {
          "output_type": "stream",
          "text": [
            "/content/gdrive/MyDrive/ZFDataset/Nest6/kccr/kccr_34918936.wav\n"
          ],
          "name": "stdout"
        },
        {
          "output_type": "stream",
          "text": [
            "\r 32%|███▏      | 44/139 [00:38<01:13,  1.29it/s]"
          ],
          "name": "stderr"
        },
        {
          "output_type": "stream",
          "text": [
            "/content/gdrive/MyDrive/ZFDataset/Nest6/kccr/kccr_34908165.wav\n"
          ],
          "name": "stdout"
        },
        {
          "output_type": "stream",
          "text": [
            "\r 32%|███▏      | 45/139 [00:39<01:10,  1.34it/s]"
          ],
          "name": "stderr"
        },
        {
          "output_type": "stream",
          "text": [
            "/content/gdrive/MyDrive/ZFDataset/Nest6/kccr/kccr_34895256.wav\n"
          ],
          "name": "stdout"
        },
        {
          "output_type": "stream",
          "text": [
            "\r 33%|███▎      | 46/139 [00:40<01:08,  1.36it/s]"
          ],
          "name": "stderr"
        },
        {
          "output_type": "stream",
          "text": [
            "/content/gdrive/MyDrive/ZFDataset/Nest6/kccr/kccr_34773363.wav\n"
          ],
          "name": "stdout"
        },
        {
          "output_type": "stream",
          "text": [
            "\r 34%|███▍      | 47/139 [00:40<01:06,  1.38it/s]"
          ],
          "name": "stderr"
        },
        {
          "output_type": "stream",
          "text": [
            "/content/gdrive/MyDrive/ZFDataset/Nest6/kccr/kccr_39397505_Copy.wav\n"
          ],
          "name": "stdout"
        },
        {
          "output_type": "stream",
          "text": [
            "\r 35%|███▍      | 48/139 [00:41<01:17,  1.17it/s]"
          ],
          "name": "stderr"
        },
        {
          "output_type": "stream",
          "text": [
            "/content/gdrive/MyDrive/ZFDataset/Nest6/kccr/kccr_39397505.wav\n"
          ],
          "name": "stdout"
        },
        {
          "output_type": "stream",
          "text": [
            "\r 35%|███▌      | 49/139 [00:42<01:12,  1.25it/s]"
          ],
          "name": "stderr"
        },
        {
          "output_type": "stream",
          "text": [
            "/content/gdrive/MyDrive/ZFDataset/Nest6/kccr/kccr_35104565_Copy.wav\n"
          ],
          "name": "stdout"
        },
        {
          "output_type": "stream",
          "text": [
            "\r 36%|███▌      | 50/139 [00:43<01:07,  1.33it/s]"
          ],
          "name": "stderr"
        },
        {
          "output_type": "stream",
          "text": [
            "/content/gdrive/MyDrive/ZFDataset/Nest6/kccr/kccr_35104565.wav\n"
          ],
          "name": "stdout"
        },
        {
          "output_type": "stream",
          "text": [
            "\r 37%|███▋      | 51/139 [00:43<01:04,  1.37it/s]"
          ],
          "name": "stderr"
        },
        {
          "output_type": "stream",
          "text": [
            "/content/gdrive/MyDrive/ZFDataset/Nest6/kccr/kccr_35080472_Copy.wav\n"
          ],
          "name": "stdout"
        },
        {
          "output_type": "stream",
          "text": [
            "\r 37%|███▋      | 52/139 [00:44<01:01,  1.41it/s]"
          ],
          "name": "stderr"
        },
        {
          "output_type": "stream",
          "text": [
            "/content/gdrive/MyDrive/ZFDataset/Nest6/kccr/kccr_35080472.wav\n"
          ],
          "name": "stdout"
        },
        {
          "output_type": "stream",
          "text": [
            "\r 38%|███▊      | 53/139 [00:45<01:13,  1.17it/s]"
          ],
          "name": "stderr"
        },
        {
          "output_type": "stream",
          "text": [
            "/content/gdrive/MyDrive/ZFDataset/Nest6/kccr/kccr_40289296_Copy.wav\n"
          ],
          "name": "stdout"
        },
        {
          "output_type": "stream",
          "text": [
            "\r 39%|███▉      | 54/139 [00:46<01:08,  1.25it/s]"
          ],
          "name": "stderr"
        },
        {
          "output_type": "stream",
          "text": [
            "/content/gdrive/MyDrive/ZFDataset/Nest6/kccr/kccr_40289296.wav\n"
          ],
          "name": "stdout"
        },
        {
          "output_type": "stream",
          "text": [
            "\r 40%|███▉      | 55/139 [00:47<01:04,  1.30it/s]"
          ],
          "name": "stderr"
        },
        {
          "output_type": "stream",
          "text": [
            "/content/gdrive/MyDrive/ZFDataset/Nest6/kccr/kccr_39575035.wav\n"
          ],
          "name": "stdout"
        },
        {
          "output_type": "stream",
          "text": [
            "\r 40%|████      | 56/139 [00:47<01:01,  1.35it/s]"
          ],
          "name": "stderr"
        },
        {
          "output_type": "stream",
          "text": [
            "/content/gdrive/MyDrive/ZFDataset/Nest6/kccr/kccr_39569198.wav\n"
          ],
          "name": "stdout"
        },
        {
          "output_type": "stream",
          "text": [
            "\r 41%|████      | 57/139 [00:48<00:57,  1.41it/s]"
          ],
          "name": "stderr"
        },
        {
          "output_type": "stream",
          "text": [
            "/content/gdrive/MyDrive/ZFDataset/Nest6/kccr/kccr_39476408.wav\n"
          ],
          "name": "stdout"
        },
        {
          "output_type": "stream",
          "text": [
            "\r 42%|████▏     | 58/139 [00:49<00:57,  1.42it/s]"
          ],
          "name": "stderr"
        },
        {
          "output_type": "stream",
          "text": [
            "/content/gdrive/MyDrive/ZFDataset/Nest6/kccr/kccr_39397505_Copy1.wav\n"
          ],
          "name": "stdout"
        },
        {
          "output_type": "stream",
          "text": [
            "\r 42%|████▏     | 59/139 [00:49<00:55,  1.44it/s]"
          ],
          "name": "stderr"
        },
        {
          "output_type": "stream",
          "text": [
            "/content/gdrive/MyDrive/ZFDataset/Nest6/kccr/kccr_41584195_Copy1.wav\n"
          ],
          "name": "stdout"
        },
        {
          "output_type": "stream",
          "text": [
            "\r 43%|████▎     | 60/139 [00:50<00:53,  1.47it/s]"
          ],
          "name": "stderr"
        },
        {
          "output_type": "stream",
          "text": [
            "/content/gdrive/MyDrive/ZFDataset/Nest6/kccr/kccr_41584195_Copy.wav\n"
          ],
          "name": "stdout"
        },
        {
          "output_type": "stream",
          "text": [
            "\r 44%|████▍     | 61/139 [00:51<00:52,  1.50it/s]"
          ],
          "name": "stderr"
        },
        {
          "output_type": "stream",
          "text": [
            "/content/gdrive/MyDrive/ZFDataset/Nest6/kccr/kccr_41584195.wav\n"
          ],
          "name": "stdout"
        },
        {
          "output_type": "stream",
          "text": [
            "\r 45%|████▍     | 62/139 [00:51<00:52,  1.47it/s]"
          ],
          "name": "stderr"
        },
        {
          "output_type": "stream",
          "text": [
            "/content/gdrive/MyDrive/ZFDataset/Nest6/kccr/kccr_41026245.wav\n"
          ],
          "name": "stdout"
        },
        {
          "output_type": "stream",
          "text": [
            "\r 45%|████▌     | 63/139 [00:53<01:20,  1.06s/it]"
          ],
          "name": "stderr"
        },
        {
          "output_type": "stream",
          "text": [
            "/content/gdrive/MyDrive/ZFDataset/Nest6/kccr/kccr_40553155.wav\n"
          ],
          "name": "stdout"
        },
        {
          "output_type": "stream",
          "text": [
            "\r 46%|████▌     | 64/139 [00:54<01:11,  1.05it/s]"
          ],
          "name": "stderr"
        },
        {
          "output_type": "stream",
          "text": [
            "/content/gdrive/MyDrive/ZFDataset/Nest6/isab/isab_38063159.wav\n"
          ],
          "name": "stdout"
        },
        {
          "output_type": "stream",
          "text": [
            "\r 47%|████▋     | 65/139 [00:55<01:05,  1.13it/s]"
          ],
          "name": "stderr"
        },
        {
          "output_type": "stream",
          "text": [
            "/content/gdrive/MyDrive/ZFDataset/Nest6/isab/isab_38095304.wav\n"
          ],
          "name": "stdout"
        },
        {
          "output_type": "stream",
          "text": [
            "\r 47%|████▋     | 66/139 [00:56<01:11,  1.03it/s]"
          ],
          "name": "stderr"
        },
        {
          "output_type": "stream",
          "text": [
            "/content/gdrive/MyDrive/ZFDataset/Nest6/isab/isab_37692554.wav\n"
          ],
          "name": "stdout"
        },
        {
          "output_type": "stream",
          "text": [
            "\r 48%|████▊     | 67/139 [00:57<01:12,  1.01s/it]"
          ],
          "name": "stderr"
        },
        {
          "output_type": "stream",
          "text": [
            "/content/gdrive/MyDrive/ZFDataset/Nest6/isab/isab_37581860.wav\n"
          ],
          "name": "stdout"
        },
        {
          "output_type": "stream",
          "text": [
            "\r 49%|████▉     | 68/139 [00:58<01:18,  1.10s/it]"
          ],
          "name": "stderr"
        },
        {
          "output_type": "stream",
          "text": [
            "/content/gdrive/MyDrive/ZFDataset/Nest6/isab/isab_35288289.wav\n"
          ],
          "name": "stdout"
        },
        {
          "output_type": "stream",
          "text": [
            "\r 50%|████▉     | 69/139 [00:59<01:08,  1.02it/s]"
          ],
          "name": "stderr"
        },
        {
          "output_type": "stream",
          "text": [
            "/content/gdrive/MyDrive/ZFDataset/Nest6/isab/isab_41794694.wav\n"
          ],
          "name": "stdout"
        },
        {
          "output_type": "stream",
          "text": [
            "\r 50%|█████     | 70/139 [01:00<01:10,  1.02s/it]"
          ],
          "name": "stderr"
        },
        {
          "output_type": "stream",
          "text": [
            "/content/gdrive/MyDrive/ZFDataset/Nest6/isab/isab_40100004.wav\n"
          ],
          "name": "stdout"
        },
        {
          "output_type": "stream",
          "text": [
            "\r 51%|█████     | 71/139 [01:01<01:02,  1.09it/s]"
          ],
          "name": "stderr"
        },
        {
          "output_type": "stream",
          "text": [
            "/content/gdrive/MyDrive/ZFDataset/Nest6/isab/isab_38615434.wav\n"
          ],
          "name": "stdout"
        },
        {
          "output_type": "stream",
          "text": [
            "\r 52%|█████▏    | 72/139 [01:01<00:56,  1.19it/s]"
          ],
          "name": "stderr"
        },
        {
          "output_type": "stream",
          "text": [
            "/content/gdrive/MyDrive/ZFDataset/Nest6/isab/isab_38111124.wav\n"
          ],
          "name": "stdout"
        },
        {
          "output_type": "stream",
          "text": [
            "\r 53%|█████▎    | 73/139 [01:02<00:52,  1.25it/s]"
          ],
          "name": "stderr"
        },
        {
          "output_type": "stream",
          "text": [
            "/content/gdrive/MyDrive/ZFDataset/Nest6/isab/isab_48145024.wav\n"
          ],
          "name": "stdout"
        },
        {
          "output_type": "stream",
          "text": [
            "\r 53%|█████▎    | 74/139 [01:04<01:03,  1.03it/s]"
          ],
          "name": "stderr"
        },
        {
          "output_type": "stream",
          "text": [
            "/content/gdrive/MyDrive/ZFDataset/Nest6/isab/isab_47157044.wav\n"
          ],
          "name": "stdout"
        },
        {
          "output_type": "stream",
          "text": [
            "\r 54%|█████▍    | 75/139 [01:04<00:57,  1.12it/s]"
          ],
          "name": "stderr"
        },
        {
          "output_type": "stream",
          "text": [
            "/content/gdrive/MyDrive/ZFDataset/Nest6/isab/isab_47150411.wav\n"
          ],
          "name": "stdout"
        },
        {
          "output_type": "stream",
          "text": [
            "\r 55%|█████▍    | 76/139 [01:05<00:52,  1.21it/s]"
          ],
          "name": "stderr"
        },
        {
          "output_type": "stream",
          "text": [
            "/content/gdrive/MyDrive/ZFDataset/Nest6/isab/isab_46138974.wav\n"
          ],
          "name": "stdout"
        },
        {
          "output_type": "stream",
          "text": [
            "\r 55%|█████▌    | 77/139 [01:06<00:48,  1.28it/s]"
          ],
          "name": "stderr"
        },
        {
          "output_type": "stream",
          "text": [
            "/content/gdrive/MyDrive/ZFDataset/Nest6/isab/isab_46124724.wav\n"
          ],
          "name": "stdout"
        },
        {
          "output_type": "stream",
          "text": [
            "\r 56%|█████▌    | 78/139 [01:08<01:08,  1.13s/it]"
          ],
          "name": "stderr"
        },
        {
          "output_type": "stream",
          "text": [
            "/content/gdrive/MyDrive/ZFDataset/Nest6/isab/isab_42299569.wav\n"
          ],
          "name": "stdout"
        },
        {
          "output_type": "stream",
          "text": [
            "\r 57%|█████▋    | 79/139 [01:08<00:59,  1.00it/s]"
          ],
          "name": "stderr"
        },
        {
          "output_type": "stream",
          "text": [
            "/content/gdrive/MyDrive/ZFDataset/Nest6/isab/isab_48469594.wav\n"
          ],
          "name": "stdout"
        },
        {
          "output_type": "stream",
          "text": [
            "\r 58%|█████▊    | 80/139 [01:09<00:53,  1.10it/s]"
          ],
          "name": "stderr"
        },
        {
          "output_type": "stream",
          "text": [
            "/content/gdrive/MyDrive/ZFDataset/Nest6/isab/isab_60052054.wav\n"
          ],
          "name": "stdout"
        },
        {
          "output_type": "stream",
          "text": [
            "\r 58%|█████▊    | 81/139 [01:10<00:48,  1.19it/s]"
          ],
          "name": "stderr"
        },
        {
          "output_type": "stream",
          "text": [
            "/content/gdrive/MyDrive/ZFDataset/Nest6/isab/isab_60106304.wav\n"
          ],
          "name": "stdout"
        },
        {
          "output_type": "stream",
          "text": [
            "\r 59%|█████▉    | 82/139 [01:11<00:53,  1.06it/s]"
          ],
          "name": "stderr"
        },
        {
          "output_type": "stream",
          "text": [
            "/content/gdrive/MyDrive/ZFDataset/Nest6/isab/isab_59731544.wav\n"
          ],
          "name": "stdout"
        },
        {
          "output_type": "stream",
          "text": [
            "\r 60%|█████▉    | 83/139 [01:12<00:55,  1.00it/s]"
          ],
          "name": "stderr"
        },
        {
          "output_type": "stream",
          "text": [
            "/content/gdrive/MyDrive/ZFDataset/Nest6/isab/isab_58555404.wav\n"
          ],
          "name": "stdout"
        },
        {
          "output_type": "stream",
          "text": [
            "\r 60%|██████    | 84/139 [01:13<00:57,  1.05s/it]"
          ],
          "name": "stderr"
        },
        {
          "output_type": "stream",
          "text": [
            "/content/gdrive/MyDrive/ZFDataset/Nest6/isab/isab_58522509.wav\n"
          ],
          "name": "stdout"
        },
        {
          "output_type": "stream",
          "text": [
            "\r 61%|██████    | 85/139 [01:14<00:51,  1.06it/s]"
          ],
          "name": "stderr"
        },
        {
          "output_type": "stream",
          "text": [
            "/content/gdrive/MyDrive/ZFDataset/Nest6/isab/isab_57835804.wav\n"
          ],
          "name": "stdout"
        },
        {
          "output_type": "stream",
          "text": [
            "\r 62%|██████▏   | 86/139 [01:15<00:53,  1.01s/it]"
          ],
          "name": "stderr"
        },
        {
          "output_type": "stream",
          "text": [
            "/content/gdrive/MyDrive/ZFDataset/Nest6/isab/isab_54761059.wav\n"
          ],
          "name": "stdout"
        },
        {
          "output_type": "stream",
          "text": [
            "\r 63%|██████▎   | 87/139 [01:16<00:47,  1.09it/s]"
          ],
          "name": "stderr"
        },
        {
          "output_type": "stream",
          "text": [
            "/content/gdrive/MyDrive/ZFDataset/Nest6/isab/isab_72802769.wav\n"
          ],
          "name": "stdout"
        },
        {
          "output_type": "stream",
          "text": [
            "\r 63%|██████▎   | 88/139 [01:16<00:43,  1.17it/s]"
          ],
          "name": "stderr"
        },
        {
          "output_type": "stream",
          "text": [
            "/content/gdrive/MyDrive/ZFDataset/Nest6/isab/isab_67949742.wav\n"
          ],
          "name": "stdout"
        },
        {
          "output_type": "stream",
          "text": [
            "\r 64%|██████▍   | 89/139 [01:18<00:49,  1.02it/s]"
          ],
          "name": "stderr"
        },
        {
          "output_type": "stream",
          "text": [
            "/content/gdrive/MyDrive/ZFDataset/Nest6/isab/isab_67651004.wav\n"
          ],
          "name": "stdout"
        },
        {
          "output_type": "stream",
          "text": [
            "\r 65%|██████▍   | 90/139 [01:18<00:43,  1.11it/s]"
          ],
          "name": "stderr"
        },
        {
          "output_type": "stream",
          "text": [
            "/content/gdrive/MyDrive/ZFDataset/Nest6/isab/isab_63795364.wav\n"
          ],
          "name": "stdout"
        },
        {
          "output_type": "stream",
          "text": [
            "\r 65%|██████▌   | 91/139 [01:20<00:47,  1.02it/s]"
          ],
          "name": "stderr"
        },
        {
          "output_type": "stream",
          "text": [
            "/content/gdrive/MyDrive/ZFDataset/Nest6/isab/isab_62727694.wav\n"
          ],
          "name": "stdout"
        },
        {
          "output_type": "stream",
          "text": [
            "\r 66%|██████▌   | 92/139 [01:20<00:42,  1.12it/s]"
          ],
          "name": "stderr"
        },
        {
          "output_type": "stream",
          "text": [
            "/content/gdrive/MyDrive/ZFDataset/Nest6/isab/isab_60694074.wav\n"
          ],
          "name": "stdout"
        },
        {
          "output_type": "stream",
          "text": [
            "\r 67%|██████▋   | 93/139 [01:21<00:44,  1.04it/s]"
          ],
          "name": "stderr"
        },
        {
          "output_type": "stream",
          "text": [
            "/content/gdrive/MyDrive/ZFDataset/Nest6/isab/isab_74112524.wav\n"
          ],
          "name": "stdout"
        },
        {
          "output_type": "stream",
          "text": [
            "\r 68%|██████▊   | 94/139 [01:22<00:39,  1.14it/s]"
          ],
          "name": "stderr"
        },
        {
          "output_type": "stream",
          "text": [
            "/content/gdrive/MyDrive/ZFDataset/Nest6/bbyj/bbyj_32330135.wav\n"
          ],
          "name": "stdout"
        },
        {
          "output_type": "stream",
          "text": [
            "\r 68%|██████▊   | 95/139 [01:23<00:35,  1.23it/s]"
          ],
          "name": "stderr"
        },
        {
          "output_type": "stream",
          "text": [
            "/content/gdrive/MyDrive/ZFDataset/Nest6/bbyj/bbyj_32093595.wav\n"
          ],
          "name": "stdout"
        },
        {
          "output_type": "stream",
          "text": [
            "\r 69%|██████▉   | 96/139 [01:24<00:39,  1.10it/s]"
          ],
          "name": "stderr"
        },
        {
          "output_type": "stream",
          "text": [
            "/content/gdrive/MyDrive/ZFDataset/Nest6/bbyj/bbyj_31889145.wav\n"
          ],
          "name": "stdout"
        },
        {
          "output_type": "stream",
          "text": [
            "\r 70%|██████▉   | 97/139 [01:25<00:35,  1.19it/s]"
          ],
          "name": "stderr"
        },
        {
          "output_type": "stream",
          "text": [
            "/content/gdrive/MyDrive/ZFDataset/Nest6/bbyj/bbyj_28966505.wav\n"
          ],
          "name": "stdout"
        },
        {
          "output_type": "stream",
          "text": [
            "\r 71%|███████   | 98/139 [01:25<00:32,  1.27it/s]"
          ],
          "name": "stderr"
        },
        {
          "output_type": "stream",
          "text": [
            "/content/gdrive/MyDrive/ZFDataset/Nest6/bbyj/bbyj_28951615.wav\n"
          ],
          "name": "stdout"
        },
        {
          "output_type": "stream",
          "text": [
            "\r 71%|███████   | 99/139 [01:26<00:36,  1.11it/s]"
          ],
          "name": "stderr"
        },
        {
          "output_type": "stream",
          "text": [
            "/content/gdrive/MyDrive/ZFDataset/Nest6/bbyj/bbyj_28909755.wav\n"
          ],
          "name": "stdout"
        },
        {
          "output_type": "stream",
          "text": [
            "\r 72%|███████▏  | 100/139 [01:27<00:32,  1.19it/s]"
          ],
          "name": "stderr"
        },
        {
          "output_type": "stream",
          "text": [
            "/content/gdrive/MyDrive/ZFDataset/Nest6/bbyj/bbyj_28773435.wav\n"
          ],
          "name": "stdout"
        },
        {
          "output_type": "stream",
          "text": [
            "\r 73%|███████▎  | 101/139 [01:28<00:29,  1.27it/s]"
          ],
          "name": "stderr"
        },
        {
          "output_type": "stream",
          "text": [
            "/content/gdrive/MyDrive/ZFDataset/Nest6/bbyj/bbyj_28624536.wav\n"
          ],
          "name": "stdout"
        },
        {
          "output_type": "stream",
          "text": [
            "\r 73%|███████▎  | 102/139 [01:28<00:28,  1.32it/s]"
          ],
          "name": "stderr"
        },
        {
          "output_type": "stream",
          "text": [
            "/content/gdrive/MyDrive/ZFDataset/Nest6/bbyj/bbyj_28537845.wav\n"
          ],
          "name": "stdout"
        },
        {
          "output_type": "stream",
          "text": [
            "\r 74%|███████▍  | 103/139 [01:29<00:26,  1.35it/s]"
          ],
          "name": "stderr"
        },
        {
          "output_type": "stream",
          "text": [
            "/content/gdrive/MyDrive/ZFDataset/Nest6/bbyj/bbyj_28228036.wav\n"
          ],
          "name": "stdout"
        },
        {
          "output_type": "stream",
          "text": [
            "\r 75%|███████▍  | 104/139 [01:30<00:25,  1.40it/s]"
          ],
          "name": "stderr"
        },
        {
          "output_type": "stream",
          "text": [
            "/content/gdrive/MyDrive/ZFDataset/Nest6/bbyj/bbyj_32423385.wav\n"
          ],
          "name": "stdout"
        },
        {
          "output_type": "stream",
          "text": [
            "\r 76%|███████▌  | 105/139 [01:30<00:24,  1.41it/s]"
          ],
          "name": "stderr"
        },
        {
          "output_type": "stream",
          "text": [
            "/content/gdrive/MyDrive/ZFDataset/Nest6/bbyj/bbyj_32395295.wav\n"
          ],
          "name": "stdout"
        },
        {
          "output_type": "stream",
          "text": [
            "\r 76%|███████▋  | 106/139 [01:31<00:23,  1.42it/s]"
          ],
          "name": "stderr"
        },
        {
          "output_type": "stream",
          "text": [
            "/content/gdrive/MyDrive/ZFDataset/Nest6/bbyj/bbyj_32385955.wav\n"
          ],
          "name": "stdout"
        },
        {
          "output_type": "stream",
          "text": [
            "\r 77%|███████▋  | 107/139 [01:32<00:22,  1.43it/s]"
          ],
          "name": "stderr"
        },
        {
          "output_type": "stream",
          "text": [
            "/content/gdrive/MyDrive/ZFDataset/Nest6/bbyj/bbyj_32339032.wav\n"
          ],
          "name": "stdout"
        },
        {
          "output_type": "stream",
          "text": [
            "\r 78%|███████▊  | 108/139 [01:32<00:21,  1.45it/s]"
          ],
          "name": "stderr"
        },
        {
          "output_type": "stream",
          "text": [
            "/content/gdrive/MyDrive/ZFDataset/Nest6/bbyj/bbyj_36356545.wav\n"
          ],
          "name": "stdout"
        },
        {
          "output_type": "stream",
          "text": [
            "\r 78%|███████▊  | 109/139 [01:33<00:20,  1.46it/s]"
          ],
          "name": "stderr"
        },
        {
          "output_type": "stream",
          "text": [
            "/content/gdrive/MyDrive/ZFDataset/Nest6/bbyj/bbyj_36397205.wav\n"
          ],
          "name": "stdout"
        },
        {
          "output_type": "stream",
          "text": [
            "\r 79%|███████▉  | 110/139 [01:34<00:23,  1.22it/s]"
          ],
          "name": "stderr"
        },
        {
          "output_type": "stream",
          "text": [
            "/content/gdrive/MyDrive/ZFDataset/Nest6/bbyj/bbyj_36460695.wav\n"
          ],
          "name": "stdout"
        },
        {
          "output_type": "stream",
          "text": [
            "\r 80%|███████▉  | 111/139 [01:35<00:25,  1.09it/s]"
          ],
          "name": "stderr"
        },
        {
          "output_type": "stream",
          "text": [
            "/content/gdrive/MyDrive/ZFDataset/Nest6/bbyj/bbyj_36411742.wav\n"
          ],
          "name": "stdout"
        },
        {
          "output_type": "stream",
          "text": [
            "\r 81%|████████  | 112/139 [01:36<00:23,  1.15it/s]"
          ],
          "name": "stderr"
        },
        {
          "output_type": "stream",
          "text": [
            "/content/gdrive/MyDrive/ZFDataset/Nest6/bbyj/bbyj_36332451.wav\n"
          ],
          "name": "stdout"
        },
        {
          "output_type": "stream",
          "text": [
            "\r 81%|████████▏ | 113/139 [01:37<00:21,  1.24it/s]"
          ],
          "name": "stderr"
        },
        {
          "output_type": "stream",
          "text": [
            "/content/gdrive/MyDrive/ZFDataset/Nest6/bbyj/bbyj_36317085.wav\n"
          ],
          "name": "stdout"
        },
        {
          "output_type": "stream",
          "text": [
            "\r 82%|████████▏ | 114/139 [01:38<00:19,  1.31it/s]"
          ],
          "name": "stderr"
        },
        {
          "output_type": "stream",
          "text": [
            "/content/gdrive/MyDrive/ZFDataset/Nest6/bbyj/bbyj_36502495.wav\n"
          ],
          "name": "stdout"
        },
        {
          "output_type": "stream",
          "text": [
            "\r 83%|████████▎ | 115/139 [01:38<00:17,  1.35it/s]"
          ],
          "name": "stderr"
        },
        {
          "output_type": "stream",
          "text": [
            "/content/gdrive/MyDrive/ZFDataset/Nest6/bbyj/bbyj_36479735.wav\n"
          ],
          "name": "stdout"
        },
        {
          "output_type": "stream",
          "text": [
            "\r 83%|████████▎ | 116/139 [01:39<00:16,  1.39it/s]"
          ],
          "name": "stderr"
        },
        {
          "output_type": "stream",
          "text": [
            "/content/gdrive/MyDrive/ZFDataset/Nest6/bbyj/bbyj_36525125.wav\n"
          ],
          "name": "stdout"
        },
        {
          "output_type": "stream",
          "text": [
            "\r 84%|████████▍ | 117/139 [01:40<00:15,  1.42it/s]"
          ],
          "name": "stderr"
        },
        {
          "output_type": "stream",
          "text": [
            "/content/gdrive/MyDrive/ZFDataset/Nest6/bbyj/bbyj_36536085.wav\n"
          ],
          "name": "stdout"
        },
        {
          "output_type": "stream",
          "text": [
            "\r 85%|████████▍ | 118/139 [01:40<00:14,  1.46it/s]"
          ],
          "name": "stderr"
        },
        {
          "output_type": "stream",
          "text": [
            "/content/gdrive/MyDrive/ZFDataset/Nest6/bbyj/bbyj_36548925.wav\n"
          ],
          "name": "stdout"
        },
        {
          "output_type": "stream",
          "text": [
            "\r 86%|████████▌ | 119/139 [01:41<00:13,  1.44it/s]"
          ],
          "name": "stderr"
        },
        {
          "output_type": "stream",
          "text": [
            "/content/gdrive/MyDrive/ZFDataset/Nest6/bbyj/bbyj_37148455.wav\n"
          ],
          "name": "stdout"
        },
        {
          "output_type": "stream",
          "text": [
            "\r 86%|████████▋ | 120/139 [01:42<00:15,  1.20it/s]"
          ],
          "name": "stderr"
        },
        {
          "output_type": "stream",
          "text": [
            "/content/gdrive/MyDrive/ZFDataset/Nest6/bbyj/bbyj_36774061.wav\n"
          ],
          "name": "stdout"
        },
        {
          "output_type": "stream",
          "text": [
            "\r 87%|████████▋ | 121/139 [01:43<00:14,  1.28it/s]"
          ],
          "name": "stderr"
        },
        {
          "output_type": "stream",
          "text": [
            "/content/gdrive/MyDrive/ZFDataset/Nest6/bbyj/bbyj_36578702.wav\n"
          ],
          "name": "stdout"
        },
        {
          "output_type": "stream",
          "text": [
            "\r 88%|████████▊ | 122/139 [01:44<00:15,  1.13it/s]"
          ],
          "name": "stderr"
        },
        {
          "output_type": "stream",
          "text": [
            "/content/gdrive/MyDrive/ZFDataset/Nest6/bbyj/bbyj_36739382.wav\n"
          ],
          "name": "stdout"
        },
        {
          "output_type": "stream",
          "text": [
            "\r 88%|████████▊ | 123/139 [01:45<00:15,  1.04it/s]"
          ],
          "name": "stderr"
        },
        {
          "output_type": "stream",
          "text": [
            "/content/gdrive/MyDrive/ZFDataset/Nest6/bbyj/bbyj_50111045.wav\n"
          ],
          "name": "stdout"
        },
        {
          "output_type": "stream",
          "text": [
            "\r 89%|████████▉ | 124/139 [01:46<00:13,  1.15it/s]"
          ],
          "name": "stderr"
        },
        {
          "output_type": "stream",
          "text": [
            "/content/gdrive/MyDrive/ZFDataset/Nest6/bbyj/bbyj_47959575.wav\n"
          ],
          "name": "stdout"
        },
        {
          "output_type": "stream",
          "text": [
            "\r 90%|████████▉ | 125/139 [01:46<00:11,  1.22it/s]"
          ],
          "name": "stderr"
        },
        {
          "output_type": "stream",
          "text": [
            "/content/gdrive/MyDrive/ZFDataset/Nest6/bbyj/bbyj_47806695.wav\n"
          ],
          "name": "stdout"
        },
        {
          "output_type": "stream",
          "text": [
            "\r 91%|█████████ | 126/139 [01:47<00:10,  1.30it/s]"
          ],
          "name": "stderr"
        },
        {
          "output_type": "stream",
          "text": [
            "/content/gdrive/MyDrive/ZFDataset/Nest6/bbyj/bbyj_47331591.wav\n"
          ],
          "name": "stdout"
        },
        {
          "output_type": "stream",
          "text": [
            "\r 91%|█████████▏| 127/139 [01:48<00:08,  1.34it/s]"
          ],
          "name": "stderr"
        },
        {
          "output_type": "stream",
          "text": [
            "/content/gdrive/MyDrive/ZFDataset/Nest6/bbyj/bbyj_46014341.wav\n"
          ],
          "name": "stdout"
        },
        {
          "output_type": "stream",
          "text": [
            "\r 92%|█████████▏| 128/139 [01:48<00:07,  1.38it/s]"
          ],
          "name": "stderr"
        },
        {
          "output_type": "stream",
          "text": [
            "/content/gdrive/MyDrive/ZFDataset/Nest6/bbyj/bbyj_45822065.wav\n"
          ],
          "name": "stdout"
        },
        {
          "output_type": "stream",
          "text": [
            "\r 93%|█████████▎| 129/139 [01:49<00:07,  1.42it/s]"
          ],
          "name": "stderr"
        },
        {
          "output_type": "stream",
          "text": [
            "/content/gdrive/MyDrive/ZFDataset/Nest6/bbyj/bbyj_45836022.wav\n"
          ],
          "name": "stdout"
        },
        {
          "output_type": "stream",
          "text": [
            "\r 94%|█████████▎| 130/139 [01:50<00:06,  1.45it/s]"
          ],
          "name": "stderr"
        },
        {
          "output_type": "stream",
          "text": [
            "/content/gdrive/MyDrive/ZFDataset/Nest6/bbyj/bbyj_40302075.wav\n"
          ],
          "name": "stdout"
        },
        {
          "output_type": "stream",
          "text": [
            "\r 94%|█████████▍| 131/139 [01:51<00:06,  1.21it/s]"
          ],
          "name": "stderr"
        },
        {
          "output_type": "stream",
          "text": [
            "/content/gdrive/MyDrive/ZFDataset/Nest6/bbyj/bbyj_44148622.wav\n"
          ],
          "name": "stdout"
        },
        {
          "output_type": "stream",
          "text": [
            "\r 95%|█████████▍| 132/139 [01:52<00:05,  1.28it/s]"
          ],
          "name": "stderr"
        },
        {
          "output_type": "stream",
          "text": [
            "/content/gdrive/MyDrive/ZFDataset/Nest6/bbyj/bbyj_39891156.wav\n"
          ],
          "name": "stdout"
        },
        {
          "output_type": "stream",
          "text": [
            "\r 96%|█████████▌| 133/139 [01:52<00:04,  1.31it/s]"
          ],
          "name": "stderr"
        },
        {
          "output_type": "stream",
          "text": [
            "/content/gdrive/MyDrive/ZFDataset/Nest6/bbyj/bbyj_39630716.wav\n"
          ],
          "name": "stdout"
        },
        {
          "output_type": "stream",
          "text": [
            "\r 96%|█████████▋| 134/139 [01:53<00:03,  1.36it/s]"
          ],
          "name": "stderr"
        },
        {
          "output_type": "stream",
          "text": [
            "/content/gdrive/MyDrive/ZFDataset/Nest6/bbyj/bbyj_55013585.wav\n"
          ],
          "name": "stdout"
        },
        {
          "output_type": "stream",
          "text": [
            "\r 97%|█████████▋| 135/139 [01:54<00:02,  1.40it/s]"
          ],
          "name": "stderr"
        },
        {
          "output_type": "stream",
          "text": [
            "/content/gdrive/MyDrive/ZFDataset/Nest6/bbyj/bbyj_52131046.wav\n"
          ],
          "name": "stdout"
        },
        {
          "output_type": "stream",
          "text": [
            "\r 98%|█████████▊| 136/139 [01:55<00:02,  1.18it/s]"
          ],
          "name": "stderr"
        },
        {
          "output_type": "stream",
          "text": [
            "/content/gdrive/MyDrive/ZFDataset/Nest6/bbyj/bbyj_52049302.wav\n"
          ],
          "name": "stdout"
        },
        {
          "output_type": "stream",
          "text": [
            "\r 99%|█████████▊| 137/139 [01:56<00:01,  1.08it/s]"
          ],
          "name": "stderr"
        },
        {
          "output_type": "stream",
          "text": [
            "/content/gdrive/MyDrive/ZFDataset/Nest6/bbyj/bbyj_50429466_Copy.wav\n"
          ],
          "name": "stdout"
        },
        {
          "output_type": "stream",
          "text": [
            "\r 99%|█████████▉| 138/139 [01:57<00:00,  1.17it/s]"
          ],
          "name": "stderr"
        },
        {
          "output_type": "stream",
          "text": [
            "/content/gdrive/MyDrive/ZFDataset/Nest6/bbyj/bbyj_50429466.wav\n"
          ],
          "name": "stdout"
        },
        {
          "output_type": "stream",
          "text": [
            "100%|██████████| 139/139 [01:58<00:00,  1.18it/s]\n",
            "[Parallel(n_jobs=1)]: Done 139 out of 139 | elapsed:  2.0min finished\n"
          ],
          "name": "stderr"
        }
      ]
    },
    {
      "cell_type": "code",
      "metadata": {
        "id": "4hnriLcJSLfT"
      },
      "source": [
        ""
      ],
      "execution_count": null,
      "outputs": []
    }
  ]
}