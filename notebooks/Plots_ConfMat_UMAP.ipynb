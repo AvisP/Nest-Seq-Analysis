{
  "nbformat": 4,
  "nbformat_minor": 0,
  "metadata": {
    "colab": {
      "name": "Plots_ConfMat_UMAP.ipynb",
      "provenance": [],
      "authorship_tag": "ABX9TyPt7UpvHeyBAzWZ26OuIlvj"
    },
    "kernelspec": {
      "name": "python3",
      "display_name": "Python 3"
    },
    "language_info": {
      "name": "python"
    }
  },
  "cells": [
    {
      "cell_type": "code",
      "metadata": {
        "colab": {
          "base_uri": "https://localhost:8080/"
        },
        "id": "cSaPthZ7fmVo",
        "outputId": "a309b607-7e4f-4855-e1fe-fb2f322afd00"
      },
      "source": [
        "pip install torch===1.8.1 torchvision===0.9.1 torchaudio===0.8.1 -f https://download.pytorch.org/whl/torch_stable.html"
      ],
      "execution_count": null,
      "outputs": [
        {
          "output_type": "stream",
          "text": [
            "Looking in links: https://download.pytorch.org/whl/torch_stable.html\n",
            "Collecting torch===1.8.1\n",
            "\u001b[?25l  Downloading https://files.pythonhosted.org/packages/56/74/6fc9dee50f7c93d6b7d9644554bdc9692f3023fa5d1de779666e6bf8ae76/torch-1.8.1-cp37-cp37m-manylinux1_x86_64.whl (804.1MB)\n",
            "\u001b[K     |█████▏                          | 130.8MB 1.7MB/s eta 0:06:26\n",
            "\u001b[31mERROR: Operation cancelled by user\u001b[0m\n",
            "\u001b[?25h"
          ],
          "name": "stdout"
        }
      ]
    },
    {
      "cell_type": "code",
      "metadata": {
        "colab": {
          "base_uri": "https://localhost:8080/"
        },
        "id": "9-RzZf3dfwjU",
        "outputId": "3f90b33e-78b5-41ff-e23d-c40218498a91"
      },
      "source": [
        "import torch\n",
        "print(torch.version.cuda)"
      ],
      "execution_count": null,
      "outputs": [
        {
          "output_type": "stream",
          "text": [
            "10.1\n"
          ],
          "name": "stdout"
        }
      ]
    },
    {
      "cell_type": "code",
      "metadata": {
        "colab": {
          "base_uri": "https://localhost:8080/"
        },
        "id": "zP8a8dD_fyJ0",
        "outputId": "2d52ee91-5ead-4c70-aa61-8fc84f9e3ac8"
      },
      "source": [
        "pip install dgl-cu102"
      ],
      "execution_count": null,
      "outputs": [
        {
          "output_type": "stream",
          "text": [
            "Collecting dgl-cu102\n",
            "\u001b[?25l  Downloading https://files.pythonhosted.org/packages/29/54/d87c5dbd608488d9a533cd92cdb518fff3a9ce3f0104652dcf9192dfeb91/dgl_cu102-0.6.1-cp37-cp37m-manylinux1_x86_64.whl (36.8MB)\n",
            "\u001b[K     |████████████████████████████████| 36.8MB 1.3MB/s \n",
            "\u001b[?25hRequirement already satisfied: networkx>=2.1 in /usr/local/lib/python3.7/dist-packages (from dgl-cu102) (2.5.1)\n",
            "Requirement already satisfied: requests>=2.19.0 in /usr/local/lib/python3.7/dist-packages (from dgl-cu102) (2.23.0)\n",
            "Requirement already satisfied: scipy>=1.1.0 in /usr/local/lib/python3.7/dist-packages (from dgl-cu102) (1.4.1)\n",
            "Requirement already satisfied: numpy>=1.14.0 in /usr/local/lib/python3.7/dist-packages (from dgl-cu102) (1.19.5)\n",
            "Requirement already satisfied: decorator<5,>=4.3 in /usr/local/lib/python3.7/dist-packages (from networkx>=2.1->dgl-cu102) (4.4.2)\n",
            "Requirement already satisfied: certifi>=2017.4.17 in /usr/local/lib/python3.7/dist-packages (from requests>=2.19.0->dgl-cu102) (2020.12.5)\n",
            "Requirement already satisfied: chardet<4,>=3.0.2 in /usr/local/lib/python3.7/dist-packages (from requests>=2.19.0->dgl-cu102) (3.0.4)\n",
            "Requirement already satisfied: urllib3!=1.25.0,!=1.25.1,<1.26,>=1.21.1 in /usr/local/lib/python3.7/dist-packages (from requests>=2.19.0->dgl-cu102) (1.24.3)\n",
            "Requirement already satisfied: idna<3,>=2.5 in /usr/local/lib/python3.7/dist-packages (from requests>=2.19.0->dgl-cu102) (2.10)\n",
            "Installing collected packages: dgl-cu102\n",
            "Successfully installed dgl-cu102-0.6.1\n"
          ],
          "name": "stdout"
        }
      ]
    },
    {
      "cell_type": "code",
      "metadata": {
        "colab": {
          "base_uri": "https://localhost:8080/"
        },
        "id": "S1ZQFFtify97",
        "outputId": "b878a71b-0e31-44c7-e22a-d27f884d2ac3"
      },
      "source": [
        "from google.colab import drive\n",
        "drive.mount('/content/gdrive')"
      ],
      "execution_count": null,
      "outputs": [
        {
          "output_type": "stream",
          "text": [
            "Drive already mounted at /content/gdrive; to attempt to forcibly remount, call drive.mount(\"/content/gdrive\", force_remount=True).\n"
          ],
          "name": "stdout"
        }
      ]
    },
    {
      "cell_type": "code",
      "metadata": {
        "id": "c8sPH9rgf0kE"
      },
      "source": [
        "import numpy as np\n",
        "import matplotlib.pyplot as plt\n",
        "import pandas as pd\n",
        "# import dgl\n",
        "import os"
      ],
      "execution_count": null,
      "outputs": []
    },
    {
      "cell_type": "code",
      "metadata": {
        "id": "hk61sOeYjRmN"
      },
      "source": [
        "import torch\n",
        "import torch.nn as nn\n",
        "import re\n",
        "import spacy\n",
        "from collections import Counter\n",
        "from torch.utils.data import Dataset, DataLoader\n",
        "import torch.nn.functional as F\n",
        "import string\n",
        "from torch.nn.utils.rnn import pack_padded_sequence, pad_packed_sequence\n",
        "from sklearn.metrics import mean_squared_error\n",
        "from datetime import datetime"
      ],
      "execution_count": null,
      "outputs": []
    },
    {
      "cell_type": "code",
      "metadata": {
        "id": "vR_eIrsojTfO"
      },
      "source": [
        "from sklearn.preprocessing import LabelEncoder\n",
        "from sklearn.utils import column_or_1d\n",
        "from sklearn.model_selection import train_test_split\n",
        "from torch.utils.data.dataset import Subset\n",
        "from sklearn.model_selection import KFold\n",
        "from sklearn.metrics import confusion_matrix\n",
        "from sklearn.metrics import accuracy_score"
      ],
      "execution_count": null,
      "outputs": []
    },
    {
      "cell_type": "code",
      "metadata": {
        "id": "Eu4_fTTFf7G1"
      },
      "source": [
        "syllable_df_Nest_Total1 = pd.read_pickle('/content/gdrive/My Drive/ZFDataset/Nest1_Densenet121.pkl')\n",
        "syllable_df_Nest_Total1['Nest'] = \"Nest1\"\n",
        "syllable_df_Nest_Total2 = pd.read_pickle('/content/gdrive/My Drive/ZFDataset/Nest2_Densenet121.pkl')\n",
        "syllable_df_Nest_Total2['Nest'] = \"Nest2\"\n",
        "syllable_df_Nest_Total3 = pd.read_pickle('/content/gdrive/My Drive/ZFDataset/Nest3_Densenet121.pkl')\n",
        "syllable_df_Nest_Total3['Nest'] = \"Nest3\"\n",
        "syllable_df_Nest_Total4 = pd.read_pickle('/content/gdrive/My Drive/ZFDataset/Nest4_Densenet121.pkl')\n",
        "syllable_df_Nest_Total4['Nest'] = \"Nest4\"\n",
        "syllable_df_Nest_Total5 = pd.read_pickle('/content/gdrive/My Drive/ZFDataset/Nest5_Densenet121.pkl')\n",
        "syllable_df_Nest_Total5['Nest'] = \"Nest5\""
      ],
      "execution_count": null,
      "outputs": []
    },
    {
      "cell_type": "code",
      "metadata": {
        "id": "TBFkKXy2f-Jf"
      },
      "source": [
        "syllable_df_Nest_Total = pd.concat([syllable_df_Nest_Total1, syllable_df_Nest_Total2, syllable_df_Nest_Total3, syllable_df_Nest_Total4, syllable_df_Nest_Total5], ignore_index=True)\n",
        "del syllable_df_Nest_Total1, syllable_df_Nest_Total2, syllable_df_Nest_Total3, syllable_df_Nest_Total4, syllable_df_Nest_Total5"
      ],
      "execution_count": null,
      "outputs": []
    },
    {
      "cell_type": "code",
      "metadata": {
        "colab": {
          "base_uri": "https://localhost:8080/",
          "height": 589
        },
        "id": "fnA4Dgt7f_4T",
        "outputId": "60e275f4-7994-4461-b14d-58ad98b1d9ce"
      },
      "source": [
        "syllable_df_Nest_Total"
      ],
      "execution_count": null,
      "outputs": [
        {
          "output_type": "execute_result",
          "data": {
            "text/html": [
              "<div>\n",
              "<style scoped>\n",
              "    .dataframe tbody tr th:only-of-type {\n",
              "        vertical-align: middle;\n",
              "    }\n",
              "\n",
              "    .dataframe tbody tr th {\n",
              "        vertical-align: top;\n",
              "    }\n",
              "\n",
              "    .dataframe thead th {\n",
              "        text-align: right;\n",
              "    }\n",
              "</style>\n",
              "<table border=\"1\" class=\"dataframe\">\n",
              "  <thead>\n",
              "    <tr style=\"text-align: right;\">\n",
              "      <th></th>\n",
              "      <th>start_time</th>\n",
              "      <th>end_time</th>\n",
              "      <th>labels</th>\n",
              "      <th>indv</th>\n",
              "      <th>indvi</th>\n",
              "      <th>key</th>\n",
              "      <th>audio</th>\n",
              "      <th>rate</th>\n",
              "      <th>spectrogram</th>\n",
              "      <th>labels_indv</th>\n",
              "      <th>densenet121_features</th>\n",
              "      <th>Nest</th>\n",
              "    </tr>\n",
              "  </thead>\n",
              "  <tbody>\n",
              "    <tr>\n",
              "      <th>0</th>\n",
              "      <td>0.103084</td>\n",
              "      <td>0.133787</td>\n",
              "      <td>-</td>\n",
              "      <td>cyea</td>\n",
              "      <td>1</td>\n",
              "      <td>cyea_0000</td>\n",
              "      <td>[-0.0037507678, -0.0037730576, -0.0033396403, ...</td>\n",
              "      <td>44100</td>\n",
              "      <td>[[0, 0, 0, 0, 0, 0, 0, 0, 0, 0, 0, 0, 0, 0, 0,...</td>\n",
              "      <td>cyea_-</td>\n",
              "      <td>[0.00036964213, 0.0061388216, 0.0023623325, 0....</td>\n",
              "      <td>Nest1</td>\n",
              "    </tr>\n",
              "    <tr>\n",
              "      <th>1</th>\n",
              "      <td>0.197664</td>\n",
              "      <td>0.342063</td>\n",
              "      <td>a</td>\n",
              "      <td>cyea</td>\n",
              "      <td>2</td>\n",
              "      <td>cyea_0000</td>\n",
              "      <td>[-0.0016009295, -0.00080086064, 0.00024397256,...</td>\n",
              "      <td>44100</td>\n",
              "      <td>[[0, 0, 0, 0, 0, 0, 0, 0, 0, 0, 0, 0, 0, 0, 0,...</td>\n",
              "      <td>cyea_a</td>\n",
              "      <td>[0.00039546576, 0.0042689457, 0.0021646945, 0....</td>\n",
              "      <td>Nest1</td>\n",
              "    </tr>\n",
              "    <tr>\n",
              "      <th>2</th>\n",
              "      <td>0.369546</td>\n",
              "      <td>0.536848</td>\n",
              "      <td>b</td>\n",
              "      <td>cyea</td>\n",
              "      <td>3</td>\n",
              "      <td>cyea_0000</td>\n",
              "      <td>[0.0028250518, 0.0025573175, 0.002130959, 0.00...</td>\n",
              "      <td>44100</td>\n",
              "      <td>[[0, 0, 0, 0, 0, 0, 0, 0, 0, 0, 0, 0, 0, 0, 0,...</td>\n",
              "      <td>cyea_b</td>\n",
              "      <td>[0.00043923515, 0.0035873966, 0.0023025582, 0....</td>\n",
              "      <td>Nest1</td>\n",
              "    </tr>\n",
              "    <tr>\n",
              "      <th>3</th>\n",
              "      <td>0.559955</td>\n",
              "      <td>0.687823</td>\n",
              "      <td>c</td>\n",
              "      <td>cyea</td>\n",
              "      <td>4</td>\n",
              "      <td>cyea_0000</td>\n",
              "      <td>[0.00036472746, 0.00013401418, -0.00052369735,...</td>\n",
              "      <td>44100</td>\n",
              "      <td>[[0, 0, 0, 0, 0, 0, 0, 0, 0, 0, 0, 0, 0, 0, 0,...</td>\n",
              "      <td>cyea_c</td>\n",
              "      <td>[0.0004885812, 0.0055127405, 0.0017675881, 0.0...</td>\n",
              "      <td>Nest1</td>\n",
              "    </tr>\n",
              "    <tr>\n",
              "      <th>4</th>\n",
              "      <td>0.726644</td>\n",
              "      <td>0.832925</td>\n",
              "      <td>d</td>\n",
              "      <td>cyea</td>\n",
              "      <td>5</td>\n",
              "      <td>cyea_0000</td>\n",
              "      <td>[0.0033374317, 0.004109387, 0.003555804, 0.002...</td>\n",
              "      <td>44100</td>\n",
              "      <td>[[0, 0, 0, 0, 0, 0, 0, 0, 0, 0, 0, 0, 0, 0, 0,...</td>\n",
              "      <td>cyea_d</td>\n",
              "      <td>[0.00040706727, 0.004342597, 0.0018088806, 0.0...</td>\n",
              "      <td>Nest1</td>\n",
              "    </tr>\n",
              "    <tr>\n",
              "      <th>...</th>\n",
              "      <td>...</td>\n",
              "      <td>...</td>\n",
              "      <td>...</td>\n",
              "      <td>...</td>\n",
              "      <td>...</td>\n",
              "      <td>...</td>\n",
              "      <td>...</td>\n",
              "      <td>...</td>\n",
              "      <td>...</td>\n",
              "      <td>...</td>\n",
              "      <td>...</td>\n",
              "      <td>...</td>\n",
              "    </tr>\n",
              "    <tr>\n",
              "      <th>11286</th>\n",
              "      <td>3.072562</td>\n",
              "      <td>3.280658</td>\n",
              "      <td>0</td>\n",
              "      <td>ttog</td>\n",
              "      <td>12</td>\n",
              "      <td>ttog_0035</td>\n",
              "      <td>[-0.00018394654, -0.0013606688, -0.0018586811,...</td>\n",
              "      <td>44100</td>\n",
              "      <td>[[0, 0, 0, 0, 0, 0, 0, 0, 0, 0, 0, 0, 0, 0, 0,...</td>\n",
              "      <td>ttog_0</td>\n",
              "      <td>[0.00044240133, 0.0058716596, 0.0016218609, 0....</td>\n",
              "      <td>Nest5</td>\n",
              "    </tr>\n",
              "    <tr>\n",
              "      <th>11287</th>\n",
              "      <td>3.523469</td>\n",
              "      <td>3.590385</td>\n",
              "      <td>0</td>\n",
              "      <td>ttog</td>\n",
              "      <td>13</td>\n",
              "      <td>ttog_0035</td>\n",
              "      <td>[0.00424844, 0.0033519259, 0.0020941892, 0.001...</td>\n",
              "      <td>44100</td>\n",
              "      <td>[[0, 0, 0, 0, 0, 0, 0, 0, 0, 0, 0, 0, 0, 0, 0,...</td>\n",
              "      <td>ttog_0</td>\n",
              "      <td>[0.00038072543, 0.0063214703, 0.0022345975, 0....</td>\n",
              "      <td>Nest5</td>\n",
              "    </tr>\n",
              "    <tr>\n",
              "      <th>11288</th>\n",
              "      <td>3.610907</td>\n",
              "      <td>3.688322</td>\n",
              "      <td>0</td>\n",
              "      <td>ttog</td>\n",
              "      <td>14</td>\n",
              "      <td>ttog_0035</td>\n",
              "      <td>[0.0036732603, 0.0029418766, 0.0014781265, 0.0...</td>\n",
              "      <td>44100</td>\n",
              "      <td>[[0, 0, 0, 0, 0, 0, 0, 0, 0, 0, 0, 0, 0, 0, 0,...</td>\n",
              "      <td>ttog_0</td>\n",
              "      <td>[0.0003869663, 0.006349039, 0.0021536914, 0.00...</td>\n",
              "      <td>Nest5</td>\n",
              "    </tr>\n",
              "    <tr>\n",
              "      <th>11289</th>\n",
              "      <td>3.714921</td>\n",
              "      <td>4.134331</td>\n",
              "      <td>0</td>\n",
              "      <td>ttog</td>\n",
              "      <td>15</td>\n",
              "      <td>ttog_0035</td>\n",
              "      <td>[-0.0048942175, -0.006281676, -0.0066523557, -...</td>\n",
              "      <td>44100</td>\n",
              "      <td>[[0, 0, 0, 0, 0, 0, 0, 0, 0, 0, 0, 0, 0, 0, 0,...</td>\n",
              "      <td>ttog_0</td>\n",
              "      <td>[0.00043150302, 0.0055522835, 0.0034172744, 0....</td>\n",
              "      <td>Nest5</td>\n",
              "    </tr>\n",
              "    <tr>\n",
              "      <th>11290</th>\n",
              "      <td>4.158685</td>\n",
              "      <td>4.359501</td>\n",
              "      <td>0</td>\n",
              "      <td>ttog</td>\n",
              "      <td>16</td>\n",
              "      <td>ttog_0035</td>\n",
              "      <td>[-0.00027142058, 6.271064e-05, 0.00011806843, ...</td>\n",
              "      <td>44100</td>\n",
              "      <td>[[0, 0, 0, 0, 0, 0, 0, 0, 0, 0, 0, 0, 0, 0, 0,...</td>\n",
              "      <td>ttog_0</td>\n",
              "      <td>[0.000594726, 0.005788006, 0.0020875912, 0.002...</td>\n",
              "      <td>Nest5</td>\n",
              "    </tr>\n",
              "  </tbody>\n",
              "</table>\n",
              "<p>11291 rows × 12 columns</p>\n",
              "</div>"
            ],
            "text/plain": [
              "       start_time  ...   Nest\n",
              "0        0.103084  ...  Nest1\n",
              "1        0.197664  ...  Nest1\n",
              "2        0.369546  ...  Nest1\n",
              "3        0.559955  ...  Nest1\n",
              "4        0.726644  ...  Nest1\n",
              "...           ...  ...    ...\n",
              "11286    3.072562  ...  Nest5\n",
              "11287    3.523469  ...  Nest5\n",
              "11288    3.610907  ...  Nest5\n",
              "11289    3.714921  ...  Nest5\n",
              "11290    4.158685  ...  Nest5\n",
              "\n",
              "[11291 rows x 12 columns]"
            ]
          },
          "metadata": {
            "tags": []
          },
          "execution_count": 13
        }
      ]
    },
    {
      "cell_type": "code",
      "metadata": {
        "id": "bq2cClfWgCMr"
      },
      "source": [
        "Tutor_dataset = syllable_df_Nest_Total[syllable_df_Nest_Total['indv'].isin([\"ivoj\", \"nzen\", \"xsup\", \"gthh\", \"ttog\"])].reset_index(drop=True)"
      ],
      "execution_count": null,
      "outputs": []
    },
    {
      "cell_type": "code",
      "metadata": {
        "id": "af5fCy-NgEgU"
      },
      "source": [
        "Pupil_dataset = syllable_df_Nest_Total[syllable_df_Nest_Total['indv'].isin([\"hphi\", \"cyea\", \"phpd\", \"cxyc\", \"qfod\", \"nsrn\", \"khxv\", \"oogw\", \"kcos\", \"tbfk\"])].reset_index(drop=True)"
      ],
      "execution_count": null,
      "outputs": []
    },
    {
      "cell_type": "code",
      "metadata": {
        "id": "bVzDpeOw1oyr"
      },
      "source": [
        "temp2 = pd.read_csv('Nest_Total_upload.csv')"
      ],
      "execution_count": null,
      "outputs": []
    },
    {
      "cell_type": "code",
      "metadata": {
        "colab": {
          "base_uri": "https://localhost:8080/",
          "height": 419
        },
        "id": "9I1k4EsQ1ueQ",
        "outputId": "60d1ef03-aa33-4da9-b93a-5dc89fe4dd20"
      },
      "source": [
        "temp2"
      ],
      "execution_count": null,
      "outputs": [
        {
          "output_type": "execute_result",
          "data": {
            "text/html": [
              "<div>\n",
              "<style scoped>\n",
              "    .dataframe tbody tr th:only-of-type {\n",
              "        vertical-align: middle;\n",
              "    }\n",
              "\n",
              "    .dataframe tbody tr th {\n",
              "        vertical-align: top;\n",
              "    }\n",
              "\n",
              "    .dataframe thead th {\n",
              "        text-align: right;\n",
              "    }\n",
              "</style>\n",
              "<table border=\"1\" class=\"dataframe\">\n",
              "  <thead>\n",
              "    <tr style=\"text-align: right;\">\n",
              "      <th></th>\n",
              "      <th>indv</th>\n",
              "      <th>indvi</th>\n",
              "      <th>key</th>\n",
              "      <th>densenet121_features</th>\n",
              "      <th>Nest</th>\n",
              "    </tr>\n",
              "  </thead>\n",
              "  <tbody>\n",
              "    <tr>\n",
              "      <th>0</th>\n",
              "      <td>cyea</td>\n",
              "      <td>1</td>\n",
              "      <td>cyea_0000</td>\n",
              "      <td>[3.6964213e-04 6.1388216e-03 2.3623325e-03 ......</td>\n",
              "      <td>Nest1</td>\n",
              "    </tr>\n",
              "    <tr>\n",
              "      <th>1</th>\n",
              "      <td>cyea</td>\n",
              "      <td>2</td>\n",
              "      <td>cyea_0000</td>\n",
              "      <td>[3.9546576e-04 4.2689457e-03 2.1646945e-03 ......</td>\n",
              "      <td>Nest1</td>\n",
              "    </tr>\n",
              "    <tr>\n",
              "      <th>2</th>\n",
              "      <td>cyea</td>\n",
              "      <td>3</td>\n",
              "      <td>cyea_0000</td>\n",
              "      <td>[4.3923515e-04 3.5873966e-03 2.3025582e-03 ......</td>\n",
              "      <td>Nest1</td>\n",
              "    </tr>\n",
              "    <tr>\n",
              "      <th>3</th>\n",
              "      <td>cyea</td>\n",
              "      <td>4</td>\n",
              "      <td>cyea_0000</td>\n",
              "      <td>[4.8858119e-04 5.5127405e-03 1.7675881e-03 ......</td>\n",
              "      <td>Nest1</td>\n",
              "    </tr>\n",
              "    <tr>\n",
              "      <th>4</th>\n",
              "      <td>cyea</td>\n",
              "      <td>5</td>\n",
              "      <td>cyea_0000</td>\n",
              "      <td>[4.0706727e-04 4.3425970e-03 1.8088806e-03 ......</td>\n",
              "      <td>Nest1</td>\n",
              "    </tr>\n",
              "    <tr>\n",
              "      <th>...</th>\n",
              "      <td>...</td>\n",
              "      <td>...</td>\n",
              "      <td>...</td>\n",
              "      <td>...</td>\n",
              "      <td>...</td>\n",
              "    </tr>\n",
              "    <tr>\n",
              "      <th>11286</th>\n",
              "      <td>ttog</td>\n",
              "      <td>12</td>\n",
              "      <td>ttog_0035</td>\n",
              "      <td>[4.4240133e-04 5.8716596e-03 1.6218609e-03 ......</td>\n",
              "      <td>Nest5</td>\n",
              "    </tr>\n",
              "    <tr>\n",
              "      <th>11287</th>\n",
              "      <td>ttog</td>\n",
              "      <td>13</td>\n",
              "      <td>ttog_0035</td>\n",
              "      <td>[3.8072543e-04 6.3214703e-03 2.2345975e-03 ......</td>\n",
              "      <td>Nest5</td>\n",
              "    </tr>\n",
              "    <tr>\n",
              "      <th>11288</th>\n",
              "      <td>ttog</td>\n",
              "      <td>14</td>\n",
              "      <td>ttog_0035</td>\n",
              "      <td>[3.8696631e-04 6.3490388e-03 2.1536914e-03 ......</td>\n",
              "      <td>Nest5</td>\n",
              "    </tr>\n",
              "    <tr>\n",
              "      <th>11289</th>\n",
              "      <td>ttog</td>\n",
              "      <td>15</td>\n",
              "      <td>ttog_0035</td>\n",
              "      <td>[4.3150302e-04 5.5522835e-03 3.4172744e-03 ......</td>\n",
              "      <td>Nest5</td>\n",
              "    </tr>\n",
              "    <tr>\n",
              "      <th>11290</th>\n",
              "      <td>ttog</td>\n",
              "      <td>16</td>\n",
              "      <td>ttog_0035</td>\n",
              "      <td>[5.9472601e-04 5.7880059e-03 2.0875912e-03 ......</td>\n",
              "      <td>Nest5</td>\n",
              "    </tr>\n",
              "  </tbody>\n",
              "</table>\n",
              "<p>11291 rows × 5 columns</p>\n",
              "</div>"
            ],
            "text/plain": [
              "       indv  indvi  ...                               densenet121_features   Nest\n",
              "0      cyea      1  ...  [3.6964213e-04 6.1388216e-03 2.3623325e-03 ......  Nest1\n",
              "1      cyea      2  ...  [3.9546576e-04 4.2689457e-03 2.1646945e-03 ......  Nest1\n",
              "2      cyea      3  ...  [4.3923515e-04 3.5873966e-03 2.3025582e-03 ......  Nest1\n",
              "3      cyea      4  ...  [4.8858119e-04 5.5127405e-03 1.7675881e-03 ......  Nest1\n",
              "4      cyea      5  ...  [4.0706727e-04 4.3425970e-03 1.8088806e-03 ......  Nest1\n",
              "...     ...    ...  ...                                                ...    ...\n",
              "11286  ttog     12  ...  [4.4240133e-04 5.8716596e-03 1.6218609e-03 ......  Nest5\n",
              "11287  ttog     13  ...  [3.8072543e-04 6.3214703e-03 2.2345975e-03 ......  Nest5\n",
              "11288  ttog     14  ...  [3.8696631e-04 6.3490388e-03 2.1536914e-03 ......  Nest5\n",
              "11289  ttog     15  ...  [4.3150302e-04 5.5522835e-03 3.4172744e-03 ......  Nest5\n",
              "11290  ttog     16  ...  [5.9472601e-04 5.7880059e-03 2.0875912e-03 ......  Nest5\n",
              "\n",
              "[11291 rows x 5 columns]"
            ]
          },
          "metadata": {
            "tags": []
          },
          "execution_count": 65
        }
      ]
    },
    {
      "cell_type": "code",
      "metadata": {
        "id": "3vSOezeZimzA"
      },
      "source": [
        "def create_sequence_feature(syllable_df_Nest_Total, given_key, encoder, label_select='indv'):\n",
        "    current_songfile = syllable_df_Nest_Total.loc[syllable_df_Nest_Total['key']==given_key]\n",
        "    sequence_length = current_songfile['indvi'].values[-1]\n",
        "    temp_list = current_songfile['densenet121_features'].to_list()\n",
        "    label = encoder.transform(current_songfile[label_select].values)[-1]\n",
        "    # for k in range(sequence_length,max_sequence_length):\n",
        "    #   temp_list.append(np.zeros(len(temp_list[0])))\n",
        "    return [temp_list, sequence_length], label"
      ],
      "execution_count": null,
      "outputs": []
    },
    {
      "cell_type": "code",
      "metadata": {
        "id": "tInYBijQi-5d"
      },
      "source": [
        "def data_splitting_based_on_sample_size(syllable_df_Nest_Total):\n",
        "  Label_Total = []\n",
        "  Nest_Total = []\n",
        "\n",
        "  for key in syllable_df_Nest_Total.key.unique():\n",
        "    Label_Total.append(syllable_df_Nest_Total.loc[syllable_df_Nest_Total['key']==key]['indv'].values[0])\n",
        "    Nest_Total.append(syllable_df_Nest_Total.loc[syllable_df_Nest_Total['key']==key]['Nest'].values[0])\n",
        "\n",
        "  le = LabelEncoder()\n",
        "  le.fit(Nest_Total)\n",
        "\n",
        "  targets = le.transform(Nest_Total)\n",
        "\n",
        "  encoded_targets = pd.DataFrame({'targets' : targets,\n",
        "        'indvi' : Label_Total,\n",
        "        'key' : syllable_df_Nest_Total.key.unique(),\n",
        "        'Nest' : Nest_Total})\n",
        "\n",
        "  # train_indices, test_indices = train_test_split(np.arange(targets.shape[0]), train_size=train_test_split_ratio, stratify=targets)\n",
        "\n",
        "  # train_keys = encoded_targets.loc[train_indices]['key'].to_list()\n",
        "\n",
        "  # test_keys = encoded_targets.loc[test_indices]['key'].to_list()\n",
        "\n",
        "  # return encoded_targets, train_keys, test_keys, le\n",
        "  return encoded_targets, le"
      ],
      "execution_count": null,
      "outputs": []
    },
    {
      "cell_type": "code",
      "metadata": {
        "id": "NWBxHae6jyNz"
      },
      "source": [
        "class LSTM_fixed_len(torch.nn.Module) :\n",
        "    # def __init__(self, vocab_size, embedding_dim, hidden_dim) :\n",
        "    def __init__(self, embedding_dim, hidden_dim, output_dim, num_layers) :\n",
        "        super().__init__()\n",
        "        # self.embeddings = nn.Embedding(vocab_size, embedding_dim, padding_idx=0)\n",
        "        self.lstm = nn.LSTM(embedding_dim, hidden_dim, num_layers=num_layers, batch_first=True)\n",
        "        self.linear = nn.Linear(hidden_dim, output_dim) # Bias = true\n",
        "        self.dropout = nn.Dropout(0.1)\n",
        "        \n",
        "    def forward(self, x):\n",
        "        # x = self.embeddings(x)\n",
        "        x = self.dropout(x)\n",
        "        lstm_out, (ht, ct) = self.lstm(x)\n",
        "        return self.linear(ht[-1])"
      ],
      "execution_count": null,
      "outputs": []
    },
    {
      "cell_type": "code",
      "metadata": {
        "id": "o0HMqh16jIDk"
      },
      "source": [
        "class ReviewsDataset(Dataset):\n",
        "    def __init__(self, X, Y):\n",
        "        self.X = X\n",
        "        self.y = Y\n",
        "        \n",
        "    def __len__(self):\n",
        "        return len(self.y)\n",
        "    \n",
        "    def __getitem__(self, idx):\n",
        "        return torch.tensor(self.X[idx][0]), self.y[idx], self.X[idx][1]"
      ],
      "execution_count": null,
      "outputs": []
    },
    {
      "cell_type": "code",
      "metadata": {
        "id": "wh7sO27xwU-S"
      },
      "source": [
        "encoded_targets, le = data_splitting_based_on_sample_size(Tutor_dataset)"
      ],
      "execution_count": null,
      "outputs": []
    },
    {
      "cell_type": "code",
      "metadata": {
        "colab": {
          "base_uri": "https://localhost:8080/"
        },
        "id": "UB4lFB6ujLP8",
        "outputId": "2128bdb8-ebdb-478f-de0f-4bbde3123295"
      },
      "source": [
        "encoded_targets_test, le_test = data_splitting_based_on_sample_size(Tutor_dataset)\n",
        "\n",
        "X_test = []; y_test = [];\n",
        "\n",
        "for key in encoded_targets_test['key'].unique():# [:10]:\n",
        "    print(key)\n",
        "    data, label = create_sequence_feature(Tutor_dataset, key, le, label_select='Nest')\n",
        "    X_test.append(data)\n",
        "    y_test.append(label)\n",
        "\n",
        "test_ds = ReviewsDataset(X_test, y_test)"
      ],
      "execution_count": null,
      "outputs": [
        {
          "output_type": "stream",
          "text": [
            "ivoj_0000\n",
            "ivoj_0001\n",
            "ivoj_0002\n",
            "ivoj_0003\n",
            "ivoj_0004\n",
            "ivoj_0005\n",
            "ivoj_0006\n",
            "nzen_0000\n",
            "nzen_0001\n",
            "nzen_0002\n",
            "nzen_0003\n",
            "nzen_0004\n",
            "nzen_0005\n",
            "nzen_0006\n",
            "nzen_0007\n",
            "nzen_0008\n",
            "nzen_0009\n",
            "nzen_0010\n",
            "nzen_0011\n",
            "nzen_0012\n",
            "nzen_0013\n",
            "nzen_0014\n",
            "nzen_0015\n",
            "nzen_0016\n",
            "xsup_0000\n",
            "xsup_0001\n",
            "xsup_0002\n",
            "xsup_0003\n",
            "xsup_0004\n",
            "xsup_0005\n",
            "xsup_0006\n",
            "xsup_0007\n",
            "xsup_0008\n",
            "xsup_0009\n",
            "xsup_0010\n",
            "xsup_0011\n",
            "xsup_0012\n",
            "xsup_0013\n",
            "xsup_0014\n",
            "xsup_0015\n",
            "xsup_0016\n",
            "xsup_0017\n",
            "xsup_0018\n",
            "xsup_0019\n",
            "xsup_0020\n",
            "xsup_0021\n",
            "xsup_0022\n",
            "xsup_0023\n",
            "xsup_0024\n",
            "xsup_0025\n",
            "xsup_0026\n",
            "xsup_0027\n",
            "xsup_0028\n",
            "xsup_0029\n",
            "xsup_0030\n",
            "xsup_0031\n",
            "xsup_0032\n",
            "xsup_0033\n",
            "xsup_0034\n",
            "xsup_0035\n",
            "xsup_0036\n",
            "xsup_0037\n",
            "xsup_0038\n",
            "gthh_0000\n",
            "gthh_0001\n",
            "gthh_0002\n",
            "gthh_0003\n",
            "gthh_0004\n",
            "gthh_0005\n",
            "gthh_0006\n",
            "gthh_0007\n",
            "gthh_0008\n",
            "gthh_0009\n",
            "gthh_0010\n",
            "gthh_0011\n",
            "gthh_0012\n",
            "gthh_0013\n",
            "gthh_0014\n",
            "gthh_0015\n",
            "gthh_0016\n",
            "gthh_0017\n",
            "gthh_0018\n",
            "gthh_0019\n",
            "gthh_0020\n",
            "gthh_0021\n",
            "gthh_0022\n",
            "gthh_0023\n",
            "gthh_0024\n",
            "gthh_0025\n",
            "gthh_0026\n",
            "gthh_0027\n",
            "gthh_0028\n",
            "gthh_0029\n",
            "gthh_0030\n",
            "gthh_0031\n",
            "gthh_0032\n",
            "gthh_0033\n",
            "ttog_0000\n",
            "ttog_0001\n",
            "ttog_0002\n",
            "ttog_0003\n",
            "ttog_0004\n",
            "ttog_0005\n",
            "ttog_0006\n",
            "ttog_0007\n",
            "ttog_0008\n",
            "ttog_0009\n",
            "ttog_0010\n",
            "ttog_0011\n",
            "ttog_0012\n",
            "ttog_0013\n",
            "ttog_0014\n",
            "ttog_0015\n",
            "ttog_0016\n",
            "ttog_0017\n",
            "ttog_0018\n",
            "ttog_0019\n",
            "ttog_0020\n",
            "ttog_0021\n",
            "ttog_0022\n",
            "ttog_0023\n",
            "ttog_0024\n",
            "ttog_0025\n",
            "ttog_0026\n",
            "ttog_0027\n",
            "ttog_0028\n",
            "ttog_0029\n",
            "ttog_0030\n",
            "ttog_0031\n",
            "ttog_0032\n",
            "ttog_0033\n",
            "ttog_0034\n",
            "ttog_0035\n"
          ],
          "name": "stdout"
        }
      ]
    },
    {
      "cell_type": "code",
      "metadata": {
        "id": "PPFnHYeBjsJF"
      },
      "source": [
        "class LSTM_fixed_len(torch.nn.Module) :\n",
        "    # def __init__(self, vocab_size, embedding_dim, hidden_dim) :\n",
        "    def __init__(self, embedding_dim, hidden_dim, output_dim, num_layers) :\n",
        "        super().__init__()\n",
        "        # self.embeddings = nn.Embedding(vocab_size, embedding_dim, padding_idx=0)\n",
        "        self.lstm = nn.LSTM(embedding_dim, hidden_dim, num_layers=num_layers, batch_first=True)\n",
        "        self.linear = nn.Linear(hidden_dim, output_dim) # Bias = true\n",
        "        self.dropout = nn.Dropout(0.1)\n",
        "        \n",
        "    def forward(self, x):\n",
        "        # x = self.embeddings(x)\n",
        "        x = self.dropout(x)\n",
        "        lstm_out, (ht, ct) = self.lstm(x)\n",
        "        return self.linear(ht[-1])"
      ],
      "execution_count": null,
      "outputs": []
    },
    {
      "cell_type": "code",
      "metadata": {
        "colab": {
          "base_uri": "https://localhost:8080/",
          "height": 419
        },
        "id": "FoThTYTlwsc9",
        "outputId": "0e260935-6cf3-4235-f8ce-9098069940f8"
      },
      "source": [
        "encoded_targets"
      ],
      "execution_count": null,
      "outputs": [
        {
          "output_type": "execute_result",
          "data": {
            "text/html": [
              "<div>\n",
              "<style scoped>\n",
              "    .dataframe tbody tr th:only-of-type {\n",
              "        vertical-align: middle;\n",
              "    }\n",
              "\n",
              "    .dataframe tbody tr th {\n",
              "        vertical-align: top;\n",
              "    }\n",
              "\n",
              "    .dataframe thead th {\n",
              "        text-align: right;\n",
              "    }\n",
              "</style>\n",
              "<table border=\"1\" class=\"dataframe\">\n",
              "  <thead>\n",
              "    <tr style=\"text-align: right;\">\n",
              "      <th></th>\n",
              "      <th>targets</th>\n",
              "      <th>indvi</th>\n",
              "      <th>key</th>\n",
              "      <th>Nest</th>\n",
              "    </tr>\n",
              "  </thead>\n",
              "  <tbody>\n",
              "    <tr>\n",
              "      <th>0</th>\n",
              "      <td>0</td>\n",
              "      <td>ivoj</td>\n",
              "      <td>ivoj_0000</td>\n",
              "      <td>Nest1</td>\n",
              "    </tr>\n",
              "    <tr>\n",
              "      <th>1</th>\n",
              "      <td>0</td>\n",
              "      <td>ivoj</td>\n",
              "      <td>ivoj_0001</td>\n",
              "      <td>Nest1</td>\n",
              "    </tr>\n",
              "    <tr>\n",
              "      <th>2</th>\n",
              "      <td>0</td>\n",
              "      <td>ivoj</td>\n",
              "      <td>ivoj_0002</td>\n",
              "      <td>Nest1</td>\n",
              "    </tr>\n",
              "    <tr>\n",
              "      <th>3</th>\n",
              "      <td>0</td>\n",
              "      <td>ivoj</td>\n",
              "      <td>ivoj_0003</td>\n",
              "      <td>Nest1</td>\n",
              "    </tr>\n",
              "    <tr>\n",
              "      <th>4</th>\n",
              "      <td>0</td>\n",
              "      <td>ivoj</td>\n",
              "      <td>ivoj_0004</td>\n",
              "      <td>Nest1</td>\n",
              "    </tr>\n",
              "    <tr>\n",
              "      <th>...</th>\n",
              "      <td>...</td>\n",
              "      <td>...</td>\n",
              "      <td>...</td>\n",
              "      <td>...</td>\n",
              "    </tr>\n",
              "    <tr>\n",
              "      <th>128</th>\n",
              "      <td>4</td>\n",
              "      <td>ttog</td>\n",
              "      <td>ttog_0031</td>\n",
              "      <td>Nest5</td>\n",
              "    </tr>\n",
              "    <tr>\n",
              "      <th>129</th>\n",
              "      <td>4</td>\n",
              "      <td>ttog</td>\n",
              "      <td>ttog_0032</td>\n",
              "      <td>Nest5</td>\n",
              "    </tr>\n",
              "    <tr>\n",
              "      <th>130</th>\n",
              "      <td>4</td>\n",
              "      <td>ttog</td>\n",
              "      <td>ttog_0033</td>\n",
              "      <td>Nest5</td>\n",
              "    </tr>\n",
              "    <tr>\n",
              "      <th>131</th>\n",
              "      <td>4</td>\n",
              "      <td>ttog</td>\n",
              "      <td>ttog_0034</td>\n",
              "      <td>Nest5</td>\n",
              "    </tr>\n",
              "    <tr>\n",
              "      <th>132</th>\n",
              "      <td>4</td>\n",
              "      <td>ttog</td>\n",
              "      <td>ttog_0035</td>\n",
              "      <td>Nest5</td>\n",
              "    </tr>\n",
              "  </tbody>\n",
              "</table>\n",
              "<p>133 rows × 4 columns</p>\n",
              "</div>"
            ],
            "text/plain": [
              "     targets indvi        key   Nest\n",
              "0          0  ivoj  ivoj_0000  Nest1\n",
              "1          0  ivoj  ivoj_0001  Nest1\n",
              "2          0  ivoj  ivoj_0002  Nest1\n",
              "3          0  ivoj  ivoj_0003  Nest1\n",
              "4          0  ivoj  ivoj_0004  Nest1\n",
              "..       ...   ...        ...    ...\n",
              "128        4  ttog  ttog_0031  Nest5\n",
              "129        4  ttog  ttog_0032  Nest5\n",
              "130        4  ttog  ttog_0033  Nest5\n",
              "131        4  ttog  ttog_0034  Nest5\n",
              "132        4  ttog  ttog_0035  Nest5\n",
              "\n",
              "[133 rows x 4 columns]"
            ]
          },
          "metadata": {
            "tags": []
          },
          "execution_count": 24
        }
      ]
    },
    {
      "cell_type": "code",
      "metadata": {
        "colab": {
          "base_uri": "https://localhost:8080/"
        },
        "id": "mAqfHCI0k7wl",
        "outputId": "4163b421-8c79-4e62-f38b-b90b9a351ffe"
      },
      "source": [
        "# model = torch.load('/content/gdrive/My Drive/ZFDataset/SavedModels/LSTM/LayerNum2_1024_16_5_epoch100_CV5_TutorTest/Overall_Fold1_13_05_2021_19_17_Train_1.0_Val_1.0_Test_0.9549')\n",
        "model = torch.load('/content/gdrive/My Drive/ZFDataset/SavedModels/LSTM/Unidirectional/NHL1_1024_16_5_25_epoch_10_CV/Overall_Fold2_24_05_2021_18_45_Train_1.0_Val_1.0_Test_0.7895')\n",
        "model.eval()"
      ],
      "execution_count": null,
      "outputs": [
        {
          "output_type": "execute_result",
          "data": {
            "text/plain": [
              "LSTM_fixed_len(\n",
              "  (lstm): LSTM(1024, 16, batch_first=True)\n",
              "  (linear): Linear(in_features=16, out_features=5, bias=True)\n",
              "  (dropout): Dropout(p=0.1, inplace=False)\n",
              ")"
            ]
          },
          "metadata": {
            "tags": []
          },
          "execution_count": 23
        }
      ]
    },
    {
      "cell_type": "code",
      "metadata": {
        "colab": {
          "base_uri": "https://localhost:8080/"
        },
        "id": "a7NICQplmXld",
        "outputId": "a6a1a285-a4f8-4bfb-cb83-a3f535725e6b"
      },
      "source": [
        "Hidden_layer =[]\n",
        "Hidden_layer_labels = []\n",
        "actual_label = []\n",
        "predicted_label = []\n",
        "\n",
        "for x, y, l in test_ds:\n",
        "  x = x.float()\n",
        "  x.resize_((1,x.shape[0],x.shape[1]))\n",
        "  lstm_out, (ht, ct) = model.lstm(x)\n",
        "  Hidden_layer.append(ht[-1].detach().numpy().reshape(16, ))\n",
        "  Hidden_layer_labels.append(y)\n",
        "\n",
        "  y = torch.tensor(y).long().resize_((1))\n",
        "  y_hat = model(x)\n",
        "  pred = torch.max(y_hat, 1)[1]\n",
        "  actual_label.extend(y.numpy())\n",
        "  predicted_label.extend(pred.numpy())\n",
        "conf_mat_lstm = confusion_matrix(actual_label, predicted_label)\n",
        "accuracy_score(actual_label, predicted_label)"
      ],
      "execution_count": null,
      "outputs": [
        {
          "output_type": "execute_result",
          "data": {
            "text/plain": [
              "0.7368421052631579"
            ]
          },
          "metadata": {
            "tags": []
          },
          "execution_count": 25
        }
      ]
    },
    {
      "cell_type": "code",
      "metadata": {
        "colab": {
          "base_uri": "https://localhost:8080/"
        },
        "id": "F1-YMe2GqZLq",
        "outputId": "f85fd457-79b8-4a4f-95f3-0c5d32bbb839"
      },
      "source": [
        "conf_mat_lstm"
      ],
      "execution_count": null,
      "outputs": [
        {
          "output_type": "execute_result",
          "data": {
            "text/plain": [
              "array([[ 7,  0,  0,  0,  0],\n",
              "       [ 0, 17,  0,  0,  0],\n",
              "       [ 0, 13, 26,  0,  0],\n",
              "       [ 0, 20,  0, 14,  0],\n",
              "       [ 2,  0,  0,  0, 34]])"
            ]
          },
          "metadata": {
            "tags": []
          },
          "execution_count": 26
        }
      ]
    },
    {
      "cell_type": "code",
      "metadata": {
        "colab": {
          "base_uri": "https://localhost:8080/"
        },
        "id": "rUIeebCun9Sw",
        "outputId": "a2d0caf6-5ae2-4bda-e9ef-f5faf22b39d1"
      },
      "source": [
        "len(Hidden_layer)"
      ],
      "execution_count": null,
      "outputs": [
        {
          "output_type": "execute_result",
          "data": {
            "text/plain": [
              "133"
            ]
          },
          "metadata": {
            "tags": []
          },
          "execution_count": 27
        }
      ]
    },
    {
      "cell_type": "code",
      "metadata": {
        "colab": {
          "base_uri": "https://localhost:8080/"
        },
        "id": "zjXed5RWoE5U",
        "outputId": "88f082b8-3765-4a1e-e031-e34ad278530e"
      },
      "source": [
        "len(Hidden_layer_labels)"
      ],
      "execution_count": null,
      "outputs": [
        {
          "output_type": "execute_result",
          "data": {
            "text/plain": [
              "133"
            ]
          },
          "metadata": {
            "tags": []
          },
          "execution_count": 28
        }
      ]
    },
    {
      "cell_type": "code",
      "metadata": {
        "id": "Q5poqn13oHHo"
      },
      "source": [
        "hover_data = pd.DataFrame(le.inverse_transform((Hidden_layer_labels)), columns=['Nest'])\n",
        "hover_data['key'] = encoded_targets['key']"
      ],
      "execution_count": null,
      "outputs": []
    },
    {
      "cell_type": "code",
      "metadata": {
        "colab": {
          "base_uri": "https://localhost:8080/",
          "height": 419
        },
        "id": "TLw1wS1SxSp9",
        "outputId": "03bea715-cd76-4f92-d186-a3a32be35e18"
      },
      "source": [
        "hover_data"
      ],
      "execution_count": null,
      "outputs": [
        {
          "output_type": "execute_result",
          "data": {
            "text/html": [
              "<div>\n",
              "<style scoped>\n",
              "    .dataframe tbody tr th:only-of-type {\n",
              "        vertical-align: middle;\n",
              "    }\n",
              "\n",
              "    .dataframe tbody tr th {\n",
              "        vertical-align: top;\n",
              "    }\n",
              "\n",
              "    .dataframe thead th {\n",
              "        text-align: right;\n",
              "    }\n",
              "</style>\n",
              "<table border=\"1\" class=\"dataframe\">\n",
              "  <thead>\n",
              "    <tr style=\"text-align: right;\">\n",
              "      <th></th>\n",
              "      <th>Nest</th>\n",
              "      <th>key</th>\n",
              "    </tr>\n",
              "  </thead>\n",
              "  <tbody>\n",
              "    <tr>\n",
              "      <th>0</th>\n",
              "      <td>Nest1</td>\n",
              "      <td>ivoj_0000</td>\n",
              "    </tr>\n",
              "    <tr>\n",
              "      <th>1</th>\n",
              "      <td>Nest1</td>\n",
              "      <td>ivoj_0001</td>\n",
              "    </tr>\n",
              "    <tr>\n",
              "      <th>2</th>\n",
              "      <td>Nest1</td>\n",
              "      <td>ivoj_0002</td>\n",
              "    </tr>\n",
              "    <tr>\n",
              "      <th>3</th>\n",
              "      <td>Nest1</td>\n",
              "      <td>ivoj_0003</td>\n",
              "    </tr>\n",
              "    <tr>\n",
              "      <th>4</th>\n",
              "      <td>Nest1</td>\n",
              "      <td>ivoj_0004</td>\n",
              "    </tr>\n",
              "    <tr>\n",
              "      <th>...</th>\n",
              "      <td>...</td>\n",
              "      <td>...</td>\n",
              "    </tr>\n",
              "    <tr>\n",
              "      <th>128</th>\n",
              "      <td>Nest5</td>\n",
              "      <td>ttog_0031</td>\n",
              "    </tr>\n",
              "    <tr>\n",
              "      <th>129</th>\n",
              "      <td>Nest5</td>\n",
              "      <td>ttog_0032</td>\n",
              "    </tr>\n",
              "    <tr>\n",
              "      <th>130</th>\n",
              "      <td>Nest5</td>\n",
              "      <td>ttog_0033</td>\n",
              "    </tr>\n",
              "    <tr>\n",
              "      <th>131</th>\n",
              "      <td>Nest5</td>\n",
              "      <td>ttog_0034</td>\n",
              "    </tr>\n",
              "    <tr>\n",
              "      <th>132</th>\n",
              "      <td>Nest5</td>\n",
              "      <td>ttog_0035</td>\n",
              "    </tr>\n",
              "  </tbody>\n",
              "</table>\n",
              "<p>133 rows × 2 columns</p>\n",
              "</div>"
            ],
            "text/plain": [
              "      Nest        key\n",
              "0    Nest1  ivoj_0000\n",
              "1    Nest1  ivoj_0001\n",
              "2    Nest1  ivoj_0002\n",
              "3    Nest1  ivoj_0003\n",
              "4    Nest1  ivoj_0004\n",
              "..     ...        ...\n",
              "128  Nest5  ttog_0031\n",
              "129  Nest5  ttog_0032\n",
              "130  Nest5  ttog_0033\n",
              "131  Nest5  ttog_0034\n",
              "132  Nest5  ttog_0035\n",
              "\n",
              "[133 rows x 2 columns]"
            ]
          },
          "metadata": {
            "tags": []
          },
          "execution_count": 30
        }
      ]
    },
    {
      "cell_type": "code",
      "metadata": {
        "colab": {
          "base_uri": "https://localhost:8080/"
        },
        "id": "HDsFrQHooNj0",
        "outputId": "70452ce6-1b75-4a6a-ecdc-99bd2fdbede0"
      },
      "source": [
        "pip install umap-learn"
      ],
      "execution_count": null,
      "outputs": [
        {
          "output_type": "stream",
          "text": [
            "Collecting umap-learn\n",
            "\u001b[?25l  Downloading https://files.pythonhosted.org/packages/75/69/85e7f950bb75792ad5d666d86c5f3e62eedbb942848e7e3126513af9999c/umap-learn-0.5.1.tar.gz (80kB)\n",
            "\u001b[K     |████████████████████████████████| 81kB 2.9MB/s \n",
            "\u001b[?25hRequirement already satisfied: numpy>=1.17 in /usr/local/lib/python3.7/dist-packages (from umap-learn) (1.19.5)\n",
            "Requirement already satisfied: scikit-learn>=0.22 in /usr/local/lib/python3.7/dist-packages (from umap-learn) (0.22.2.post1)\n",
            "Requirement already satisfied: scipy>=1.0 in /usr/local/lib/python3.7/dist-packages (from umap-learn) (1.4.1)\n",
            "Requirement already satisfied: numba>=0.49 in /usr/local/lib/python3.7/dist-packages (from umap-learn) (0.51.2)\n",
            "Collecting pynndescent>=0.5\n",
            "\u001b[?25l  Downloading https://files.pythonhosted.org/packages/af/65/8189298dd3a05bbad716ee8e249764ff8800e365d8dc652ad2192ca01b4a/pynndescent-0.5.2.tar.gz (1.1MB)\n",
            "\u001b[K     |████████████████████████████████| 1.2MB 5.9MB/s \n",
            "\u001b[?25hRequirement already satisfied: joblib>=0.11 in /usr/local/lib/python3.7/dist-packages (from scikit-learn>=0.22->umap-learn) (1.0.1)\n",
            "Requirement already satisfied: llvmlite<0.35,>=0.34.0.dev0 in /usr/local/lib/python3.7/dist-packages (from numba>=0.49->umap-learn) (0.34.0)\n",
            "Requirement already satisfied: setuptools in /usr/local/lib/python3.7/dist-packages (from numba>=0.49->umap-learn) (56.1.0)\n",
            "Building wheels for collected packages: umap-learn, pynndescent\n",
            "  Building wheel for umap-learn (setup.py) ... \u001b[?25l\u001b[?25hdone\n",
            "  Created wheel for umap-learn: filename=umap_learn-0.5.1-cp37-none-any.whl size=76569 sha256=8ceba6a7a33b3197d73ecdea11e101e2c4a78ea3d494cd65d5bc633b7e2cbdd1\n",
            "  Stored in directory: /root/.cache/pip/wheels/ad/df/d5/a3691296ff779f25cd1cf415a3af954b987fb53111e3392cf4\n",
            "  Building wheel for pynndescent (setup.py) ... \u001b[?25l\u001b[?25hdone\n",
            "  Created wheel for pynndescent: filename=pynndescent-0.5.2-cp37-none-any.whl size=51351 sha256=4a48e562f89ec993b36606e111f9365764ad6c6c9034517a9d8f5b510fef9773\n",
            "  Stored in directory: /root/.cache/pip/wheels/ba/52/4e/4c28d04d144a28f89e2575fb63628df6e6d49b56c5ddd0c74e\n",
            "Successfully built umap-learn pynndescent\n",
            "Installing collected packages: pynndescent, umap-learn\n",
            "Successfully installed pynndescent-0.5.2 umap-learn-0.5.1\n"
          ],
          "name": "stdout"
        }
      ]
    },
    {
      "cell_type": "code",
      "metadata": {
        "id": "SwC-tCp5oO0k"
      },
      "source": [
        "import umap.umap_ as umap"
      ],
      "execution_count": null,
      "outputs": []
    },
    {
      "cell_type": "code",
      "metadata": {
        "id": "P8Axw-0ToSLV"
      },
      "source": [
        "embedding = umap.UMAP(n_neighbors = 50, min_dist=0.05, random_state=2021, densmap=True).fit(Hidden_layer)"
      ],
      "execution_count": null,
      "outputs": []
    },
    {
      "cell_type": "code",
      "metadata": {
        "colab": {
          "base_uri": "https://localhost:8080/"
        },
        "id": "geh1CbYboSl5",
        "outputId": "c93b868e-1aff-4774-c640-9091b3e46895"
      },
      "source": [
        "pip install umap-learn[plot]"
      ],
      "execution_count": null,
      "outputs": [
        {
          "output_type": "stream",
          "text": [
            "Requirement already satisfied: umap-learn[plot] in /usr/local/lib/python3.7/dist-packages (0.5.1)\n",
            "Requirement already satisfied: scikit-learn>=0.22 in /usr/local/lib/python3.7/dist-packages (from umap-learn[plot]) (0.22.2.post1)\n",
            "Requirement already satisfied: scipy>=1.0 in /usr/local/lib/python3.7/dist-packages (from umap-learn[plot]) (1.4.1)\n",
            "Requirement already satisfied: numba>=0.49 in /usr/local/lib/python3.7/dist-packages (from umap-learn[plot]) (0.51.2)\n",
            "Requirement already satisfied: numpy>=1.17 in /usr/local/lib/python3.7/dist-packages (from umap-learn[plot]) (1.19.5)\n",
            "Requirement already satisfied: pynndescent>=0.5 in /usr/local/lib/python3.7/dist-packages (from umap-learn[plot]) (0.5.2)\n",
            "Requirement already satisfied: scikit-image; extra == \"plot\" in /usr/local/lib/python3.7/dist-packages (from umap-learn[plot]) (0.16.2)\n",
            "Collecting datashader; extra == \"plot\"\n",
            "\u001b[?25l  Downloading https://files.pythonhosted.org/packages/df/24/22f96084785d9cc424f1e70541a2803eec807c82e6bdab87c4b71fd96d10/datashader-0.12.1-py2.py3-none-any.whl (15.8MB)\n",
            "\u001b[K     |████████████████████████████████| 15.8MB 315kB/s \n",
            "\u001b[?25hRequirement already satisfied: pandas; extra == \"plot\" in /usr/local/lib/python3.7/dist-packages (from umap-learn[plot]) (1.1.5)\n",
            "Requirement already satisfied: matplotlib; extra == \"plot\" in /usr/local/lib/python3.7/dist-packages (from umap-learn[plot]) (3.2.2)\n",
            "Requirement already satisfied: bokeh; extra == \"plot\" in /usr/local/lib/python3.7/dist-packages (from umap-learn[plot]) (2.3.2)\n",
            "Requirement already satisfied: seaborn; extra == \"plot\" in /usr/local/lib/python3.7/dist-packages (from umap-learn[plot]) (0.11.1)\n",
            "Requirement already satisfied: colorcet; extra == \"plot\" in /usr/local/lib/python3.7/dist-packages (from umap-learn[plot]) (2.0.6)\n",
            "Requirement already satisfied: holoviews; extra == \"plot\" in /usr/local/lib/python3.7/dist-packages (from umap-learn[plot]) (1.14.3)\n",
            "Requirement already satisfied: joblib>=0.11 in /usr/local/lib/python3.7/dist-packages (from scikit-learn>=0.22->umap-learn[plot]) (1.0.1)\n",
            "Requirement already satisfied: setuptools in /usr/local/lib/python3.7/dist-packages (from numba>=0.49->umap-learn[plot]) (56.1.0)\n",
            "Requirement already satisfied: llvmlite<0.35,>=0.34.0.dev0 in /usr/local/lib/python3.7/dist-packages (from numba>=0.49->umap-learn[plot]) (0.34.0)\n",
            "Requirement already satisfied: pillow>=4.3.0 in /usr/local/lib/python3.7/dist-packages (from scikit-image; extra == \"plot\"->umap-learn[plot]) (7.1.2)\n",
            "Requirement already satisfied: networkx>=2.0 in /usr/local/lib/python3.7/dist-packages (from scikit-image; extra == \"plot\"->umap-learn[plot]) (2.5.1)\n",
            "Requirement already satisfied: imageio>=2.3.0 in /usr/local/lib/python3.7/dist-packages (from scikit-image; extra == \"plot\"->umap-learn[plot]) (2.4.1)\n",
            "Requirement already satisfied: PyWavelets>=0.4.0 in /usr/local/lib/python3.7/dist-packages (from scikit-image; extra == \"plot\"->umap-learn[plot]) (1.1.1)\n",
            "Requirement already satisfied: toolz>=0.7.4 in /usr/local/lib/python3.7/dist-packages (from datashader; extra == \"plot\"->umap-learn[plot]) (0.11.1)\n",
            "Requirement already satisfied: pyct>=0.4.4 in /usr/local/lib/python3.7/dist-packages (from datashader; extra == \"plot\"->umap-learn[plot]) (0.4.8)\n",
            "Requirement already satisfied: xarray>=0.9.6 in /usr/local/lib/python3.7/dist-packages (from datashader; extra == \"plot\"->umap-learn[plot]) (0.18.2)\n",
            "Requirement already satisfied: param>=1.6.0 in /usr/local/lib/python3.7/dist-packages (from datashader; extra == \"plot\"->umap-learn[plot]) (1.10.1)\n",
            "Collecting datashape>=0.5.1\n",
            "\u001b[?25l  Downloading https://files.pythonhosted.org/packages/a6/5b/95b2ed56b61e649b69c9a5b1ecb32ff0a5cd68b9f69f5aa7774540e6b444/datashape-0.5.2.tar.gz (76kB)\n",
            "\u001b[K     |████████████████████████████████| 81kB 8.0MB/s \n",
            "\u001b[?25hRequirement already satisfied: dask[complete]>=0.18.0 in /usr/local/lib/python3.7/dist-packages (from datashader; extra == \"plot\"->umap-learn[plot]) (2.12.0)\n",
            "Requirement already satisfied: pytz>=2017.2 in /usr/local/lib/python3.7/dist-packages (from pandas; extra == \"plot\"->umap-learn[plot]) (2018.9)\n",
            "Requirement already satisfied: python-dateutil>=2.7.3 in /usr/local/lib/python3.7/dist-packages (from pandas; extra == \"plot\"->umap-learn[plot]) (2.8.1)\n",
            "Requirement already satisfied: pyparsing!=2.0.4,!=2.1.2,!=2.1.6,>=2.0.1 in /usr/local/lib/python3.7/dist-packages (from matplotlib; extra == \"plot\"->umap-learn[plot]) (2.4.7)\n",
            "Requirement already satisfied: kiwisolver>=1.0.1 in /usr/local/lib/python3.7/dist-packages (from matplotlib; extra == \"plot\"->umap-learn[plot]) (1.3.1)\n",
            "Requirement already satisfied: cycler>=0.10 in /usr/local/lib/python3.7/dist-packages (from matplotlib; extra == \"plot\"->umap-learn[plot]) (0.10.0)\n",
            "Requirement already satisfied: tornado>=5.1 in /usr/local/lib/python3.7/dist-packages (from bokeh; extra == \"plot\"->umap-learn[plot]) (5.1.1)\n",
            "Requirement already satisfied: packaging>=16.8 in /usr/local/lib/python3.7/dist-packages (from bokeh; extra == \"plot\"->umap-learn[plot]) (20.9)\n",
            "Requirement already satisfied: Jinja2>=2.9 in /usr/local/lib/python3.7/dist-packages (from bokeh; extra == \"plot\"->umap-learn[plot]) (2.11.3)\n",
            "Requirement already satisfied: PyYAML>=3.10 in /usr/local/lib/python3.7/dist-packages (from bokeh; extra == \"plot\"->umap-learn[plot]) (3.13)\n",
            "Requirement already satisfied: typing-extensions>=3.7.4 in /usr/local/lib/python3.7/dist-packages (from bokeh; extra == \"plot\"->umap-learn[plot]) (3.7.4.3)\n",
            "Requirement already satisfied: pyviz-comms>=0.7.4 in /usr/local/lib/python3.7/dist-packages (from holoviews; extra == \"plot\"->umap-learn[plot]) (2.0.1)\n",
            "Requirement already satisfied: panel>=0.8.0 in /usr/local/lib/python3.7/dist-packages (from holoviews; extra == \"plot\"->umap-learn[plot]) (0.11.3)\n",
            "Requirement already satisfied: decorator<5,>=4.3 in /usr/local/lib/python3.7/dist-packages (from networkx>=2.0->scikit-image; extra == \"plot\"->umap-learn[plot]) (4.4.2)\n",
            "Collecting multipledispatch>=0.4.7\n",
            "  Downloading https://files.pythonhosted.org/packages/89/79/429ecef45fd5e4504f7474d4c3c3c4668c267be3370e4c2fd33e61506833/multipledispatch-0.6.0-py3-none-any.whl\n",
            "Collecting fsspec>=0.6.0; extra == \"complete\"\n",
            "\u001b[?25l  Downloading https://files.pythonhosted.org/packages/bc/52/816d1a3a599176057bf29dfacb1f8fadb61d35fbd96cb1bab4aaa7df83c0/fsspec-2021.5.0-py3-none-any.whl (111kB)\n",
            "\u001b[K     |████████████████████████████████| 112kB 37.1MB/s \n",
            "\u001b[?25hCollecting distributed>=2.0; extra == \"complete\"\n",
            "\u001b[?25l  Downloading https://files.pythonhosted.org/packages/6b/be/e150dfcdceb22ac1a15ed6ab03268bd760b59cce6b6d4e584454efd8ca8c/distributed-2021.5.0-py3-none-any.whl (699kB)\n",
            "\u001b[K     |████████████████████████████████| 706kB 32.9MB/s \n",
            "\u001b[?25hRequirement already satisfied: cloudpickle>=0.2.1; extra == \"complete\" in /usr/local/lib/python3.7/dist-packages (from dask[complete]>=0.18.0->datashader; extra == \"plot\"->umap-learn[plot]) (1.3.0)\n",
            "Collecting partd>=0.3.10; extra == \"complete\"\n",
            "  Downloading https://files.pythonhosted.org/packages/41/94/360258a68b55f47859d72b2d0b2b3cfe0ca4fbbcb81b78812bd00ae86b7c/partd-1.2.0-py3-none-any.whl\n",
            "Requirement already satisfied: six>=1.5 in /usr/local/lib/python3.7/dist-packages (from python-dateutil>=2.7.3->pandas; extra == \"plot\"->umap-learn[plot]) (1.15.0)\n",
            "Requirement already satisfied: MarkupSafe>=0.23 in /usr/local/lib/python3.7/dist-packages (from Jinja2>=2.9->bokeh; extra == \"plot\"->umap-learn[plot]) (2.0.1)\n",
            "Requirement already satisfied: tqdm in /usr/local/lib/python3.7/dist-packages (from panel>=0.8.0->holoviews; extra == \"plot\"->umap-learn[plot]) (4.41.1)\n",
            "Requirement already satisfied: markdown in /usr/local/lib/python3.7/dist-packages (from panel>=0.8.0->holoviews; extra == \"plot\"->umap-learn[plot]) (3.3.4)\n",
            "Requirement already satisfied: requests in /usr/local/lib/python3.7/dist-packages (from panel>=0.8.0->holoviews; extra == \"plot\"->umap-learn[plot]) (2.23.0)\n",
            "Requirement already satisfied: sortedcontainers!=2.0.0,!=2.0.1 in /usr/local/lib/python3.7/dist-packages (from distributed>=2.0; extra == \"complete\"->dask[complete]>=0.18.0->datashader; extra == \"plot\"->umap-learn[plot]) (2.4.0)\n",
            "Requirement already satisfied: click>=6.6 in /usr/local/lib/python3.7/dist-packages (from distributed>=2.0; extra == \"complete\"->dask[complete]>=0.18.0->datashader; extra == \"plot\"->umap-learn[plot]) (7.1.2)\n",
            "Requirement already satisfied: msgpack>=0.6.0 in /usr/local/lib/python3.7/dist-packages (from distributed>=2.0; extra == \"complete\"->dask[complete]>=0.18.0->datashader; extra == \"plot\"->umap-learn[plot]) (1.0.2)\n",
            "Requirement already satisfied: psutil>=5.0 in /usr/local/lib/python3.7/dist-packages (from distributed>=2.0; extra == \"complete\"->dask[complete]>=0.18.0->datashader; extra == \"plot\"->umap-learn[plot]) (5.4.8)\n",
            "Requirement already satisfied: tblib>=1.6.0 in /usr/local/lib/python3.7/dist-packages (from distributed>=2.0; extra == \"complete\"->dask[complete]>=0.18.0->datashader; extra == \"plot\"->umap-learn[plot]) (1.7.0)\n",
            "Requirement already satisfied: zict>=0.1.3 in /usr/local/lib/python3.7/dist-packages (from distributed>=2.0; extra == \"complete\"->dask[complete]>=0.18.0->datashader; extra == \"plot\"->umap-learn[plot]) (2.0.0)\n",
            "Collecting locket\n",
            "  Downloading https://files.pythonhosted.org/packages/50/b8/e789e45b9b9c2db75e9d9e6ceb022c8d1d7e49b2c085ce8c05600f90a96b/locket-0.2.1-py2.py3-none-any.whl\n",
            "Requirement already satisfied: importlib-metadata; python_version < \"3.8\" in /usr/local/lib/python3.7/dist-packages (from markdown->panel>=0.8.0->holoviews; extra == \"plot\"->umap-learn[plot]) (4.0.1)\n",
            "Requirement already satisfied: certifi>=2017.4.17 in /usr/local/lib/python3.7/dist-packages (from requests->panel>=0.8.0->holoviews; extra == \"plot\"->umap-learn[plot]) (2020.12.5)\n",
            "Requirement already satisfied: chardet<4,>=3.0.2 in /usr/local/lib/python3.7/dist-packages (from requests->panel>=0.8.0->holoviews; extra == \"plot\"->umap-learn[plot]) (3.0.4)\n",
            "Requirement already satisfied: idna<3,>=2.5 in /usr/local/lib/python3.7/dist-packages (from requests->panel>=0.8.0->holoviews; extra == \"plot\"->umap-learn[plot]) (2.10)\n",
            "Requirement already satisfied: urllib3!=1.25.0,!=1.25.1,<1.26,>=1.21.1 in /usr/local/lib/python3.7/dist-packages (from requests->panel>=0.8.0->holoviews; extra == \"plot\"->umap-learn[plot]) (1.24.3)\n",
            "Requirement already satisfied: heapdict in /usr/local/lib/python3.7/dist-packages (from zict>=0.1.3->distributed>=2.0; extra == \"complete\"->dask[complete]>=0.18.0->datashader; extra == \"plot\"->umap-learn[plot]) (1.0.1)\n",
            "Requirement already satisfied: zipp>=0.5 in /usr/local/lib/python3.7/dist-packages (from importlib-metadata; python_version < \"3.8\"->markdown->panel>=0.8.0->holoviews; extra == \"plot\"->umap-learn[plot]) (3.4.1)\n",
            "Building wheels for collected packages: datashape\n",
            "  Building wheel for datashape (setup.py) ... \u001b[?25l\u001b[?25hdone\n",
            "  Created wheel for datashape: filename=datashape-0.5.2-cp37-none-any.whl size=59430 sha256=6e2440327495f6cc2ff703063b53a24f767599802a30e23ce7d09d89374d6988\n",
            "  Stored in directory: /root/.cache/pip/wheels/8d/06/05/c1cba3d57bdcfd3960e3f60a9fdc97e4baef2ef09af0ad1ef8\n",
            "Successfully built datashape\n",
            "\u001b[31mERROR: distributed 2021.5.0 has requirement cloudpickle>=1.5.0, but you'll have cloudpickle 1.3.0 which is incompatible.\u001b[0m\n",
            "\u001b[31mERROR: distributed 2021.5.0 has requirement dask==2021.05.0, but you'll have dask 2.12.0 which is incompatible.\u001b[0m\n",
            "Installing collected packages: multipledispatch, datashape, datashader, fsspec, distributed, locket, partd\n",
            "  Found existing installation: distributed 1.25.3\n",
            "    Uninstalling distributed-1.25.3:\n",
            "      Successfully uninstalled distributed-1.25.3\n",
            "Successfully installed datashader-0.12.1 datashape-0.5.2 distributed-2021.5.0 fsspec-2021.5.0 locket-0.2.1 multipledispatch-0.6.0 partd-1.2.0\n"
          ],
          "name": "stdout"
        }
      ]
    },
    {
      "cell_type": "code",
      "metadata": {
        "id": "0Fw9K6PcoT81"
      },
      "source": [
        "import umap.plot\n",
        "umap.plot.output_notebook()"
      ],
      "execution_count": null,
      "outputs": []
    },
    {
      "cell_type": "code",
      "metadata": {
        "colab": {
          "base_uri": "https://localhost:8080/",
          "height": 817
        },
        "id": "C9wS74dhoYQI",
        "outputId": "24eac0ef-1925-40ef-d34f-71ca2434c8bb"
      },
      "source": [
        "p = umap.plot.interactive(embedding, labels=Hidden_layer_labels, hover_data=hover_data, point_size=4) #title ='Nest1')\n",
        "umap.plot.show(p)"
      ],
      "execution_count": null,
      "outputs": [
        {
          "output_type": "display_data",
          "data": {
            "application/javascript": [
              "\n",
              "(function(root) {\n",
              "  function now() {\n",
              "    return new Date();\n",
              "  }\n",
              "\n",
              "  var force = true;\n",
              "\n",
              "  if (typeof root._bokeh_onload_callbacks === \"undefined\" || force === true) {\n",
              "    root._bokeh_onload_callbacks = [];\n",
              "    root._bokeh_is_loading = undefined;\n",
              "  }\n",
              "\n",
              "  var JS_MIME_TYPE = 'application/javascript';\n",
              "  var HTML_MIME_TYPE = 'text/html';\n",
              "  var EXEC_MIME_TYPE = 'application/vnd.bokehjs_exec.v0+json';\n",
              "  var CLASS_NAME = 'output_bokeh rendered_html';\n",
              "\n",
              "  /**\n",
              "   * Render data to the DOM node\n",
              "   */\n",
              "  function render(props, node) {\n",
              "    var script = document.createElement(\"script\");\n",
              "    node.appendChild(script);\n",
              "  }\n",
              "\n",
              "  /**\n",
              "   * Handle when an output is cleared or removed\n",
              "   */\n",
              "  function handleClearOutput(event, handle) {\n",
              "    var cell = handle.cell;\n",
              "\n",
              "    var id = cell.output_area._bokeh_element_id;\n",
              "    var server_id = cell.output_area._bokeh_server_id;\n",
              "    // Clean up Bokeh references\n",
              "    if (id != null && id in Bokeh.index) {\n",
              "      Bokeh.index[id].model.document.clear();\n",
              "      delete Bokeh.index[id];\n",
              "    }\n",
              "\n",
              "    if (server_id !== undefined) {\n",
              "      // Clean up Bokeh references\n",
              "      var cmd = \"from bokeh.io.state import curstate; print(curstate().uuid_to_server['\" + server_id + \"'].get_sessions()[0].document.roots[0]._id)\";\n",
              "      cell.notebook.kernel.execute(cmd, {\n",
              "        iopub: {\n",
              "          output: function(msg) {\n",
              "            var id = msg.content.text.trim();\n",
              "            if (id in Bokeh.index) {\n",
              "              Bokeh.index[id].model.document.clear();\n",
              "              delete Bokeh.index[id];\n",
              "            }\n",
              "          }\n",
              "        }\n",
              "      });\n",
              "      // Destroy server and session\n",
              "      var cmd = \"import bokeh.io.notebook as ion; ion.destroy_server('\" + server_id + \"')\";\n",
              "      cell.notebook.kernel.execute(cmd);\n",
              "    }\n",
              "  }\n",
              "\n",
              "  /**\n",
              "   * Handle when a new output is added\n",
              "   */\n",
              "  function handleAddOutput(event, handle) {\n",
              "    var output_area = handle.output_area;\n",
              "    var output = handle.output;\n",
              "\n",
              "    // limit handleAddOutput to display_data with EXEC_MIME_TYPE content only\n",
              "    if ((output.output_type != \"display_data\") || (!Object.prototype.hasOwnProperty.call(output.data, EXEC_MIME_TYPE))) {\n",
              "      return\n",
              "    }\n",
              "\n",
              "    var toinsert = output_area.element.find(\".\" + CLASS_NAME.split(' ')[0]);\n",
              "\n",
              "    if (output.metadata[EXEC_MIME_TYPE][\"id\"] !== undefined) {\n",
              "      toinsert[toinsert.length - 1].firstChild.textContent = output.data[JS_MIME_TYPE];\n",
              "      // store reference to embed id on output_area\n",
              "      output_area._bokeh_element_id = output.metadata[EXEC_MIME_TYPE][\"id\"];\n",
              "    }\n",
              "    if (output.metadata[EXEC_MIME_TYPE][\"server_id\"] !== undefined) {\n",
              "      var bk_div = document.createElement(\"div\");\n",
              "      bk_div.innerHTML = output.data[HTML_MIME_TYPE];\n",
              "      var script_attrs = bk_div.children[0].attributes;\n",
              "      for (var i = 0; i < script_attrs.length; i++) {\n",
              "        toinsert[toinsert.length - 1].firstChild.setAttribute(script_attrs[i].name, script_attrs[i].value);\n",
              "        toinsert[toinsert.length - 1].firstChild.textContent = bk_div.children[0].textContent\n",
              "      }\n",
              "      // store reference to server id on output_area\n",
              "      output_area._bokeh_server_id = output.metadata[EXEC_MIME_TYPE][\"server_id\"];\n",
              "    }\n",
              "  }\n",
              "\n",
              "  function register_renderer(events, OutputArea) {\n",
              "\n",
              "    function append_mime(data, metadata, element) {\n",
              "      // create a DOM node to render to\n",
              "      var toinsert = this.create_output_subarea(\n",
              "        metadata,\n",
              "        CLASS_NAME,\n",
              "        EXEC_MIME_TYPE\n",
              "      );\n",
              "      this.keyboard_manager.register_events(toinsert);\n",
              "      // Render to node\n",
              "      var props = {data: data, metadata: metadata[EXEC_MIME_TYPE]};\n",
              "      render(props, toinsert[toinsert.length - 1]);\n",
              "      element.append(toinsert);\n",
              "      return toinsert\n",
              "    }\n",
              "\n",
              "    /* Handle when an output is cleared or removed */\n",
              "    events.on('clear_output.CodeCell', handleClearOutput);\n",
              "    events.on('delete.Cell', handleClearOutput);\n",
              "\n",
              "    /* Handle when a new output is added */\n",
              "    events.on('output_added.OutputArea', handleAddOutput);\n",
              "\n",
              "    /**\n",
              "     * Register the mime type and append_mime function with output_area\n",
              "     */\n",
              "    OutputArea.prototype.register_mime_type(EXEC_MIME_TYPE, append_mime, {\n",
              "      /* Is output safe? */\n",
              "      safe: true,\n",
              "      /* Index of renderer in `output_area.display_order` */\n",
              "      index: 0\n",
              "    });\n",
              "  }\n",
              "\n",
              "  // register the mime type if in Jupyter Notebook environment and previously unregistered\n",
              "  if (root.Jupyter !== undefined) {\n",
              "    var events = require('base/js/events');\n",
              "    var OutputArea = require('notebook/js/outputarea').OutputArea;\n",
              "\n",
              "    if (OutputArea.prototype.mime_types().indexOf(EXEC_MIME_TYPE) == -1) {\n",
              "      register_renderer(events, OutputArea);\n",
              "    }\n",
              "  }\n",
              "\n",
              "  \n",
              "  if (typeof (root._bokeh_timeout) === \"undefined\" || force === true) {\n",
              "    root._bokeh_timeout = Date.now() + 5000;\n",
              "    root._bokeh_failed_load = false;\n",
              "  }\n",
              "\n",
              "  var NB_LOAD_WARNING = {'data': {'text/html':\n",
              "     \"<div style='background-color: #fdd'>\\n\"+\n",
              "     \"<p>\\n\"+\n",
              "     \"BokehJS does not appear to have successfully loaded. If loading BokehJS from CDN, this \\n\"+\n",
              "     \"may be due to a slow or bad network connection. Possible fixes:\\n\"+\n",
              "     \"</p>\\n\"+\n",
              "     \"<ul>\\n\"+\n",
              "     \"<li>re-rerun `output_notebook()` to attempt to load from CDN again, or</li>\\n\"+\n",
              "     \"<li>use INLINE resources instead, as so:</li>\\n\"+\n",
              "     \"</ul>\\n\"+\n",
              "     \"<code>\\n\"+\n",
              "     \"from bokeh.resources import INLINE\\n\"+\n",
              "     \"output_notebook(resources=INLINE)\\n\"+\n",
              "     \"</code>\\n\"+\n",
              "     \"</div>\"}};\n",
              "\n",
              "  function display_loaded() {\n",
              "    var el = document.getElementById(null);\n",
              "    if (el != null) {\n",
              "      el.textContent = \"BokehJS is loading...\";\n",
              "    }\n",
              "    if (root.Bokeh !== undefined) {\n",
              "      if (el != null) {\n",
              "        el.textContent = \"BokehJS \" + root.Bokeh.version + \" successfully loaded.\";\n",
              "      }\n",
              "    } else if (Date.now() < root._bokeh_timeout) {\n",
              "      setTimeout(display_loaded, 100)\n",
              "    }\n",
              "  }\n",
              "\n",
              "\n",
              "  function run_callbacks() {\n",
              "    try {\n",
              "      root._bokeh_onload_callbacks.forEach(function(callback) {\n",
              "        if (callback != null)\n",
              "          callback();\n",
              "      });\n",
              "    } finally {\n",
              "      delete root._bokeh_onload_callbacks\n",
              "    }\n",
              "    console.debug(\"Bokeh: all callbacks have finished\");\n",
              "  }\n",
              "\n",
              "  function load_libs(css_urls, js_urls, callback) {\n",
              "    if (css_urls == null) css_urls = [];\n",
              "    if (js_urls == null) js_urls = [];\n",
              "\n",
              "    root._bokeh_onload_callbacks.push(callback);\n",
              "    if (root._bokeh_is_loading > 0) {\n",
              "      console.debug(\"Bokeh: BokehJS is being loaded, scheduling callback at\", now());\n",
              "      return null;\n",
              "    }\n",
              "    if (js_urls == null || js_urls.length === 0) {\n",
              "      run_callbacks();\n",
              "      return null;\n",
              "    }\n",
              "    console.debug(\"Bokeh: BokehJS not loaded, scheduling load and callback at\", now());\n",
              "    root._bokeh_is_loading = css_urls.length + js_urls.length;\n",
              "\n",
              "    function on_load() {\n",
              "      root._bokeh_is_loading--;\n",
              "      if (root._bokeh_is_loading === 0) {\n",
              "        console.debug(\"Bokeh: all BokehJS libraries/stylesheets loaded\");\n",
              "        run_callbacks()\n",
              "      }\n",
              "    }\n",
              "\n",
              "    function on_error(url) {\n",
              "      console.error(\"failed to load \" + url);\n",
              "    }\n",
              "\n",
              "    for (let i = 0; i < css_urls.length; i++) {\n",
              "      const url = css_urls[i];\n",
              "      const element = document.createElement(\"link\");\n",
              "      element.onload = on_load;\n",
              "      element.onerror = on_error.bind(null, url);\n",
              "      element.rel = \"stylesheet\";\n",
              "      element.type = \"text/css\";\n",
              "      element.href = url;\n",
              "      console.debug(\"Bokeh: injecting link tag for BokehJS stylesheet: \", url);\n",
              "      document.body.appendChild(element);\n",
              "    }\n",
              "\n",
              "    const hashes = {\"https://cdn.bokeh.org/bokeh/release/bokeh-2.3.2.min.js\": \"XypntL49z55iwGVUW4qsEu83zKL3XEcz0MjuGOQ9SlaaQ68X/g+k1FcioZi7oQAc\", \"https://cdn.bokeh.org/bokeh/release/bokeh-tables-2.3.2.min.js\": \"bEsM86IHGDTLCS0Zod8a8WM6Y4+lafAL/eSiyQcuPzinmWNgNO2/olUF0Z2Dkn5i\", \"https://cdn.bokeh.org/bokeh/release/bokeh-widgets-2.3.2.min.js\": \"TX0gSQTdXTTeScqxj6PVQxTiRW8DOoGVwinyi1D3kxv7wuxQ02XkOxv0xwiypcAH\"};\n",
              "\n",
              "    for (let i = 0; i < js_urls.length; i++) {\n",
              "      const url = js_urls[i];\n",
              "      const element = document.createElement('script');\n",
              "      element.onload = on_load;\n",
              "      element.onerror = on_error.bind(null, url);\n",
              "      element.async = false;\n",
              "      element.src = url;\n",
              "      if (url in hashes) {\n",
              "        element.crossOrigin = \"anonymous\";\n",
              "        element.integrity = \"sha384-\" + hashes[url];\n",
              "      }\n",
              "      console.debug(\"Bokeh: injecting script tag for BokehJS library: \", url);\n",
              "      document.head.appendChild(element);\n",
              "    }\n",
              "  };\n",
              "\n",
              "  function inject_raw_css(css) {\n",
              "    const element = document.createElement(\"style\");\n",
              "    element.appendChild(document.createTextNode(css));\n",
              "    document.body.appendChild(element);\n",
              "  }\n",
              "\n",
              "  \n",
              "  var js_urls = [\"https://unpkg.com/tabulator-tables@4.9.3/dist/js/tabulator.js\", \"https://unpkg.com/moment@2.27.0/moment.js\", \"https://cdn.bokeh.org/bokeh/release/bokeh-2.3.2.min.js\", \"https://cdn.bokeh.org/bokeh/release/bokeh-widgets-2.3.2.min.js\", \"https://cdn.bokeh.org/bokeh/release/bokeh-tables-2.3.2.min.js\", \"https://unpkg.com/@holoviz/panel@^0.11.3/dist/panel.min.js\"];\n",
              "  var css_urls = [\"https://unpkg.com/tabulator-tables@4.9.3/dist/css/tabulator_simple.min.css\"];\n",
              "  \n",
              "\n",
              "  var inline_js = [\n",
              "    function(Bokeh) {\n",
              "      Bokeh.set_log_level(\"info\");\n",
              "    },\n",
              "    function(Bokeh) {\n",
              "    \n",
              "    \n",
              "    }\n",
              "  ];\n",
              "\n",
              "  function run_inline_js() {\n",
              "    \n",
              "    if (root.Bokeh !== undefined || force === true) {\n",
              "      \n",
              "    for (var i = 0; i < inline_js.length; i++) {\n",
              "      inline_js[i].call(root, root.Bokeh);\n",
              "    }\n",
              "    } else if (Date.now() < root._bokeh_timeout) {\n",
              "      setTimeout(run_inline_js, 100);\n",
              "    } else if (!root._bokeh_failed_load) {\n",
              "      console.log(\"Bokeh: BokehJS failed to load within specified timeout.\");\n",
              "      root._bokeh_failed_load = true;\n",
              "    } else if (force !== true) {\n",
              "      var cell = $(document.getElementById(null)).parents('.cell').data().cell;\n",
              "      cell.output_area.append_execute_result(NB_LOAD_WARNING)\n",
              "    }\n",
              "\n",
              "  }\n",
              "\n",
              "  if (root._bokeh_is_loading === 0) {\n",
              "    console.debug(\"Bokeh: BokehJS loaded, going straight to plotting\");\n",
              "    run_inline_js();\n",
              "  } else {\n",
              "    load_libs(css_urls, js_urls, function() {\n",
              "      console.debug(\"Bokeh: BokehJS plotting callback run at\", now());\n",
              "      run_inline_js();\n",
              "    });\n",
              "  }\n",
              "}(window));"
            ],
            "application/vnd.bokehjs_load.v0+json": "\n(function(root) {\n  function now() {\n    return new Date();\n  }\n\n  var force = true;\n\n  if (typeof root._bokeh_onload_callbacks === \"undefined\" || force === true) {\n    root._bokeh_onload_callbacks = [];\n    root._bokeh_is_loading = undefined;\n  }\n\n  \n\n  \n  if (typeof (root._bokeh_timeout) === \"undefined\" || force === true) {\n    root._bokeh_timeout = Date.now() + 5000;\n    root._bokeh_failed_load = false;\n  }\n\n  var NB_LOAD_WARNING = {'data': {'text/html':\n     \"<div style='background-color: #fdd'>\\n\"+\n     \"<p>\\n\"+\n     \"BokehJS does not appear to have successfully loaded. If loading BokehJS from CDN, this \\n\"+\n     \"may be due to a slow or bad network connection. Possible fixes:\\n\"+\n     \"</p>\\n\"+\n     \"<ul>\\n\"+\n     \"<li>re-rerun `output_notebook()` to attempt to load from CDN again, or</li>\\n\"+\n     \"<li>use INLINE resources instead, as so:</li>\\n\"+\n     \"</ul>\\n\"+\n     \"<code>\\n\"+\n     \"from bokeh.resources import INLINE\\n\"+\n     \"output_notebook(resources=INLINE)\\n\"+\n     \"</code>\\n\"+\n     \"</div>\"}};\n\n  function display_loaded() {\n    var el = document.getElementById(null);\n    if (el != null) {\n      el.textContent = \"BokehJS is loading...\";\n    }\n    if (root.Bokeh !== undefined) {\n      if (el != null) {\n        el.textContent = \"BokehJS \" + root.Bokeh.version + \" successfully loaded.\";\n      }\n    } else if (Date.now() < root._bokeh_timeout) {\n      setTimeout(display_loaded, 100)\n    }\n  }\n\n\n  function run_callbacks() {\n    try {\n      root._bokeh_onload_callbacks.forEach(function(callback) {\n        if (callback != null)\n          callback();\n      });\n    } finally {\n      delete root._bokeh_onload_callbacks\n    }\n    console.debug(\"Bokeh: all callbacks have finished\");\n  }\n\n  function load_libs(css_urls, js_urls, callback) {\n    if (css_urls == null) css_urls = [];\n    if (js_urls == null) js_urls = [];\n\n    root._bokeh_onload_callbacks.push(callback);\n    if (root._bokeh_is_loading > 0) {\n      console.debug(\"Bokeh: BokehJS is being loaded, scheduling callback at\", now());\n      return null;\n    }\n    if (js_urls == null || js_urls.length === 0) {\n      run_callbacks();\n      return null;\n    }\n    console.debug(\"Bokeh: BokehJS not loaded, scheduling load and callback at\", now());\n    root._bokeh_is_loading = css_urls.length + js_urls.length;\n\n    function on_load() {\n      root._bokeh_is_loading--;\n      if (root._bokeh_is_loading === 0) {\n        console.debug(\"Bokeh: all BokehJS libraries/stylesheets loaded\");\n        run_callbacks()\n      }\n    }\n\n    function on_error(url) {\n      console.error(\"failed to load \" + url);\n    }\n\n    for (let i = 0; i < css_urls.length; i++) {\n      const url = css_urls[i];\n      const element = document.createElement(\"link\");\n      element.onload = on_load;\n      element.onerror = on_error.bind(null, url);\n      element.rel = \"stylesheet\";\n      element.type = \"text/css\";\n      element.href = url;\n      console.debug(\"Bokeh: injecting link tag for BokehJS stylesheet: \", url);\n      document.body.appendChild(element);\n    }\n\n    const hashes = {\"https://cdn.bokeh.org/bokeh/release/bokeh-2.3.2.min.js\": \"XypntL49z55iwGVUW4qsEu83zKL3XEcz0MjuGOQ9SlaaQ68X/g+k1FcioZi7oQAc\", \"https://cdn.bokeh.org/bokeh/release/bokeh-tables-2.3.2.min.js\": \"bEsM86IHGDTLCS0Zod8a8WM6Y4+lafAL/eSiyQcuPzinmWNgNO2/olUF0Z2Dkn5i\", \"https://cdn.bokeh.org/bokeh/release/bokeh-widgets-2.3.2.min.js\": \"TX0gSQTdXTTeScqxj6PVQxTiRW8DOoGVwinyi1D3kxv7wuxQ02XkOxv0xwiypcAH\"};\n\n    for (let i = 0; i < js_urls.length; i++) {\n      const url = js_urls[i];\n      const element = document.createElement('script');\n      element.onload = on_load;\n      element.onerror = on_error.bind(null, url);\n      element.async = false;\n      element.src = url;\n      if (url in hashes) {\n        element.crossOrigin = \"anonymous\";\n        element.integrity = \"sha384-\" + hashes[url];\n      }\n      console.debug(\"Bokeh: injecting script tag for BokehJS library: \", url);\n      document.head.appendChild(element);\n    }\n  };\n\n  function inject_raw_css(css) {\n    const element = document.createElement(\"style\");\n    element.appendChild(document.createTextNode(css));\n    document.body.appendChild(element);\n  }\n\n  \n  var js_urls = [\"https://unpkg.com/tabulator-tables@4.9.3/dist/js/tabulator.js\", \"https://unpkg.com/moment@2.27.0/moment.js\", \"https://cdn.bokeh.org/bokeh/release/bokeh-2.3.2.min.js\", \"https://cdn.bokeh.org/bokeh/release/bokeh-widgets-2.3.2.min.js\", \"https://cdn.bokeh.org/bokeh/release/bokeh-tables-2.3.2.min.js\", \"https://unpkg.com/@holoviz/panel@^0.11.3/dist/panel.min.js\"];\n  var css_urls = [\"https://unpkg.com/tabulator-tables@4.9.3/dist/css/tabulator_simple.min.css\"];\n  \n\n  var inline_js = [\n    function(Bokeh) {\n      Bokeh.set_log_level(\"info\");\n    },\n    function(Bokeh) {\n    \n    \n    }\n  ];\n\n  function run_inline_js() {\n    \n    if (root.Bokeh !== undefined || force === true) {\n      \n    for (var i = 0; i < inline_js.length; i++) {\n      inline_js[i].call(root, root.Bokeh);\n    }\n    } else if (Date.now() < root._bokeh_timeout) {\n      setTimeout(run_inline_js, 100);\n    } else if (!root._bokeh_failed_load) {\n      console.log(\"Bokeh: BokehJS failed to load within specified timeout.\");\n      root._bokeh_failed_load = true;\n    } else if (force !== true) {\n      var cell = $(document.getElementById(null)).parents('.cell').data().cell;\n      cell.output_area.append_execute_result(NB_LOAD_WARNING)\n    }\n\n  }\n\n  if (root._bokeh_is_loading === 0) {\n    console.debug(\"Bokeh: BokehJS loaded, going straight to plotting\");\n    run_inline_js();\n  } else {\n    load_libs(css_urls, js_urls, function() {\n      console.debug(\"Bokeh: BokehJS plotting callback run at\", now());\n      run_inline_js();\n    });\n  }\n}(window));"
          },
          "metadata": {
            "tags": []
          }
        },
        {
          "output_type": "display_data",
          "data": {
            "text/html": [
              "\n",
              "\n",
              "\n",
              "\n",
              "\n",
              "\n",
              "  <div class=\"bk-root\" id=\"1112ded9-f0b0-4dbf-aec3-2c6effffc686\" data-root-id=\"1351\"></div>\n"
            ]
          },
          "metadata": {
            "tags": []
          }
        },
        {
          "output_type": "display_data",
          "data": {
            "application/javascript": [
              "(function(root) {\n",
              "  function embed_document(root) {\n",
              "    \n",
              "  var docs_json = {\"234bdb0f-3eed-4efe-9c30-5b6f56c22920\":{\"defs\":[],\"roots\":{\"references\":[{\"attributes\":{\"background_fill_color\":\"white\",\"below\":[{\"id\":\"1360\"}],\"center\":[{\"id\":\"1363\"},{\"id\":\"1367\"}],\"height\":800,\"left\":[{\"id\":\"1364\"}],\"renderers\":[{\"id\":\"1387\"}],\"title\":{\"id\":\"1423\"},\"toolbar\":{\"id\":\"1376\"},\"width\":800,\"x_range\":{\"id\":\"1352\"},\"x_scale\":{\"id\":\"1356\"},\"y_range\":{\"id\":\"1354\"},\"y_scale\":{\"id\":\"1358\"}},\"id\":\"1351\",\"subtype\":\"Figure\",\"type\":\"Plot\"},{\"attributes\":{},\"id\":\"1373\",\"type\":\"HelpTool\"},{\"attributes\":{\"source\":{\"id\":\"1350\"}},\"id\":\"1388\",\"type\":\"CDSView\"},{\"attributes\":{\"formatter\":{\"id\":\"1426\"},\"major_label_policy\":{\"id\":\"1424\"},\"ticker\":{\"id\":\"1365\"},\"visible\":false},\"id\":\"1364\",\"type\":\"LinearAxis\"},{\"attributes\":{},\"id\":\"1431\",\"type\":\"Selection\"},{\"attributes\":{\"callback\":null,\"tooltips\":[[\"Nest\",\"@{Nest}\"],[\"key\",\"@{key}\"]]},\"id\":\"1375\",\"type\":\"HoverTool\"},{\"attributes\":{},\"id\":\"1429\",\"type\":\"BasicTickFormatter\"},{\"attributes\":{\"formatter\":{\"id\":\"1429\"},\"major_label_policy\":{\"id\":\"1427\"},\"ticker\":{\"id\":\"1361\"},\"visible\":false},\"id\":\"1360\",\"type\":\"LinearAxis\"},{\"attributes\":{\"overlay\":{\"id\":\"1374\"}},\"id\":\"1370\",\"type\":\"BoxZoomTool\"},{\"attributes\":{\"data_source\":{\"id\":\"1350\"},\"glyph\":{\"id\":\"1385\"},\"hover_glyph\":null,\"muted_glyph\":null,\"nonselection_glyph\":{\"id\":\"1386\"},\"view\":{\"id\":\"1388\"}},\"id\":\"1387\",\"type\":\"GlyphRenderer\"},{\"attributes\":{},\"id\":\"1427\",\"type\":\"AllLabels\"},{\"attributes\":{},\"id\":\"1424\",\"type\":\"AllLabels\"},{\"attributes\":{},\"id\":\"1426\",\"type\":\"BasicTickFormatter\"},{\"attributes\":{},\"id\":\"1432\",\"type\":\"UnionRenderers\"},{\"attributes\":{\"axis\":{\"id\":\"1360\"},\"ticker\":null,\"visible\":false},\"id\":\"1363\",\"type\":\"Grid\"},{\"attributes\":{\"active_multi\":null,\"tools\":[{\"id\":\"1368\"},{\"id\":\"1369\"},{\"id\":\"1370\"},{\"id\":\"1371\"},{\"id\":\"1372\"},{\"id\":\"1373\"},{\"id\":\"1375\"}]},\"id\":\"1376\",\"type\":\"Toolbar\"},{\"attributes\":{},\"id\":\"1356\",\"type\":\"LinearScale\"},{\"attributes\":{},\"id\":\"1371\",\"type\":\"SaveTool\"},{\"attributes\":{},\"id\":\"1423\",\"type\":\"Title\"},{\"attributes\":{\"data\":{\"Nest\":[\"Nest1\",\"Nest1\",\"Nest1\",\"Nest1\",\"Nest1\",\"Nest1\",\"Nest1\",\"Nest2\",\"Nest2\",\"Nest2\",\"Nest2\",\"Nest2\",\"Nest2\",\"Nest2\",\"Nest2\",\"Nest2\",\"Nest2\",\"Nest2\",\"Nest2\",\"Nest2\",\"Nest2\",\"Nest2\",\"Nest2\",\"Nest2\",\"Nest3\",\"Nest3\",\"Nest3\",\"Nest3\",\"Nest3\",\"Nest3\",\"Nest3\",\"Nest3\",\"Nest3\",\"Nest3\",\"Nest3\",\"Nest3\",\"Nest3\",\"Nest3\",\"Nest3\",\"Nest3\",\"Nest3\",\"Nest3\",\"Nest3\",\"Nest3\",\"Nest3\",\"Nest3\",\"Nest3\",\"Nest3\",\"Nest3\",\"Nest3\",\"Nest3\",\"Nest3\",\"Nest3\",\"Nest3\",\"Nest3\",\"Nest3\",\"Nest3\",\"Nest3\",\"Nest3\",\"Nest3\",\"Nest3\",\"Nest3\",\"Nest3\",\"Nest4\",\"Nest4\",\"Nest4\",\"Nest4\",\"Nest4\",\"Nest4\",\"Nest4\",\"Nest4\",\"Nest4\",\"Nest4\",\"Nest4\",\"Nest4\",\"Nest4\",\"Nest4\",\"Nest4\",\"Nest4\",\"Nest4\",\"Nest4\",\"Nest4\",\"Nest4\",\"Nest4\",\"Nest4\",\"Nest4\",\"Nest4\",\"Nest4\",\"Nest4\",\"Nest4\",\"Nest4\",\"Nest4\",\"Nest4\",\"Nest4\",\"Nest4\",\"Nest4\",\"Nest4\",\"Nest5\",\"Nest5\",\"Nest5\",\"Nest5\",\"Nest5\",\"Nest5\",\"Nest5\",\"Nest5\",\"Nest5\",\"Nest5\",\"Nest5\",\"Nest5\",\"Nest5\",\"Nest5\",\"Nest5\",\"Nest5\",\"Nest5\",\"Nest5\",\"Nest5\",\"Nest5\",\"Nest5\",\"Nest5\",\"Nest5\",\"Nest5\",\"Nest5\",\"Nest5\",\"Nest5\",\"Nest5\",\"Nest5\",\"Nest5\",\"Nest5\",\"Nest5\",\"Nest5\",\"Nest5\",\"Nest5\",\"Nest5\"],\"alpha\":[1,1,1,1,1,1,1,1,1,1,1,1,1,1,1,1,1,1,1,1,1,1,1,1,1,1,1,1,1,1,1,1,1,1,1,1,1,1,1,1,1,1,1,1,1,1,1,1,1,1,1,1,1,1,1,1,1,1,1,1,1,1,1,1,1,1,1,1,1,1,1,1,1,1,1,1,1,1,1,1,1,1,1,1,1,1,1,1,1,1,1,1,1,1,1,1,1,1,1,1,1,1,1,1,1,1,1,1,1,1,1,1,1,1,1,1,1,1,1,1,1,1,1,1,1,1,1,1,1,1,1,1,1],\"color\":[\"#9e0142\",\"#9e0142\",\"#9e0142\",\"#9e0142\",\"#9e0142\",\"#9e0142\",\"#9e0142\",\"#f98e52\",\"#f98e52\",\"#f98e52\",\"#f98e52\",\"#f98e52\",\"#f98e52\",\"#f98e52\",\"#f98e52\",\"#f98e52\",\"#f98e52\",\"#f98e52\",\"#f98e52\",\"#f98e52\",\"#f98e52\",\"#f98e52\",\"#f98e52\",\"#f98e52\",\"#ffffbe\",\"#ffffbe\",\"#ffffbe\",\"#ffffbe\",\"#ffffbe\",\"#ffffbe\",\"#ffffbe\",\"#ffffbe\",\"#ffffbe\",\"#ffffbe\",\"#ffffbe\",\"#ffffbe\",\"#ffffbe\",\"#ffffbe\",\"#ffffbe\",\"#ffffbe\",\"#ffffbe\",\"#ffffbe\",\"#ffffbe\",\"#ffffbe\",\"#ffffbe\",\"#ffffbe\",\"#ffffbe\",\"#ffffbe\",\"#ffffbe\",\"#ffffbe\",\"#ffffbe\",\"#ffffbe\",\"#ffffbe\",\"#ffffbe\",\"#ffffbe\",\"#ffffbe\",\"#ffffbe\",\"#ffffbe\",\"#ffffbe\",\"#ffffbe\",\"#ffffbe\",\"#ffffbe\",\"#ffffbe\",\"#86cfa5\",\"#86cfa5\",\"#86cfa5\",\"#86cfa5\",\"#86cfa5\",\"#86cfa5\",\"#86cfa5\",\"#86cfa5\",\"#86cfa5\",\"#86cfa5\",\"#86cfa5\",\"#86cfa5\",\"#86cfa5\",\"#86cfa5\",\"#86cfa5\",\"#86cfa5\",\"#86cfa5\",\"#86cfa5\",\"#86cfa5\",\"#86cfa5\",\"#86cfa5\",\"#86cfa5\",\"#86cfa5\",\"#86cfa5\",\"#86cfa5\",\"#86cfa5\",\"#86cfa5\",\"#86cfa5\",\"#86cfa5\",\"#86cfa5\",\"#86cfa5\",\"#86cfa5\",\"#86cfa5\",\"#86cfa5\",\"#5e4fa2\",\"#5e4fa2\",\"#5e4fa2\",\"#5e4fa2\",\"#5e4fa2\",\"#5e4fa2\",\"#5e4fa2\",\"#5e4fa2\",\"#5e4fa2\",\"#5e4fa2\",\"#5e4fa2\",\"#5e4fa2\",\"#5e4fa2\",\"#5e4fa2\",\"#5e4fa2\",\"#5e4fa2\",\"#5e4fa2\",\"#5e4fa2\",\"#5e4fa2\",\"#5e4fa2\",\"#5e4fa2\",\"#5e4fa2\",\"#5e4fa2\",\"#5e4fa2\",\"#5e4fa2\",\"#5e4fa2\",\"#5e4fa2\",\"#5e4fa2\",\"#5e4fa2\",\"#5e4fa2\",\"#5e4fa2\",\"#5e4fa2\",\"#5e4fa2\",\"#5e4fa2\",\"#5e4fa2\",\"#5e4fa2\"],\"index\":[0,1,2,3,4,5,6,7,8,9,10,11,12,13,14,15,16,17,18,19,20,21,22,23,24,25,26,27,28,29,30,31,32,33,34,35,36,37,38,39,40,41,42,43,44,45,46,47,48,49,50,51,52,53,54,55,56,57,58,59,60,61,62,63,64,65,66,67,68,69,70,71,72,73,74,75,76,77,78,79,80,81,82,83,84,85,86,87,88,89,90,91,92,93,94,95,96,97,98,99,100,101,102,103,104,105,106,107,108,109,110,111,112,113,114,115,116,117,118,119,120,121,122,123,124,125,126,127,128,129,130,131,132],\"key\":[\"ivoj_0000\",\"ivoj_0001\",\"ivoj_0002\",\"ivoj_0003\",\"ivoj_0004\",\"ivoj_0005\",\"ivoj_0006\",\"nzen_0000\",\"nzen_0001\",\"nzen_0002\",\"nzen_0003\",\"nzen_0004\",\"nzen_0005\",\"nzen_0006\",\"nzen_0007\",\"nzen_0008\",\"nzen_0009\",\"nzen_0010\",\"nzen_0011\",\"nzen_0012\",\"nzen_0013\",\"nzen_0014\",\"nzen_0015\",\"nzen_0016\",\"xsup_0000\",\"xsup_0001\",\"xsup_0002\",\"xsup_0003\",\"xsup_0004\",\"xsup_0005\",\"xsup_0006\",\"xsup_0007\",\"xsup_0008\",\"xsup_0009\",\"xsup_0010\",\"xsup_0011\",\"xsup_0012\",\"xsup_0013\",\"xsup_0014\",\"xsup_0015\",\"xsup_0016\",\"xsup_0017\",\"xsup_0018\",\"xsup_0019\",\"xsup_0020\",\"xsup_0021\",\"xsup_0022\",\"xsup_0023\",\"xsup_0024\",\"xsup_0025\",\"xsup_0026\",\"xsup_0027\",\"xsup_0028\",\"xsup_0029\",\"xsup_0030\",\"xsup_0031\",\"xsup_0032\",\"xsup_0033\",\"xsup_0034\",\"xsup_0035\",\"xsup_0036\",\"xsup_0037\",\"xsup_0038\",\"gthh_0000\",\"gthh_0001\",\"gthh_0002\",\"gthh_0003\",\"gthh_0004\",\"gthh_0005\",\"gthh_0006\",\"gthh_0007\",\"gthh_0008\",\"gthh_0009\",\"gthh_0010\",\"gthh_0011\",\"gthh_0012\",\"gthh_0013\",\"gthh_0014\",\"gthh_0015\",\"gthh_0016\",\"gthh_0017\",\"gthh_0018\",\"gthh_0019\",\"gthh_0020\",\"gthh_0021\",\"gthh_0022\",\"gthh_0023\",\"gthh_0024\",\"gthh_0025\",\"gthh_0026\",\"gthh_0027\",\"gthh_0028\",\"gthh_0029\",\"gthh_0030\",\"gthh_0031\",\"gthh_0032\",\"gthh_0033\",\"ttog_0000\",\"ttog_0001\",\"ttog_0002\",\"ttog_0003\",\"ttog_0004\",\"ttog_0005\",\"ttog_0006\",\"ttog_0007\",\"ttog_0008\",\"ttog_0009\",\"ttog_0010\",\"ttog_0011\",\"ttog_0012\",\"ttog_0013\",\"ttog_0014\",\"ttog_0015\",\"ttog_0016\",\"ttog_0017\",\"ttog_0018\",\"ttog_0019\",\"ttog_0020\",\"ttog_0021\",\"ttog_0022\",\"ttog_0023\",\"ttog_0024\",\"ttog_0025\",\"ttog_0026\",\"ttog_0027\",\"ttog_0028\",\"ttog_0029\",\"ttog_0030\",\"ttog_0031\",\"ttog_0032\",\"ttog_0033\",\"ttog_0034\",\"ttog_0035\"],\"label\":[0,0,0,0,0,0,0,1,1,1,1,1,1,1,1,1,1,1,1,1,1,1,1,1,2,2,2,2,2,2,2,2,2,2,2,2,2,2,2,2,2,2,2,2,2,2,2,2,2,2,2,2,2,2,2,2,2,2,2,2,2,2,2,3,3,3,3,3,3,3,3,3,3,3,3,3,3,3,3,3,3,3,3,3,3,3,3,3,3,3,3,3,3,3,3,3,3,4,4,4,4,4,4,4,4,4,4,4,4,4,4,4,4,4,4,4,4,4,4,4,4,4,4,4,4,4,4,4,4,4,4,4,4],\"x\":{\"__ndarray__\":\"a4REwZGHQ8HIckPB7KtDwT7bQ8Eyn0TBYyJEwZhDUkH2vWBBTmdSQSu/V0HR6kxBVCNdQY2GUUFu3VBBCVZSQV56TkEtWlNBMfxRQQP3UEH4+lNBG25WQVFJU0HFL1FBEepfQVxWakHcL2NBNBdpQXBJjUGVtHBBW05qQYkTbUFiCWpBrgRpQYy3ZkFNy2JB2MltQfL5aUFQF2JBMZVnQQ+saUFEiGhB1B1uQWsFX0EwsGJBjBhhQe1EbUGTOGRBOGJjQZjmWEFu/1pB8INvQaVgZ0E/J2NBoWtmQQ7CdUGA92tBfYJxQT+iX0F3uExBLPJwQXHGYUF4wVNBmmB/QEZBpUD2NqFAjl+KQFpTlUAomFNBD1rsPjSKkUAY8IRAZnKMQCDChUAfLIhAy/aNQES4akBMlJNAnZNeQCUocUBRqpRADCyQQIlriUABEVdADEpjQW7Wa0AqnW1ASLiHQIwFb0DcEpBAKvJnQA4/l0BSEZ1AfPN0QFL1eEA1PVJAuL93QHv3CMEEadTA3zcIwVTnAsFe2A/B+Xl1wd6FlcCfTgfBb4HkwJPY8MD2/h3BieYGwRfnC8Ed+wbBvFwBwdIvF8E6XgvBojURwVlHDcHBIgTB1AMOwUBYAsEvURLBIloPwW6GysCdchDBH3wUwSWLDsHetQzBNgINwebiC8GQWgjBw2//wCZ8B8HBLAnBhrYIwQ==\",\"dtype\":\"float32\",\"order\":\"little\",\"shape\":[133]},\"y\":{\"__ndarray__\":\"uIIMQXuKC0FAfQtB2LELQf7XC0ENngxBeiAMQZcnnkAUavNALMGgQN7dpEC0TqNAN5OmQJTHmkC28Z9ANiChQCc4lEAABJpAE4KcQHmFnkAcEqBAvEOWQDZHm0AmM55A8goOQcnDG0HniARBycYOQVYrGkH8CiNB0qYIQSFhIkFhPxdBJtsfQf5jG0FTGhJBKJEeQbutIkFo+wlBnWsMQZC7CUG3BApBm4QmQYuHAUFtCP5AqorgQA7GHkGQ9RFB3eclQfdTC0Ex0PlARaIcQWeoGUE9ZBtBIfgVQQOII0Hf/xxBMlwTQYi4CkGSmKZASZ8fQanyCEEN9ZRA8H97QSNZiEF194lB0QiGQW+PiUHWJLRAhu9MQaHsiUFR8n9BL0ONQWiHjUGuGo1Bl52OQY1IgkEhT4RBxP6FQWvhiUFsE4tBSmaKQalmjEH5I31BY3OoQAkigEH31YdBCrWLQSephUFkhIFB9xiHQTd8jEHcrIpBmdR8QWawhUGjBoRBtMGMQasLk0CfJrBAyD6eQE+frkAoZpdAWU7XQAZx1UDMjodA4DRWQOvHsECrYaNANJqZQDcZnEAlqKFAJGezQCk3l0CcP59AneScQFEJlEC96JZAIFCZQO29OkCFrZFAuleZQBOUaUAGupdA5y2VQBsWmUCoBJRA756VQGvwn0AcoplAHl2kQESHi0CBv5dADkaaQA==\",\"dtype\":\"float32\",\"order\":\"little\",\"shape\":[133]}},\"selected\":{\"id\":\"1431\"},\"selection_policy\":{\"id\":\"1432\"}},\"id\":\"1350\",\"type\":\"ColumnDataSource\"},{\"attributes\":{},\"id\":\"1369\",\"type\":\"WheelZoomTool\"},{\"attributes\":{\"fill_alpha\":{\"value\":0.1},\"fill_color\":{\"field\":\"color\"},\"line_alpha\":{\"value\":0.1},\"line_color\":{\"field\":\"color\"},\"x\":{\"field\":\"x\"},\"y\":{\"field\":\"y\"}},\"id\":\"1386\",\"type\":\"Circle\"},{\"attributes\":{},\"id\":\"1372\",\"type\":\"ResetTool\"},{\"attributes\":{},\"id\":\"1361\",\"type\":\"BasicTicker\"},{\"attributes\":{\"fill_alpha\":{\"field\":\"alpha\"},\"fill_color\":{\"field\":\"color\"},\"line_alpha\":{\"field\":\"alpha\"},\"line_color\":{\"field\":\"color\"},\"x\":{\"field\":\"x\"},\"y\":{\"field\":\"y\"}},\"id\":\"1385\",\"type\":\"Circle\"},{\"attributes\":{\"axis\":{\"id\":\"1364\"},\"dimension\":1,\"ticker\":null,\"visible\":false},\"id\":\"1367\",\"type\":\"Grid\"},{\"attributes\":{\"bottom_units\":\"screen\",\"fill_alpha\":0.5,\"fill_color\":\"lightgrey\",\"left_units\":\"screen\",\"level\":\"overlay\",\"line_alpha\":1.0,\"line_color\":\"black\",\"line_dash\":[4,4],\"line_width\":2,\"right_units\":\"screen\",\"syncable\":false,\"top_units\":\"screen\"},\"id\":\"1374\",\"type\":\"BoxAnnotation\"},{\"attributes\":{},\"id\":\"1354\",\"type\":\"DataRange1d\"},{\"attributes\":{},\"id\":\"1352\",\"type\":\"DataRange1d\"},{\"attributes\":{},\"id\":\"1358\",\"type\":\"LinearScale\"},{\"attributes\":{},\"id\":\"1365\",\"type\":\"BasicTicker\"},{\"attributes\":{},\"id\":\"1368\",\"type\":\"PanTool\"}],\"root_ids\":[\"1351\"]},\"title\":\"Bokeh Application\",\"version\":\"2.3.2\"}};\n",
              "  var render_items = [{\"docid\":\"234bdb0f-3eed-4efe-9c30-5b6f56c22920\",\"root_ids\":[\"1351\"],\"roots\":{\"1351\":\"1112ded9-f0b0-4dbf-aec3-2c6effffc686\"}}];\n",
              "  root.Bokeh.embed.embed_items_notebook(docs_json, render_items);\n",
              "\n",
              "  }\n",
              "  if (root.Bokeh !== undefined) {\n",
              "    embed_document(root);\n",
              "  } else {\n",
              "    var attempts = 0;\n",
              "    var timer = setInterval(function(root) {\n",
              "      if (root.Bokeh !== undefined) {\n",
              "        clearInterval(timer);\n",
              "        embed_document(root);\n",
              "      } else {\n",
              "        attempts++;\n",
              "        if (attempts > 100) {\n",
              "          clearInterval(timer);\n",
              "          console.log(\"Bokeh: ERROR: Unable to run BokehJS code because BokehJS library is missing\");\n",
              "        }\n",
              "      }\n",
              "    }, 10, root)\n",
              "  }\n",
              "})(window);"
            ],
            "application/vnd.bokehjs_exec.v0+json": ""
          },
          "metadata": {
            "tags": [],
            "application/vnd.bokehjs_exec.v0+json": {
              "id": "1351"
            }
          }
        }
      ]
    },
    {
      "cell_type": "code",
      "metadata": {
        "id": "7vQf2-oWoiIk"
      },
      "source": [
        "import matplotlib.pyplot as plt\n",
        "import matplotlib.cm as cm"
      ],
      "execution_count": null,
      "outputs": []
    },
    {
      "cell_type": "code",
      "metadata": {
        "id": "DF0DlDOSoo8V"
      },
      "source": [
        "colors = cm.rainbow(np.linspace(0, 1, len(pd.unique(hover_data['Nest']))))"
      ],
      "execution_count": null,
      "outputs": []
    },
    {
      "cell_type": "code",
      "metadata": {
        "colab": {
          "base_uri": "https://localhost:8080/",
          "height": 725
        },
        "id": "tjqCl11uopWM",
        "outputId": "4c0ab06f-3a60-4816-8aaa-d0f60bf7abfa"
      },
      "source": [
        "fig = plt.figure(figsize=(12, 12))\n",
        "ax = fig.add_subplot()\n",
        "\n",
        "for i in range(0,len(pd.unique(hover_data['Nest']))):\n",
        "    # print(i)\n",
        "    label_index = (hover_data['Nest']== le.classes_[i]).values\n",
        "    ax.scatter(embedding.embedding_[label_index, 0], embedding.embedding_[label_index, 1], color=colors[i], s=30, linewidth=1.5)\n",
        "\n",
        "plt.legend(list(le.classes_), loc='best', fontsize='20')\n",
        "plt.title('UMAP of Hidden Layer of Unidirectional LSTM Classifier', fontsize='24')\n",
        "plt.show()"
      ],
      "execution_count": null,
      "outputs": [
        {
          "output_type": "display_data",
          "data": {
            "image/png": "[encoded data removed]",
            "text/plain": [
              "<Figure size 864x864 with 1 Axes>"
            ]
          },
          "metadata": {
            "tags": [],
            "needs_background": "light"
          }
        }
      ]
    },
    {
      "cell_type": "code",
      "metadata": {
        "colab": {
          "base_uri": "https://localhost:8080/"
        },
        "id": "bBh5e9TzQ5Jh",
        "outputId": "c2c62935-9c1f-47ca-f079-71cc5ea50e8d"
      },
      "source": [
        "conf_mat_lstm"
      ],
      "execution_count": null,
      "outputs": [
        {
          "output_type": "execute_result",
          "data": {
            "text/plain": [
              "array([[ 7,  0,  0,  0,  0],\n",
              "       [ 0, 17,  0,  0,  0],\n",
              "       [ 0, 13, 26,  0,  0],\n",
              "       [ 0, 20,  0, 14,  0],\n",
              "       [ 2,  0,  0,  0, 34]])"
            ]
          },
          "metadata": {
            "tags": []
          },
          "execution_count": 40
        }
      ]
    },
    {
      "cell_type": "code",
      "metadata": {
        "colab": {
          "base_uri": "https://localhost:8080/"
        },
        "id": "fEZzshGT5G1g",
        "outputId": "4470da8c-4af4-41b4-845c-c5fef2a4f008"
      },
      "source": [
        "colors"
      ],
      "execution_count": null,
      "outputs": [
        {
          "output_type": "execute_result",
          "data": {
            "text/plain": [
              "array([[5.00000000e-01, 0.00000000e+00, 1.00000000e+00, 1.00000000e+00],\n",
              "       [1.96078431e-03, 7.09281308e-01, 9.23289106e-01, 1.00000000e+00],\n",
              "       [5.03921569e-01, 9.99981027e-01, 7.04925547e-01, 1.00000000e+00],\n",
              "       [1.00000000e+00, 7.00543038e-01, 3.78411050e-01, 1.00000000e+00],\n",
              "       [1.00000000e+00, 1.22464680e-16, 6.12323400e-17, 1.00000000e+00]])"
            ]
          },
          "metadata": {
            "tags": []
          },
          "execution_count": 47
        }
      ]
    },
    {
      "cell_type": "code",
      "metadata": {
        "colab": {
          "base_uri": "https://localhost:8080/"
        },
        "id": "KbOCuTSNK0er",
        "outputId": "c52736b7-8c21-471a-b615-7457efd70666"
      },
      "source": [
        "model_bidir = torch.load('/content/gdrive/My Drive/ZFDataset/SavedModels/LSTM/Bidirectional/NHL1_1024_16_5_25_epochs_10_CV/Overall_Fold1_24_05_2021_18_08_Train_1.0_Val_1.0_Test_0.9474')\n",
        "# model_bidir = torch.load('/content/gdrive/My Drive/ZFDataset/SavedModels/LSTM/Bidirectional/NHL1_1024_16_5_25_epochs_10_CV/Overall_Fold2_24_05_2021_18_11_Train_1.0_Val_1.0_Test_0.9398')\n",
        "model_bidir.eval()"
      ],
      "execution_count": null,
      "outputs": [
        {
          "output_type": "execute_result",
          "data": {
            "text/plain": [
              "LSTM_fixed_len(\n",
              "  (lstm): LSTM(1024, 32, batch_first=True, bidirectional=True)\n",
              "  (linear): Linear(in_features=32, out_features=5, bias=True)\n",
              "  (dropout): Dropout(p=0.1, inplace=False)\n",
              ")"
            ]
          },
          "metadata": {
            "tags": []
          },
          "execution_count": 41
        }
      ]
    },
    {
      "cell_type": "code",
      "metadata": {
        "colab": {
          "base_uri": "https://localhost:8080/"
        },
        "id": "f0t69RpONXIq",
        "outputId": "ba09cd62-abe0-456a-d850-0aec0a156f5d"
      },
      "source": [
        "Hidden_layer_bidir =[]\n",
        "Hidden_layer_labels_bidir = []\n",
        "actual_label_bidir = []\n",
        "predicted_label_bidir = []\n",
        "\n",
        "for x, y, l in test_ds:\n",
        "  x = x.float()\n",
        "  x.resize_((1,x.shape[0],x.shape[1]))\n",
        "  lstm_out, (ht, ct) = model_bidir.lstm(x)\n",
        "  Hidden_layer_bidir.append(ht[-1].detach().numpy().reshape(32, ))\n",
        "  Hidden_layer_labels_bidir.append(y)\n",
        "\n",
        "  y = torch.tensor(y).long().resize_((1))\n",
        "  y_hat = model_bidir(x)\n",
        "  pred = torch.max(y_hat, 1)[1]\n",
        "  actual_label_bidir.extend(y.numpy())\n",
        "  predicted_label_bidir.extend(pred.numpy())\n",
        "conf_mat_lstm_bidir = confusion_matrix(actual_label_bidir, predicted_label_bidir)\n",
        "accuracy_score(actual_label_bidir, predicted_label_bidir)"
      ],
      "execution_count": null,
      "outputs": [
        {
          "output_type": "execute_result",
          "data": {
            "text/plain": [
              "0.849624060150376"
            ]
          },
          "metadata": {
            "tags": []
          },
          "execution_count": 42
        }
      ]
    },
    {
      "cell_type": "code",
      "metadata": {
        "id": "gCJFlZ3HPX5K"
      },
      "source": [
        "embedding_bidir = umap.UMAP(n_neighbors = 50, min_dist=0.05, random_state=2021, densmap=True).fit(Hidden_layer_bidir)"
      ],
      "execution_count": null,
      "outputs": []
    },
    {
      "cell_type": "code",
      "metadata": {
        "colab": {
          "base_uri": "https://localhost:8080/",
          "height": 817
        },
        "id": "KwBrY9z9PyAp",
        "outputId": "bd56f2f9-3fb9-4fe6-f072-06fde15198e5"
      },
      "source": [
        "import umap.plot\n",
        "umap.plot.output_notebook()\n",
        "\n",
        "p_bidir = umap.plot.interactive(embedding_bidir, labels=Hidden_layer_labels_bidir, hover_data=hover_data, point_size=4) #title ='Nest1')\n",
        "umap.plot.show(p_bidir)"
      ],
      "execution_count": null,
      "outputs": [
        {
          "output_type": "display_data",
          "data": {
            "application/javascript": [
              "\n",
              "(function(root) {\n",
              "  function now() {\n",
              "    return new Date();\n",
              "  }\n",
              "\n",
              "  var force = true;\n",
              "\n",
              "  if (typeof root._bokeh_onload_callbacks === \"undefined\" || force === true) {\n",
              "    root._bokeh_onload_callbacks = [];\n",
              "    root._bokeh_is_loading = undefined;\n",
              "  }\n",
              "\n",
              "  var JS_MIME_TYPE = 'application/javascript';\n",
              "  var HTML_MIME_TYPE = 'text/html';\n",
              "  var EXEC_MIME_TYPE = 'application/vnd.bokehjs_exec.v0+json';\n",
              "  var CLASS_NAME = 'output_bokeh rendered_html';\n",
              "\n",
              "  /**\n",
              "   * Render data to the DOM node\n",
              "   */\n",
              "  function render(props, node) {\n",
              "    var script = document.createElement(\"script\");\n",
              "    node.appendChild(script);\n",
              "  }\n",
              "\n",
              "  /**\n",
              "   * Handle when an output is cleared or removed\n",
              "   */\n",
              "  function handleClearOutput(event, handle) {\n",
              "    var cell = handle.cell;\n",
              "\n",
              "    var id = cell.output_area._bokeh_element_id;\n",
              "    var server_id = cell.output_area._bokeh_server_id;\n",
              "    // Clean up Bokeh references\n",
              "    if (id != null && id in Bokeh.index) {\n",
              "      Bokeh.index[id].model.document.clear();\n",
              "      delete Bokeh.index[id];\n",
              "    }\n",
              "\n",
              "    if (server_id !== undefined) {\n",
              "      // Clean up Bokeh references\n",
              "      var cmd = \"from bokeh.io.state import curstate; print(curstate().uuid_to_server['\" + server_id + \"'].get_sessions()[0].document.roots[0]._id)\";\n",
              "      cell.notebook.kernel.execute(cmd, {\n",
              "        iopub: {\n",
              "          output: function(msg) {\n",
              "            var id = msg.content.text.trim();\n",
              "            if (id in Bokeh.index) {\n",
              "              Bokeh.index[id].model.document.clear();\n",
              "              delete Bokeh.index[id];\n",
              "            }\n",
              "          }\n",
              "        }\n",
              "      });\n",
              "      // Destroy server and session\n",
              "      var cmd = \"import bokeh.io.notebook as ion; ion.destroy_server('\" + server_id + \"')\";\n",
              "      cell.notebook.kernel.execute(cmd);\n",
              "    }\n",
              "  }\n",
              "\n",
              "  /**\n",
              "   * Handle when a new output is added\n",
              "   */\n",
              "  function handleAddOutput(event, handle) {\n",
              "    var output_area = handle.output_area;\n",
              "    var output = handle.output;\n",
              "\n",
              "    // limit handleAddOutput to display_data with EXEC_MIME_TYPE content only\n",
              "    if ((output.output_type != \"display_data\") || (!Object.prototype.hasOwnProperty.call(output.data, EXEC_MIME_TYPE))) {\n",
              "      return\n",
              "    }\n",
              "\n",
              "    var toinsert = output_area.element.find(\".\" + CLASS_NAME.split(' ')[0]);\n",
              "\n",
              "    if (output.metadata[EXEC_MIME_TYPE][\"id\"] !== undefined) {\n",
              "      toinsert[toinsert.length - 1].firstChild.textContent = output.data[JS_MIME_TYPE];\n",
              "      // store reference to embed id on output_area\n",
              "      output_area._bokeh_element_id = output.metadata[EXEC_MIME_TYPE][\"id\"];\n",
              "    }\n",
              "    if (output.metadata[EXEC_MIME_TYPE][\"server_id\"] !== undefined) {\n",
              "      var bk_div = document.createElement(\"div\");\n",
              "      bk_div.innerHTML = output.data[HTML_MIME_TYPE];\n",
              "      var script_attrs = bk_div.children[0].attributes;\n",
              "      for (var i = 0; i < script_attrs.length; i++) {\n",
              "        toinsert[toinsert.length - 1].firstChild.setAttribute(script_attrs[i].name, script_attrs[i].value);\n",
              "        toinsert[toinsert.length - 1].firstChild.textContent = bk_div.children[0].textContent\n",
              "      }\n",
              "      // store reference to server id on output_area\n",
              "      output_area._bokeh_server_id = output.metadata[EXEC_MIME_TYPE][\"server_id\"];\n",
              "    }\n",
              "  }\n",
              "\n",
              "  function register_renderer(events, OutputArea) {\n",
              "\n",
              "    function append_mime(data, metadata, element) {\n",
              "      // create a DOM node to render to\n",
              "      var toinsert = this.create_output_subarea(\n",
              "        metadata,\n",
              "        CLASS_NAME,\n",
              "        EXEC_MIME_TYPE\n",
              "      );\n",
              "      this.keyboard_manager.register_events(toinsert);\n",
              "      // Render to node\n",
              "      var props = {data: data, metadata: metadata[EXEC_MIME_TYPE]};\n",
              "      render(props, toinsert[toinsert.length - 1]);\n",
              "      element.append(toinsert);\n",
              "      return toinsert\n",
              "    }\n",
              "\n",
              "    /* Handle when an output is cleared or removed */\n",
              "    events.on('clear_output.CodeCell', handleClearOutput);\n",
              "    events.on('delete.Cell', handleClearOutput);\n",
              "\n",
              "    /* Handle when a new output is added */\n",
              "    events.on('output_added.OutputArea', handleAddOutput);\n",
              "\n",
              "    /**\n",
              "     * Register the mime type and append_mime function with output_area\n",
              "     */\n",
              "    OutputArea.prototype.register_mime_type(EXEC_MIME_TYPE, append_mime, {\n",
              "      /* Is output safe? */\n",
              "      safe: true,\n",
              "      /* Index of renderer in `output_area.display_order` */\n",
              "      index: 0\n",
              "    });\n",
              "  }\n",
              "\n",
              "  // register the mime type if in Jupyter Notebook environment and previously unregistered\n",
              "  if (root.Jupyter !== undefined) {\n",
              "    var events = require('base/js/events');\n",
              "    var OutputArea = require('notebook/js/outputarea').OutputArea;\n",
              "\n",
              "    if (OutputArea.prototype.mime_types().indexOf(EXEC_MIME_TYPE) == -1) {\n",
              "      register_renderer(events, OutputArea);\n",
              "    }\n",
              "  }\n",
              "\n",
              "  \n",
              "  if (typeof (root._bokeh_timeout) === \"undefined\" || force === true) {\n",
              "    root._bokeh_timeout = Date.now() + 5000;\n",
              "    root._bokeh_failed_load = false;\n",
              "  }\n",
              "\n",
              "  var NB_LOAD_WARNING = {'data': {'text/html':\n",
              "     \"<div style='background-color: #fdd'>\\n\"+\n",
              "     \"<p>\\n\"+\n",
              "     \"BokehJS does not appear to have successfully loaded. If loading BokehJS from CDN, this \\n\"+\n",
              "     \"may be due to a slow or bad network connection. Possible fixes:\\n\"+\n",
              "     \"</p>\\n\"+\n",
              "     \"<ul>\\n\"+\n",
              "     \"<li>re-rerun `output_notebook()` to attempt to load from CDN again, or</li>\\n\"+\n",
              "     \"<li>use INLINE resources instead, as so:</li>\\n\"+\n",
              "     \"</ul>\\n\"+\n",
              "     \"<code>\\n\"+\n",
              "     \"from bokeh.resources import INLINE\\n\"+\n",
              "     \"output_notebook(resources=INLINE)\\n\"+\n",
              "     \"</code>\\n\"+\n",
              "     \"</div>\"}};\n",
              "\n",
              "  function display_loaded() {\n",
              "    var el = document.getElementById(null);\n",
              "    if (el != null) {\n",
              "      el.textContent = \"BokehJS is loading...\";\n",
              "    }\n",
              "    if (root.Bokeh !== undefined) {\n",
              "      if (el != null) {\n",
              "        el.textContent = \"BokehJS \" + root.Bokeh.version + \" successfully loaded.\";\n",
              "      }\n",
              "    } else if (Date.now() < root._bokeh_timeout) {\n",
              "      setTimeout(display_loaded, 100)\n",
              "    }\n",
              "  }\n",
              "\n",
              "\n",
              "  function run_callbacks() {\n",
              "    try {\n",
              "      root._bokeh_onload_callbacks.forEach(function(callback) {\n",
              "        if (callback != null)\n",
              "          callback();\n",
              "      });\n",
              "    } finally {\n",
              "      delete root._bokeh_onload_callbacks\n",
              "    }\n",
              "    console.debug(\"Bokeh: all callbacks have finished\");\n",
              "  }\n",
              "\n",
              "  function load_libs(css_urls, js_urls, callback) {\n",
              "    if (css_urls == null) css_urls = [];\n",
              "    if (js_urls == null) js_urls = [];\n",
              "\n",
              "    root._bokeh_onload_callbacks.push(callback);\n",
              "    if (root._bokeh_is_loading > 0) {\n",
              "      console.debug(\"Bokeh: BokehJS is being loaded, scheduling callback at\", now());\n",
              "      return null;\n",
              "    }\n",
              "    if (js_urls == null || js_urls.length === 0) {\n",
              "      run_callbacks();\n",
              "      return null;\n",
              "    }\n",
              "    console.debug(\"Bokeh: BokehJS not loaded, scheduling load and callback at\", now());\n",
              "    root._bokeh_is_loading = css_urls.length + js_urls.length;\n",
              "\n",
              "    function on_load() {\n",
              "      root._bokeh_is_loading--;\n",
              "      if (root._bokeh_is_loading === 0) {\n",
              "        console.debug(\"Bokeh: all BokehJS libraries/stylesheets loaded\");\n",
              "        run_callbacks()\n",
              "      }\n",
              "    }\n",
              "\n",
              "    function on_error(url) {\n",
              "      console.error(\"failed to load \" + url);\n",
              "    }\n",
              "\n",
              "    for (let i = 0; i < css_urls.length; i++) {\n",
              "      const url = css_urls[i];\n",
              "      const element = document.createElement(\"link\");\n",
              "      element.onload = on_load;\n",
              "      element.onerror = on_error.bind(null, url);\n",
              "      element.rel = \"stylesheet\";\n",
              "      element.type = \"text/css\";\n",
              "      element.href = url;\n",
              "      console.debug(\"Bokeh: injecting link tag for BokehJS stylesheet: \", url);\n",
              "      document.body.appendChild(element);\n",
              "    }\n",
              "\n",
              "    const hashes = {\"https://cdn.bokeh.org/bokeh/release/bokeh-2.3.2.min.js\": \"XypntL49z55iwGVUW4qsEu83zKL3XEcz0MjuGOQ9SlaaQ68X/g+k1FcioZi7oQAc\", \"https://cdn.bokeh.org/bokeh/release/bokeh-tables-2.3.2.min.js\": \"bEsM86IHGDTLCS0Zod8a8WM6Y4+lafAL/eSiyQcuPzinmWNgNO2/olUF0Z2Dkn5i\", \"https://cdn.bokeh.org/bokeh/release/bokeh-widgets-2.3.2.min.js\": \"TX0gSQTdXTTeScqxj6PVQxTiRW8DOoGVwinyi1D3kxv7wuxQ02XkOxv0xwiypcAH\"};\n",
              "\n",
              "    for (let i = 0; i < js_urls.length; i++) {\n",
              "      const url = js_urls[i];\n",
              "      const element = document.createElement('script');\n",
              "      element.onload = on_load;\n",
              "      element.onerror = on_error.bind(null, url);\n",
              "      element.async = false;\n",
              "      element.src = url;\n",
              "      if (url in hashes) {\n",
              "        element.crossOrigin = \"anonymous\";\n",
              "        element.integrity = \"sha384-\" + hashes[url];\n",
              "      }\n",
              "      console.debug(\"Bokeh: injecting script tag for BokehJS library: \", url);\n",
              "      document.head.appendChild(element);\n",
              "    }\n",
              "  };\n",
              "\n",
              "  function inject_raw_css(css) {\n",
              "    const element = document.createElement(\"style\");\n",
              "    element.appendChild(document.createTextNode(css));\n",
              "    document.body.appendChild(element);\n",
              "  }\n",
              "\n",
              "  \n",
              "  var js_urls = [\"https://unpkg.com/tabulator-tables@4.9.3/dist/js/tabulator.js\", \"https://unpkg.com/moment@2.27.0/moment.js\", \"https://cdn.bokeh.org/bokeh/release/bokeh-2.3.2.min.js\", \"https://cdn.bokeh.org/bokeh/release/bokeh-widgets-2.3.2.min.js\", \"https://cdn.bokeh.org/bokeh/release/bokeh-tables-2.3.2.min.js\", \"https://unpkg.com/@holoviz/panel@^0.11.3/dist/panel.min.js\"];\n",
              "  var css_urls = [\"https://unpkg.com/tabulator-tables@4.9.3/dist/css/tabulator_simple.min.css\"];\n",
              "  \n",
              "\n",
              "  var inline_js = [\n",
              "    function(Bokeh) {\n",
              "      Bokeh.set_log_level(\"info\");\n",
              "    },\n",
              "    function(Bokeh) {\n",
              "    \n",
              "    \n",
              "    }\n",
              "  ];\n",
              "\n",
              "  function run_inline_js() {\n",
              "    \n",
              "    if (root.Bokeh !== undefined || force === true) {\n",
              "      \n",
              "    for (var i = 0; i < inline_js.length; i++) {\n",
              "      inline_js[i].call(root, root.Bokeh);\n",
              "    }\n",
              "    } else if (Date.now() < root._bokeh_timeout) {\n",
              "      setTimeout(run_inline_js, 100);\n",
              "    } else if (!root._bokeh_failed_load) {\n",
              "      console.log(\"Bokeh: BokehJS failed to load within specified timeout.\");\n",
              "      root._bokeh_failed_load = true;\n",
              "    } else if (force !== true) {\n",
              "      var cell = $(document.getElementById(null)).parents('.cell').data().cell;\n",
              "      cell.output_area.append_execute_result(NB_LOAD_WARNING)\n",
              "    }\n",
              "\n",
              "  }\n",
              "\n",
              "  if (root._bokeh_is_loading === 0) {\n",
              "    console.debug(\"Bokeh: BokehJS loaded, going straight to plotting\");\n",
              "    run_inline_js();\n",
              "  } else {\n",
              "    load_libs(css_urls, js_urls, function() {\n",
              "      console.debug(\"Bokeh: BokehJS plotting callback run at\", now());\n",
              "      run_inline_js();\n",
              "    });\n",
              "  }\n",
              "}(window));"
            ],
            "application/vnd.bokehjs_load.v0+json": "\n(function(root) {\n  function now() {\n    return new Date();\n  }\n\n  var force = true;\n\n  if (typeof root._bokeh_onload_callbacks === \"undefined\" || force === true) {\n    root._bokeh_onload_callbacks = [];\n    root._bokeh_is_loading = undefined;\n  }\n\n  \n\n  \n  if (typeof (root._bokeh_timeout) === \"undefined\" || force === true) {\n    root._bokeh_timeout = Date.now() + 5000;\n    root._bokeh_failed_load = false;\n  }\n\n  var NB_LOAD_WARNING = {'data': {'text/html':\n     \"<div style='background-color: #fdd'>\\n\"+\n     \"<p>\\n\"+\n     \"BokehJS does not appear to have successfully loaded. If loading BokehJS from CDN, this \\n\"+\n     \"may be due to a slow or bad network connection. Possible fixes:\\n\"+\n     \"</p>\\n\"+\n     \"<ul>\\n\"+\n     \"<li>re-rerun `output_notebook()` to attempt to load from CDN again, or</li>\\n\"+\n     \"<li>use INLINE resources instead, as so:</li>\\n\"+\n     \"</ul>\\n\"+\n     \"<code>\\n\"+\n     \"from bokeh.resources import INLINE\\n\"+\n     \"output_notebook(resources=INLINE)\\n\"+\n     \"</code>\\n\"+\n     \"</div>\"}};\n\n  function display_loaded() {\n    var el = document.getElementById(null);\n    if (el != null) {\n      el.textContent = \"BokehJS is loading...\";\n    }\n    if (root.Bokeh !== undefined) {\n      if (el != null) {\n        el.textContent = \"BokehJS \" + root.Bokeh.version + \" successfully loaded.\";\n      }\n    } else if (Date.now() < root._bokeh_timeout) {\n      setTimeout(display_loaded, 100)\n    }\n  }\n\n\n  function run_callbacks() {\n    try {\n      root._bokeh_onload_callbacks.forEach(function(callback) {\n        if (callback != null)\n          callback();\n      });\n    } finally {\n      delete root._bokeh_onload_callbacks\n    }\n    console.debug(\"Bokeh: all callbacks have finished\");\n  }\n\n  function load_libs(css_urls, js_urls, callback) {\n    if (css_urls == null) css_urls = [];\n    if (js_urls == null) js_urls = [];\n\n    root._bokeh_onload_callbacks.push(callback);\n    if (root._bokeh_is_loading > 0) {\n      console.debug(\"Bokeh: BokehJS is being loaded, scheduling callback at\", now());\n      return null;\n    }\n    if (js_urls == null || js_urls.length === 0) {\n      run_callbacks();\n      return null;\n    }\n    console.debug(\"Bokeh: BokehJS not loaded, scheduling load and callback at\", now());\n    root._bokeh_is_loading = css_urls.length + js_urls.length;\n\n    function on_load() {\n      root._bokeh_is_loading--;\n      if (root._bokeh_is_loading === 0) {\n        console.debug(\"Bokeh: all BokehJS libraries/stylesheets loaded\");\n        run_callbacks()\n      }\n    }\n\n    function on_error(url) {\n      console.error(\"failed to load \" + url);\n    }\n\n    for (let i = 0; i < css_urls.length; i++) {\n      const url = css_urls[i];\n      const element = document.createElement(\"link\");\n      element.onload = on_load;\n      element.onerror = on_error.bind(null, url);\n      element.rel = \"stylesheet\";\n      element.type = \"text/css\";\n      element.href = url;\n      console.debug(\"Bokeh: injecting link tag for BokehJS stylesheet: \", url);\n      document.body.appendChild(element);\n    }\n\n    const hashes = {\"https://cdn.bokeh.org/bokeh/release/bokeh-2.3.2.min.js\": \"XypntL49z55iwGVUW4qsEu83zKL3XEcz0MjuGOQ9SlaaQ68X/g+k1FcioZi7oQAc\", \"https://cdn.bokeh.org/bokeh/release/bokeh-tables-2.3.2.min.js\": \"bEsM86IHGDTLCS0Zod8a8WM6Y4+lafAL/eSiyQcuPzinmWNgNO2/olUF0Z2Dkn5i\", \"https://cdn.bokeh.org/bokeh/release/bokeh-widgets-2.3.2.min.js\": \"TX0gSQTdXTTeScqxj6PVQxTiRW8DOoGVwinyi1D3kxv7wuxQ02XkOxv0xwiypcAH\"};\n\n    for (let i = 0; i < js_urls.length; i++) {\n      const url = js_urls[i];\n      const element = document.createElement('script');\n      element.onload = on_load;\n      element.onerror = on_error.bind(null, url);\n      element.async = false;\n      element.src = url;\n      if (url in hashes) {\n        element.crossOrigin = \"anonymous\";\n        element.integrity = \"sha384-\" + hashes[url];\n      }\n      console.debug(\"Bokeh: injecting script tag for BokehJS library: \", url);\n      document.head.appendChild(element);\n    }\n  };\n\n  function inject_raw_css(css) {\n    const element = document.createElement(\"style\");\n    element.appendChild(document.createTextNode(css));\n    document.body.appendChild(element);\n  }\n\n  \n  var js_urls = [\"https://unpkg.com/tabulator-tables@4.9.3/dist/js/tabulator.js\", \"https://unpkg.com/moment@2.27.0/moment.js\", \"https://cdn.bokeh.org/bokeh/release/bokeh-2.3.2.min.js\", \"https://cdn.bokeh.org/bokeh/release/bokeh-widgets-2.3.2.min.js\", \"https://cdn.bokeh.org/bokeh/release/bokeh-tables-2.3.2.min.js\", \"https://unpkg.com/@holoviz/panel@^0.11.3/dist/panel.min.js\"];\n  var css_urls = [\"https://unpkg.com/tabulator-tables@4.9.3/dist/css/tabulator_simple.min.css\"];\n  \n\n  var inline_js = [\n    function(Bokeh) {\n      Bokeh.set_log_level(\"info\");\n    },\n    function(Bokeh) {\n    \n    \n    }\n  ];\n\n  function run_inline_js() {\n    \n    if (root.Bokeh !== undefined || force === true) {\n      \n    for (var i = 0; i < inline_js.length; i++) {\n      inline_js[i].call(root, root.Bokeh);\n    }\n    } else if (Date.now() < root._bokeh_timeout) {\n      setTimeout(run_inline_js, 100);\n    } else if (!root._bokeh_failed_load) {\n      console.log(\"Bokeh: BokehJS failed to load within specified timeout.\");\n      root._bokeh_failed_load = true;\n    } else if (force !== true) {\n      var cell = $(document.getElementById(null)).parents('.cell').data().cell;\n      cell.output_area.append_execute_result(NB_LOAD_WARNING)\n    }\n\n  }\n\n  if (root._bokeh_is_loading === 0) {\n    console.debug(\"Bokeh: BokehJS loaded, going straight to plotting\");\n    run_inline_js();\n  } else {\n    load_libs(css_urls, js_urls, function() {\n      console.debug(\"Bokeh: BokehJS plotting callback run at\", now());\n      run_inline_js();\n    });\n  }\n}(window));"
          },
          "metadata": {
            "tags": []
          }
        },
        {
          "output_type": "display_data",
          "data": {
            "text/html": [
              "\n",
              "\n",
              "\n",
              "\n",
              "\n",
              "\n",
              "  <div class=\"bk-root\" id=\"f9a3b272-3365-4c54-ab0f-ff1f02b4fa2d\" data-root-id=\"1224\"></div>\n"
            ]
          },
          "metadata": {
            "tags": []
          }
        },
        {
          "output_type": "display_data",
          "data": {
            "application/javascript": [
              "(function(root) {\n",
              "  function embed_document(root) {\n",
              "    \n",
              "  var docs_json = {\"3ce7831d-253a-419e-8a1d-206c3377de2b\":{\"defs\":[],\"roots\":{\"references\":[{\"attributes\":{\"background_fill_color\":\"white\",\"below\":[{\"id\":\"1233\"}],\"center\":[{\"id\":\"1236\"},{\"id\":\"1240\"}],\"height\":800,\"left\":[{\"id\":\"1237\"}],\"renderers\":[{\"id\":\"1260\"}],\"title\":{\"id\":\"1285\"},\"toolbar\":{\"id\":\"1249\"},\"width\":800,\"x_range\":{\"id\":\"1225\"},\"x_scale\":{\"id\":\"1229\"},\"y_range\":{\"id\":\"1227\"},\"y_scale\":{\"id\":\"1231\"}},\"id\":\"1224\",\"subtype\":\"Figure\",\"type\":\"Plot\"},{\"attributes\":{},\"id\":\"1245\",\"type\":\"ResetTool\"},{\"attributes\":{\"callback\":null,\"tooltips\":[[\"Nest\",\"@{Nest}\"],[\"key\",\"@{key}\"]]},\"id\":\"1248\",\"type\":\"HoverTool\"},{\"attributes\":{\"formatter\":{\"id\":\"1291\"},\"major_label_policy\":{\"id\":\"1289\"},\"ticker\":{\"id\":\"1234\"},\"visible\":false},\"id\":\"1233\",\"type\":\"LinearAxis\"},{\"attributes\":{},\"id\":\"1231\",\"type\":\"LinearScale\"},{\"attributes\":{\"source\":{\"id\":\"1223\"}},\"id\":\"1261\",\"type\":\"CDSView\"},{\"attributes\":{},\"id\":\"1294\",\"type\":\"UnionRenderers\"},{\"attributes\":{},\"id\":\"1238\",\"type\":\"BasicTicker\"},{\"attributes\":{},\"id\":\"1246\",\"type\":\"HelpTool\"},{\"attributes\":{\"fill_alpha\":{\"value\":0.1},\"fill_color\":{\"field\":\"color\"},\"line_alpha\":{\"value\":0.1},\"line_color\":{\"field\":\"color\"},\"x\":{\"field\":\"x\"},\"y\":{\"field\":\"y\"}},\"id\":\"1259\",\"type\":\"Circle\"},{\"attributes\":{},\"id\":\"1293\",\"type\":\"Selection\"},{\"attributes\":{},\"id\":\"1227\",\"type\":\"DataRange1d\"},{\"attributes\":{},\"id\":\"1286\",\"type\":\"AllLabels\"},{\"attributes\":{\"formatter\":{\"id\":\"1288\"},\"major_label_policy\":{\"id\":\"1286\"},\"ticker\":{\"id\":\"1238\"},\"visible\":false},\"id\":\"1237\",\"type\":\"LinearAxis\"},{\"attributes\":{\"axis\":{\"id\":\"1237\"},\"dimension\":1,\"ticker\":null,\"visible\":false},\"id\":\"1240\",\"type\":\"Grid\"},{\"attributes\":{},\"id\":\"1241\",\"type\":\"PanTool\"},{\"attributes\":{},\"id\":\"1225\",\"type\":\"DataRange1d\"},{\"attributes\":{\"bottom_units\":\"screen\",\"fill_alpha\":0.5,\"fill_color\":\"lightgrey\",\"left_units\":\"screen\",\"level\":\"overlay\",\"line_alpha\":1.0,\"line_color\":\"black\",\"line_dash\":[4,4],\"line_width\":2,\"right_units\":\"screen\",\"syncable\":false,\"top_units\":\"screen\"},\"id\":\"1247\",\"type\":\"BoxAnnotation\"},{\"attributes\":{\"active_multi\":null,\"tools\":[{\"id\":\"1241\"},{\"id\":\"1242\"},{\"id\":\"1243\"},{\"id\":\"1244\"},{\"id\":\"1245\"},{\"id\":\"1246\"},{\"id\":\"1248\"}]},\"id\":\"1249\",\"type\":\"Toolbar\"},{\"attributes\":{\"axis\":{\"id\":\"1233\"},\"ticker\":null,\"visible\":false},\"id\":\"1236\",\"type\":\"Grid\"},{\"attributes\":{},\"id\":\"1242\",\"type\":\"WheelZoomTool\"},{\"attributes\":{},\"id\":\"1285\",\"type\":\"Title\"},{\"attributes\":{},\"id\":\"1244\",\"type\":\"SaveTool\"},{\"attributes\":{},\"id\":\"1234\",\"type\":\"BasicTicker\"},{\"attributes\":{\"data_source\":{\"id\":\"1223\"},\"glyph\":{\"id\":\"1258\"},\"hover_glyph\":null,\"muted_glyph\":null,\"nonselection_glyph\":{\"id\":\"1259\"},\"view\":{\"id\":\"1261\"}},\"id\":\"1260\",\"type\":\"GlyphRenderer\"},{\"attributes\":{},\"id\":\"1289\",\"type\":\"AllLabels\"},{\"attributes\":{},\"id\":\"1288\",\"type\":\"BasicTickFormatter\"},{\"attributes\":{\"data\":{\"Nest\":[\"Nest1\",\"Nest1\",\"Nest1\",\"Nest1\",\"Nest1\",\"Nest1\",\"Nest1\",\"Nest2\",\"Nest2\",\"Nest2\",\"Nest2\",\"Nest2\",\"Nest2\",\"Nest2\",\"Nest2\",\"Nest2\",\"Nest2\",\"Nest2\",\"Nest2\",\"Nest2\",\"Nest2\",\"Nest2\",\"Nest2\",\"Nest2\",\"Nest3\",\"Nest3\",\"Nest3\",\"Nest3\",\"Nest3\",\"Nest3\",\"Nest3\",\"Nest3\",\"Nest3\",\"Nest3\",\"Nest3\",\"Nest3\",\"Nest3\",\"Nest3\",\"Nest3\",\"Nest3\",\"Nest3\",\"Nest3\",\"Nest3\",\"Nest3\",\"Nest3\",\"Nest3\",\"Nest3\",\"Nest3\",\"Nest3\",\"Nest3\",\"Nest3\",\"Nest3\",\"Nest3\",\"Nest3\",\"Nest3\",\"Nest3\",\"Nest3\",\"Nest3\",\"Nest3\",\"Nest3\",\"Nest3\",\"Nest3\",\"Nest3\",\"Nest4\",\"Nest4\",\"Nest4\",\"Nest4\",\"Nest4\",\"Nest4\",\"Nest4\",\"Nest4\",\"Nest4\",\"Nest4\",\"Nest4\",\"Nest4\",\"Nest4\",\"Nest4\",\"Nest4\",\"Nest4\",\"Nest4\",\"Nest4\",\"Nest4\",\"Nest4\",\"Nest4\",\"Nest4\",\"Nest4\",\"Nest4\",\"Nest4\",\"Nest4\",\"Nest4\",\"Nest4\",\"Nest4\",\"Nest4\",\"Nest4\",\"Nest4\",\"Nest4\",\"Nest4\",\"Nest5\",\"Nest5\",\"Nest5\",\"Nest5\",\"Nest5\",\"Nest5\",\"Nest5\",\"Nest5\",\"Nest5\",\"Nest5\",\"Nest5\",\"Nest5\",\"Nest5\",\"Nest5\",\"Nest5\",\"Nest5\",\"Nest5\",\"Nest5\",\"Nest5\",\"Nest5\",\"Nest5\",\"Nest5\",\"Nest5\",\"Nest5\",\"Nest5\",\"Nest5\",\"Nest5\",\"Nest5\",\"Nest5\",\"Nest5\",\"Nest5\",\"Nest5\",\"Nest5\",\"Nest5\",\"Nest5\",\"Nest5\"],\"alpha\":[1,1,1,1,1,1,1,1,1,1,1,1,1,1,1,1,1,1,1,1,1,1,1,1,1,1,1,1,1,1,1,1,1,1,1,1,1,1,1,1,1,1,1,1,1,1,1,1,1,1,1,1,1,1,1,1,1,1,1,1,1,1,1,1,1,1,1,1,1,1,1,1,1,1,1,1,1,1,1,1,1,1,1,1,1,1,1,1,1,1,1,1,1,1,1,1,1,1,1,1,1,1,1,1,1,1,1,1,1,1,1,1,1,1,1,1,1,1,1,1,1,1,1,1,1,1,1,1,1,1,1,1,1],\"color\":[\"#9e0142\",\"#9e0142\",\"#9e0142\",\"#9e0142\",\"#9e0142\",\"#9e0142\",\"#9e0142\",\"#f98e52\",\"#f98e52\",\"#f98e52\",\"#f98e52\",\"#f98e52\",\"#f98e52\",\"#f98e52\",\"#f98e52\",\"#f98e52\",\"#f98e52\",\"#f98e52\",\"#f98e52\",\"#f98e52\",\"#f98e52\",\"#f98e52\",\"#f98e52\",\"#f98e52\",\"#ffffbe\",\"#ffffbe\",\"#ffffbe\",\"#ffffbe\",\"#ffffbe\",\"#ffffbe\",\"#ffffbe\",\"#ffffbe\",\"#ffffbe\",\"#ffffbe\",\"#ffffbe\",\"#ffffbe\",\"#ffffbe\",\"#ffffbe\",\"#ffffbe\",\"#ffffbe\",\"#ffffbe\",\"#ffffbe\",\"#ffffbe\",\"#ffffbe\",\"#ffffbe\",\"#ffffbe\",\"#ffffbe\",\"#ffffbe\",\"#ffffbe\",\"#ffffbe\",\"#ffffbe\",\"#ffffbe\",\"#ffffbe\",\"#ffffbe\",\"#ffffbe\",\"#ffffbe\",\"#ffffbe\",\"#ffffbe\",\"#ffffbe\",\"#ffffbe\",\"#ffffbe\",\"#ffffbe\",\"#ffffbe\",\"#86cfa5\",\"#86cfa5\",\"#86cfa5\",\"#86cfa5\",\"#86cfa5\",\"#86cfa5\",\"#86cfa5\",\"#86cfa5\",\"#86cfa5\",\"#86cfa5\",\"#86cfa5\",\"#86cfa5\",\"#86cfa5\",\"#86cfa5\",\"#86cfa5\",\"#86cfa5\",\"#86cfa5\",\"#86cfa5\",\"#86cfa5\",\"#86cfa5\",\"#86cfa5\",\"#86cfa5\",\"#86cfa5\",\"#86cfa5\",\"#86cfa5\",\"#86cfa5\",\"#86cfa5\",\"#86cfa5\",\"#86cfa5\",\"#86cfa5\",\"#86cfa5\",\"#86cfa5\",\"#86cfa5\",\"#86cfa5\",\"#5e4fa2\",\"#5e4fa2\",\"#5e4fa2\",\"#5e4fa2\",\"#5e4fa2\",\"#5e4fa2\",\"#5e4fa2\",\"#5e4fa2\",\"#5e4fa2\",\"#5e4fa2\",\"#5e4fa2\",\"#5e4fa2\",\"#5e4fa2\",\"#5e4fa2\",\"#5e4fa2\",\"#5e4fa2\",\"#5e4fa2\",\"#5e4fa2\",\"#5e4fa2\",\"#5e4fa2\",\"#5e4fa2\",\"#5e4fa2\",\"#5e4fa2\",\"#5e4fa2\",\"#5e4fa2\",\"#5e4fa2\",\"#5e4fa2\",\"#5e4fa2\",\"#5e4fa2\",\"#5e4fa2\",\"#5e4fa2\",\"#5e4fa2\",\"#5e4fa2\",\"#5e4fa2\",\"#5e4fa2\",\"#5e4fa2\"],\"index\":[0,1,2,3,4,5,6,7,8,9,10,11,12,13,14,15,16,17,18,19,20,21,22,23,24,25,26,27,28,29,30,31,32,33,34,35,36,37,38,39,40,41,42,43,44,45,46,47,48,49,50,51,52,53,54,55,56,57,58,59,60,61,62,63,64,65,66,67,68,69,70,71,72,73,74,75,76,77,78,79,80,81,82,83,84,85,86,87,88,89,90,91,92,93,94,95,96,97,98,99,100,101,102,103,104,105,106,107,108,109,110,111,112,113,114,115,116,117,118,119,120,121,122,123,124,125,126,127,128,129,130,131,132],\"key\":[\"ivoj_0000\",\"ivoj_0001\",\"ivoj_0002\",\"ivoj_0003\",\"ivoj_0004\",\"ivoj_0005\",\"ivoj_0006\",\"nzen_0000\",\"nzen_0001\",\"nzen_0002\",\"nzen_0003\",\"nzen_0004\",\"nzen_0005\",\"nzen_0006\",\"nzen_0007\",\"nzen_0008\",\"nzen_0009\",\"nzen_0010\",\"nzen_0011\",\"nzen_0012\",\"nzen_0013\",\"nzen_0014\",\"nzen_0015\",\"nzen_0016\",\"xsup_0000\",\"xsup_0001\",\"xsup_0002\",\"xsup_0003\",\"xsup_0004\",\"xsup_0005\",\"xsup_0006\",\"xsup_0007\",\"xsup_0008\",\"xsup_0009\",\"xsup_0010\",\"xsup_0011\",\"xsup_0012\",\"xsup_0013\",\"xsup_0014\",\"xsup_0015\",\"xsup_0016\",\"xsup_0017\",\"xsup_0018\",\"xsup_0019\",\"xsup_0020\",\"xsup_0021\",\"xsup_0022\",\"xsup_0023\",\"xsup_0024\",\"xsup_0025\",\"xsup_0026\",\"xsup_0027\",\"xsup_0028\",\"xsup_0029\",\"xsup_0030\",\"xsup_0031\",\"xsup_0032\",\"xsup_0033\",\"xsup_0034\",\"xsup_0035\",\"xsup_0036\",\"xsup_0037\",\"xsup_0038\",\"gthh_0000\",\"gthh_0001\",\"gthh_0002\",\"gthh_0003\",\"gthh_0004\",\"gthh_0005\",\"gthh_0006\",\"gthh_0007\",\"gthh_0008\",\"gthh_0009\",\"gthh_0010\",\"gthh_0011\",\"gthh_0012\",\"gthh_0013\",\"gthh_0014\",\"gthh_0015\",\"gthh_0016\",\"gthh_0017\",\"gthh_0018\",\"gthh_0019\",\"gthh_0020\",\"gthh_0021\",\"gthh_0022\",\"gthh_0023\",\"gthh_0024\",\"gthh_0025\",\"gthh_0026\",\"gthh_0027\",\"gthh_0028\",\"gthh_0029\",\"gthh_0030\",\"gthh_0031\",\"gthh_0032\",\"gthh_0033\",\"ttog_0000\",\"ttog_0001\",\"ttog_0002\",\"ttog_0003\",\"ttog_0004\",\"ttog_0005\",\"ttog_0006\",\"ttog_0007\",\"ttog_0008\",\"ttog_0009\",\"ttog_0010\",\"ttog_0011\",\"ttog_0012\",\"ttog_0013\",\"ttog_0014\",\"ttog_0015\",\"ttog_0016\",\"ttog_0017\",\"ttog_0018\",\"ttog_0019\",\"ttog_0020\",\"ttog_0021\",\"ttog_0022\",\"ttog_0023\",\"ttog_0024\",\"ttog_0025\",\"ttog_0026\",\"ttog_0027\",\"ttog_0028\",\"ttog_0029\",\"ttog_0030\",\"ttog_0031\",\"ttog_0032\",\"ttog_0033\",\"ttog_0034\",\"ttog_0035\"],\"label\":[0,0,0,0,0,0,0,1,1,1,1,1,1,1,1,1,1,1,1,1,1,1,1,1,2,2,2,2,2,2,2,2,2,2,2,2,2,2,2,2,2,2,2,2,2,2,2,2,2,2,2,2,2,2,2,2,2,2,2,2,2,2,2,3,3,3,3,3,3,3,3,3,3,3,3,3,3,3,3,3,3,3,3,3,3,3,3,3,3,3,3,3,3,3,3,3,3,4,4,4,4,4,4,4,4,4,4,4,4,4,4,4,4,4,4,4,4,4,4,4,4,4,4,4,4,4,4,4,4,4,4,4,4],\"x\":{\"__ndarray__\":\"nYJvQek4bkFH/3FBKbhpQWgecEE+d3JB735tQU58lT/MD+0/XS3YP8LBFUBkNrE/NO4EQCP5+T+Rcbg/5hG7P1I2bT/AJdk/Ka2pP0bjtj9bg5o/fTqmP9vqpD90rag/QM9JQCQZfUD1UjJABboqQDHvPkBgCQtAjtRCQAp/a0AdxlFAXIRcQMnhWkBq9F5AnitKQOLrQEDyOzJAjsTDPyf+RUA67yZAtxpUQBD8FEANoR1AVdYrQHvLSkAl3zhAy1iCQU7oUkAXeTRAfA0+QE5RR0CEvSxAB2hMQHSPRkBnSBtAboAnQDclVkBBWvs/eI1eQDw3NkDxKStAs22IP6XSuj6ltQhAt9hrPwqPqD8S2nNAHEWTP5n/qD/Vras/0cqAP8JzhT9qiFs/ov99P3SwuT85JFw/qCO1PzT+N0CT0aQ/gIkkP+QiOEDMS8g/PC/+PzxPeD+aqrY/u3tNP4bkyD+80qM/0xC7P2vJvj94/8c/A6cRPx+FyT9Hg14/WvkrP/djdEHTB3hB4HV0QeACekGumXZBv12DQa9gb0F3eXVBREhvQfK4eUHBVXFBcx+CQYsjgEGzH35BCHNzQTd3gEFeGHdBkoeAQeZOdUHG73VBPJB0QR7KaEEYw3dBcZiBQRO2bUFvRHlBjUt2QeIaeEH12XdBZQJ6QaE3eEH6bHdBbKNyQdgYckGKk3ZBnRh2QQ==\",\"dtype\":\"float32\",\"order\":\"little\",\"shape\":[133]},\"y\":{\"__ndarray__\":\"bbWiv+qmk78ROse/lYjTvw+emr9t7q6/DLufv7JdjEEF0oxBSVmPQVJugUFHy5ZBfvqGQb9Jg0GRAJZB+NqWQVSam0GRm5dBZFWSQZ9klUHHUphBedePQfZ0l0H9kJhBOSaEQV8BiEFM9IZBXeuHQd0xhEHrV5RBnD2GQTioiEFY0oRBhU+KQUp6hUFU8I1BuDCFQb7biEFYzYVBQyqbQay3iEGJ/4tBQj+HQRxNkUGcPpBBNJGJQQpyjEEoUIdBn0/NvzgLiUFGhYhBGAeIQWahhkFepZFBIZ+FQTSghUF1FpJB72mJQaVRhEHYLZxBZ+SLQS0ZnkGnJIpBZgw4QfIjN0FwfD9B0HJLQQstP0HGwFNBoORBQUMHP0GB6TtBWQ87QQUoSEG6WzZBu04xQa80OEF8UjRByTFRQbvYZUGqXzNBvOw6QexxX0HY8TlBa91MQXQLMkG0X0tBp8w1QYzlTkGdEkBBzixaQeP3W0G45VpBd05CQcKVXUE9Dy1B4Q0/QRubxT5AQ38+/9oAP7XCcT+M3/M+5dU+v3vTpj8AjkA/nN82P0Vqsz4qd2Y/ZeZOP7UK5D5h1os9iWacP48PAz8frzQ/mOf0PkGbDz+emig/m8syP6Iorz9ZKgU/ZBPLPlUZFj+bwkA/8swsPxDyYT9Z6tQ+1jh2Pw1pyj+Wc2U/9bL/PrKSYj7gwpA+SUcbPw==\",\"dtype\":\"float32\",\"order\":\"little\",\"shape\":[133]}},\"selected\":{\"id\":\"1293\"},\"selection_policy\":{\"id\":\"1294\"}},\"id\":\"1223\",\"type\":\"ColumnDataSource\"},{\"attributes\":{\"fill_alpha\":{\"field\":\"alpha\"},\"fill_color\":{\"field\":\"color\"},\"line_alpha\":{\"field\":\"alpha\"},\"line_color\":{\"field\":\"color\"},\"x\":{\"field\":\"x\"},\"y\":{\"field\":\"y\"}},\"id\":\"1258\",\"type\":\"Circle\"},{\"attributes\":{\"overlay\":{\"id\":\"1247\"}},\"id\":\"1243\",\"type\":\"BoxZoomTool\"},{\"attributes\":{},\"id\":\"1291\",\"type\":\"BasicTickFormatter\"},{\"attributes\":{},\"id\":\"1229\",\"type\":\"LinearScale\"}],\"root_ids\":[\"1224\"]},\"title\":\"Bokeh Application\",\"version\":\"2.3.2\"}};\n",
              "  var render_items = [{\"docid\":\"3ce7831d-253a-419e-8a1d-206c3377de2b\",\"root_ids\":[\"1224\"],\"roots\":{\"1224\":\"f9a3b272-3365-4c54-ab0f-ff1f02b4fa2d\"}}];\n",
              "  root.Bokeh.embed.embed_items_notebook(docs_json, render_items);\n",
              "\n",
              "  }\n",
              "  if (root.Bokeh !== undefined) {\n",
              "    embed_document(root);\n",
              "  } else {\n",
              "    var attempts = 0;\n",
              "    var timer = setInterval(function(root) {\n",
              "      if (root.Bokeh !== undefined) {\n",
              "        clearInterval(timer);\n",
              "        embed_document(root);\n",
              "      } else {\n",
              "        attempts++;\n",
              "        if (attempts > 100) {\n",
              "          clearInterval(timer);\n",
              "          console.log(\"Bokeh: ERROR: Unable to run BokehJS code because BokehJS library is missing\");\n",
              "        }\n",
              "      }\n",
              "    }, 10, root)\n",
              "  }\n",
              "})(window);"
            ],
            "application/vnd.bokehjs_exec.v0+json": ""
          },
          "metadata": {
            "tags": [],
            "application/vnd.bokehjs_exec.v0+json": {
              "id": "1224"
            }
          }
        }
      ]
    },
    {
      "cell_type": "code",
      "metadata": {
        "colab": {
          "base_uri": "https://localhost:8080/",
          "height": 725
        },
        "id": "Clf1rnqjPlVh",
        "outputId": "f9daa373-6f22-42c0-88aa-b0af51ca1391"
      },
      "source": [
        "fig = plt.figure(figsize=(12, 12))\n",
        "ax = fig.add_subplot()\n",
        "\n",
        "for i in range(0,len(pd.unique(hover_data['Nest']))):\n",
        "    # print(i)\n",
        "    label_index = (hover_data['Nest']== le.classes_[i]).values\n",
        "    ax.scatter(embedding_bidir.embedding_[label_index, 0], embedding_bidir.embedding_[label_index, 1], color=colors[i], s=30, linewidth=1.5)\n",
        "\n",
        "plt.legend(list(le.classes_), loc='best', fontsize='20')\n",
        "plt.title('UMAP of Hidden Layer of Bidirectional LSTM Classifier', fontsize='24')\n",
        "plt.show()"
      ],
      "execution_count": null,
      "outputs": [
        {
          "output_type": "display_data",
          "data": {
            "image/png": "[encoded data removed]",
            "text/plain": [
              "<Figure size 864x864 with 1 Axes>"
            ]
          },
          "metadata": {
            "tags": [],
            "needs_background": "light"
          }
        }
      ]
    },
    {
      "cell_type": "code",
      "metadata": {
        "colab": {
          "base_uri": "https://localhost:8080/"
        },
        "id": "GcLJK21eQ0jK",
        "outputId": "9c20ff8f-0a1a-410b-a57e-5c3aaad136cd"
      },
      "source": [
        "conf_mat_lstm_bidir"
      ],
      "execution_count": null,
      "outputs": [
        {
          "output_type": "execute_result",
          "data": {
            "text/plain": [
              "array([[ 7,  0,  0,  0,  0],\n",
              "       [ 0, 13,  4,  0,  0],\n",
              "       [ 0,  7, 31,  0,  1],\n",
              "       [ 0,  6,  1, 26,  1],\n",
              "       [ 0,  0,  0,  0, 36]])"
            ]
          },
          "metadata": {
            "tags": []
          },
          "execution_count": 53
        }
      ]
    },
    {
      "cell_type": "code",
      "metadata": {
        "id": "NffQCB5NRvmy"
      },
      "source": [
        "from os import walk"
      ],
      "execution_count": null,
      "outputs": []
    },
    {
      "cell_type": "code",
      "metadata": {
        "id": "Mo3YB8YtRyry"
      },
      "source": [
        "search_path = '/content/gdrive/My Drive/ZFDataset/SavedModels/Final Architecture/LSTM/Bidirectional/'\n",
        "_, _, filenames = next(walk(search_path))"
      ],
      "execution_count": null,
      "outputs": []
    },
    {
      "cell_type": "code",
      "metadata": {
        "colab": {
          "base_uri": "https://localhost:8080/"
        },
        "id": "I2q8uze2Uh9Z",
        "outputId": "f7951588-72d1-4d01-cef8-abb8a2ddc208"
      },
      "source": [
        "Accuracy_Table = pd.DataFrame(columns=['Train Accuracy', 'Val Accuracy', 'Test Accuracy'])\n",
        "\n",
        "for file in filenames:\n",
        "  if 'Accuracy_Table_Test' in file:\n",
        "    print(file)\n",
        "    Acc_data = pd.read_csv(search_path+file, index_col=False)\n",
        "    Acc_data = Acc_data.drop(columns=['Unnamed: 0'])\n",
        "    Accuracy_Table = Accuracy_Table.append(pd.Series(Acc_data.mean(axis=0).values, index=Accuracy_Table.columns.values), ignore_index=True)"
      ],
      "execution_count": null,
      "outputs": [
        {
          "output_type": "stream",
          "text": [
            "Accuracy_Table_Test_Random_2746.csv\n",
            "Accuracy_Table_Test_Random_8964.csv\n",
            "Accuracy_Table_Test_Random_70.csv\n",
            "Accuracy_Table_Test_Random_3859.csv\n",
            "Accuracy_Table_Test_Random_7857.csv\n",
            "Accuracy_Table_Test_Random_7980.csv\n",
            "Accuracy_Table_Test_Random_2999.csv\n",
            "Accuracy_Table_Test_Random_3324.csv\n",
            "Accuracy_Table_Test_Random_1778.csv\n",
            "Accuracy_Table_Test_Random_329.csv\n",
            "Accuracy_Table_Test_Random_5689.csv\n",
            "Accuracy_Table_Test_Random_4786.csv\n",
            "Accuracy_Table_Test_Random_2816.csv\n",
            "Accuracy_Table_Test_Random_2405.csv\n",
            "Accuracy_Table_Test_Random_2681.csv\n",
            "Accuracy_Table_Test_Random_5769.csv\n",
            "Accuracy_Table_Test_Random_9327.csv\n"
          ],
          "name": "stdout"
        }
      ]
    },
    {
      "cell_type": "code",
      "metadata": {
        "colab": {
          "base_uri": "https://localhost:8080/",
          "height": 576
        },
        "id": "VbHFTfbbUtGh",
        "outputId": "2cdcad0d-c0d7-406f-e3be-0f80bd1c40f3"
      },
      "source": [
        "Accuracy_Table"
      ],
      "execution_count": null,
      "outputs": [
        {
          "output_type": "execute_result",
          "data": {
            "text/html": [
              "<div>\n",
              "<style scoped>\n",
              "    .dataframe tbody tr th:only-of-type {\n",
              "        vertical-align: middle;\n",
              "    }\n",
              "\n",
              "    .dataframe tbody tr th {\n",
              "        vertical-align: top;\n",
              "    }\n",
              "\n",
              "    .dataframe thead th {\n",
              "        text-align: right;\n",
              "    }\n",
              "</style>\n",
              "<table border=\"1\" class=\"dataframe\">\n",
              "  <thead>\n",
              "    <tr style=\"text-align: right;\">\n",
              "      <th></th>\n",
              "      <th>Train Accuracy</th>\n",
              "      <th>Val Accuracy</th>\n",
              "      <th>Test Accuracy</th>\n",
              "    </tr>\n",
              "  </thead>\n",
              "  <tbody>\n",
              "    <tr>\n",
              "      <th>0</th>\n",
              "      <td>0.999713</td>\n",
              "      <td>0.994872</td>\n",
              "      <td>0.841353</td>\n",
              "    </tr>\n",
              "    <tr>\n",
              "      <th>1</th>\n",
              "      <td>1.000000</td>\n",
              "      <td>0.997436</td>\n",
              "      <td>0.866165</td>\n",
              "    </tr>\n",
              "    <tr>\n",
              "      <th>2</th>\n",
              "      <td>0.999140</td>\n",
              "      <td>0.994804</td>\n",
              "      <td>0.830075</td>\n",
              "    </tr>\n",
              "    <tr>\n",
              "      <th>3</th>\n",
              "      <td>1.000000</td>\n",
              "      <td>0.994804</td>\n",
              "      <td>0.754135</td>\n",
              "    </tr>\n",
              "    <tr>\n",
              "      <th>4</th>\n",
              "      <td>1.000000</td>\n",
              "      <td>0.994872</td>\n",
              "      <td>0.863910</td>\n",
              "    </tr>\n",
              "    <tr>\n",
              "      <th>5</th>\n",
              "      <td>0.981662</td>\n",
              "      <td>0.997436</td>\n",
              "      <td>0.787970</td>\n",
              "    </tr>\n",
              "    <tr>\n",
              "      <th>6</th>\n",
              "      <td>1.000000</td>\n",
              "      <td>0.987045</td>\n",
              "      <td>0.820301</td>\n",
              "    </tr>\n",
              "    <tr>\n",
              "      <th>7</th>\n",
              "      <td>0.999713</td>\n",
              "      <td>0.989609</td>\n",
              "      <td>0.812782</td>\n",
              "    </tr>\n",
              "    <tr>\n",
              "      <th>8</th>\n",
              "      <td>1.000000</td>\n",
              "      <td>0.997436</td>\n",
              "      <td>0.854887</td>\n",
              "    </tr>\n",
              "    <tr>\n",
              "      <th>9</th>\n",
              "      <td>1.000000</td>\n",
              "      <td>0.986977</td>\n",
              "      <td>0.784962</td>\n",
              "    </tr>\n",
              "    <tr>\n",
              "      <th>10</th>\n",
              "      <td>1.000000</td>\n",
              "      <td>0.992240</td>\n",
              "      <td>0.857143</td>\n",
              "    </tr>\n",
              "    <tr>\n",
              "      <th>11</th>\n",
              "      <td>0.999425</td>\n",
              "      <td>0.994804</td>\n",
              "      <td>0.837594</td>\n",
              "    </tr>\n",
              "    <tr>\n",
              "      <th>12</th>\n",
              "      <td>1.000000</td>\n",
              "      <td>0.992308</td>\n",
              "      <td>0.833835</td>\n",
              "    </tr>\n",
              "    <tr>\n",
              "      <th>13</th>\n",
              "      <td>0.998563</td>\n",
              "      <td>0.997368</td>\n",
              "      <td>0.839098</td>\n",
              "    </tr>\n",
              "    <tr>\n",
              "      <th>14</th>\n",
              "      <td>1.000000</td>\n",
              "      <td>0.994737</td>\n",
              "      <td>0.845113</td>\n",
              "    </tr>\n",
              "    <tr>\n",
              "      <th>15</th>\n",
              "      <td>1.000000</td>\n",
              "      <td>0.997436</td>\n",
              "      <td>0.793985</td>\n",
              "    </tr>\n",
              "    <tr>\n",
              "      <th>16</th>\n",
              "      <td>1.000000</td>\n",
              "      <td>0.982906</td>\n",
              "      <td>0.872180</td>\n",
              "    </tr>\n",
              "  </tbody>\n",
              "</table>\n",
              "</div>"
            ],
            "text/plain": [
              "    Train Accuracy  Val Accuracy  Test Accuracy\n",
              "0         0.999713      0.994872       0.841353\n",
              "1         1.000000      0.997436       0.866165\n",
              "2         0.999140      0.994804       0.830075\n",
              "3         1.000000      0.994804       0.754135\n",
              "4         1.000000      0.994872       0.863910\n",
              "5         0.981662      0.997436       0.787970\n",
              "6         1.000000      0.987045       0.820301\n",
              "7         0.999713      0.989609       0.812782\n",
              "8         1.000000      0.997436       0.854887\n",
              "9         1.000000      0.986977       0.784962\n",
              "10        1.000000      0.992240       0.857143\n",
              "11        0.999425      0.994804       0.837594\n",
              "12        1.000000      0.992308       0.833835\n",
              "13        0.998563      0.997368       0.839098\n",
              "14        1.000000      0.994737       0.845113\n",
              "15        1.000000      0.997436       0.793985\n",
              "16        1.000000      0.982906       0.872180"
            ]
          },
          "metadata": {
            "tags": []
          },
          "execution_count": 160
        }
      ]
    },
    {
      "cell_type": "code",
      "metadata": {
        "colab": {
          "base_uri": "https://localhost:8080/"
        },
        "id": "hXF_srVIUw_Z",
        "outputId": "5561b03f-b6c8-4479-b531-831db17bf955"
      },
      "source": [
        "Accuracy_Table.mean(axis=0)"
      ],
      "execution_count": null,
      "outputs": [
        {
          "output_type": "execute_result",
          "data": {
            "text/plain": [
              "Train Accuracy    0.998719\n",
              "Val Accuracy      0.993358\n",
              "Test Accuracy     0.829146\n",
              "dtype: float64"
            ]
          },
          "metadata": {
            "tags": []
          },
          "execution_count": 161
        }
      ]
    },
    {
      "cell_type": "code",
      "metadata": {
        "colab": {
          "base_uri": "https://localhost:8080/"
        },
        "id": "pt6l3YOlU2VJ",
        "outputId": "5fb13ae5-75ae-4f93-989e-e9eee9ab5e74"
      },
      "source": [
        "Accuracy_Table.std(axis=0)"
      ],
      "execution_count": null,
      "outputs": [
        {
          "output_type": "execute_result",
          "data": {
            "text/plain": [
              "Train Accuracy    0.004414\n",
              "Val Accuracy      0.004342\n",
              "Test Accuracy     0.032912\n",
              "dtype: float64"
            ]
          },
          "metadata": {
            "tags": []
          },
          "execution_count": 162
        }
      ]
    },
    {
      "cell_type": "code",
      "metadata": {
        "id": "_CEprJzRc2t6"
      },
      "source": [
        "search_path = '/content/gdrive/My Drive/ZFDataset/SavedModels/Final Architecture/LSTM/Unidirectional/'\n",
        "_, _, filenames = next(walk(search_path))"
      ],
      "execution_count": null,
      "outputs": []
    },
    {
      "cell_type": "code",
      "metadata": {
        "colab": {
          "base_uri": "https://localhost:8080/"
        },
        "id": "YiL_eJlfc7jJ",
        "outputId": "603e4225-cb5d-4e0c-9a04-098231698783"
      },
      "source": [
        "Accuracy_Table_Uni = pd.DataFrame(columns=['Train Accuracy', 'Val Accuracy', 'Test Accuracy'])\n",
        "\n",
        "for file in filenames:\n",
        "  if 'Accuracy_Table_Test' in file:\n",
        "    print(file)\n",
        "    Acc_data = pd.read_csv(search_path+file, index_col=False)\n",
        "    Acc_data = Acc_data.drop(columns=['Unnamed: 0'])\n",
        "    Accuracy_Table_Uni = Accuracy_Table_Uni.append(pd.Series(Acc_data.mean(axis=0).values, index=Accuracy_Table.columns.values), ignore_index=True)"
      ],
      "execution_count": null,
      "outputs": [
        {
          "output_type": "stream",
          "text": [
            "Accuracy_Table_Test_Random_9327.csv\n",
            "Accuracy_Table_Test_Random_7867.csv\n",
            "Accuracy_Table_Test_Random_4469.csv\n",
            "Accuracy_Table_Test_Random_4928.csv\n",
            "Accuracy_Table_Test_Random_2021.csv\n",
            "Accuracy_Table_Test_Random_3859.csv\n",
            "Accuracy_Table_Test_Random_7857.csv\n",
            "Accuracy_Table_Test_Random_7980.csv\n",
            "Accuracy_Table_Test_Random_2999.csv\n",
            "Accuracy_Table_Test_Random_3324.csv\n",
            "Accuracy_Table_Test_Random_1778.csv\n",
            "Accuracy_Table_Test_Random_329.csv\n",
            "Accuracy_Table_Test_Random_5689.csv\n",
            "Accuracy_Table_Test_Random_2746.csv\n",
            "Accuracy_Table_Test_Random_8964.csv\n",
            "Accuracy_Table_Test_Random_70.csv\n",
            "Accuracy_Table_Test_Random_4786.csv\n",
            "Accuracy_Table_Test_Random_2816.csv\n",
            "Accuracy_Table_Test_Random_2405.csv\n",
            "Accuracy_Table_Test_Random_2681.csv\n",
            "Accuracy_Table_Test_Random_5769.csv\n",
            "Accuracy_Table_Test_Random_5730.csv\n",
            "Accuracy_Table_Test_Random_858.csv\n",
            "Accuracy_Table_Test_Random_6775.csv\n",
            "Accuracy_Table_Test_Random_6775 (1).csv\n",
            "Accuracy_Table_Test_Random_5487.csv\n",
            "Accuracy_Table_Test_Random_1464.csv\n",
            "Accuracy_Table_Test_Random_7365.csv\n",
            "Accuracy_Table_Test_Random_4313.csv\n"
          ],
          "name": "stdout"
        }
      ]
    },
    {
      "cell_type": "code",
      "metadata": {
        "id": "X8mQHD9csZja"
      },
      "source": [
        "Acc_data = pd.read_csv(search_path+'Accuracy_Table_Test_Random_5397.csv', index_col=False)"
      ],
      "execution_count": null,
      "outputs": []
    },
    {
      "cell_type": "code",
      "metadata": {
        "colab": {
          "base_uri": "https://localhost:8080/"
        },
        "id": "qsJlrghBshSR",
        "outputId": "14ebe281-9f90-4a6d-8759-6b9b3cfb1010"
      },
      "source": [
        "Acc_data_average = []\n",
        "for i in range(0, int(Acc_data.shape[0]/10)):\n",
        "  Acc_data_average.append(Acc_data[i*10:i*10+9].mean(axis=0).values)\n",
        "  print(Acc_data[i*10:i*10+9])\n",
        "  print(i)"
      ],
      "execution_count": null,
      "outputs": [
        {
          "output_type": "stream",
          "text": [
            "   Unnamed: 0  Train Accuracy  Val Accuracy  Test Accuracy\n",
            "0           0        1.000000      1.000000       0.571429\n",
            "1           1        1.000000      1.000000       0.721804\n",
            "2           2        1.000000      0.974359       0.766917\n",
            "3           3        1.000000      1.000000       0.827068\n",
            "4           4        1.000000      0.974359       0.661654\n",
            "5           5        1.000000      1.000000       0.954887\n",
            "6           6        0.968391      1.000000       0.451128\n",
            "7           7        1.000000      1.000000       0.721804\n",
            "8           8        1.000000      1.000000       0.796992\n",
            "0\n",
            "    Unnamed: 0  Train Accuracy  Val Accuracy  Test Accuracy\n",
            "10          10        1.000000      1.000000       0.759398\n",
            "11          11        1.000000      0.974359       0.744361\n",
            "12          12        1.000000      1.000000       0.879699\n",
            "13          13        1.000000      1.000000       0.736842\n",
            "14          14        0.997126      1.000000       0.827068\n",
            "15          15        1.000000      1.000000       0.766917\n",
            "16          16        1.000000      1.000000       0.894737\n",
            "17          17        1.000000      1.000000       0.736842\n",
            "18          18        1.000000      0.973684       0.736842\n",
            "1\n",
            "    Unnamed: 0  Train Accuracy  Val Accuracy  Test Accuracy\n",
            "20          20        1.000000      1.000000       0.616541\n",
            "21          21        1.000000      0.974359       0.676692\n",
            "22          22        1.000000      1.000000       0.721804\n",
            "23          23        0.991379      1.000000       0.639098\n",
            "24          24        1.000000      1.000000       0.789474\n",
            "25          25        1.000000      1.000000       0.766917\n",
            "26          26        1.000000      1.000000       0.578947\n",
            "27          27        1.000000      0.973684       0.699248\n",
            "28          28        0.997135      0.973684       0.496241\n",
            "2\n",
            "    Unnamed: 0  Train Accuracy  Val Accuracy  Test Accuracy\n",
            "30          30        1.000000      1.000000       0.781955\n",
            "31          31        1.000000      0.923077       0.766917\n",
            "32          32        1.000000      1.000000       0.812030\n",
            "33          33        1.000000      1.000000       0.443609\n",
            "34          34        1.000000      1.000000       0.924812\n",
            "35          35        1.000000      1.000000       0.812030\n",
            "36          36        1.000000      1.000000       0.654135\n",
            "37          37        1.000000      0.973684       0.744361\n",
            "38          38        0.997135      1.000000       0.563910\n",
            "3\n",
            "    Unnamed: 0  Train Accuracy  Val Accuracy  Test Accuracy\n",
            "40          40             1.0      1.000000       0.699248\n",
            "41          41             1.0      0.974359       0.578947\n",
            "42          42             1.0      0.948718       0.511278\n",
            "43          43             1.0      1.000000       0.954887\n",
            "44          44             1.0      1.000000       0.902256\n",
            "45          45             1.0      1.000000       0.812030\n",
            "46          46             1.0      1.000000       0.714286\n",
            "47          47             1.0      1.000000       0.458647\n",
            "48          48             1.0      0.973684       0.744361\n",
            "4\n",
            "    Unnamed: 0  Train Accuracy  Val Accuracy  Test Accuracy\n",
            "50          50             1.0      1.000000       0.751880\n",
            "51          51             1.0      1.000000       0.812030\n",
            "52          52             1.0      1.000000       0.902256\n",
            "53          53             1.0      0.974359       0.736842\n",
            "54          54             1.0      1.000000       0.954887\n",
            "55          55             1.0      0.974359       0.736842\n",
            "56          56             1.0      1.000000       0.721804\n",
            "57          57             1.0      1.000000       0.699248\n",
            "58          58             1.0      0.973684       0.827068\n",
            "5\n",
            "    Unnamed: 0  Train Accuracy  Val Accuracy  Test Accuracy\n",
            "60          60             1.0      1.000000       0.759398\n",
            "61          61             1.0      0.974359       0.609023\n",
            "62          62             1.0      1.000000       0.744361\n",
            "63          63             1.0      0.974359       0.736842\n",
            "64          64             1.0      1.000000       0.631579\n",
            "65          65             1.0      0.974359       0.774436\n",
            "66          66             1.0      0.974359       0.789474\n",
            "67          67             1.0      0.973684       0.721804\n",
            "68          68             1.0      0.973684       0.751880\n",
            "6\n",
            "    Unnamed: 0  Train Accuracy  Val Accuracy  Test Accuracy\n",
            "70          70        1.000000      0.974359       0.714286\n",
            "71          71        1.000000      1.000000       0.917293\n",
            "72          72        1.000000      1.000000       0.932331\n",
            "73          73        1.000000      0.974359       0.736842\n",
            "74          74        1.000000      1.000000       0.902256\n",
            "75          75        1.000000      1.000000       0.639098\n",
            "76          76        1.000000      1.000000       0.759398\n",
            "77          77        1.000000      1.000000       0.751880\n",
            "78          78        0.934097      1.000000       0.451128\n",
            "7\n",
            "    Unnamed: 0  Train Accuracy  Val Accuracy  Test Accuracy\n",
            "80          80        1.000000      1.000000       0.864662\n",
            "81          81        0.997126      1.000000       0.744361\n",
            "82          82        1.000000      1.000000       0.729323\n",
            "83          83        1.000000      0.974359       0.736842\n",
            "84          84        1.000000      1.000000       0.684211\n",
            "85          85        1.000000      1.000000       0.736842\n",
            "86          86        1.000000      1.000000       0.729323\n",
            "87          87        1.000000      1.000000       0.631579\n",
            "88          88        1.000000      1.000000       0.796992\n",
            "8\n",
            "    Unnamed: 0  Train Accuracy  Val Accuracy  Test Accuracy\n",
            "90          90             1.0      0.974359       0.774436\n",
            "91          91             1.0      1.000000       0.751880\n",
            "92          92             1.0      1.000000       0.511278\n",
            "93          93             1.0      1.000000       0.939850\n",
            "94          94             1.0      1.000000       0.684211\n",
            "95          95             1.0      0.974359       0.744361\n",
            "96          96             1.0      1.000000       0.616541\n",
            "97          97             1.0      0.973684       0.669173\n",
            "98          98             1.0      1.000000       0.774436\n",
            "9\n",
            "     Unnamed: 0  Train Accuracy  Val Accuracy  Test Accuracy\n",
            "100         100        0.994253      1.000000       0.473684\n",
            "101         101        1.000000      0.974359       0.872180\n",
            "102         102        1.000000      1.000000       0.766917\n",
            "103         103        1.000000      1.000000       0.932331\n",
            "104         104        1.000000      0.974359       0.759398\n",
            "105         105        1.000000      1.000000       0.759398\n",
            "106         106        1.000000      1.000000       0.827068\n",
            "107         107        0.997135      0.973684       0.571429\n",
            "108         108        1.000000      0.973684       0.706767\n",
            "10\n",
            "     Unnamed: 0  Train Accuracy  Val Accuracy  Test Accuracy\n",
            "110         110        1.000000      1.000000       0.947368\n",
            "111         111        0.997126      1.000000       0.744361\n",
            "112         112        1.000000      1.000000       0.669173\n",
            "113         113        1.000000      1.000000       0.751880\n",
            "114         114        1.000000      1.000000       0.744361\n",
            "115         115        1.000000      0.974359       0.932331\n",
            "116         116        1.000000      1.000000       0.984962\n",
            "117         117        1.000000      0.947368       0.654135\n",
            "118         118        1.000000      1.000000       0.774436\n",
            "11\n",
            "     Unnamed: 0  Train Accuracy  Val Accuracy  Test Accuracy\n",
            "120         120        1.000000      0.948718       0.744361\n",
            "121         121        1.000000      1.000000       0.699248\n",
            "122         122        1.000000      1.000000       0.721804\n",
            "123         123        1.000000      1.000000       0.879699\n",
            "124         124        1.000000      0.974359       0.879699\n",
            "125         125        1.000000      1.000000       0.639098\n",
            "126         126        1.000000      1.000000       0.834586\n",
            "127         127        1.000000      1.000000       0.721804\n",
            "128         128        0.988539      1.000000       0.751880\n",
            "12\n",
            "     Unnamed: 0  Train Accuracy  Val Accuracy  Test Accuracy\n",
            "130         130        0.997126           1.0       0.729323\n",
            "131         131        1.000000           1.0       0.751880\n",
            "132         132        1.000000           1.0       0.924812\n",
            "133         133        1.000000           1.0       0.879699\n",
            "134         134        1.000000           1.0       0.744361\n",
            "135         135        0.945402           1.0       0.601504\n",
            "136         136        0.994253           1.0       0.639098\n",
            "137         137        1.000000           1.0       0.887218\n",
            "138         138        1.000000           1.0       0.887218\n",
            "13\n",
            "     Unnamed: 0  Train Accuracy  Val Accuracy  Test Accuracy\n",
            "140         140        1.000000      1.000000       0.669173\n",
            "141         141        0.997126      0.974359       0.503759\n",
            "142         142        1.000000      1.000000       0.729323\n",
            "143         143        0.997126      1.000000       0.744361\n",
            "144         144        1.000000      0.974359       0.518797\n",
            "145         145        1.000000      0.974359       0.721804\n",
            "146         146        1.000000      0.974359       0.751880\n",
            "147         147        1.000000      1.000000       0.511278\n",
            "148         148        1.000000      0.973684       0.466165\n",
            "14\n",
            "     Unnamed: 0  Train Accuracy  Val Accuracy  Test Accuracy\n",
            "150         150             1.0      1.000000       0.917293\n",
            "151         151             1.0      1.000000       0.819549\n",
            "152         152             1.0      1.000000       0.616541\n",
            "153         153             1.0      1.000000       0.714286\n",
            "154         154             1.0      0.948718       0.864662\n",
            "155         155             1.0      1.000000       0.751880\n",
            "156         156             1.0      0.974359       0.751880\n",
            "157         157             1.0      0.973684       0.744361\n",
            "158         158             1.0      0.973684       0.924812\n",
            "15\n",
            "     Unnamed: 0  Train Accuracy  Val Accuracy  Test Accuracy\n",
            "160         160             1.0      0.948718       0.691729\n",
            "161         161             1.0      0.974359       0.684211\n",
            "162         162             1.0      1.000000       0.729323\n",
            "163         163             1.0      1.000000       0.533835\n",
            "164         164             1.0      1.000000       0.819549\n",
            "165         165             1.0      1.000000       0.842105\n",
            "166         166             1.0      1.000000       0.849624\n",
            "167         167             1.0      1.000000       0.751880\n",
            "168         168             1.0      1.000000       0.917293\n",
            "16\n",
            "     Unnamed: 0  Train Accuracy  Val Accuracy  Test Accuracy\n",
            "170         170             1.0      1.000000       0.902256\n",
            "171         171             1.0      1.000000       0.804511\n",
            "172         172             1.0      1.000000       0.751880\n",
            "173         173             1.0      1.000000       0.932331\n",
            "174         174             1.0      1.000000       0.864662\n",
            "175         175             1.0      0.974359       0.932331\n",
            "176         176             1.0      1.000000       0.992481\n",
            "177         177             1.0      1.000000       0.736842\n",
            "178         178             1.0      1.000000       0.909774\n",
            "17\n",
            "     Unnamed: 0  Train Accuracy  Val Accuracy  Test Accuracy\n",
            "180         180        1.000000      1.000000       0.924812\n",
            "181         181        1.000000      0.974359       0.909774\n",
            "182         182        1.000000      0.974359       0.804511\n",
            "183         183        1.000000      1.000000       0.736842\n",
            "184         184        0.997126      0.974359       0.736842\n",
            "185         185        1.000000      0.974359       0.736842\n",
            "186         186        1.000000      1.000000       0.781955\n",
            "187         187        1.000000      1.000000       0.541353\n",
            "188         188        1.000000      0.973684       0.714286\n",
            "18\n",
            "     Unnamed: 0  Train Accuracy  Val Accuracy  Test Accuracy\n",
            "190         190             1.0      1.000000       0.759398\n",
            "191         191             1.0      1.000000       0.879699\n",
            "192         192             1.0      1.000000       0.721804\n",
            "193         193             1.0      0.948718       0.812030\n",
            "194         194             1.0      1.000000       0.924812\n",
            "195         195             1.0      1.000000       0.909774\n",
            "196         196             1.0      0.974359       0.721804\n",
            "197         197             1.0      1.000000       0.744361\n",
            "198         198             1.0      1.000000       0.684211\n",
            "19\n",
            "     Unnamed: 0  Train Accuracy  Val Accuracy  Test Accuracy\n",
            "200         200             1.0      1.000000       0.781955\n",
            "201         201             1.0      1.000000       0.766917\n",
            "202         202             1.0      1.000000       0.714286\n",
            "203         203             1.0      0.974359       0.751880\n",
            "204         204             1.0      0.974359       0.729323\n",
            "205         205             1.0      1.000000       0.766917\n",
            "206         206             1.0      1.000000       0.872180\n",
            "207         207             1.0      1.000000       0.887218\n",
            "208         208             1.0      0.973684       0.601504\n",
            "20\n",
            "     Unnamed: 0  Train Accuracy  Val Accuracy  Test Accuracy\n",
            "210         210             1.0      1.000000       0.684211\n",
            "211         211             1.0      1.000000       0.684211\n",
            "212         212             1.0      0.974359       0.714286\n",
            "213         213             1.0      1.000000       0.781955\n",
            "214         214             1.0      1.000000       0.812030\n",
            "215         215             1.0      1.000000       0.872180\n",
            "216         216             1.0      1.000000       0.706767\n",
            "217         217             1.0      1.000000       0.458647\n",
            "218         218             1.0      1.000000       0.729323\n",
            "21\n",
            "     Unnamed: 0  Train Accuracy  Val Accuracy  Test Accuracy\n",
            "220         220             1.0      1.000000       0.879699\n",
            "221         221             1.0      1.000000       0.744361\n",
            "222         222             1.0      0.948718       0.744361\n",
            "223         223             1.0      1.000000       0.766917\n",
            "224         224             1.0      1.000000       0.428571\n",
            "225         225             1.0      1.000000       0.736842\n",
            "226         226             1.0      0.974359       0.714286\n",
            "227         227             1.0      1.000000       0.751880\n",
            "228         228             1.0      1.000000       0.729323\n",
            "22\n",
            "     Unnamed: 0  Train Accuracy  Val Accuracy  Test Accuracy\n",
            "230         230        1.000000      1.000000       0.729323\n",
            "231         231        0.997126      0.948718       0.503759\n",
            "232         232        1.000000      1.000000       0.751880\n",
            "233         233        1.000000      1.000000       0.744361\n",
            "234         234        1.000000      1.000000       0.744361\n",
            "235         235        1.000000      1.000000       0.909774\n",
            "236         236        1.000000      1.000000       0.729323\n",
            "237         237        1.000000      0.973684       0.691729\n",
            "238         238        1.000000      1.000000       0.714286\n",
            "23\n",
            "     Unnamed: 0  Train Accuracy  Val Accuracy  Test Accuracy\n",
            "240         240        1.000000      1.000000       0.834586\n",
            "241         241        1.000000      1.000000       0.736842\n",
            "242         242        1.000000      1.000000       0.661654\n",
            "243         243        1.000000      1.000000       0.639098\n",
            "244         244        1.000000      1.000000       0.827068\n",
            "245         245        1.000000      0.974359       0.796992\n",
            "246         246        1.000000      0.974359       0.812030\n",
            "247         247        0.974212      1.000000       0.714286\n",
            "248         248        1.000000      1.000000       0.827068\n",
            "24\n",
            "     Unnamed: 0  Train Accuracy  Val Accuracy  Test Accuracy\n",
            "250         250        1.000000      1.000000       0.548872\n",
            "251         251        1.000000      1.000000       0.977444\n",
            "252         252        1.000000      1.000000       0.932331\n",
            "253         253        1.000000      0.974359       0.706767\n",
            "254         254        1.000000      1.000000       0.909774\n",
            "255         255        1.000000      1.000000       0.744361\n",
            "256         256        1.000000      1.000000       0.887218\n",
            "257         257        0.997135      0.973684       0.691729\n",
            "258         258        1.000000      1.000000       0.578947\n",
            "25\n",
            "     Unnamed: 0  Train Accuracy  Val Accuracy  Test Accuracy\n",
            "260         260        0.997126      1.000000       0.714286\n",
            "261         261        1.000000      0.974359       0.736842\n",
            "262         262        0.997126      1.000000       0.721804\n",
            "263         263        1.000000      1.000000       0.827068\n",
            "264         264        0.997126      0.974359       0.624060\n",
            "265         265        1.000000      0.974359       0.751880\n",
            "266         266        1.000000      0.974359       0.887218\n",
            "267         267        0.997135      0.973684       0.511278\n",
            "268         268        1.000000      1.000000       0.834586\n",
            "26\n",
            "     Unnamed: 0  Train Accuracy  Val Accuracy  Test Accuracy\n",
            "270         270             1.0      1.000000       0.947368\n",
            "271         271             1.0      0.974359       0.548872\n",
            "272         272             1.0      1.000000       0.624060\n",
            "273         273             1.0      1.000000       0.909774\n",
            "274         274             1.0      0.948718       0.736842\n",
            "275         275             1.0      1.000000       0.654135\n",
            "276         276             1.0      1.000000       0.774436\n",
            "277         277             1.0      1.000000       0.827068\n",
            "278         278             1.0      0.973684       0.751880\n",
            "27\n",
            "     Unnamed: 0  Train Accuracy  Val Accuracy  Test Accuracy\n",
            "280         280        1.000000      1.000000       0.917293\n",
            "281         281        0.997126      0.948718       0.586466\n",
            "282         282        1.000000      1.000000       0.819549\n",
            "283         283        1.000000      1.000000       0.729323\n",
            "284         284        0.997126      1.000000       0.894737\n",
            "285         285        1.000000      1.000000       0.736842\n",
            "286         286        1.000000      1.000000       0.736842\n",
            "287         287        1.000000      1.000000       0.909774\n",
            "288         288        1.000000      1.000000       0.759398\n",
            "28\n",
            "     Unnamed: 0  Train Accuracy  Val Accuracy  Test Accuracy\n",
            "290         290        1.000000      0.974359       0.819549\n",
            "291         291        0.997126      1.000000       0.473684\n",
            "292         292        0.994253      1.000000       0.721804\n",
            "293         293        0.977012      1.000000       0.458647\n",
            "294         294        1.000000      1.000000       0.879699\n",
            "295         295        1.000000      0.974359       0.736842\n",
            "296         296        1.000000      0.948718       0.503759\n",
            "297         297        1.000000      1.000000       0.864662\n",
            "298         298        1.000000      1.000000       0.661654\n",
            "29\n",
            "     Unnamed: 0  Train Accuracy  Val Accuracy  Test Accuracy\n",
            "300         300        1.000000      0.948718       0.744361\n",
            "301         301        1.000000      1.000000       0.804511\n",
            "302         302        1.000000      1.000000       0.736842\n",
            "303         303        1.000000      1.000000       0.902256\n",
            "304         304        1.000000      1.000000       0.556391\n",
            "305         305        1.000000      1.000000       0.729323\n",
            "306         306        0.991379      1.000000       0.488722\n",
            "307         307        0.991404      1.000000       0.661654\n",
            "308         308        1.000000      0.894737       0.631579\n",
            "30\n",
            "     Unnamed: 0  Train Accuracy  Val Accuracy  Test Accuracy\n",
            "310         310        1.000000      0.974359       0.834586\n",
            "311         311        1.000000      1.000000       0.842105\n",
            "312         312        1.000000      0.974359       0.796992\n",
            "313         313        1.000000      1.000000       0.744361\n",
            "314         314        0.997126      0.948718       0.676692\n",
            "315         315        1.000000      1.000000       0.721804\n",
            "316         316        1.000000      1.000000       0.691729\n",
            "317         317        1.000000      0.973684       0.759398\n",
            "318         318        1.000000      1.000000       0.902256\n",
            "31\n",
            "     Unnamed: 0  Train Accuracy  Val Accuracy  Test Accuracy\n",
            "320         320        1.000000      1.000000       0.721804\n",
            "321         321        1.000000      1.000000       0.834586\n",
            "322         322        1.000000      1.000000       0.834586\n",
            "323         323        0.991379      1.000000       0.699248\n",
            "324         324        1.000000      1.000000       0.699248\n",
            "325         325        1.000000      1.000000       0.676692\n",
            "326         326        1.000000      1.000000       0.962406\n",
            "327         327        1.000000      0.973684       0.639098\n",
            "328         328        1.000000      1.000000       0.721804\n",
            "32\n",
            "     Unnamed: 0  Train Accuracy  Val Accuracy  Test Accuracy\n",
            "330         330        1.000000      1.000000       0.857143\n",
            "331         331        1.000000      0.974359       0.736842\n",
            "332         332        0.997126      1.000000       0.751880\n",
            "333         333        1.000000      1.000000       0.706767\n",
            "334         334        1.000000      0.974359       0.699248\n",
            "335         335        1.000000      1.000000       0.751880\n",
            "336         336        1.000000      1.000000       0.736842\n",
            "337         337        0.997135      1.000000       0.721804\n",
            "338         338        1.000000      1.000000       0.766917\n",
            "33\n",
            "     Unnamed: 0  Train Accuracy  Val Accuracy  Test Accuracy\n",
            "340         340        1.000000      0.974359       0.962406\n",
            "341         341        1.000000      1.000000       0.488722\n",
            "342         342        1.000000      0.974359       0.894737\n",
            "343         343        0.994253      1.000000       0.473684\n",
            "344         344        1.000000      0.974359       0.721804\n",
            "345         345        1.000000      1.000000       0.962406\n",
            "346         346        0.997126      1.000000       0.744361\n",
            "347         347        1.000000      1.000000       0.706767\n",
            "348         348        1.000000      0.973684       0.661654\n",
            "34\n",
            "     Unnamed: 0  Train Accuracy  Val Accuracy  Test Accuracy\n",
            "350         350        1.000000      1.000000       0.902256\n",
            "351         351        1.000000      1.000000       0.774436\n",
            "352         352        1.000000      0.974359       0.639098\n",
            "353         353        1.000000      0.948718       0.533835\n",
            "354         354        1.000000      0.974359       0.939850\n",
            "355         355        1.000000      1.000000       0.729323\n",
            "356         356        1.000000      1.000000       0.766917\n",
            "357         357        0.997135      0.973684       0.496241\n",
            "358         358        1.000000      1.000000       0.879699\n",
            "35\n",
            "     Unnamed: 0  Train Accuracy  Val Accuracy  Test Accuracy\n",
            "360         360        1.000000      1.000000       0.548872\n",
            "361         361        1.000000      1.000000       0.917293\n",
            "362         362        1.000000      0.974359       0.819549\n",
            "363         363        0.988506      1.000000       0.548872\n",
            "364         364        1.000000      1.000000       0.699248\n",
            "365         365        1.000000      0.948718       0.699248\n",
            "366         366        1.000000      0.974359       0.894737\n",
            "367         367        1.000000      1.000000       0.872180\n",
            "368         368        0.994269      1.000000       0.609023\n",
            "36\n",
            "     Unnamed: 0  Train Accuracy  Val Accuracy  Test Accuracy\n",
            "370         370        1.000000      1.000000       0.744361\n",
            "371         371        1.000000      0.974359       0.766917\n",
            "372         372        1.000000      1.000000       0.812030\n",
            "373         373        1.000000      1.000000       0.744361\n",
            "374         374        1.000000      1.000000       0.887218\n",
            "375         375        1.000000      1.000000       0.879699\n",
            "376         376        1.000000      0.974359       0.744361\n",
            "377         377        0.997135      1.000000       0.736842\n",
            "378         378        1.000000      0.973684       0.609023\n",
            "37\n",
            "     Unnamed: 0  Train Accuracy  Val Accuracy  Test Accuracy\n",
            "380         380        1.000000      1.000000       0.744361\n",
            "381         381        0.968391      0.974359       0.413534\n",
            "382         382        1.000000      1.000000       0.706767\n",
            "383         383        1.000000      1.000000       0.714286\n",
            "384         384        1.000000      0.974359       0.894737\n",
            "385         385        1.000000      1.000000       0.789474\n",
            "386         386        1.000000      0.974359       0.714286\n",
            "387         387        1.000000      0.973684       0.631579\n",
            "388         388        1.000000      1.000000       0.684211\n",
            "38\n",
            "     Unnamed: 0  Train Accuracy  Val Accuracy  Test Accuracy\n",
            "390         390        0.997126      1.000000       0.503759\n",
            "391         391        0.997126      0.974359       0.706767\n",
            "392         392        1.000000      0.974359       0.751880\n",
            "393         393        1.000000      1.000000       0.744361\n",
            "394         394        1.000000      1.000000       0.684211\n",
            "395         395        1.000000      1.000000       0.902256\n",
            "396         396        1.000000      1.000000       0.751880\n",
            "397         397        1.000000      1.000000       0.766917\n",
            "398         398        1.000000      1.000000       0.571429\n",
            "39\n",
            "     Unnamed: 0  Train Accuracy  Val Accuracy  Test Accuracy\n",
            "400         400        1.000000      1.000000       0.714286\n",
            "401         401        1.000000      1.000000       0.796992\n",
            "402         402        1.000000      0.974359       0.751880\n",
            "403         403        1.000000      1.000000       0.699248\n",
            "404         404        1.000000      1.000000       0.924812\n",
            "405         405        1.000000      0.974359       0.774436\n",
            "406         406        1.000000      0.974359       0.751880\n",
            "407         407        0.994269      1.000000       0.466165\n",
            "408         408        1.000000      0.973684       0.759398\n",
            "40\n",
            "     Unnamed: 0  Train Accuracy  Val Accuracy  Test Accuracy\n",
            "410         410             1.0      1.000000       0.541353\n",
            "411         411             1.0      1.000000       0.721804\n",
            "412         412             1.0      0.974359       0.571429\n",
            "413         413             1.0      1.000000       0.759398\n",
            "414         414             1.0      0.974359       0.586466\n",
            "415         415             1.0      1.000000       0.842105\n",
            "416         416             1.0      0.974359       0.759398\n",
            "417         417             1.0      1.000000       0.804511\n",
            "418         418             1.0      0.973684       0.819549\n",
            "41\n",
            "     Unnamed: 0  Train Accuracy  Val Accuracy  Test Accuracy\n",
            "420         420             1.0      1.000000       0.789474\n",
            "421         421             1.0      0.974359       0.796992\n",
            "422         422             1.0      1.000000       0.804511\n",
            "423         423             1.0      1.000000       0.706767\n",
            "424         424             1.0      1.000000       0.766917\n",
            "425         425             1.0      1.000000       0.962406\n",
            "426         426             1.0      0.948718       0.646617\n",
            "427         427             1.0      1.000000       0.796992\n",
            "428         428             1.0      0.973684       0.744361\n",
            "42\n",
            "     Unnamed: 0  Train Accuracy  Val Accuracy  Test Accuracy\n",
            "430         430        0.994253      0.974359       0.481203\n",
            "431         431        1.000000      1.000000       0.827068\n",
            "432         432        1.000000      1.000000       0.473684\n",
            "433         433        1.000000      1.000000       0.789474\n",
            "434         434        1.000000      0.948718       0.699248\n",
            "435         435        1.000000      0.948718       0.571429\n",
            "436         436        1.000000      0.974359       0.548872\n",
            "437         437        1.000000      1.000000       0.751880\n",
            "438         438        1.000000      1.000000       0.646617\n",
            "43\n",
            "     Unnamed: 0  Train Accuracy  Val Accuracy  Test Accuracy\n",
            "440         440             1.0      1.000000       0.631579\n",
            "441         441             1.0      1.000000       0.774436\n",
            "442         442             1.0      1.000000       0.736842\n",
            "443         443             1.0      1.000000       0.721804\n",
            "444         444             1.0      1.000000       0.819549\n",
            "445         445             1.0      1.000000       0.729323\n",
            "446         446             1.0      0.974359       0.947368\n",
            "447         447             1.0      1.000000       0.736842\n",
            "448         448             1.0      0.973684       0.947368\n",
            "44\n",
            "     Unnamed: 0  Train Accuracy  Val Accuracy  Test Accuracy\n",
            "450         450        1.000000      1.000000       0.714286\n",
            "451         451        1.000000      1.000000       0.729323\n",
            "452         452        1.000000      1.000000       0.706767\n",
            "453         453        1.000000      1.000000       0.556391\n",
            "454         454        1.000000      0.974359       0.819549\n",
            "455         455        1.000000      0.974359       0.706767\n",
            "456         456        1.000000      0.974359       0.706767\n",
            "457         457        1.000000      1.000000       0.669173\n",
            "458         458        0.997135      0.973684       0.473684\n",
            "45\n",
            "     Unnamed: 0  Train Accuracy  Val Accuracy  Test Accuracy\n",
            "460         460        1.000000      1.000000       0.864662\n",
            "461         461        1.000000      1.000000       0.751880\n",
            "462         462        0.997126      1.000000       0.488722\n",
            "463         463        0.997126      0.974359       0.729323\n",
            "464         464        1.000000      1.000000       0.789474\n",
            "465         465        1.000000      1.000000       0.924812\n",
            "466         466        0.997126      1.000000       0.729323\n",
            "467         467        1.000000      0.973684       0.751880\n",
            "468         468        1.000000      1.000000       0.969925\n",
            "46\n",
            "     Unnamed: 0  Train Accuracy  Val Accuracy  Test Accuracy\n",
            "470         470        1.000000      0.974359       0.781955\n",
            "471         471        0.997126      1.000000       0.736842\n",
            "472         472        1.000000      1.000000       0.556391\n",
            "473         473        1.000000      0.974359       0.751880\n",
            "474         474        1.000000      1.000000       0.954887\n",
            "475         475        1.000000      0.974359       0.593985\n",
            "476         476        1.000000      1.000000       0.736842\n",
            "477         477        1.000000      1.000000       0.744361\n",
            "478         478        0.977077      1.000000       0.541353\n",
            "47\n",
            "     Unnamed: 0  Train Accuracy  Val Accuracy  Test Accuracy\n",
            "480         480        1.000000      0.974359       0.879699\n",
            "481         481        1.000000      1.000000       0.714286\n",
            "482         482        1.000000      1.000000       0.729323\n",
            "483         483        1.000000      1.000000       0.781955\n",
            "484         484        1.000000      1.000000       0.729323\n",
            "485         485        1.000000      1.000000       0.714286\n",
            "486         486        0.997126      1.000000       0.714286\n",
            "487         487        1.000000      0.947368       0.729323\n",
            "488         488        1.000000      0.973684       0.699248\n",
            "48\n",
            "     Unnamed: 0  Train Accuracy  Val Accuracy  Test Accuracy\n",
            "490         490        1.000000           1.0       0.729323\n",
            "491         491        1.000000           1.0       0.827068\n",
            "492         492        1.000000           1.0       0.744361\n",
            "493         493        1.000000           1.0       0.714286\n",
            "494         494        0.997126           1.0       0.706767\n",
            "495         495        1.000000           1.0       0.736842\n",
            "496         496        1.000000           1.0       0.593985\n",
            "497         497        1.000000           1.0       0.939850\n",
            "498         498        0.994269           1.0       0.639098\n",
            "49\n",
            "     Unnamed: 0  Train Accuracy  Val Accuracy  Test Accuracy\n",
            "500         500        0.997126      1.000000       0.721804\n",
            "501         501        1.000000      0.974359       0.661654\n",
            "502         502        1.000000      1.000000       0.503759\n",
            "503         503        1.000000      1.000000       0.849624\n",
            "504         504        1.000000      1.000000       0.819549\n",
            "505         505        1.000000      1.000000       0.601504\n",
            "506         506        1.000000      1.000000       0.834586\n",
            "507         507        0.985673      0.973684       0.616541\n",
            "508         508        1.000000      0.973684       0.624060\n",
            "50\n",
            "     Unnamed: 0  Train Accuracy  Val Accuracy  Test Accuracy\n",
            "510         510             1.0      1.000000       0.571429\n",
            "511         511             1.0      1.000000       0.699248\n",
            "512         512             1.0      1.000000       0.962406\n",
            "513         513             1.0      1.000000       0.729323\n",
            "514         514             1.0      0.974359       0.812030\n",
            "515         515             1.0      1.000000       0.729323\n",
            "516         516             1.0      0.974359       0.639098\n",
            "517         517             1.0      0.973684       0.714286\n",
            "518         518             1.0      1.000000       0.661654\n",
            "51\n",
            "     Unnamed: 0  Train Accuracy  Val Accuracy  Test Accuracy\n",
            "520         520        1.000000      1.000000       0.849624\n",
            "521         521        1.000000      0.974359       0.864662\n",
            "522         522        1.000000      0.974359       0.676692\n",
            "523         523        1.000000      1.000000       0.827068\n",
            "524         524        1.000000      1.000000       0.759398\n",
            "525         525        1.000000      0.974359       0.969925\n",
            "526         526        0.997126      1.000000       0.706767\n",
            "527         527        0.994269      1.000000       0.676692\n",
            "528         528        1.000000      1.000000       0.834586\n",
            "52\n",
            "     Unnamed: 0  Train Accuracy  Val Accuracy  Test Accuracy\n",
            "530         530        0.997126      1.000000       0.744361\n",
            "531         531        1.000000      1.000000       0.909774\n",
            "532         532        1.000000      1.000000       0.736842\n",
            "533         533        1.000000      1.000000       0.669173\n",
            "534         534        0.997126      1.000000       0.496241\n",
            "535         535        1.000000      1.000000       0.759398\n",
            "536         536        1.000000      0.974359       0.729323\n",
            "537         537        1.000000      0.973684       0.511278\n",
            "538         538        1.000000      1.000000       0.804511\n",
            "53\n",
            "     Unnamed: 0  Train Accuracy  Val Accuracy  Test Accuracy\n",
            "540         540             1.0      1.000000       0.977444\n",
            "541         541             1.0      1.000000       0.812030\n",
            "542         542             1.0      0.974359       0.676692\n",
            "543         543             1.0      1.000000       0.766917\n",
            "544         544             1.0      0.974359       0.924812\n",
            "545         545             1.0      1.000000       0.699248\n",
            "546         546             1.0      1.000000       0.932331\n",
            "547         547             1.0      1.000000       0.699248\n",
            "548         548             1.0      0.973684       0.781955\n",
            "54\n",
            "     Unnamed: 0  Train Accuracy  Val Accuracy  Test Accuracy\n",
            "550         550        1.000000      0.974359       0.759398\n",
            "551         551        1.000000      0.974359       0.751880\n",
            "552         552        1.000000      1.000000       0.729323\n",
            "553         553        1.000000      1.000000       0.894737\n",
            "554         554        1.000000      1.000000       0.691729\n",
            "555         555        1.000000      1.000000       0.616541\n",
            "556         556        0.997126      0.974359       0.616541\n",
            "557         557        1.000000      1.000000       0.736842\n",
            "558         558        1.000000      0.947368       0.729323\n",
            "55\n",
            "     Unnamed: 0  Train Accuracy  Val Accuracy  Test Accuracy\n",
            "560         560        1.000000      0.974359       0.902256\n",
            "561         561        1.000000      1.000000       0.751880\n",
            "562         562        1.000000      1.000000       0.556391\n",
            "563         563        1.000000      1.000000       0.842105\n",
            "564         564        0.997126      0.974359       0.458647\n",
            "565         565        1.000000      0.974359       0.947368\n",
            "566         566        1.000000      0.974359       0.827068\n",
            "567         567        1.000000      1.000000       0.736842\n",
            "568         568        1.000000      1.000000       0.796992\n",
            "56\n",
            "     Unnamed: 0  Train Accuracy  Val Accuracy  Test Accuracy\n",
            "570         570        1.000000      1.000000       0.518797\n",
            "571         571        0.997126      1.000000       0.518797\n",
            "572         572        1.000000      1.000000       0.774436\n",
            "573         573        0.997126      0.974359       0.451128\n",
            "574         574        0.991379      1.000000       0.721804\n",
            "575         575        1.000000      1.000000       0.872180\n",
            "576         576        1.000000      1.000000       0.864662\n",
            "577         577        1.000000      1.000000       0.744361\n",
            "578         578        0.988539      1.000000       0.646617\n",
            "57\n",
            "     Unnamed: 0  Train Accuracy  Val Accuracy  Test Accuracy\n",
            "580         580        1.000000      1.000000       0.721804\n",
            "581         581        0.997126      0.974359       0.744361\n",
            "582         582        1.000000      1.000000       0.699248\n",
            "583         583        0.997126      1.000000       0.714286\n",
            "584         584        1.000000      0.974359       0.616541\n",
            "585         585        1.000000      0.974359       0.864662\n",
            "586         586        0.936782      1.000000       0.338346\n",
            "587         587        0.997135      1.000000       0.714286\n",
            "588         588        0.997135      0.947368       0.751880\n",
            "58\n",
            "     Unnamed: 0  Train Accuracy  Val Accuracy  Test Accuracy\n",
            "590         590             1.0      0.974359       0.781955\n",
            "591         591             1.0      1.000000       0.744361\n",
            "592         592             1.0      1.000000       0.488722\n",
            "593         593             1.0      0.948718       0.684211\n",
            "594         594             1.0      1.000000       0.714286\n",
            "595         595             1.0      1.000000       0.932331\n",
            "596         596             1.0      1.000000       0.729323\n",
            "597         597             1.0      1.000000       0.842105\n",
            "598         598             1.0      1.000000       0.909774\n",
            "59\n",
            "     Unnamed: 0  Train Accuracy  Val Accuracy  Test Accuracy\n",
            "600         600             1.0      0.948718       0.533835\n",
            "601         601             1.0      1.000000       0.481203\n",
            "602         602             1.0      1.000000       0.804511\n",
            "603         603             1.0      0.974359       0.661654\n",
            "604         604             1.0      1.000000       0.736842\n",
            "605         605             1.0      0.974359       0.714286\n",
            "606         606             1.0      1.000000       0.751880\n",
            "607         607             1.0      1.000000       0.744361\n",
            "608         608             1.0      0.973684       0.721804\n",
            "60\n",
            "     Unnamed: 0  Train Accuracy  Val Accuracy  Test Accuracy\n",
            "610         610        1.000000      0.974359       0.736842\n",
            "611         611        1.000000      1.000000       0.736842\n",
            "612         612        1.000000      1.000000       0.736842\n",
            "613         613        1.000000      0.974359       0.676692\n",
            "614         614        1.000000      1.000000       0.789474\n",
            "615         615        0.991379      1.000000       0.451128\n",
            "616         616        1.000000      1.000000       0.691729\n",
            "617         617        0.994269      1.000000       0.827068\n",
            "618         618        0.994269      0.973684       0.631579\n",
            "61\n",
            "     Unnamed: 0  Train Accuracy  Val Accuracy  Test Accuracy\n",
            "620         620        0.991379      0.974359       0.458647\n",
            "621         621        1.000000      1.000000       0.451128\n",
            "622         622        1.000000      1.000000       0.947368\n",
            "623         623        1.000000      1.000000       0.849624\n",
            "624         624        0.997126      1.000000       0.751880\n",
            "625         625        1.000000      1.000000       0.947368\n",
            "626         626        1.000000      1.000000       0.827068\n",
            "627         627        1.000000      1.000000       0.714286\n",
            "628         628        1.000000      0.973684       0.556391\n",
            "62\n"
          ],
          "name": "stdout"
        }
      ]
    },
    {
      "cell_type": "code",
      "metadata": {
        "colab": {
          "base_uri": "https://localhost:8080/"
        },
        "id": "x9TE-I_3t-HZ",
        "outputId": "867f4dd0-002e-4859-b378-7b3472bfef89"
      },
      "source": [
        "Acc_data.mean(axis=0)"
      ],
      "execution_count": null,
      "outputs": [
        {
          "output_type": "execute_result",
          "data": {
            "text/plain": [
              "Unnamed: 0        314.500000\n",
              "Train Accuracy      0.998943\n",
              "Val Accuracy        0.990886\n",
              "Test Accuracy       0.739850\n",
              "dtype: float64"
            ]
          },
          "metadata": {
            "tags": []
          },
          "execution_count": 71
        }
      ]
    },
    {
      "cell_type": "code",
      "metadata": {
        "colab": {
          "base_uri": "https://localhost:8080/"
        },
        "id": "IoWxr-nquUKq",
        "outputId": "c9523e91-a9b2-41b3-d3e1-073aa12f85e8"
      },
      "source": [
        "Acc_data.std(axis=0)"
      ],
      "execution_count": null,
      "outputs": [
        {
          "output_type": "execute_result",
          "data": {
            "text/plain": [
              "Unnamed: 0        182.009615\n",
              "Train Accuracy      0.005150\n",
              "Val Accuracy        0.015011\n",
              "Test Accuracy       0.120477\n",
              "dtype: float64"
            ]
          },
          "metadata": {
            "tags": []
          },
          "execution_count": 72
        }
      ]
    },
    {
      "cell_type": "code",
      "metadata": {
        "id": "3676NbzetKRC"
      },
      "source": [
        "Acc_data_average = pd.DataFrame(Acc_data_average)"
      ],
      "execution_count": null,
      "outputs": []
    },
    {
      "cell_type": "code",
      "metadata": {
        "colab": {
          "base_uri": "https://localhost:8080/",
          "height": 419
        },
        "id": "NW4ksAo-t3Vh",
        "outputId": "1e762576-eebc-46fb-e149-799f81fb4e8a"
      },
      "source": [
        "Acc_data_average"
      ],
      "execution_count": null,
      "outputs": [
        {
          "output_type": "execute_result",
          "data": {
            "text/html": [
              "<div>\n",
              "<style scoped>\n",
              "    .dataframe tbody tr th:only-of-type {\n",
              "        vertical-align: middle;\n",
              "    }\n",
              "\n",
              "    .dataframe tbody tr th {\n",
              "        vertical-align: top;\n",
              "    }\n",
              "\n",
              "    .dataframe thead th {\n",
              "        text-align: right;\n",
              "    }\n",
              "</style>\n",
              "<table border=\"1\" class=\"dataframe\">\n",
              "  <thead>\n",
              "    <tr style=\"text-align: right;\">\n",
              "      <th></th>\n",
              "      <th>0</th>\n",
              "      <th>1</th>\n",
              "      <th>2</th>\n",
              "      <th>3</th>\n",
              "    </tr>\n",
              "  </thead>\n",
              "  <tbody>\n",
              "    <tr>\n",
              "      <th>0</th>\n",
              "      <td>4.0</td>\n",
              "      <td>0.996488</td>\n",
              "      <td>0.994302</td>\n",
              "      <td>0.719298</td>\n",
              "    </tr>\n",
              "    <tr>\n",
              "      <th>1</th>\n",
              "      <td>14.0</td>\n",
              "      <td>0.999681</td>\n",
              "      <td>0.994227</td>\n",
              "      <td>0.786967</td>\n",
              "    </tr>\n",
              "    <tr>\n",
              "      <th>2</th>\n",
              "      <td>24.0</td>\n",
              "      <td>0.998724</td>\n",
              "      <td>0.991303</td>\n",
              "      <td>0.664996</td>\n",
              "    </tr>\n",
              "    <tr>\n",
              "      <th>3</th>\n",
              "      <td>34.0</td>\n",
              "      <td>0.999682</td>\n",
              "      <td>0.988529</td>\n",
              "      <td>0.722640</td>\n",
              "    </tr>\n",
              "    <tr>\n",
              "      <th>4</th>\n",
              "      <td>44.0</td>\n",
              "      <td>1.000000</td>\n",
              "      <td>0.988529</td>\n",
              "      <td>0.708438</td>\n",
              "    </tr>\n",
              "    <tr>\n",
              "      <th>...</th>\n",
              "      <td>...</td>\n",
              "      <td>...</td>\n",
              "      <td>...</td>\n",
              "      <td>...</td>\n",
              "    </tr>\n",
              "    <tr>\n",
              "      <th>58</th>\n",
              "      <td>584.0</td>\n",
              "      <td>0.991700</td>\n",
              "      <td>0.985605</td>\n",
              "      <td>0.685046</td>\n",
              "    </tr>\n",
              "    <tr>\n",
              "      <th>59</th>\n",
              "      <td>594.0</td>\n",
              "      <td>1.000000</td>\n",
              "      <td>0.991453</td>\n",
              "      <td>0.758563</td>\n",
              "    </tr>\n",
              "    <tr>\n",
              "      <th>60</th>\n",
              "      <td>604.0</td>\n",
              "      <td>1.000000</td>\n",
              "      <td>0.985680</td>\n",
              "      <td>0.683375</td>\n",
              "    </tr>\n",
              "    <tr>\n",
              "      <th>61</th>\n",
              "      <td>614.0</td>\n",
              "      <td>0.997769</td>\n",
              "      <td>0.991378</td>\n",
              "      <td>0.697577</td>\n",
              "    </tr>\n",
              "    <tr>\n",
              "      <th>62</th>\n",
              "      <td>624.0</td>\n",
              "      <td>0.998723</td>\n",
              "      <td>0.994227</td>\n",
              "      <td>0.722640</td>\n",
              "    </tr>\n",
              "  </tbody>\n",
              "</table>\n",
              "<p>63 rows × 4 columns</p>\n",
              "</div>"
            ],
            "text/plain": [
              "        0         1         2         3\n",
              "0     4.0  0.996488  0.994302  0.719298\n",
              "1    14.0  0.999681  0.994227  0.786967\n",
              "2    24.0  0.998724  0.991303  0.664996\n",
              "3    34.0  0.999682  0.988529  0.722640\n",
              "4    44.0  1.000000  0.988529  0.708438\n",
              "..    ...       ...       ...       ...\n",
              "58  584.0  0.991700  0.985605  0.685046\n",
              "59  594.0  1.000000  0.991453  0.758563\n",
              "60  604.0  1.000000  0.985680  0.683375\n",
              "61  614.0  0.997769  0.991378  0.697577\n",
              "62  624.0  0.998723  0.994227  0.722640\n",
              "\n",
              "[63 rows x 4 columns]"
            ]
          },
          "metadata": {
            "tags": []
          },
          "execution_count": 74
        }
      ]
    },
    {
      "cell_type": "code",
      "metadata": {
        "colab": {
          "base_uri": "https://localhost:8080/"
        },
        "id": "7YPioBJqsmv5",
        "outputId": "c05cb536-9c91-4e66-f418-bfdba22fb683"
      },
      "source": [
        "Acc_data_average.mean(axis=0)"
      ],
      "execution_count": null,
      "outputs": [
        {
          "output_type": "execute_result",
          "data": {
            "text/plain": [
              "0    314.000000\n",
              "1      0.998896\n",
              "2      0.990802\n",
              "3      0.738672\n",
              "dtype: float64"
            ]
          },
          "metadata": {
            "tags": []
          },
          "execution_count": 75
        }
      ]
    },
    {
      "cell_type": "code",
      "metadata": {
        "colab": {
          "base_uri": "https://localhost:8080/",
          "height": 793
        },
        "id": "ewUpaD90dHxI",
        "outputId": "d9b939e5-c25a-4ec7-b00a-4a030ae81ab3"
      },
      "source": [
        "Accuracy_Table_Uni"
      ],
      "execution_count": null,
      "outputs": [
        {
          "output_type": "execute_result",
          "data": {
            "text/html": [
              "<div>\n",
              "<style scoped>\n",
              "    .dataframe tbody tr th:only-of-type {\n",
              "        vertical-align: middle;\n",
              "    }\n",
              "\n",
              "    .dataframe tbody tr th {\n",
              "        vertical-align: top;\n",
              "    }\n",
              "\n",
              "    .dataframe thead th {\n",
              "        text-align: right;\n",
              "    }\n",
              "</style>\n",
              "<table border=\"1\" class=\"dataframe\">\n",
              "  <thead>\n",
              "    <tr style=\"text-align: right;\">\n",
              "      <th></th>\n",
              "      <th>Train Accuracy</th>\n",
              "      <th>Val Accuracy</th>\n",
              "      <th>Test Accuracy</th>\n",
              "    </tr>\n",
              "  </thead>\n",
              "  <tbody>\n",
              "    <tr>\n",
              "      <th>0</th>\n",
              "      <td>0.998700</td>\n",
              "      <td>0.990704</td>\n",
              "      <td>0.735692</td>\n",
              "    </tr>\n",
              "    <tr>\n",
              "      <th>1</th>\n",
              "      <td>0.998772</td>\n",
              "      <td>0.991078</td>\n",
              "      <td>0.743191</td>\n",
              "    </tr>\n",
              "    <tr>\n",
              "      <th>2</th>\n",
              "      <td>0.998822</td>\n",
              "      <td>0.990869</td>\n",
              "      <td>0.744559</td>\n",
              "    </tr>\n",
              "    <tr>\n",
              "      <th>3</th>\n",
              "      <td>0.998881</td>\n",
              "      <td>0.990810</td>\n",
              "      <td>0.745977</td>\n",
              "    </tr>\n",
              "    <tr>\n",
              "      <th>4</th>\n",
              "      <td>0.999425</td>\n",
              "      <td>0.992308</td>\n",
              "      <td>0.690226</td>\n",
              "    </tr>\n",
              "    <tr>\n",
              "      <th>5</th>\n",
              "      <td>0.996839</td>\n",
              "      <td>0.994872</td>\n",
              "      <td>0.701504</td>\n",
              "    </tr>\n",
              "    <tr>\n",
              "      <th>6</th>\n",
              "      <td>0.998276</td>\n",
              "      <td>0.994838</td>\n",
              "      <td>0.746992</td>\n",
              "    </tr>\n",
              "    <tr>\n",
              "      <th>7</th>\n",
              "      <td>0.998372</td>\n",
              "      <td>0.993950</td>\n",
              "      <td>0.716040</td>\n",
              "    </tr>\n",
              "    <tr>\n",
              "      <th>8</th>\n",
              "      <td>0.998708</td>\n",
              "      <td>0.992881</td>\n",
              "      <td>0.715602</td>\n",
              "    </tr>\n",
              "    <tr>\n",
              "      <th>9</th>\n",
              "      <td>0.998966</td>\n",
              "      <td>0.992240</td>\n",
              "      <td>0.713534</td>\n",
              "    </tr>\n",
              "    <tr>\n",
              "      <th>10</th>\n",
              "      <td>0.999138</td>\n",
              "      <td>0.991802</td>\n",
              "      <td>0.722431</td>\n",
              "    </tr>\n",
              "    <tr>\n",
              "      <th>11</th>\n",
              "      <td>0.999261</td>\n",
              "      <td>0.990380</td>\n",
              "      <td>0.723738</td>\n",
              "    </tr>\n",
              "    <tr>\n",
              "      <th>12</th>\n",
              "      <td>0.998530</td>\n",
              "      <td>0.990612</td>\n",
              "      <td>0.727726</td>\n",
              "    </tr>\n",
              "    <tr>\n",
              "      <th>13</th>\n",
              "      <td>0.998661</td>\n",
              "      <td>0.991371</td>\n",
              "      <td>0.729156</td>\n",
              "    </tr>\n",
              "    <tr>\n",
              "      <th>14</th>\n",
              "      <td>0.998795</td>\n",
              "      <td>0.991194</td>\n",
              "      <td>0.729474</td>\n",
              "    </tr>\n",
              "    <tr>\n",
              "      <th>15</th>\n",
              "      <td>0.998826</td>\n",
              "      <td>0.990811</td>\n",
              "      <td>0.730554</td>\n",
              "    </tr>\n",
              "    <tr>\n",
              "      <th>16</th>\n",
              "      <td>0.998853</td>\n",
              "      <td>0.990924</td>\n",
              "      <td>0.734900</td>\n",
              "    </tr>\n",
              "    <tr>\n",
              "      <th>17</th>\n",
              "      <td>0.998853</td>\n",
              "      <td>0.991031</td>\n",
              "      <td>0.736148</td>\n",
              "    </tr>\n",
              "    <tr>\n",
              "      <th>18</th>\n",
              "      <td>0.998483</td>\n",
              "      <td>0.991296</td>\n",
              "      <td>0.739205</td>\n",
              "    </tr>\n",
              "    <tr>\n",
              "      <th>19</th>\n",
              "      <td>0.998527</td>\n",
              "      <td>0.991017</td>\n",
              "      <td>0.730727</td>\n",
              "    </tr>\n",
              "    <tr>\n",
              "      <th>20</th>\n",
              "      <td>0.998619</td>\n",
              "      <td>0.990604</td>\n",
              "      <td>0.733929</td>\n",
              "    </tr>\n",
              "    <tr>\n",
              "      <th>21</th>\n",
              "      <td>0.998934</td>\n",
              "      <td>0.990878</td>\n",
              "      <td>0.746867</td>\n",
              "    </tr>\n",
              "    <tr>\n",
              "      <th>22</th>\n",
              "      <td>0.998982</td>\n",
              "      <td>0.990937</td>\n",
              "      <td>0.746070</td>\n",
              "    </tr>\n",
              "    <tr>\n",
              "      <th>23</th>\n",
              "      <td>0.998996</td>\n",
              "      <td>0.990829</td>\n",
              "      <td>0.746654</td>\n",
              "    </tr>\n",
              "  </tbody>\n",
              "</table>\n",
              "</div>"
            ],
            "text/plain": [
              "    Train Accuracy  Val Accuracy  Test Accuracy\n",
              "0         0.998700      0.990704       0.735692\n",
              "1         0.998772      0.991078       0.743191\n",
              "2         0.998822      0.990869       0.744559\n",
              "3         0.998881      0.990810       0.745977\n",
              "4         0.999425      0.992308       0.690226\n",
              "5         0.996839      0.994872       0.701504\n",
              "6         0.998276      0.994838       0.746992\n",
              "7         0.998372      0.993950       0.716040\n",
              "8         0.998708      0.992881       0.715602\n",
              "9         0.998966      0.992240       0.713534\n",
              "10        0.999138      0.991802       0.722431\n",
              "11        0.999261      0.990380       0.723738\n",
              "12        0.998530      0.990612       0.727726\n",
              "13        0.998661      0.991371       0.729156\n",
              "14        0.998795      0.991194       0.729474\n",
              "15        0.998826      0.990811       0.730554\n",
              "16        0.998853      0.990924       0.734900\n",
              "17        0.998853      0.991031       0.736148\n",
              "18        0.998483      0.991296       0.739205\n",
              "19        0.998527      0.991017       0.730727\n",
              "20        0.998619      0.990604       0.733929\n",
              "21        0.998934      0.990878       0.746867\n",
              "22        0.998982      0.990937       0.746070\n",
              "23        0.998996      0.990829       0.746654"
            ]
          },
          "metadata": {
            "tags": []
          },
          "execution_count": 112
        }
      ]
    },
    {
      "cell_type": "code",
      "metadata": {
        "colab": {
          "base_uri": "https://localhost:8080/"
        },
        "id": "gkfw1bz-dKwR",
        "outputId": "ead7aa3a-f794-43e4-89f8-80a81adbafd8"
      },
      "source": [
        "Accuracy_Table_Uni.mean(axis=0)"
      ],
      "execution_count": null,
      "outputs": [
        {
          "output_type": "execute_result",
          "data": {
            "text/plain": [
              "Train Accuracy    0.998718\n",
              "Val Accuracy      0.991593\n",
              "Test Accuracy     0.730454\n",
              "dtype: float64"
            ]
          },
          "metadata": {
            "tags": []
          },
          "execution_count": 113
        }
      ]
    },
    {
      "cell_type": "code",
      "metadata": {
        "colab": {
          "base_uri": "https://localhost:8080/"
        },
        "id": "PNDFBx6NdUb5",
        "outputId": "fddd280e-d3cf-4229-ff9b-26362f28f206"
      },
      "source": [
        "Accuracy_Table_Uni.std(axis=0)"
      ],
      "execution_count": null,
      "outputs": [
        {
          "output_type": "execute_result",
          "data": {
            "text/plain": [
              "Train Accuracy    0.000480\n",
              "Val Accuracy      0.001296\n",
              "Test Accuracy     0.014906\n",
              "dtype: float64"
            ]
          },
          "metadata": {
            "tags": []
          },
          "execution_count": 70
        }
      ]
    },
    {
      "cell_type": "markdown",
      "metadata": {
        "id": "Uj_y3AEe1IWn"
      },
      "source": [
        "# Graph Classifier Saved Model Eval"
      ]
    },
    {
      "cell_type": "code",
      "metadata": {
        "id": "1NfaAsckovzc"
      },
      "source": [
        "model = torch.load('/content/gdrive/My Drive/ZFDataset/SavedModels/Graph/Overall_Fold3_16_05_2021_05_56_Train_1.0_Val_0.9744_Test_0.8571')\n",
        "model.eval()"
      ],
      "execution_count": null,
      "outputs": []
    },
    {
      "cell_type": "code",
      "metadata": {
        "id": "n9nRuMdP1fL3"
      },
      "source": [
        "Add the Class section"
      ],
      "execution_count": null,
      "outputs": []
    },
    {
      "cell_type": "code",
      "metadata": {
        "id": "WoumPXK51aAe"
      },
      "source": [
        "Graph_Total_Test = []\n",
        "Label_Total_Test = []\n",
        "\n",
        "for key in encoded_targets_test['key'].unique():\n",
        "    print(key)\n",
        "    graph_current, label_current = create_graph_label(Tutor_dataset, key, label_select='Nest')\n",
        "    Graph_Total_Test.append(graph_current)\n",
        "    Label_Total_Test.append(label_current)\n",
        "\n",
        "targets_test = torch.as_tensor(le.transform(encoded_targets_test['Nest']), dtype=torch.long)\n",
        "\n",
        "testset = ZebraFinchDataset(Graph_Total_Test, targets_test)\n",
        "\n",
        "data_loader_test = DataLoader(testset, batch_size=32, shuffle=True, collate_fn=collate)"
      ],
      "execution_count": null,
      "outputs": []
    },
    {
      "cell_type": "code",
      "metadata": {
        "id": "_0DPGVYb1eF8"
      },
      "source": [
        "Classify_layer_pred = []\n",
        "Classify_layer_labels = []\n",
        "\n",
        "# actual_label = []\n",
        "predicted_label = []\n",
        "\n",
        "for i in range(0,len(Graph_Total_Test)):\n",
        "  h1 = F.relu(model.conv1(Graph_Total_Test[i], Graph_Total_Test[i].ndata['h'].float()))\n",
        "  h2 = F.relu(model.conv2(Graph_Total_Test[i], h1))\n",
        "  Classify_layer_pred.append(np.mean(h2.detach().numpy(),0))\n",
        "  Classify_layer_labels.append(Label_Total_Test[i])\n",
        "  test_prediction = model(Graph_Total_Test[i])\n",
        "  pred_label_test = torch.max(test_prediction, 1)[1]\n",
        "  # actual_label.extend(label_test.numpy())\n",
        "  predicted_label.extend(pred_label_test.numpy())\n",
        "conf_mat_graph = confusion_matrix(le.transform(Label_Total_Test), predicted_label)\n",
        "accuracy_score(le.transform(Label_Total_Test), predicted_label)"
      ],
      "execution_count": null,
      "outputs": []
    },
    {
      "cell_type": "code",
      "metadata": {
        "id": "p4F9L4uO1m0j"
      },
      "source": [
        "conf_mat_graph = np.array([[ 7,  0,  0,  0,  0],\n",
        "       [ 0, 13,  3,  1,  0],\n",
        "       [ 0,  1, 38,  0,  0],\n",
        "       [ 0,  3,  0, 31,  0],\n",
        "       [12,  0,  0,  0, 24]])"
      ],
      "execution_count": null,
      "outputs": []
    },
    {
      "cell_type": "code",
      "metadata": {
        "id": "sbQL5wnB0idk"
      },
      "source": [
        "conf_mat_graph = pd.DataFrame(conf_mat_graph)\n",
        "conf_mat_graph.columns = ['Nest 1', 'Nest 2', 'Nest 3', 'Nest 4', 'Nest 5']\n",
        "conf_mat_graph.index = ['Nest 1', 'Nest 2', 'Nest 3', 'Nest 4', 'Nest 5']\n",
        "conf_mat_graph.columns.names = ['Predicted Labels']\n",
        "conf_mat_graph.index.names = ['True Labels']"
      ],
      "execution_count": null,
      "outputs": []
    },
    {
      "cell_type": "code",
      "metadata": {
        "id": "L-IFHqKfkSH6"
      },
      "source": [
        "conf_mat_lstm_bidir = pd.DataFrame(conf_mat_lstm_bidir)\n",
        "conf_mat_lstm_bidir.columns = ['Nest 1', 'Nest 2', 'Nest 3', 'Nest 4', 'Nest 5']\n",
        "conf_mat_lstm_bidir.index = ['Nest 1', 'Nest 2', 'Nest 3', 'Nest 4', 'Nest 5']\n",
        "conf_mat_lstm_bidir.columns.names = ['Predicted Labels']\n",
        "conf_mat_lstm_bidir.index.names = ['True Labels']"
      ],
      "execution_count": null,
      "outputs": []
    },
    {
      "cell_type": "code",
      "metadata": {
        "id": "BPIXb0tQ0xpv"
      },
      "source": [
        "conf_mat_lstm = pd.DataFrame(conf_mat_lstm)\n",
        "conf_mat_lstm.columns = ['Nest 1', 'Nest 2', 'Nest 3', 'Nest 4', 'Nest 5']\n",
        "conf_mat_lstm.index = ['Nest 1', 'Nest 2', 'Nest 3', 'Nest 4', 'Nest 5']\n",
        "conf_mat_lstm.columns.names = ['Predicted Labels']\n",
        "conf_mat_lstm.index.names = ['True Labels']"
      ],
      "execution_count": null,
      "outputs": []
    },
    {
      "cell_type": "code",
      "metadata": {
        "id": "NPLnJd9q2H0G"
      },
      "source": [
        "import seaborn as sns"
      ],
      "execution_count": null,
      "outputs": []
    },
    {
      "cell_type": "code",
      "metadata": {
        "colab": {
          "base_uri": "https://localhost:8080/",
          "height": 532
        },
        "id": "-WwcpveR0uxU",
        "outputId": "43a8242d-3e45-4817-8cee-c67de2f410fe"
      },
      "source": [
        "fig, axs = plt.subplots(1,2,figsize=(10,8))\n",
        "sns.set(font_scale=1.4)\n",
        "sns.heatmap(conf_mat_lstm, cbar=False, cmap=cm.Purples,annot=True,annot_kws={\"size\": 16}, ax=axs[0])\n",
        "axs[0].set_title('Unidirectional LSTM Classifier')\n",
        "sns.heatmap(conf_mat_lstm_bidir, cbar=False, cmap=cm.Purples,annot=True,annot_kws={\"size\": 16}, ax=axs[1])\n",
        "axs[1].set_title('Bidirectional LSTM Classifier')\n",
        "\n",
        "plt.show()"
      ],
      "execution_count": null,
      "outputs": [
        {
          "output_type": "display_data",
          "data": {
            "image/png": "[encoded data removed]",
            "text/plain": [
              "<Figure size 720x576 with 2 Axes>"
            ]
          },
          "metadata": {
            "tags": []
          }
        }
      ]
    },
    {
      "cell_type": "code",
      "metadata": {
        "id": "c635KITe2Bgw"
      },
      "source": [
        "from os import walk"
      ],
      "execution_count": null,
      "outputs": []
    },
    {
      "cell_type": "code",
      "metadata": {
        "id": "gLmzW5rRkIYe"
      },
      "source": [
        "search_path = '/content/gdrive/My Drive/ZFDataset/SavedModels/Final Architecture/LSTM/'\n",
        "_, _, filenames = next(walk(search_path))"
      ],
      "execution_count": null,
      "outputs": []
    },
    {
      "cell_type": "code",
      "metadata": {
        "colab": {
          "base_uri": "https://localhost:8080/"
        },
        "id": "oM3VgHiVkTbP",
        "outputId": "0aec3cc8-8f8c-4f0c-a1c5-4e711ac15633"
      },
      "source": [
        "Accuracy_Table = pd.DataFrame(columns=['Train Accuracy', 'Val Accuracy', 'Test Accuracy'])\n",
        "\n",
        "for file in filenames:\n",
        "  if 'Accuracy_Table_Test' in file:\n",
        "    print(file)\n",
        "    Acc_data = pd.read_csv(search_path+file, index_col=False)\n",
        "    Acc_data = Acc_data.drop(columns=['Unnamed: 0'])\n",
        "    Accuracy_Table = Accuracy_Table.append(pd.Series(Acc_data.mean(axis=0).values, index=Accuracy_Table.columns.values), ignore_index=True)"
      ],
      "execution_count": null,
      "outputs": [
        {
          "output_type": "stream",
          "text": [
            "Accuracy_Table_Test_Random_3859.csv\n",
            "Accuracy_Table_Test_Random_7857.csv\n",
            "Accuracy_Table_Test_Random_7980.csv\n",
            "Accuracy_Table_Test_Random_2999.csv\n",
            "Accuracy_Table_Test_Random_3324.csv\n",
            "Accuracy_Table_Test_Random_1778.csv\n",
            "Accuracy_Table_Test_Random_329.csv\n",
            "Accuracy_Table_Test_Random_5689.csv\n",
            "Accuracy_Table_Test_Random_2746.csv\n",
            "Accuracy_Table_Test_Random_8964.csv\n",
            "Accuracy_Table_Test_Random_70.csv\n",
            "Accuracy_Table_Test_Random_4786.csv\n",
            "Accuracy_Table_Test_Random_2816.csv\n",
            "Accuracy_Table_Test_Random_2405.csv\n",
            "Accuracy_Table_Test_Random_2681.csv\n",
            "Accuracy_Table_Test_Random_5769.csv\n",
            "Accuracy_Table_Test_Random_9327.csv\n",
            "Accuracy_Table_Test_Random_7867.csv\n",
            "Accuracy_Table_Test_Random_4469.csv\n",
            "Accuracy_Table_Test_Random_4928.csv\n",
            "Accuracy_Table_Test_Random_5730.csv\n",
            "Accuracy_Table_Test_Random_858.csv\n",
            "Accuracy_Table_Test_Random_6775.csv\n",
            "Accuracy_Table_Test_Random_5487.csv\n",
            "Accuracy_Table_Test_Random_1464.csv\n",
            "Accuracy_Table_Test_Random_7365.csv\n",
            "Accuracy_Table_Test_Random_4313.csv\n",
            "Accuracy_Table_Test_Random_9324.csv\n",
            "Accuracy_Table_Test_Random_8958.csv\n",
            "Accuracy_Table_Test_Random_7663.csv\n",
            "Accuracy_Table_Test_Random_5362.csv\n",
            "Accuracy_Table_Test_Random_299.csv\n",
            "Accuracy_Table_Test_Random_4931.csv\n",
            "Accuracy_Table_Test_Random_4906.csv\n",
            "Accuracy_Table_Test_Random_5007.csv\n",
            "Accuracy_Table_Test_Random_5848.csv\n",
            "Accuracy_Table_Test_Random_5119.csv\n",
            "Accuracy_Table_Test_Random_5397.csv\n",
            "Accuracy_Table_Test_Random_7172.csv\n",
            "Accuracy_Table_Test_Random_6862.csv\n",
            "Accuracy_Table_Test_Random_3981.csv\n",
            "Accuracy_Table_Test_Random_8262.csv\n",
            "Accuracy_Table_Test_Random_5441.csv\n",
            "Accuracy_Table_Test_Random_4702.csv\n",
            "Accuracy_Table_Test_Random_4177.csv\n",
            "Accuracy_Table_Test_Random_2611.csv\n",
            "Accuracy_Table_Test_Random_6342.csv\n",
            "Accuracy_Table_Test_Random_9402.csv\n",
            "Accuracy_Table_Test_Random_5609.csv\n",
            "Accuracy_Table_Test_Random_3590.csv\n"
          ],
          "name": "stdout"
        }
      ]
    },
    {
      "cell_type": "code",
      "metadata": {
        "colab": {
          "base_uri": "https://localhost:8080/",
          "height": 1000
        },
        "id": "Z6_BRoxAkVeX",
        "outputId": "80fb04f1-9443-4f4e-d4e9-cce30ad8e8f3"
      },
      "source": [
        "Accuracy_Table"
      ],
      "execution_count": null,
      "outputs": [
        {
          "output_type": "execute_result",
          "data": {
            "text/html": [
              "<div>\n",
              "<style scoped>\n",
              "    .dataframe tbody tr th:only-of-type {\n",
              "        vertical-align: middle;\n",
              "    }\n",
              "\n",
              "    .dataframe tbody tr th {\n",
              "        vertical-align: top;\n",
              "    }\n",
              "\n",
              "    .dataframe thead th {\n",
              "        text-align: right;\n",
              "    }\n",
              "</style>\n",
              "<table border=\"1\" class=\"dataframe\">\n",
              "  <thead>\n",
              "    <tr style=\"text-align: right;\">\n",
              "      <th></th>\n",
              "      <th>Train Accuracy</th>\n",
              "      <th>Val Accuracy</th>\n",
              "      <th>Test Accuracy</th>\n",
              "    </tr>\n",
              "  </thead>\n",
              "  <tbody>\n",
              "    <tr>\n",
              "      <th>0</th>\n",
              "      <td>0.996839</td>\n",
              "      <td>0.997436</td>\n",
              "      <td>0.736090</td>\n",
              "    </tr>\n",
              "    <tr>\n",
              "      <th>1</th>\n",
              "      <td>0.997846</td>\n",
              "      <td>0.996154</td>\n",
              "      <td>0.735338</td>\n",
              "    </tr>\n",
              "    <tr>\n",
              "      <th>2</th>\n",
              "      <td>0.998564</td>\n",
              "      <td>0.993950</td>\n",
              "      <td>0.754637</td>\n",
              "    </tr>\n",
              "    <tr>\n",
              "      <th>3</th>\n",
              "      <td>0.997917</td>\n",
              "      <td>0.994163</td>\n",
              "      <td>0.750564</td>\n",
              "    </tr>\n",
              "    <tr>\n",
              "      <th>4</th>\n",
              "      <td>0.998105</td>\n",
              "      <td>0.994292</td>\n",
              "      <td>0.762707</td>\n",
              "    </tr>\n",
              "    <tr>\n",
              "      <th>5</th>\n",
              "      <td>0.997894</td>\n",
              "      <td>0.994804</td>\n",
              "      <td>0.768421</td>\n",
              "    </tr>\n",
              "    <tr>\n",
              "      <th>6</th>\n",
              "      <td>0.998195</td>\n",
              "      <td>0.994062</td>\n",
              "      <td>0.776047</td>\n",
              "    </tr>\n",
              "    <tr>\n",
              "      <th>7</th>\n",
              "      <td>0.998420</td>\n",
              "      <td>0.993497</td>\n",
              "      <td>0.778008</td>\n",
              "    </tr>\n",
              "    <tr>\n",
              "      <th>8</th>\n",
              "      <td>0.998532</td>\n",
              "      <td>0.993357</td>\n",
              "      <td>0.778195</td>\n",
              "    </tr>\n",
              "    <tr>\n",
              "      <th>9</th>\n",
              "      <td>0.998622</td>\n",
              "      <td>0.993509</td>\n",
              "      <td>0.777068</td>\n",
              "    </tr>\n",
              "    <tr>\n",
              "      <th>10</th>\n",
              "      <td>0.998747</td>\n",
              "      <td>0.993627</td>\n",
              "      <td>0.781340</td>\n",
              "    </tr>\n",
              "    <tr>\n",
              "      <th>11</th>\n",
              "      <td>0.998851</td>\n",
              "      <td>0.993725</td>\n",
              "      <td>0.781704</td>\n",
              "    </tr>\n",
              "    <tr>\n",
              "      <th>12</th>\n",
              "      <td>0.998940</td>\n",
              "      <td>0.993413</td>\n",
              "      <td>0.775188</td>\n",
              "    </tr>\n",
              "    <tr>\n",
              "      <th>13</th>\n",
              "      <td>0.999015</td>\n",
              "      <td>0.993513</td>\n",
              "      <td>0.776853</td>\n",
              "    </tr>\n",
              "    <tr>\n",
              "      <th>14</th>\n",
              "      <td>0.999081</td>\n",
              "      <td>0.993428</td>\n",
              "      <td>0.777043</td>\n",
              "    </tr>\n",
              "    <tr>\n",
              "      <th>15</th>\n",
              "      <td>0.999138</td>\n",
              "      <td>0.993354</td>\n",
              "      <td>0.778806</td>\n",
              "    </tr>\n",
              "    <tr>\n",
              "      <th>16</th>\n",
              "      <td>0.999189</td>\n",
              "      <td>0.992990</td>\n",
              "      <td>0.779478</td>\n",
              "    </tr>\n",
              "    <tr>\n",
              "      <th>17</th>\n",
              "      <td>0.999234</td>\n",
              "      <td>0.993091</td>\n",
              "      <td>0.779365</td>\n",
              "    </tr>\n",
              "    <tr>\n",
              "      <th>18</th>\n",
              "      <td>0.999275</td>\n",
              "      <td>0.993050</td>\n",
              "      <td>0.781005</td>\n",
              "    </tr>\n",
              "    <tr>\n",
              "      <th>19</th>\n",
              "      <td>0.999225</td>\n",
              "      <td>0.993013</td>\n",
              "      <td>0.782030</td>\n",
              "    </tr>\n",
              "    <tr>\n",
              "      <th>20</th>\n",
              "      <td>0.999166</td>\n",
              "      <td>0.992725</td>\n",
              "      <td>0.781489</td>\n",
              "    </tr>\n",
              "    <tr>\n",
              "      <th>21</th>\n",
              "      <td>0.999204</td>\n",
              "      <td>0.992584</td>\n",
              "      <td>0.783630</td>\n",
              "    </tr>\n",
              "    <tr>\n",
              "      <th>22</th>\n",
              "      <td>0.999238</td>\n",
              "      <td>0.992460</td>\n",
              "      <td>0.782707</td>\n",
              "    </tr>\n",
              "    <tr>\n",
              "      <th>23</th>\n",
              "      <td>0.999246</td>\n",
              "      <td>0.992451</td>\n",
              "      <td>0.781454</td>\n",
              "    </tr>\n",
              "    <tr>\n",
              "      <th>24</th>\n",
              "      <td>0.998795</td>\n",
              "      <td>0.992548</td>\n",
              "      <td>0.779970</td>\n",
              "    </tr>\n",
              "    <tr>\n",
              "      <th>25</th>\n",
              "      <td>0.998830</td>\n",
              "      <td>0.992632</td>\n",
              "      <td>0.781145</td>\n",
              "    </tr>\n",
              "    <tr>\n",
              "      <th>26</th>\n",
              "      <td>0.998863</td>\n",
              "      <td>0.992525</td>\n",
              "      <td>0.780869</td>\n",
              "    </tr>\n",
              "    <tr>\n",
              "      <th>27</th>\n",
              "      <td>0.998904</td>\n",
              "      <td>0.992609</td>\n",
              "      <td>0.780908</td>\n",
              "    </tr>\n",
              "    <tr>\n",
              "      <th>28</th>\n",
              "      <td>0.998941</td>\n",
              "      <td>0.992685</td>\n",
              "      <td>0.780736</td>\n",
              "    </tr>\n",
              "    <tr>\n",
              "      <th>29</th>\n",
              "      <td>0.998977</td>\n",
              "      <td>0.992758</td>\n",
              "      <td>0.780576</td>\n",
              "    </tr>\n",
              "    <tr>\n",
              "      <th>30</th>\n",
              "      <td>0.999010</td>\n",
              "      <td>0.992821</td>\n",
              "      <td>0.781033</td>\n",
              "    </tr>\n",
              "    <tr>\n",
              "      <th>31</th>\n",
              "      <td>0.999041</td>\n",
              "      <td>0.992803</td>\n",
              "      <td>0.781485</td>\n",
              "    </tr>\n",
              "    <tr>\n",
              "      <th>32</th>\n",
              "      <td>0.999070</td>\n",
              "      <td>0.992627</td>\n",
              "      <td>0.783869</td>\n",
              "    </tr>\n",
              "    <tr>\n",
              "      <th>33</th>\n",
              "      <td>0.999038</td>\n",
              "      <td>0.992617</td>\n",
              "      <td>0.781955</td>\n",
              "    </tr>\n",
              "    <tr>\n",
              "      <th>34</th>\n",
              "      <td>0.999057</td>\n",
              "      <td>0.992460</td>\n",
              "      <td>0.783459</td>\n",
              "    </tr>\n",
              "    <tr>\n",
              "      <th>35</th>\n",
              "      <td>0.999075</td>\n",
              "      <td>0.992385</td>\n",
              "      <td>0.784190</td>\n",
              "    </tr>\n",
              "    <tr>\n",
              "      <th>36</th>\n",
              "      <td>0.999062</td>\n",
              "      <td>0.992452</td>\n",
              "      <td>0.783967</td>\n",
              "    </tr>\n",
              "    <tr>\n",
              "      <th>37</th>\n",
              "      <td>0.991833</td>\n",
              "      <td>0.992881</td>\n",
              "      <td>0.819737</td>\n",
              "    </tr>\n",
              "    <tr>\n",
              "      <th>38</th>\n",
              "      <td>0.993466</td>\n",
              "      <td>0.993266</td>\n",
              "      <td>0.817143</td>\n",
              "    </tr>\n",
              "    <tr>\n",
              "      <th>39</th>\n",
              "      <td>0.994555</td>\n",
              "      <td>0.992668</td>\n",
              "      <td>0.821178</td>\n",
              "    </tr>\n",
              "    <tr>\n",
              "      <th>40</th>\n",
              "      <td>0.995333</td>\n",
              "      <td>0.992616</td>\n",
              "      <td>0.822879</td>\n",
              "    </tr>\n",
              "    <tr>\n",
              "      <th>41</th>\n",
              "      <td>0.995916</td>\n",
              "      <td>0.993219</td>\n",
              "      <td>0.819361</td>\n",
              "    </tr>\n",
              "    <tr>\n",
              "      <th>42</th>\n",
              "      <td>0.996370</td>\n",
              "      <td>0.992833</td>\n",
              "      <td>0.816959</td>\n",
              "    </tr>\n",
              "    <tr>\n",
              "      <th>43</th>\n",
              "      <td>0.996733</td>\n",
              "      <td>0.993293</td>\n",
              "      <td>0.817669</td>\n",
              "    </tr>\n",
              "    <tr>\n",
              "      <th>44</th>\n",
              "      <td>0.997030</td>\n",
              "      <td>0.992970</td>\n",
              "      <td>0.814422</td>\n",
              "    </tr>\n",
              "    <tr>\n",
              "      <th>45</th>\n",
              "      <td>0.997015</td>\n",
              "      <td>0.993556</td>\n",
              "      <td>0.810526</td>\n",
              "    </tr>\n",
              "    <tr>\n",
              "      <th>46</th>\n",
              "      <td>0.997090</td>\n",
              "      <td>0.993460</td>\n",
              "      <td>0.807056</td>\n",
              "    </tr>\n",
              "    <tr>\n",
              "      <th>47</th>\n",
              "      <td>0.997298</td>\n",
              "      <td>0.993185</td>\n",
              "      <td>0.803383</td>\n",
              "    </tr>\n",
              "    <tr>\n",
              "      <th>48</th>\n",
              "      <td>0.996828</td>\n",
              "      <td>0.993468</td>\n",
              "      <td>0.796040</td>\n",
              "    </tr>\n",
              "    <tr>\n",
              "      <th>49</th>\n",
              "      <td>0.996950</td>\n",
              "      <td>0.993555</td>\n",
              "      <td>0.796992</td>\n",
              "    </tr>\n",
              "  </tbody>\n",
              "</table>\n",
              "</div>"
            ],
            "text/plain": [
              "    Train Accuracy  Val Accuracy  Test Accuracy\n",
              "0         0.996839      0.997436       0.736090\n",
              "1         0.997846      0.996154       0.735338\n",
              "2         0.998564      0.993950       0.754637\n",
              "3         0.997917      0.994163       0.750564\n",
              "4         0.998105      0.994292       0.762707\n",
              "5         0.997894      0.994804       0.768421\n",
              "6         0.998195      0.994062       0.776047\n",
              "7         0.998420      0.993497       0.778008\n",
              "8         0.998532      0.993357       0.778195\n",
              "9         0.998622      0.993509       0.777068\n",
              "10        0.998747      0.993627       0.781340\n",
              "11        0.998851      0.993725       0.781704\n",
              "12        0.998940      0.993413       0.775188\n",
              "13        0.999015      0.993513       0.776853\n",
              "14        0.999081      0.993428       0.777043\n",
              "15        0.999138      0.993354       0.778806\n",
              "16        0.999189      0.992990       0.779478\n",
              "17        0.999234      0.993091       0.779365\n",
              "18        0.999275      0.993050       0.781005\n",
              "19        0.999225      0.993013       0.782030\n",
              "20        0.999166      0.992725       0.781489\n",
              "21        0.999204      0.992584       0.783630\n",
              "22        0.999238      0.992460       0.782707\n",
              "23        0.999246      0.992451       0.781454\n",
              "24        0.998795      0.992548       0.779970\n",
              "25        0.998830      0.992632       0.781145\n",
              "26        0.998863      0.992525       0.780869\n",
              "27        0.998904      0.992609       0.780908\n",
              "28        0.998941      0.992685       0.780736\n",
              "29        0.998977      0.992758       0.780576\n",
              "30        0.999010      0.992821       0.781033\n",
              "31        0.999041      0.992803       0.781485\n",
              "32        0.999070      0.992627       0.783869\n",
              "33        0.999038      0.992617       0.781955\n",
              "34        0.999057      0.992460       0.783459\n",
              "35        0.999075      0.992385       0.784190\n",
              "36        0.999062      0.992452       0.783967\n",
              "37        0.991833      0.992881       0.819737\n",
              "38        0.993466      0.993266       0.817143\n",
              "39        0.994555      0.992668       0.821178\n",
              "40        0.995333      0.992616       0.822879\n",
              "41        0.995916      0.993219       0.819361\n",
              "42        0.996370      0.992833       0.816959\n",
              "43        0.996733      0.993293       0.817669\n",
              "44        0.997030      0.992970       0.814422\n",
              "45        0.997015      0.993556       0.810526\n",
              "46        0.997090      0.993460       0.807056\n",
              "47        0.997298      0.993185       0.803383\n",
              "48        0.996828      0.993468       0.796040\n",
              "49        0.996950      0.993555       0.796992"
            ]
          },
          "metadata": {
            "tags": []
          },
          "execution_count": 11
        }
      ]
    },
    {
      "cell_type": "code",
      "metadata": {
        "colab": {
          "base_uri": "https://localhost:8080/"
        },
        "id": "eZTlAS8hkabX",
        "outputId": "bf439efb-5e1d-4b79-9ea9-995c523c86f0"
      },
      "source": [
        "Accuracy_Table.mean(axis=0).values"
      ],
      "execution_count": null,
      "outputs": [
        {
          "output_type": "execute_result",
          "data": {
            "text/plain": [
              "array([0.99803126, 0.99327075, 0.78533347])"
            ]
          },
          "metadata": {
            "tags": []
          },
          "execution_count": 12
        }
      ]
    },
    {
      "cell_type": "code",
      "metadata": {
        "colab": {
          "base_uri": "https://localhost:8080/"
        },
        "id": "uH8r-JGIllGH",
        "outputId": "2bba1ea1-0db5-4d44-ab72-44a3325ca042"
      },
      "source": [
        "Accuracy_Table.std(axis=0).values"
      ],
      "execution_count": null,
      "outputs": [
        {
          "output_type": "execute_result",
          "data": {
            "text/plain": [
              "array([0.00159406, 0.00091698, 0.01989415])"
            ]
          },
          "metadata": {
            "tags": []
          },
          "execution_count": 13
        }
      ]
    },
    {
      "cell_type": "code",
      "metadata": {
        "id": "vMWwI0dHlog_"
      },
      "source": [
        ""
      ],
      "execution_count": null,
      "outputs": []
    }
  ]
}