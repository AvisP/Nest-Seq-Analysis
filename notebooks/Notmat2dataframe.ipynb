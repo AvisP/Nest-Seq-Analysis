{
  "nbformat": 4,
  "nbformat_minor": 0,
  "metadata": {
    "colab": {
      "name": "Notmat2dataframe.ipynb",
      "provenance": [],
      "collapsed_sections": [],
      "machine_shape": "hm",
      "authorship_tag": "ABX9TyNplKHvaWSMuw9By3e4JlsZ",
      "include_colab_link": true
    },
    "kernelspec": {
      "name": "python3",
      "display_name": "Python 3"
    },
    "language_info": {
      "name": "python"
    },
    "widgets": {
      "application/vnd.jupyter.widget-state+json": {
        "8a74606b742a4cadb17ac82ad62792a6": {
          "model_module": "@jupyter-widgets/controls",
          "model_name": "HBoxModel",
          "state": {
            "_view_name": "HBoxView",
            "_dom_classes": [],
            "_model_name": "HBoxModel",
            "_view_module": "@jupyter-widgets/controls",
            "_model_module_version": "1.5.0",
            "_view_count": null,
            "_view_module_version": "1.5.0",
            "box_style": "",
            "layout": "IPY_MODEL_16e4abc86f4047ff98f62fb8524e1d3c",
            "_model_module": "@jupyter-widgets/controls",
            "children": [
              "IPY_MODEL_f45455f9287c4939a1ecad572b8caecc",
              "IPY_MODEL_c157e237563c4e508d8a3bdf59df10bf"
            ]
          }
        },
        "16e4abc86f4047ff98f62fb8524e1d3c": {
          "model_module": "@jupyter-widgets/base",
          "model_name": "LayoutModel",
          "state": {
            "_view_name": "LayoutView",
            "grid_template_rows": null,
            "right": null,
            "justify_content": null,
            "_view_module": "@jupyter-widgets/base",
            "overflow": null,
            "_model_module_version": "1.2.0",
            "_view_count": null,
            "flex_flow": null,
            "width": null,
            "min_width": null,
            "border": null,
            "align_items": null,
            "bottom": null,
            "_model_module": "@jupyter-widgets/base",
            "top": null,
            "grid_column": null,
            "overflow_y": null,
            "overflow_x": null,
            "grid_auto_flow": null,
            "grid_area": null,
            "grid_template_columns": null,
            "flex": null,
            "_model_name": "LayoutModel",
            "justify_items": null,
            "grid_row": null,
            "max_height": null,
            "align_content": null,
            "visibility": null,
            "align_self": null,
            "height": null,
            "min_height": null,
            "padding": null,
            "grid_auto_rows": null,
            "grid_gap": null,
            "max_width": null,
            "order": null,
            "_view_module_version": "1.2.0",
            "grid_template_areas": null,
            "object_position": null,
            "object_fit": null,
            "grid_auto_columns": null,
            "margin": null,
            "display": null,
            "left": null
          }
        },
        "f45455f9287c4939a1ecad572b8caecc": {
          "model_module": "@jupyter-widgets/controls",
          "model_name": "FloatProgressModel",
          "state": {
            "_view_name": "ProgressView",
            "style": "IPY_MODEL_390f4717b0584443bef3508365c1d915",
            "_dom_classes": [],
            "description": "100%",
            "_model_name": "FloatProgressModel",
            "bar_style": "success",
            "max": 77,
            "_view_module": "@jupyter-widgets/controls",
            "_model_module_version": "1.5.0",
            "value": 77,
            "_view_count": null,
            "_view_module_version": "1.5.0",
            "orientation": "horizontal",
            "min": 0,
            "description_tooltip": null,
            "_model_module": "@jupyter-widgets/controls",
            "layout": "IPY_MODEL_beb3536122b6460299f10c13320dbe99"
          }
        },
        "c157e237563c4e508d8a3bdf59df10bf": {
          "model_module": "@jupyter-widgets/controls",
          "model_name": "HTMLModel",
          "state": {
            "_view_name": "HTMLView",
            "style": "IPY_MODEL_a4b61e523b7743a1b76b6fe1718bbcf6",
            "_dom_classes": [],
            "description": "",
            "_model_name": "HTMLModel",
            "placeholder": "​",
            "_view_module": "@jupyter-widgets/controls",
            "_model_module_version": "1.5.0",
            "value": " 77/77 [02:05&lt;00:00,  1.63s/it]",
            "_view_count": null,
            "_view_module_version": "1.5.0",
            "description_tooltip": null,
            "_model_module": "@jupyter-widgets/controls",
            "layout": "IPY_MODEL_48980db13ba2477e8f994cb853198f5d"
          }
        },
        "390f4717b0584443bef3508365c1d915": {
          "model_module": "@jupyter-widgets/controls",
          "model_name": "ProgressStyleModel",
          "state": {
            "_view_name": "StyleView",
            "_model_name": "ProgressStyleModel",
            "description_width": "initial",
            "_view_module": "@jupyter-widgets/base",
            "_model_module_version": "1.5.0",
            "_view_count": null,
            "_view_module_version": "1.2.0",
            "bar_color": null,
            "_model_module": "@jupyter-widgets/controls"
          }
        },
        "beb3536122b6460299f10c13320dbe99": {
          "model_module": "@jupyter-widgets/base",
          "model_name": "LayoutModel",
          "state": {
            "_view_name": "LayoutView",
            "grid_template_rows": null,
            "right": null,
            "justify_content": null,
            "_view_module": "@jupyter-widgets/base",
            "overflow": null,
            "_model_module_version": "1.2.0",
            "_view_count": null,
            "flex_flow": null,
            "width": null,
            "min_width": null,
            "border": null,
            "align_items": null,
            "bottom": null,
            "_model_module": "@jupyter-widgets/base",
            "top": null,
            "grid_column": null,
            "overflow_y": null,
            "overflow_x": null,
            "grid_auto_flow": null,
            "grid_area": null,
            "grid_template_columns": null,
            "flex": null,
            "_model_name": "LayoutModel",
            "justify_items": null,
            "grid_row": null,
            "max_height": null,
            "align_content": null,
            "visibility": null,
            "align_self": null,
            "height": null,
            "min_height": null,
            "padding": null,
            "grid_auto_rows": null,
            "grid_gap": null,
            "max_width": null,
            "order": null,
            "_view_module_version": "1.2.0",
            "grid_template_areas": null,
            "object_position": null,
            "object_fit": null,
            "grid_auto_columns": null,
            "margin": null,
            "display": null,
            "left": null
          }
        },
        "a4b61e523b7743a1b76b6fe1718bbcf6": {
          "model_module": "@jupyter-widgets/controls",
          "model_name": "DescriptionStyleModel",
          "state": {
            "_view_name": "StyleView",
            "_model_name": "DescriptionStyleModel",
            "description_width": "",
            "_view_module": "@jupyter-widgets/base",
            "_model_module_version": "1.5.0",
            "_view_count": null,
            "_view_module_version": "1.2.0",
            "_model_module": "@jupyter-widgets/controls"
          }
        },
        "48980db13ba2477e8f994cb853198f5d": {
          "model_module": "@jupyter-widgets/base",
          "model_name": "LayoutModel",
          "state": {
            "_view_name": "LayoutView",
            "grid_template_rows": null,
            "right": null,
            "justify_content": null,
            "_view_module": "@jupyter-widgets/base",
            "overflow": null,
            "_model_module_version": "1.2.0",
            "_view_count": null,
            "flex_flow": null,
            "width": null,
            "min_width": null,
            "border": null,
            "align_items": null,
            "bottom": null,
            "_model_module": "@jupyter-widgets/base",
            "top": null,
            "grid_column": null,
            "overflow_y": null,
            "overflow_x": null,
            "grid_auto_flow": null,
            "grid_area": null,
            "grid_template_columns": null,
            "flex": null,
            "_model_name": "LayoutModel",
            "justify_items": null,
            "grid_row": null,
            "max_height": null,
            "align_content": null,
            "visibility": null,
            "align_self": null,
            "height": null,
            "min_height": null,
            "padding": null,
            "grid_auto_rows": null,
            "grid_gap": null,
            "max_width": null,
            "order": null,
            "_view_module_version": "1.2.0",
            "grid_template_areas": null,
            "object_position": null,
            "object_fit": null,
            "grid_auto_columns": null,
            "margin": null,
            "display": null,
            "left": null
          }
        },
        "9f3d83d600034b90a29aff6af275405b": {
          "model_module": "@jupyter-widgets/controls",
          "model_name": "HBoxModel",
          "state": {
            "_view_name": "HBoxView",
            "_dom_classes": [],
            "_model_name": "HBoxModel",
            "_view_module": "@jupyter-widgets/controls",
            "_model_module_version": "1.5.0",
            "_view_count": null,
            "_view_module_version": "1.5.0",
            "box_style": "",
            "layout": "IPY_MODEL_de09da38353f41009cc0529b2ea17f9b",
            "_model_module": "@jupyter-widgets/controls",
            "children": [
              "IPY_MODEL_adb2f0431b66411dbddfe53c7ba2df2d",
              "IPY_MODEL_29fbfdbce0574d768979c612b4aecf94"
            ]
          }
        },
        "de09da38353f41009cc0529b2ea17f9b": {
          "model_module": "@jupyter-widgets/base",
          "model_name": "LayoutModel",
          "state": {
            "_view_name": "LayoutView",
            "grid_template_rows": null,
            "right": null,
            "justify_content": null,
            "_view_module": "@jupyter-widgets/base",
            "overflow": null,
            "_model_module_version": "1.2.0",
            "_view_count": null,
            "flex_flow": null,
            "width": null,
            "min_width": null,
            "border": null,
            "align_items": null,
            "bottom": null,
            "_model_module": "@jupyter-widgets/base",
            "top": null,
            "grid_column": null,
            "overflow_y": null,
            "overflow_x": null,
            "grid_auto_flow": null,
            "grid_area": null,
            "grid_template_columns": null,
            "flex": null,
            "_model_name": "LayoutModel",
            "justify_items": null,
            "grid_row": null,
            "max_height": null,
            "align_content": null,
            "visibility": null,
            "align_self": null,
            "height": null,
            "min_height": null,
            "padding": null,
            "grid_auto_rows": null,
            "grid_gap": null,
            "max_width": null,
            "order": null,
            "_view_module_version": "1.2.0",
            "grid_template_areas": null,
            "object_position": null,
            "object_fit": null,
            "grid_auto_columns": null,
            "margin": null,
            "display": null,
            "left": null
          }
        },
        "adb2f0431b66411dbddfe53c7ba2df2d": {
          "model_module": "@jupyter-widgets/controls",
          "model_name": "FloatProgressModel",
          "state": {
            "_view_name": "ProgressView",
            "style": "IPY_MODEL_a0a0b63ccf734d759a3b885e88f381dd",
            "_dom_classes": [],
            "description": "loading json: 100%",
            "_model_name": "FloatProgressModel",
            "bar_style": "success",
            "max": 76,
            "_view_module": "@jupyter-widgets/controls",
            "_model_module_version": "1.5.0",
            "value": 76,
            "_view_count": null,
            "_view_module_version": "1.5.0",
            "orientation": "horizontal",
            "min": 0,
            "description_tooltip": null,
            "_model_module": "@jupyter-widgets/controls",
            "layout": "IPY_MODEL_15b8b983470749a6a97e2dca93e5ae99"
          }
        },
        "29fbfdbce0574d768979c612b4aecf94": {
          "model_module": "@jupyter-widgets/controls",
          "model_name": "HTMLModel",
          "state": {
            "_view_name": "HTMLView",
            "style": "IPY_MODEL_c242bb3f06e34678a2c6d49196a81ce8",
            "_dom_classes": [],
            "description": "",
            "_model_name": "HTMLModel",
            "placeholder": "​",
            "_view_module": "@jupyter-widgets/controls",
            "_model_module_version": "1.5.0",
            "value": " 76/76 [00:05&lt;00:00, 14.96it/s]",
            "_view_count": null,
            "_view_module_version": "1.5.0",
            "description_tooltip": null,
            "_model_module": "@jupyter-widgets/controls",
            "layout": "IPY_MODEL_d9d3e2acadc6475ab114261a859d8665"
          }
        },
        "a0a0b63ccf734d759a3b885e88f381dd": {
          "model_module": "@jupyter-widgets/controls",
          "model_name": "ProgressStyleModel",
          "state": {
            "_view_name": "StyleView",
            "_model_name": "ProgressStyleModel",
            "description_width": "initial",
            "_view_module": "@jupyter-widgets/base",
            "_model_module_version": "1.5.0",
            "_view_count": null,
            "_view_module_version": "1.2.0",
            "bar_color": null,
            "_model_module": "@jupyter-widgets/controls"
          }
        },
        "15b8b983470749a6a97e2dca93e5ae99": {
          "model_module": "@jupyter-widgets/base",
          "model_name": "LayoutModel",
          "state": {
            "_view_name": "LayoutView",
            "grid_template_rows": null,
            "right": null,
            "justify_content": null,
            "_view_module": "@jupyter-widgets/base",
            "overflow": null,
            "_model_module_version": "1.2.0",
            "_view_count": null,
            "flex_flow": null,
            "width": null,
            "min_width": null,
            "border": null,
            "align_items": null,
            "bottom": null,
            "_model_module": "@jupyter-widgets/base",
            "top": null,
            "grid_column": null,
            "overflow_y": null,
            "overflow_x": null,
            "grid_auto_flow": null,
            "grid_area": null,
            "grid_template_columns": null,
            "flex": null,
            "_model_name": "LayoutModel",
            "justify_items": null,
            "grid_row": null,
            "max_height": null,
            "align_content": null,
            "visibility": null,
            "align_self": null,
            "height": null,
            "min_height": null,
            "padding": null,
            "grid_auto_rows": null,
            "grid_gap": null,
            "max_width": null,
            "order": null,
            "_view_module_version": "1.2.0",
            "grid_template_areas": null,
            "object_position": null,
            "object_fit": null,
            "grid_auto_columns": null,
            "margin": null,
            "display": null,
            "left": null
          }
        },
        "c242bb3f06e34678a2c6d49196a81ce8": {
          "model_module": "@jupyter-widgets/controls",
          "model_name": "DescriptionStyleModel",
          "state": {
            "_view_name": "StyleView",
            "_model_name": "DescriptionStyleModel",
            "description_width": "",
            "_view_module": "@jupyter-widgets/base",
            "_model_module_version": "1.5.0",
            "_view_count": null,
            "_view_module_version": "1.2.0",
            "_model_module": "@jupyter-widgets/controls"
          }
        },
        "d9d3e2acadc6475ab114261a859d8665": {
          "model_module": "@jupyter-widgets/base",
          "model_name": "LayoutModel",
          "state": {
            "_view_name": "LayoutView",
            "grid_template_rows": null,
            "right": null,
            "justify_content": null,
            "_view_module": "@jupyter-widgets/base",
            "overflow": null,
            "_model_module_version": "1.2.0",
            "_view_count": null,
            "flex_flow": null,
            "width": null,
            "min_width": null,
            "border": null,
            "align_items": null,
            "bottom": null,
            "_model_module": "@jupyter-widgets/base",
            "top": null,
            "grid_column": null,
            "overflow_y": null,
            "overflow_x": null,
            "grid_auto_flow": null,
            "grid_area": null,
            "grid_template_columns": null,
            "flex": null,
            "_model_name": "LayoutModel",
            "justify_items": null,
            "grid_row": null,
            "max_height": null,
            "align_content": null,
            "visibility": null,
            "align_self": null,
            "height": null,
            "min_height": null,
            "padding": null,
            "grid_auto_rows": null,
            "grid_gap": null,
            "max_width": null,
            "order": null,
            "_view_module_version": "1.2.0",
            "grid_template_areas": null,
            "object_position": null,
            "object_fit": null,
            "grid_auto_columns": null,
            "margin": null,
            "display": null,
            "left": null
          }
        },
        "64af7a8c4156408e9081167215e8ca9b": {
          "model_module": "@jupyter-widgets/controls",
          "model_name": "HBoxModel",
          "state": {
            "_view_name": "HBoxView",
            "_dom_classes": [],
            "_model_name": "HBoxModel",
            "_view_module": "@jupyter-widgets/controls",
            "_model_module_version": "1.5.0",
            "_view_count": null,
            "_view_module_version": "1.5.0",
            "box_style": "",
            "layout": "IPY_MODEL_2caa5090547041b099062e5d7a8deb41",
            "_model_module": "@jupyter-widgets/controls",
            "children": [
              "IPY_MODEL_f96f48f7be044d5b82081ce6862d5eda",
              "IPY_MODEL_1408a0b8a1fb48eca0ed391b20231763"
            ]
          }
        },
        "2caa5090547041b099062e5d7a8deb41": {
          "model_module": "@jupyter-widgets/base",
          "model_name": "LayoutModel",
          "state": {
            "_view_name": "LayoutView",
            "grid_template_rows": null,
            "right": null,
            "justify_content": null,
            "_view_module": "@jupyter-widgets/base",
            "overflow": null,
            "_model_module_version": "1.2.0",
            "_view_count": null,
            "flex_flow": null,
            "width": null,
            "min_width": null,
            "border": null,
            "align_items": null,
            "bottom": null,
            "_model_module": "@jupyter-widgets/base",
            "top": null,
            "grid_column": null,
            "overflow_y": null,
            "overflow_x": null,
            "grid_auto_flow": null,
            "grid_area": null,
            "grid_template_columns": null,
            "flex": null,
            "_model_name": "LayoutModel",
            "justify_items": null,
            "grid_row": null,
            "max_height": null,
            "align_content": null,
            "visibility": null,
            "align_self": null,
            "height": null,
            "min_height": null,
            "padding": null,
            "grid_auto_rows": null,
            "grid_gap": null,
            "max_width": null,
            "order": null,
            "_view_module_version": "1.2.0",
            "grid_template_areas": null,
            "object_position": null,
            "object_fit": null,
            "grid_auto_columns": null,
            "margin": null,
            "display": null,
            "left": null
          }
        },
        "f96f48f7be044d5b82081ce6862d5eda": {
          "model_module": "@jupyter-widgets/controls",
          "model_name": "FloatProgressModel",
          "state": {
            "_view_name": "ProgressView",
            "style": "IPY_MODEL_3babb0973c0e458cbb7fd947cfc5a541",
            "_dom_classes": [],
            "description": "getting unique individuals: 100%",
            "_model_name": "FloatProgressModel",
            "bar_style": "",
            "max": 76,
            "_view_module": "@jupyter-widgets/controls",
            "_model_module_version": "1.5.0",
            "value": 76,
            "_view_count": null,
            "_view_module_version": "1.5.0",
            "orientation": "horizontal",
            "min": 0,
            "description_tooltip": null,
            "_model_module": "@jupyter-widgets/controls",
            "layout": "IPY_MODEL_ecef7391b96a45d4a56d8f3e56e8293c"
          }
        },
        "1408a0b8a1fb48eca0ed391b20231763": {
          "model_module": "@jupyter-widgets/controls",
          "model_name": "HTMLModel",
          "state": {
            "_view_name": "HTMLView",
            "style": "IPY_MODEL_2d791feb1f534f5caa8860032b8618ab",
            "_dom_classes": [],
            "description": "",
            "_model_name": "HTMLModel",
            "placeholder": "​",
            "_view_module": "@jupyter-widgets/controls",
            "_model_module_version": "1.5.0",
            "value": " 76/76 [00:00&lt;00:00, 3332.82it/s]",
            "_view_count": null,
            "_view_module_version": "1.5.0",
            "description_tooltip": null,
            "_model_module": "@jupyter-widgets/controls",
            "layout": "IPY_MODEL_85b1d53c8236483186ee6949887c9235"
          }
        },
        "3babb0973c0e458cbb7fd947cfc5a541": {
          "model_module": "@jupyter-widgets/controls",
          "model_name": "ProgressStyleModel",
          "state": {
            "_view_name": "StyleView",
            "_model_name": "ProgressStyleModel",
            "description_width": "initial",
            "_view_module": "@jupyter-widgets/base",
            "_model_module_version": "1.5.0",
            "_view_count": null,
            "_view_module_version": "1.2.0",
            "bar_color": null,
            "_model_module": "@jupyter-widgets/controls"
          }
        },
        "ecef7391b96a45d4a56d8f3e56e8293c": {
          "model_module": "@jupyter-widgets/base",
          "model_name": "LayoutModel",
          "state": {
            "_view_name": "LayoutView",
            "grid_template_rows": null,
            "right": null,
            "justify_content": null,
            "_view_module": "@jupyter-widgets/base",
            "overflow": null,
            "_model_module_version": "1.2.0",
            "_view_count": null,
            "flex_flow": null,
            "width": null,
            "min_width": null,
            "border": null,
            "align_items": null,
            "bottom": null,
            "_model_module": "@jupyter-widgets/base",
            "top": null,
            "grid_column": null,
            "overflow_y": null,
            "overflow_x": null,
            "grid_auto_flow": null,
            "grid_area": null,
            "grid_template_columns": null,
            "flex": null,
            "_model_name": "LayoutModel",
            "justify_items": null,
            "grid_row": null,
            "max_height": null,
            "align_content": null,
            "visibility": null,
            "align_self": null,
            "height": null,
            "min_height": null,
            "padding": null,
            "grid_auto_rows": null,
            "grid_gap": null,
            "max_width": null,
            "order": null,
            "_view_module_version": "1.2.0",
            "grid_template_areas": null,
            "object_position": null,
            "object_fit": null,
            "grid_auto_columns": null,
            "margin": null,
            "display": null,
            "left": null
          }
        },
        "2d791feb1f534f5caa8860032b8618ab": {
          "model_module": "@jupyter-widgets/controls",
          "model_name": "DescriptionStyleModel",
          "state": {
            "_view_name": "StyleView",
            "_model_name": "DescriptionStyleModel",
            "description_width": "",
            "_view_module": "@jupyter-widgets/base",
            "_model_module_version": "1.5.0",
            "_view_count": null,
            "_view_module_version": "1.2.0",
            "_model_module": "@jupyter-widgets/controls"
          }
        },
        "85b1d53c8236483186ee6949887c9235": {
          "model_module": "@jupyter-widgets/base",
          "model_name": "LayoutModel",
          "state": {
            "_view_name": "LayoutView",
            "grid_template_rows": null,
            "right": null,
            "justify_content": null,
            "_view_module": "@jupyter-widgets/base",
            "overflow": null,
            "_model_module_version": "1.2.0",
            "_view_count": null,
            "flex_flow": null,
            "width": null,
            "min_width": null,
            "border": null,
            "align_items": null,
            "bottom": null,
            "_model_module": "@jupyter-widgets/base",
            "top": null,
            "grid_column": null,
            "overflow_y": null,
            "overflow_x": null,
            "grid_auto_flow": null,
            "grid_area": null,
            "grid_template_columns": null,
            "flex": null,
            "_model_name": "LayoutModel",
            "justify_items": null,
            "grid_row": null,
            "max_height": null,
            "align_content": null,
            "visibility": null,
            "align_self": null,
            "height": null,
            "min_height": null,
            "padding": null,
            "grid_auto_rows": null,
            "grid_gap": null,
            "max_width": null,
            "order": null,
            "_view_module_version": "1.2.0",
            "grid_template_areas": null,
            "object_position": null,
            "object_fit": null,
            "grid_auto_columns": null,
            "margin": null,
            "display": null,
            "left": null
          }
        },
        "da745addfa294050800bb60724057388": {
          "model_module": "@jupyter-widgets/controls",
          "model_name": "HBoxModel",
          "state": {
            "_view_name": "HBoxView",
            "_dom_classes": [],
            "_model_name": "HBoxModel",
            "_view_module": "@jupyter-widgets/controls",
            "_model_module_version": "1.5.0",
            "_view_count": null,
            "_view_module_version": "1.5.0",
            "box_style": "",
            "layout": "IPY_MODEL_ff27e09127674b08af797ec6a8061f01",
            "_model_module": "@jupyter-widgets/controls",
            "children": [
              "IPY_MODEL_f6439abbfa63416d8d26754500e6994c",
              "IPY_MODEL_af23953492324bc38cab249036e12ff4"
            ]
          }
        },
        "ff27e09127674b08af797ec6a8061f01": {
          "model_module": "@jupyter-widgets/base",
          "model_name": "LayoutModel",
          "state": {
            "_view_name": "LayoutView",
            "grid_template_rows": null,
            "right": null,
            "justify_content": null,
            "_view_module": "@jupyter-widgets/base",
            "overflow": null,
            "_model_module_version": "1.2.0",
            "_view_count": null,
            "flex_flow": null,
            "width": null,
            "min_width": null,
            "border": null,
            "align_items": null,
            "bottom": null,
            "_model_module": "@jupyter-widgets/base",
            "top": null,
            "grid_column": null,
            "overflow_y": null,
            "overflow_x": null,
            "grid_auto_flow": null,
            "grid_area": null,
            "grid_template_columns": null,
            "flex": null,
            "_model_name": "LayoutModel",
            "justify_items": null,
            "grid_row": null,
            "max_height": null,
            "align_content": null,
            "visibility": null,
            "align_self": null,
            "height": null,
            "min_height": null,
            "padding": null,
            "grid_auto_rows": null,
            "grid_gap": null,
            "max_width": null,
            "order": null,
            "_view_module_version": "1.2.0",
            "grid_template_areas": null,
            "object_position": null,
            "object_fit": null,
            "grid_auto_columns": null,
            "margin": null,
            "display": null,
            "left": null
          }
        },
        "f6439abbfa63416d8d26754500e6994c": {
          "model_module": "@jupyter-widgets/controls",
          "model_name": "FloatProgressModel",
          "state": {
            "_view_name": "ProgressView",
            "style": "IPY_MODEL_c4ca133af7604ec6b87a06d5de159f7a",
            "_dom_classes": [],
            "description": "100%",
            "_model_name": "FloatProgressModel",
            "bar_style": "success",
            "max": 76,
            "_view_module": "@jupyter-widgets/controls",
            "_model_module_version": "1.5.0",
            "value": 76,
            "_view_count": null,
            "_view_module_version": "1.5.0",
            "orientation": "horizontal",
            "min": 0,
            "description_tooltip": null,
            "_model_module": "@jupyter-widgets/controls",
            "layout": "IPY_MODEL_2b9c24f0ae3949deb8f468e9b61c8333"
          }
        },
        "af23953492324bc38cab249036e12ff4": {
          "model_module": "@jupyter-widgets/controls",
          "model_name": "HTMLModel",
          "state": {
            "_view_name": "HTMLView",
            "style": "IPY_MODEL_0228e4a1fc864982a39b2812b96b0969",
            "_dom_classes": [],
            "description": "",
            "_model_name": "HTMLModel",
            "placeholder": "​",
            "_view_module": "@jupyter-widgets/controls",
            "_model_module_version": "1.5.0",
            "value": " 76/76 [00:03&lt;00:00, 24.76it/s]",
            "_view_count": null,
            "_view_module_version": "1.5.0",
            "description_tooltip": null,
            "_model_module": "@jupyter-widgets/controls",
            "layout": "IPY_MODEL_9c75ee6fdf724d66a039e019f48ea6bf"
          }
        },
        "c4ca133af7604ec6b87a06d5de159f7a": {
          "model_module": "@jupyter-widgets/controls",
          "model_name": "ProgressStyleModel",
          "state": {
            "_view_name": "StyleView",
            "_model_name": "ProgressStyleModel",
            "description_width": "initial",
            "_view_module": "@jupyter-widgets/base",
            "_model_module_version": "1.5.0",
            "_view_count": null,
            "_view_module_version": "1.2.0",
            "bar_color": null,
            "_model_module": "@jupyter-widgets/controls"
          }
        },
        "2b9c24f0ae3949deb8f468e9b61c8333": {
          "model_module": "@jupyter-widgets/base",
          "model_name": "LayoutModel",
          "state": {
            "_view_name": "LayoutView",
            "grid_template_rows": null,
            "right": null,
            "justify_content": null,
            "_view_module": "@jupyter-widgets/base",
            "overflow": null,
            "_model_module_version": "1.2.0",
            "_view_count": null,
            "flex_flow": null,
            "width": null,
            "min_width": null,
            "border": null,
            "align_items": null,
            "bottom": null,
            "_model_module": "@jupyter-widgets/base",
            "top": null,
            "grid_column": null,
            "overflow_y": null,
            "overflow_x": null,
            "grid_auto_flow": null,
            "grid_area": null,
            "grid_template_columns": null,
            "flex": null,
            "_model_name": "LayoutModel",
            "justify_items": null,
            "grid_row": null,
            "max_height": null,
            "align_content": null,
            "visibility": null,
            "align_self": null,
            "height": null,
            "min_height": null,
            "padding": null,
            "grid_auto_rows": null,
            "grid_gap": null,
            "max_width": null,
            "order": null,
            "_view_module_version": "1.2.0",
            "grid_template_areas": null,
            "object_position": null,
            "object_fit": null,
            "grid_auto_columns": null,
            "margin": null,
            "display": null,
            "left": null
          }
        },
        "0228e4a1fc864982a39b2812b96b0969": {
          "model_module": "@jupyter-widgets/controls",
          "model_name": "DescriptionStyleModel",
          "state": {
            "_view_name": "StyleView",
            "_model_name": "DescriptionStyleModel",
            "description_width": "",
            "_view_module": "@jupyter-widgets/base",
            "_model_module_version": "1.5.0",
            "_view_count": null,
            "_view_module_version": "1.2.0",
            "_model_module": "@jupyter-widgets/controls"
          }
        },
        "9c75ee6fdf724d66a039e019f48ea6bf": {
          "model_module": "@jupyter-widgets/base",
          "model_name": "LayoutModel",
          "state": {
            "_view_name": "LayoutView",
            "grid_template_rows": null,
            "right": null,
            "justify_content": null,
            "_view_module": "@jupyter-widgets/base",
            "overflow": null,
            "_model_module_version": "1.2.0",
            "_view_count": null,
            "flex_flow": null,
            "width": null,
            "min_width": null,
            "border": null,
            "align_items": null,
            "bottom": null,
            "_model_module": "@jupyter-widgets/base",
            "top": null,
            "grid_column": null,
            "overflow_y": null,
            "overflow_x": null,
            "grid_auto_flow": null,
            "grid_area": null,
            "grid_template_columns": null,
            "flex": null,
            "_model_name": "LayoutModel",
            "justify_items": null,
            "grid_row": null,
            "max_height": null,
            "align_content": null,
            "visibility": null,
            "align_self": null,
            "height": null,
            "min_height": null,
            "padding": null,
            "grid_auto_rows": null,
            "grid_gap": null,
            "max_width": null,
            "order": null,
            "_view_module_version": "1.2.0",
            "grid_template_areas": null,
            "object_position": null,
            "object_fit": null,
            "grid_auto_columns": null,
            "margin": null,
            "display": null,
            "left": null
          }
        },
        "7075d99aff234ef78d081180f83f6bc5": {
          "model_module": "@jupyter-widgets/controls",
          "model_name": "HBoxModel",
          "state": {
            "_view_name": "HBoxView",
            "_dom_classes": [],
            "_model_name": "HBoxModel",
            "_view_module": "@jupyter-widgets/controls",
            "_model_module_version": "1.5.0",
            "_view_count": null,
            "_view_module_version": "1.5.0",
            "box_style": "",
            "layout": "IPY_MODEL_7beb66f3cd184e3aa58cad3e35ecd14b",
            "_model_module": "@jupyter-widgets/controls",
            "children": [
              "IPY_MODEL_1fbbe7df67b442538968c8b7f10a3087",
              "IPY_MODEL_c896a0d37e9043a9956ac2d5bcca88ec"
            ]
          }
        },
        "7beb66f3cd184e3aa58cad3e35ecd14b": {
          "model_module": "@jupyter-widgets/base",
          "model_name": "LayoutModel",
          "state": {
            "_view_name": "LayoutView",
            "grid_template_rows": null,
            "right": null,
            "justify_content": null,
            "_view_module": "@jupyter-widgets/base",
            "overflow": null,
            "_model_module_version": "1.2.0",
            "_view_count": null,
            "flex_flow": null,
            "width": null,
            "min_width": null,
            "border": null,
            "align_items": null,
            "bottom": null,
            "_model_module": "@jupyter-widgets/base",
            "top": null,
            "grid_column": null,
            "overflow_y": null,
            "overflow_x": null,
            "grid_auto_flow": null,
            "grid_area": null,
            "grid_template_columns": null,
            "flex": null,
            "_model_name": "LayoutModel",
            "justify_items": null,
            "grid_row": null,
            "max_height": null,
            "align_content": null,
            "visibility": null,
            "align_self": null,
            "height": null,
            "min_height": null,
            "padding": null,
            "grid_auto_rows": null,
            "grid_gap": null,
            "max_width": null,
            "order": null,
            "_view_module_version": "1.2.0",
            "grid_template_areas": null,
            "object_position": null,
            "object_fit": null,
            "grid_auto_columns": null,
            "margin": null,
            "display": null,
            "left": null
          }
        },
        "1fbbe7df67b442538968c8b7f10a3087": {
          "model_module": "@jupyter-widgets/controls",
          "model_name": "FloatProgressModel",
          "state": {
            "_view_name": "ProgressView",
            "style": "IPY_MODEL_811b8046978d44579bdfcd439df36c8d",
            "_dom_classes": [],
            "description": "100%",
            "_model_name": "FloatProgressModel",
            "bar_style": "success",
            "max": 76,
            "_view_module": "@jupyter-widgets/controls",
            "_model_module_version": "1.5.0",
            "value": 76,
            "_view_count": null,
            "_view_module_version": "1.5.0",
            "orientation": "horizontal",
            "min": 0,
            "description_tooltip": null,
            "_model_module": "@jupyter-widgets/controls",
            "layout": "IPY_MODEL_e6035eb1e7ee4fbca84a1a39dc4bfc7a"
          }
        },
        "c896a0d37e9043a9956ac2d5bcca88ec": {
          "model_module": "@jupyter-widgets/controls",
          "model_name": "HTMLModel",
          "state": {
            "_view_name": "HTMLView",
            "style": "IPY_MODEL_4d74353c3ecf48c3adafccd9c6ddadf7",
            "_dom_classes": [],
            "description": "",
            "_model_name": "HTMLModel",
            "placeholder": "​",
            "_view_module": "@jupyter-widgets/controls",
            "_model_module_version": "1.5.0",
            "value": " 76/76 [00:00&lt;00:00, 136.07it/s]",
            "_view_count": null,
            "_view_module_version": "1.5.0",
            "description_tooltip": null,
            "_model_module": "@jupyter-widgets/controls",
            "layout": "IPY_MODEL_cb29d640f58442669babcde33bce72bf"
          }
        },
        "811b8046978d44579bdfcd439df36c8d": {
          "model_module": "@jupyter-widgets/controls",
          "model_name": "ProgressStyleModel",
          "state": {
            "_view_name": "StyleView",
            "_model_name": "ProgressStyleModel",
            "description_width": "initial",
            "_view_module": "@jupyter-widgets/base",
            "_model_module_version": "1.5.0",
            "_view_count": null,
            "_view_module_version": "1.2.0",
            "bar_color": null,
            "_model_module": "@jupyter-widgets/controls"
          }
        },
        "e6035eb1e7ee4fbca84a1a39dc4bfc7a": {
          "model_module": "@jupyter-widgets/base",
          "model_name": "LayoutModel",
          "state": {
            "_view_name": "LayoutView",
            "grid_template_rows": null,
            "right": null,
            "justify_content": null,
            "_view_module": "@jupyter-widgets/base",
            "overflow": null,
            "_model_module_version": "1.2.0",
            "_view_count": null,
            "flex_flow": null,
            "width": null,
            "min_width": null,
            "border": null,
            "align_items": null,
            "bottom": null,
            "_model_module": "@jupyter-widgets/base",
            "top": null,
            "grid_column": null,
            "overflow_y": null,
            "overflow_x": null,
            "grid_auto_flow": null,
            "grid_area": null,
            "grid_template_columns": null,
            "flex": null,
            "_model_name": "LayoutModel",
            "justify_items": null,
            "grid_row": null,
            "max_height": null,
            "align_content": null,
            "visibility": null,
            "align_self": null,
            "height": null,
            "min_height": null,
            "padding": null,
            "grid_auto_rows": null,
            "grid_gap": null,
            "max_width": null,
            "order": null,
            "_view_module_version": "1.2.0",
            "grid_template_areas": null,
            "object_position": null,
            "object_fit": null,
            "grid_auto_columns": null,
            "margin": null,
            "display": null,
            "left": null
          }
        },
        "4d74353c3ecf48c3adafccd9c6ddadf7": {
          "model_module": "@jupyter-widgets/controls",
          "model_name": "DescriptionStyleModel",
          "state": {
            "_view_name": "StyleView",
            "_model_name": "DescriptionStyleModel",
            "description_width": "",
            "_view_module": "@jupyter-widgets/base",
            "_model_module_version": "1.5.0",
            "_view_count": null,
            "_view_module_version": "1.2.0",
            "_model_module": "@jupyter-widgets/controls"
          }
        },
        "cb29d640f58442669babcde33bce72bf": {
          "model_module": "@jupyter-widgets/base",
          "model_name": "LayoutModel",
          "state": {
            "_view_name": "LayoutView",
            "grid_template_rows": null,
            "right": null,
            "justify_content": null,
            "_view_module": "@jupyter-widgets/base",
            "overflow": null,
            "_model_module_version": "1.2.0",
            "_view_count": null,
            "flex_flow": null,
            "width": null,
            "min_width": null,
            "border": null,
            "align_items": null,
            "bottom": null,
            "_model_module": "@jupyter-widgets/base",
            "top": null,
            "grid_column": null,
            "overflow_y": null,
            "overflow_x": null,
            "grid_auto_flow": null,
            "grid_area": null,
            "grid_template_columns": null,
            "flex": null,
            "_model_name": "LayoutModel",
            "justify_items": null,
            "grid_row": null,
            "max_height": null,
            "align_content": null,
            "visibility": null,
            "align_self": null,
            "height": null,
            "min_height": null,
            "padding": null,
            "grid_auto_rows": null,
            "grid_gap": null,
            "max_width": null,
            "order": null,
            "_view_module_version": "1.2.0",
            "grid_template_areas": null,
            "object_position": null,
            "object_fit": null,
            "grid_auto_columns": null,
            "margin": null,
            "display": null,
            "left": null
          }
        },
        "84fae22f259e4d55844eacdd890217e8": {
          "model_module": "@jupyter-widgets/controls",
          "model_name": "HBoxModel",
          "state": {
            "_view_name": "HBoxView",
            "_dom_classes": [],
            "_model_name": "HBoxModel",
            "_view_module": "@jupyter-widgets/controls",
            "_model_module_version": "1.5.0",
            "_view_count": null,
            "_view_module_version": "1.5.0",
            "box_style": "",
            "layout": "IPY_MODEL_57971dd6652046b994f997230f688cf8",
            "_model_module": "@jupyter-widgets/controls",
            "children": [
              "IPY_MODEL_38c78ad5dc5f4591b72ea76c88366e6f",
              "IPY_MODEL_e4fe009f64cf459d8e3b77db418665e2"
            ]
          }
        },
        "57971dd6652046b994f997230f688cf8": {
          "model_module": "@jupyter-widgets/base",
          "model_name": "LayoutModel",
          "state": {
            "_view_name": "LayoutView",
            "grid_template_rows": null,
            "right": null,
            "justify_content": null,
            "_view_module": "@jupyter-widgets/base",
            "overflow": null,
            "_model_module_version": "1.2.0",
            "_view_count": null,
            "flex_flow": null,
            "width": null,
            "min_width": null,
            "border": null,
            "align_items": null,
            "bottom": null,
            "_model_module": "@jupyter-widgets/base",
            "top": null,
            "grid_column": null,
            "overflow_y": null,
            "overflow_x": null,
            "grid_auto_flow": null,
            "grid_area": null,
            "grid_template_columns": null,
            "flex": null,
            "_model_name": "LayoutModel",
            "justify_items": null,
            "grid_row": null,
            "max_height": null,
            "align_content": null,
            "visibility": null,
            "align_self": null,
            "height": null,
            "min_height": null,
            "padding": null,
            "grid_auto_rows": null,
            "grid_gap": null,
            "max_width": null,
            "order": null,
            "_view_module_version": "1.2.0",
            "grid_template_areas": null,
            "object_position": null,
            "object_fit": null,
            "grid_auto_columns": null,
            "margin": null,
            "display": null,
            "left": null
          }
        },
        "38c78ad5dc5f4591b72ea76c88366e6f": {
          "model_module": "@jupyter-widgets/controls",
          "model_name": "FloatProgressModel",
          "state": {
            "_view_name": "ProgressView",
            "style": "IPY_MODEL_17426cb46fed4ea78a0c5198473d9926",
            "_dom_classes": [],
            "description": "100%",
            "_model_name": "FloatProgressModel",
            "bar_style": "success",
            "max": 1208,
            "_view_module": "@jupyter-widgets/controls",
            "_model_module_version": "1.5.0",
            "value": 1208,
            "_view_count": null,
            "_view_module_version": "1.5.0",
            "orientation": "horizontal",
            "min": 0,
            "description_tooltip": null,
            "_model_module": "@jupyter-widgets/controls",
            "layout": "IPY_MODEL_ad0aeb0cc6bd4d89801249c9ed3865cb"
          }
        },
        "e4fe009f64cf459d8e3b77db418665e2": {
          "model_module": "@jupyter-widgets/controls",
          "model_name": "HTMLModel",
          "state": {
            "_view_name": "HTMLView",
            "style": "IPY_MODEL_ded5836a93e744ccad412869b702fb6b",
            "_dom_classes": [],
            "description": "",
            "_model_name": "HTMLModel",
            "placeholder": "​",
            "_view_module": "@jupyter-widgets/controls",
            "_model_module_version": "1.5.0",
            "value": " 1208/1208 [00:02&lt;00:00, 414.29it/s]",
            "_view_count": null,
            "_view_module_version": "1.5.0",
            "description_tooltip": null,
            "_model_module": "@jupyter-widgets/controls",
            "layout": "IPY_MODEL_e964e2e0a09443cb8d57fccc2818c95b"
          }
        },
        "17426cb46fed4ea78a0c5198473d9926": {
          "model_module": "@jupyter-widgets/controls",
          "model_name": "ProgressStyleModel",
          "state": {
            "_view_name": "StyleView",
            "_model_name": "ProgressStyleModel",
            "description_width": "initial",
            "_view_module": "@jupyter-widgets/base",
            "_model_module_version": "1.5.0",
            "_view_count": null,
            "_view_module_version": "1.2.0",
            "bar_color": null,
            "_model_module": "@jupyter-widgets/controls"
          }
        },
        "ad0aeb0cc6bd4d89801249c9ed3865cb": {
          "model_module": "@jupyter-widgets/base",
          "model_name": "LayoutModel",
          "state": {
            "_view_name": "LayoutView",
            "grid_template_rows": null,
            "right": null,
            "justify_content": null,
            "_view_module": "@jupyter-widgets/base",
            "overflow": null,
            "_model_module_version": "1.2.0",
            "_view_count": null,
            "flex_flow": null,
            "width": null,
            "min_width": null,
            "border": null,
            "align_items": null,
            "bottom": null,
            "_model_module": "@jupyter-widgets/base",
            "top": null,
            "grid_column": null,
            "overflow_y": null,
            "overflow_x": null,
            "grid_auto_flow": null,
            "grid_area": null,
            "grid_template_columns": null,
            "flex": null,
            "_model_name": "LayoutModel",
            "justify_items": null,
            "grid_row": null,
            "max_height": null,
            "align_content": null,
            "visibility": null,
            "align_self": null,
            "height": null,
            "min_height": null,
            "padding": null,
            "grid_auto_rows": null,
            "grid_gap": null,
            "max_width": null,
            "order": null,
            "_view_module_version": "1.2.0",
            "grid_template_areas": null,
            "object_position": null,
            "object_fit": null,
            "grid_auto_columns": null,
            "margin": null,
            "display": null,
            "left": null
          }
        },
        "ded5836a93e744ccad412869b702fb6b": {
          "model_module": "@jupyter-widgets/controls",
          "model_name": "DescriptionStyleModel",
          "state": {
            "_view_name": "StyleView",
            "_model_name": "DescriptionStyleModel",
            "description_width": "",
            "_view_module": "@jupyter-widgets/base",
            "_model_module_version": "1.5.0",
            "_view_count": null,
            "_view_module_version": "1.2.0",
            "_model_module": "@jupyter-widgets/controls"
          }
        },
        "e964e2e0a09443cb8d57fccc2818c95b": {
          "model_module": "@jupyter-widgets/base",
          "model_name": "LayoutModel",
          "state": {
            "_view_name": "LayoutView",
            "grid_template_rows": null,
            "right": null,
            "justify_content": null,
            "_view_module": "@jupyter-widgets/base",
            "overflow": null,
            "_model_module_version": "1.2.0",
            "_view_count": null,
            "flex_flow": null,
            "width": null,
            "min_width": null,
            "border": null,
            "align_items": null,
            "bottom": null,
            "_model_module": "@jupyter-widgets/base",
            "top": null,
            "grid_column": null,
            "overflow_y": null,
            "overflow_x": null,
            "grid_auto_flow": null,
            "grid_area": null,
            "grid_template_columns": null,
            "flex": null,
            "_model_name": "LayoutModel",
            "justify_items": null,
            "grid_row": null,
            "max_height": null,
            "align_content": null,
            "visibility": null,
            "align_self": null,
            "height": null,
            "min_height": null,
            "padding": null,
            "grid_auto_rows": null,
            "grid_gap": null,
            "max_width": null,
            "order": null,
            "_view_module_version": "1.2.0",
            "grid_template_areas": null,
            "object_position": null,
            "object_fit": null,
            "grid_auto_columns": null,
            "margin": null,
            "display": null,
            "left": null
          }
        },
        "612d622adc994330bc635c5ba0f0c3dd": {
          "model_module": "@jupyter-widgets/controls",
          "model_name": "HBoxModel",
          "state": {
            "_view_name": "HBoxView",
            "_dom_classes": [],
            "_model_name": "HBoxModel",
            "_view_module": "@jupyter-widgets/controls",
            "_model_module_version": "1.5.0",
            "_view_count": null,
            "_view_module_version": "1.5.0",
            "box_style": "",
            "layout": "IPY_MODEL_c4bc74e28d5441ca919c8b14053f5d7a",
            "_model_module": "@jupyter-widgets/controls",
            "children": [
              "IPY_MODEL_f8e5685a9ae84bd0ae29976601f73721",
              "IPY_MODEL_08515c08805c4b93be6164b99eed9810"
            ]
          }
        },
        "c4bc74e28d5441ca919c8b14053f5d7a": {
          "model_module": "@jupyter-widgets/base",
          "model_name": "LayoutModel",
          "state": {
            "_view_name": "LayoutView",
            "grid_template_rows": null,
            "right": null,
            "justify_content": null,
            "_view_module": "@jupyter-widgets/base",
            "overflow": null,
            "_model_module_version": "1.2.0",
            "_view_count": null,
            "flex_flow": null,
            "width": null,
            "min_width": null,
            "border": null,
            "align_items": null,
            "bottom": null,
            "_model_module": "@jupyter-widgets/base",
            "top": null,
            "grid_column": null,
            "overflow_y": null,
            "overflow_x": null,
            "grid_auto_flow": null,
            "grid_area": null,
            "grid_template_columns": null,
            "flex": null,
            "_model_name": "LayoutModel",
            "justify_items": null,
            "grid_row": null,
            "max_height": null,
            "align_content": null,
            "visibility": null,
            "align_self": null,
            "height": null,
            "min_height": null,
            "padding": null,
            "grid_auto_rows": null,
            "grid_gap": null,
            "max_width": null,
            "order": null,
            "_view_module_version": "1.2.0",
            "grid_template_areas": null,
            "object_position": null,
            "object_fit": null,
            "grid_auto_columns": null,
            "margin": null,
            "display": null,
            "left": null
          }
        },
        "f8e5685a9ae84bd0ae29976601f73721": {
          "model_module": "@jupyter-widgets/controls",
          "model_name": "FloatProgressModel",
          "state": {
            "_view_name": "ProgressView",
            "style": "IPY_MODEL_bbd316bc1f3e4aa785e558394b24af3d",
            "_dom_classes": [],
            "description": "  0%",
            "_model_name": "FloatProgressModel",
            "bar_style": "danger",
            "max": 50,
            "_view_module": "@jupyter-widgets/controls",
            "_model_module_version": "1.5.0",
            "value": 0,
            "_view_count": null,
            "_view_module_version": "1.5.0",
            "orientation": "horizontal",
            "min": 0,
            "description_tooltip": null,
            "_model_module": "@jupyter-widgets/controls",
            "layout": "IPY_MODEL_6992e06367eb4a17943a1e17da0f1985"
          }
        },
        "08515c08805c4b93be6164b99eed9810": {
          "model_module": "@jupyter-widgets/controls",
          "model_name": "HTMLModel",
          "state": {
            "_view_name": "HTMLView",
            "style": "IPY_MODEL_6d6ab3a95b1d4be4b4cab3aadcbc4271",
            "_dom_classes": [],
            "description": "",
            "_model_name": "HTMLModel",
            "placeholder": "​",
            "_view_module": "@jupyter-widgets/controls",
            "_model_module_version": "1.5.0",
            "value": " 0/50 [00:00&lt;?, ?it/s]",
            "_view_count": null,
            "_view_module_version": "1.5.0",
            "description_tooltip": null,
            "_model_module": "@jupyter-widgets/controls",
            "layout": "IPY_MODEL_4c1cca08a1c94f29b59e61e9120da4e4"
          }
        },
        "bbd316bc1f3e4aa785e558394b24af3d": {
          "model_module": "@jupyter-widgets/controls",
          "model_name": "ProgressStyleModel",
          "state": {
            "_view_name": "StyleView",
            "_model_name": "ProgressStyleModel",
            "description_width": "initial",
            "_view_module": "@jupyter-widgets/base",
            "_model_module_version": "1.5.0",
            "_view_count": null,
            "_view_module_version": "1.2.0",
            "bar_color": null,
            "_model_module": "@jupyter-widgets/controls"
          }
        },
        "6992e06367eb4a17943a1e17da0f1985": {
          "model_module": "@jupyter-widgets/base",
          "model_name": "LayoutModel",
          "state": {
            "_view_name": "LayoutView",
            "grid_template_rows": null,
            "right": null,
            "justify_content": null,
            "_view_module": "@jupyter-widgets/base",
            "overflow": null,
            "_model_module_version": "1.2.0",
            "_view_count": null,
            "flex_flow": null,
            "width": null,
            "min_width": null,
            "border": null,
            "align_items": null,
            "bottom": null,
            "_model_module": "@jupyter-widgets/base",
            "top": null,
            "grid_column": null,
            "overflow_y": null,
            "overflow_x": null,
            "grid_auto_flow": null,
            "grid_area": null,
            "grid_template_columns": null,
            "flex": null,
            "_model_name": "LayoutModel",
            "justify_items": null,
            "grid_row": null,
            "max_height": null,
            "align_content": null,
            "visibility": null,
            "align_self": null,
            "height": null,
            "min_height": null,
            "padding": null,
            "grid_auto_rows": null,
            "grid_gap": null,
            "max_width": null,
            "order": null,
            "_view_module_version": "1.2.0",
            "grid_template_areas": null,
            "object_position": null,
            "object_fit": null,
            "grid_auto_columns": null,
            "margin": null,
            "display": null,
            "left": null
          }
        },
        "6d6ab3a95b1d4be4b4cab3aadcbc4271": {
          "model_module": "@jupyter-widgets/controls",
          "model_name": "DescriptionStyleModel",
          "state": {
            "_view_name": "StyleView",
            "_model_name": "DescriptionStyleModel",
            "description_width": "",
            "_view_module": "@jupyter-widgets/base",
            "_model_module_version": "1.5.0",
            "_view_count": null,
            "_view_module_version": "1.2.0",
            "_model_module": "@jupyter-widgets/controls"
          }
        },
        "4c1cca08a1c94f29b59e61e9120da4e4": {
          "model_module": "@jupyter-widgets/base",
          "model_name": "LayoutModel",
          "state": {
            "_view_name": "LayoutView",
            "grid_template_rows": null,
            "right": null,
            "justify_content": null,
            "_view_module": "@jupyter-widgets/base",
            "overflow": null,
            "_model_module_version": "1.2.0",
            "_view_count": null,
            "flex_flow": null,
            "width": null,
            "min_width": null,
            "border": null,
            "align_items": null,
            "bottom": null,
            "_model_module": "@jupyter-widgets/base",
            "top": null,
            "grid_column": null,
            "overflow_y": null,
            "overflow_x": null,
            "grid_auto_flow": null,
            "grid_area": null,
            "grid_template_columns": null,
            "flex": null,
            "_model_name": "LayoutModel",
            "justify_items": null,
            "grid_row": null,
            "max_height": null,
            "align_content": null,
            "visibility": null,
            "align_self": null,
            "height": null,
            "min_height": null,
            "padding": null,
            "grid_auto_rows": null,
            "grid_gap": null,
            "max_width": null,
            "order": null,
            "_view_module_version": "1.2.0",
            "grid_template_areas": null,
            "object_position": null,
            "object_fit": null,
            "grid_auto_columns": null,
            "margin": null,
            "display": null,
            "left": null
          }
        },
        "50344b63940d474ab61e1ee4abaa5e2a": {
          "model_module": "@jupyter-widgets/controls",
          "model_name": "HBoxModel",
          "state": {
            "_view_name": "HBoxView",
            "_dom_classes": [],
            "_model_name": "HBoxModel",
            "_view_module": "@jupyter-widgets/controls",
            "_model_module_version": "1.5.0",
            "_view_count": null,
            "_view_module_version": "1.5.0",
            "box_style": "",
            "layout": "IPY_MODEL_f329ed3ff62d43d5a32044fc3f487f08",
            "_model_module": "@jupyter-widgets/controls",
            "children": [
              "IPY_MODEL_88377ba5b94e4877800c476fd9178019",
              "IPY_MODEL_9b2e02a2b78c46319a6c77c370c6f3ba"
            ]
          }
        },
        "f329ed3ff62d43d5a32044fc3f487f08": {
          "model_module": "@jupyter-widgets/base",
          "model_name": "LayoutModel",
          "state": {
            "_view_name": "LayoutView",
            "grid_template_rows": null,
            "right": null,
            "justify_content": null,
            "_view_module": "@jupyter-widgets/base",
            "overflow": null,
            "_model_module_version": "1.2.0",
            "_view_count": null,
            "flex_flow": null,
            "width": null,
            "min_width": null,
            "border": null,
            "align_items": null,
            "bottom": null,
            "_model_module": "@jupyter-widgets/base",
            "top": null,
            "grid_column": null,
            "overflow_y": null,
            "overflow_x": null,
            "grid_auto_flow": null,
            "grid_area": null,
            "grid_template_columns": null,
            "flex": null,
            "_model_name": "LayoutModel",
            "justify_items": null,
            "grid_row": null,
            "max_height": null,
            "align_content": null,
            "visibility": null,
            "align_self": null,
            "height": null,
            "min_height": null,
            "padding": null,
            "grid_auto_rows": null,
            "grid_gap": null,
            "max_width": null,
            "order": null,
            "_view_module_version": "1.2.0",
            "grid_template_areas": null,
            "object_position": null,
            "object_fit": null,
            "grid_auto_columns": null,
            "margin": null,
            "display": null,
            "left": null
          }
        },
        "88377ba5b94e4877800c476fd9178019": {
          "model_module": "@jupyter-widgets/controls",
          "model_name": "FloatProgressModel",
          "state": {
            "_view_name": "ProgressView",
            "style": "IPY_MODEL_42524b13a810426bb2d54d6e1eae927a",
            "_dom_classes": [],
            "description": "getting syllable spectrograms: 100%",
            "_model_name": "FloatProgressModel",
            "bar_style": "",
            "max": 1208,
            "_view_module": "@jupyter-widgets/controls",
            "_model_module_version": "1.5.0",
            "value": 1208,
            "_view_count": null,
            "_view_module_version": "1.5.0",
            "orientation": "horizontal",
            "min": 0,
            "description_tooltip": null,
            "_model_module": "@jupyter-widgets/controls",
            "layout": "IPY_MODEL_27b7dd762baf49959de48b78f975704b"
          }
        },
        "9b2e02a2b78c46319a6c77c370c6f3ba": {
          "model_module": "@jupyter-widgets/controls",
          "model_name": "HTMLModel",
          "state": {
            "_view_name": "HTMLView",
            "style": "IPY_MODEL_75398cf6b6a74178afaa602838ac3b96",
            "_dom_classes": [],
            "description": "",
            "_model_name": "HTMLModel",
            "placeholder": "​",
            "_view_module": "@jupyter-widgets/controls",
            "_model_module_version": "1.5.0",
            "value": " 1208/1208 [00:27&lt;00:00, 37.05it/s]",
            "_view_count": null,
            "_view_module_version": "1.5.0",
            "description_tooltip": null,
            "_model_module": "@jupyter-widgets/controls",
            "layout": "IPY_MODEL_abb7209bf2b84f3e94f5dea957c6ecb9"
          }
        },
        "42524b13a810426bb2d54d6e1eae927a": {
          "model_module": "@jupyter-widgets/controls",
          "model_name": "ProgressStyleModel",
          "state": {
            "_view_name": "StyleView",
            "_model_name": "ProgressStyleModel",
            "description_width": "initial",
            "_view_module": "@jupyter-widgets/base",
            "_model_module_version": "1.5.0",
            "_view_count": null,
            "_view_module_version": "1.2.0",
            "bar_color": null,
            "_model_module": "@jupyter-widgets/controls"
          }
        },
        "27b7dd762baf49959de48b78f975704b": {
          "model_module": "@jupyter-widgets/base",
          "model_name": "LayoutModel",
          "state": {
            "_view_name": "LayoutView",
            "grid_template_rows": null,
            "right": null,
            "justify_content": null,
            "_view_module": "@jupyter-widgets/base",
            "overflow": null,
            "_model_module_version": "1.2.0",
            "_view_count": null,
            "flex_flow": null,
            "width": null,
            "min_width": null,
            "border": null,
            "align_items": null,
            "bottom": null,
            "_model_module": "@jupyter-widgets/base",
            "top": null,
            "grid_column": null,
            "overflow_y": null,
            "overflow_x": null,
            "grid_auto_flow": null,
            "grid_area": null,
            "grid_template_columns": null,
            "flex": null,
            "_model_name": "LayoutModel",
            "justify_items": null,
            "grid_row": null,
            "max_height": null,
            "align_content": null,
            "visibility": null,
            "align_self": null,
            "height": null,
            "min_height": null,
            "padding": null,
            "grid_auto_rows": null,
            "grid_gap": null,
            "max_width": null,
            "order": null,
            "_view_module_version": "1.2.0",
            "grid_template_areas": null,
            "object_position": null,
            "object_fit": null,
            "grid_auto_columns": null,
            "margin": null,
            "display": null,
            "left": null
          }
        },
        "75398cf6b6a74178afaa602838ac3b96": {
          "model_module": "@jupyter-widgets/controls",
          "model_name": "DescriptionStyleModel",
          "state": {
            "_view_name": "StyleView",
            "_model_name": "DescriptionStyleModel",
            "description_width": "",
            "_view_module": "@jupyter-widgets/base",
            "_model_module_version": "1.5.0",
            "_view_count": null,
            "_view_module_version": "1.2.0",
            "_model_module": "@jupyter-widgets/controls"
          }
        },
        "abb7209bf2b84f3e94f5dea957c6ecb9": {
          "model_module": "@jupyter-widgets/base",
          "model_name": "LayoutModel",
          "state": {
            "_view_name": "LayoutView",
            "grid_template_rows": null,
            "right": null,
            "justify_content": null,
            "_view_module": "@jupyter-widgets/base",
            "overflow": null,
            "_model_module_version": "1.2.0",
            "_view_count": null,
            "flex_flow": null,
            "width": null,
            "min_width": null,
            "border": null,
            "align_items": null,
            "bottom": null,
            "_model_module": "@jupyter-widgets/base",
            "top": null,
            "grid_column": null,
            "overflow_y": null,
            "overflow_x": null,
            "grid_auto_flow": null,
            "grid_area": null,
            "grid_template_columns": null,
            "flex": null,
            "_model_name": "LayoutModel",
            "justify_items": null,
            "grid_row": null,
            "max_height": null,
            "align_content": null,
            "visibility": null,
            "align_self": null,
            "height": null,
            "min_height": null,
            "padding": null,
            "grid_auto_rows": null,
            "grid_gap": null,
            "max_width": null,
            "order": null,
            "_view_module_version": "1.2.0",
            "grid_template_areas": null,
            "object_position": null,
            "object_fit": null,
            "grid_auto_columns": null,
            "margin": null,
            "display": null,
            "left": null
          }
        },
        "b7ff5af328cf4ef59b399e82cb98535c": {
          "model_module": "@jupyter-widgets/controls",
          "model_name": "HBoxModel",
          "state": {
            "_view_name": "HBoxView",
            "_dom_classes": [],
            "_model_name": "HBoxModel",
            "_view_module": "@jupyter-widgets/controls",
            "_model_module_version": "1.5.0",
            "_view_count": null,
            "_view_module_version": "1.5.0",
            "box_style": "",
            "layout": "IPY_MODEL_95d32b1fb7b847d3b28ccdf7df6e2cfb",
            "_model_module": "@jupyter-widgets/controls",
            "children": [
              "IPY_MODEL_e54f96699638488cbeb951be141e1d11",
              "IPY_MODEL_6dc05ecb8f41415f9edc9906415220b0"
            ]
          }
        },
        "95d32b1fb7b847d3b28ccdf7df6e2cfb": {
          "model_module": "@jupyter-widgets/base",
          "model_name": "LayoutModel",
          "state": {
            "_view_name": "LayoutView",
            "grid_template_rows": null,
            "right": null,
            "justify_content": null,
            "_view_module": "@jupyter-widgets/base",
            "overflow": null,
            "_model_module_version": "1.2.0",
            "_view_count": null,
            "flex_flow": null,
            "width": null,
            "min_width": null,
            "border": null,
            "align_items": null,
            "bottom": null,
            "_model_module": "@jupyter-widgets/base",
            "top": null,
            "grid_column": null,
            "overflow_y": null,
            "overflow_x": null,
            "grid_auto_flow": null,
            "grid_area": null,
            "grid_template_columns": null,
            "flex": null,
            "_model_name": "LayoutModel",
            "justify_items": null,
            "grid_row": null,
            "max_height": null,
            "align_content": null,
            "visibility": null,
            "align_self": null,
            "height": null,
            "min_height": null,
            "padding": null,
            "grid_auto_rows": null,
            "grid_gap": null,
            "max_width": null,
            "order": null,
            "_view_module_version": "1.2.0",
            "grid_template_areas": null,
            "object_position": null,
            "object_fit": null,
            "grid_auto_columns": null,
            "margin": null,
            "display": null,
            "left": null
          }
        },
        "e54f96699638488cbeb951be141e1d11": {
          "model_module": "@jupyter-widgets/controls",
          "model_name": "FloatProgressModel",
          "state": {
            "_view_name": "ProgressView",
            "style": "IPY_MODEL_bce96efab0bc4e8097d52a5e7e0c63ea",
            "_dom_classes": [],
            "description": "",
            "_model_name": "FloatProgressModel",
            "bar_style": "success",
            "max": 1,
            "_view_module": "@jupyter-widgets/controls",
            "_model_module_version": "1.5.0",
            "value": 1,
            "_view_count": null,
            "_view_module_version": "1.5.0",
            "orientation": "horizontal",
            "min": 0,
            "description_tooltip": null,
            "_model_module": "@jupyter-widgets/controls",
            "layout": "IPY_MODEL_6b9835113e2045a7924ddd7cd2b3f713"
          }
        },
        "6dc05ecb8f41415f9edc9906415220b0": {
          "model_module": "@jupyter-widgets/controls",
          "model_name": "HTMLModel",
          "state": {
            "_view_name": "HTMLView",
            "style": "IPY_MODEL_5b6dab8359474f1b9c07fd3da7d14300",
            "_dom_classes": [],
            "description": "",
            "_model_name": "HTMLModel",
            "placeholder": "​",
            "_view_module": "@jupyter-widgets/controls",
            "_model_module_version": "1.5.0",
            "value": " 4339/? [00:07&lt;00:00, 604.52it/s]",
            "_view_count": null,
            "_view_module_version": "1.5.0",
            "description_tooltip": null,
            "_model_module": "@jupyter-widgets/controls",
            "layout": "IPY_MODEL_11be67626f754e4aa47fe00785dec8c2"
          }
        },
        "bce96efab0bc4e8097d52a5e7e0c63ea": {
          "model_module": "@jupyter-widgets/controls",
          "model_name": "ProgressStyleModel",
          "state": {
            "_view_name": "StyleView",
            "_model_name": "ProgressStyleModel",
            "description_width": "initial",
            "_view_module": "@jupyter-widgets/base",
            "_model_module_version": "1.5.0",
            "_view_count": null,
            "_view_module_version": "1.2.0",
            "bar_color": null,
            "_model_module": "@jupyter-widgets/controls"
          }
        },
        "6b9835113e2045a7924ddd7cd2b3f713": {
          "model_module": "@jupyter-widgets/base",
          "model_name": "LayoutModel",
          "state": {
            "_view_name": "LayoutView",
            "grid_template_rows": null,
            "right": null,
            "justify_content": null,
            "_view_module": "@jupyter-widgets/base",
            "overflow": null,
            "_model_module_version": "1.2.0",
            "_view_count": null,
            "flex_flow": null,
            "width": null,
            "min_width": null,
            "border": null,
            "align_items": null,
            "bottom": null,
            "_model_module": "@jupyter-widgets/base",
            "top": null,
            "grid_column": null,
            "overflow_y": null,
            "overflow_x": null,
            "grid_auto_flow": null,
            "grid_area": null,
            "grid_template_columns": null,
            "flex": null,
            "_model_name": "LayoutModel",
            "justify_items": null,
            "grid_row": null,
            "max_height": null,
            "align_content": null,
            "visibility": null,
            "align_self": null,
            "height": null,
            "min_height": null,
            "padding": null,
            "grid_auto_rows": null,
            "grid_gap": null,
            "max_width": null,
            "order": null,
            "_view_module_version": "1.2.0",
            "grid_template_areas": null,
            "object_position": null,
            "object_fit": null,
            "grid_auto_columns": null,
            "margin": null,
            "display": null,
            "left": null
          }
        },
        "5b6dab8359474f1b9c07fd3da7d14300": {
          "model_module": "@jupyter-widgets/controls",
          "model_name": "DescriptionStyleModel",
          "state": {
            "_view_name": "StyleView",
            "_model_name": "DescriptionStyleModel",
            "description_width": "",
            "_view_module": "@jupyter-widgets/base",
            "_model_module_version": "1.5.0",
            "_view_count": null,
            "_view_module_version": "1.2.0",
            "_model_module": "@jupyter-widgets/controls"
          }
        },
        "11be67626f754e4aa47fe00785dec8c2": {
          "model_module": "@jupyter-widgets/base",
          "model_name": "LayoutModel",
          "state": {
            "_view_name": "LayoutView",
            "grid_template_rows": null,
            "right": null,
            "justify_content": null,
            "_view_module": "@jupyter-widgets/base",
            "overflow": null,
            "_model_module_version": "1.2.0",
            "_view_count": null,
            "flex_flow": null,
            "width": null,
            "min_width": null,
            "border": null,
            "align_items": null,
            "bottom": null,
            "_model_module": "@jupyter-widgets/base",
            "top": null,
            "grid_column": null,
            "overflow_y": null,
            "overflow_x": null,
            "grid_auto_flow": null,
            "grid_area": null,
            "grid_template_columns": null,
            "flex": null,
            "_model_name": "LayoutModel",
            "justify_items": null,
            "grid_row": null,
            "max_height": null,
            "align_content": null,
            "visibility": null,
            "align_self": null,
            "height": null,
            "min_height": null,
            "padding": null,
            "grid_auto_rows": null,
            "grid_gap": null,
            "max_width": null,
            "order": null,
            "_view_module_version": "1.2.0",
            "grid_template_areas": null,
            "object_position": null,
            "object_fit": null,
            "grid_auto_columns": null,
            "margin": null,
            "display": null,
            "left": null
          }
        },
        "f14af89014a344b3a08bcae9bb4a163b": {
          "model_module": "@jupyter-widgets/controls",
          "model_name": "HBoxModel",
          "state": {
            "_view_name": "HBoxView",
            "_dom_classes": [],
            "_model_name": "HBoxModel",
            "_view_module": "@jupyter-widgets/controls",
            "_model_module_version": "1.5.0",
            "_view_count": null,
            "_view_module_version": "1.5.0",
            "box_style": "",
            "layout": "IPY_MODEL_edde15ce9fd445c498a9e0d509e898c0",
            "_model_module": "@jupyter-widgets/controls",
            "children": [
              "IPY_MODEL_ebf9ba475b764cf1862b2c1171734b2c",
              "IPY_MODEL_f768f677758049a3bc396cb2ae1f9307"
            ]
          }
        },
        "edde15ce9fd445c498a9e0d509e898c0": {
          "model_module": "@jupyter-widgets/base",
          "model_name": "LayoutModel",
          "state": {
            "_view_name": "LayoutView",
            "grid_template_rows": null,
            "right": null,
            "justify_content": null,
            "_view_module": "@jupyter-widgets/base",
            "overflow": null,
            "_model_module_version": "1.2.0",
            "_view_count": null,
            "flex_flow": null,
            "width": null,
            "min_width": null,
            "border": null,
            "align_items": null,
            "bottom": null,
            "_model_module": "@jupyter-widgets/base",
            "top": null,
            "grid_column": null,
            "overflow_y": null,
            "overflow_x": null,
            "grid_auto_flow": null,
            "grid_area": null,
            "grid_template_columns": null,
            "flex": null,
            "_model_name": "LayoutModel",
            "justify_items": null,
            "grid_row": null,
            "max_height": null,
            "align_content": null,
            "visibility": null,
            "align_self": null,
            "height": null,
            "min_height": null,
            "padding": null,
            "grid_auto_rows": null,
            "grid_gap": null,
            "max_width": null,
            "order": null,
            "_view_module_version": "1.2.0",
            "grid_template_areas": null,
            "object_position": null,
            "object_fit": null,
            "grid_auto_columns": null,
            "margin": null,
            "display": null,
            "left": null
          }
        },
        "ebf9ba475b764cf1862b2c1171734b2c": {
          "model_module": "@jupyter-widgets/controls",
          "model_name": "FloatProgressModel",
          "state": {
            "_view_name": "ProgressView",
            "style": "IPY_MODEL_9a4ba95b484b4169bf919e8d8b820fef",
            "_dom_classes": [],
            "description": "resizing spectrogram frequency: 100%",
            "_model_name": "FloatProgressModel",
            "bar_style": "",
            "max": 1208,
            "_view_module": "@jupyter-widgets/controls",
            "_model_module_version": "1.5.0",
            "value": 1208,
            "_view_count": null,
            "_view_module_version": "1.5.0",
            "orientation": "horizontal",
            "min": 0,
            "description_tooltip": null,
            "_model_module": "@jupyter-widgets/controls",
            "layout": "IPY_MODEL_f062202fde564809baccfe79bf326e46"
          }
        },
        "f768f677758049a3bc396cb2ae1f9307": {
          "model_module": "@jupyter-widgets/controls",
          "model_name": "HTMLModel",
          "state": {
            "_view_name": "HTMLView",
            "style": "IPY_MODEL_4f082090631d49949776473edf5ddd6a",
            "_dom_classes": [],
            "description": "",
            "_model_name": "HTMLModel",
            "placeholder": "​",
            "_view_module": "@jupyter-widgets/controls",
            "_model_module_version": "1.5.0",
            "value": " 1208/1208 [00:00&lt;00:00, 14348.72it/s]",
            "_view_count": null,
            "_view_module_version": "1.5.0",
            "description_tooltip": null,
            "_model_module": "@jupyter-widgets/controls",
            "layout": "IPY_MODEL_6e669638074f4863be0283c5aa74a229"
          }
        },
        "9a4ba95b484b4169bf919e8d8b820fef": {
          "model_module": "@jupyter-widgets/controls",
          "model_name": "ProgressStyleModel",
          "state": {
            "_view_name": "StyleView",
            "_model_name": "ProgressStyleModel",
            "description_width": "initial",
            "_view_module": "@jupyter-widgets/base",
            "_model_module_version": "1.5.0",
            "_view_count": null,
            "_view_module_version": "1.2.0",
            "bar_color": null,
            "_model_module": "@jupyter-widgets/controls"
          }
        },
        "f062202fde564809baccfe79bf326e46": {
          "model_module": "@jupyter-widgets/base",
          "model_name": "LayoutModel",
          "state": {
            "_view_name": "LayoutView",
            "grid_template_rows": null,
            "right": null,
            "justify_content": null,
            "_view_module": "@jupyter-widgets/base",
            "overflow": null,
            "_model_module_version": "1.2.0",
            "_view_count": null,
            "flex_flow": null,
            "width": null,
            "min_width": null,
            "border": null,
            "align_items": null,
            "bottom": null,
            "_model_module": "@jupyter-widgets/base",
            "top": null,
            "grid_column": null,
            "overflow_y": null,
            "overflow_x": null,
            "grid_auto_flow": null,
            "grid_area": null,
            "grid_template_columns": null,
            "flex": null,
            "_model_name": "LayoutModel",
            "justify_items": null,
            "grid_row": null,
            "max_height": null,
            "align_content": null,
            "visibility": null,
            "align_self": null,
            "height": null,
            "min_height": null,
            "padding": null,
            "grid_auto_rows": null,
            "grid_gap": null,
            "max_width": null,
            "order": null,
            "_view_module_version": "1.2.0",
            "grid_template_areas": null,
            "object_position": null,
            "object_fit": null,
            "grid_auto_columns": null,
            "margin": null,
            "display": null,
            "left": null
          }
        },
        "4f082090631d49949776473edf5ddd6a": {
          "model_module": "@jupyter-widgets/controls",
          "model_name": "DescriptionStyleModel",
          "state": {
            "_view_name": "StyleView",
            "_model_name": "DescriptionStyleModel",
            "description_width": "",
            "_view_module": "@jupyter-widgets/base",
            "_model_module_version": "1.5.0",
            "_view_count": null,
            "_view_module_version": "1.2.0",
            "_model_module": "@jupyter-widgets/controls"
          }
        },
        "6e669638074f4863be0283c5aa74a229": {
          "model_module": "@jupyter-widgets/base",
          "model_name": "LayoutModel",
          "state": {
            "_view_name": "LayoutView",
            "grid_template_rows": null,
            "right": null,
            "justify_content": null,
            "_view_module": "@jupyter-widgets/base",
            "overflow": null,
            "_model_module_version": "1.2.0",
            "_view_count": null,
            "flex_flow": null,
            "width": null,
            "min_width": null,
            "border": null,
            "align_items": null,
            "bottom": null,
            "_model_module": "@jupyter-widgets/base",
            "top": null,
            "grid_column": null,
            "overflow_y": null,
            "overflow_x": null,
            "grid_auto_flow": null,
            "grid_area": null,
            "grid_template_columns": null,
            "flex": null,
            "_model_name": "LayoutModel",
            "justify_items": null,
            "grid_row": null,
            "max_height": null,
            "align_content": null,
            "visibility": null,
            "align_self": null,
            "height": null,
            "min_height": null,
            "padding": null,
            "grid_auto_rows": null,
            "grid_gap": null,
            "max_width": null,
            "order": null,
            "_view_module_version": "1.2.0",
            "grid_template_areas": null,
            "object_position": null,
            "object_fit": null,
            "grid_auto_columns": null,
            "margin": null,
            "display": null,
            "left": null
          }
        },
        "7d4bbbf76d904d80a60a15e659946740": {
          "model_module": "@jupyter-widgets/controls",
          "model_name": "HBoxModel",
          "state": {
            "_view_name": "HBoxView",
            "_dom_classes": [],
            "_model_name": "HBoxModel",
            "_view_module": "@jupyter-widgets/controls",
            "_model_module_version": "1.5.0",
            "_view_count": null,
            "_view_module_version": "1.5.0",
            "box_style": "",
            "layout": "IPY_MODEL_57ff08ae8a4d41fea5d6dc832779a455",
            "_model_module": "@jupyter-widgets/controls",
            "children": [
              "IPY_MODEL_989e4702a5cf48c59f45b1bccff0a953",
              "IPY_MODEL_cab4448fe1b24ba1a098dcb8dc06c472"
            ]
          }
        },
        "57ff08ae8a4d41fea5d6dc832779a455": {
          "model_module": "@jupyter-widgets/base",
          "model_name": "LayoutModel",
          "state": {
            "_view_name": "LayoutView",
            "grid_template_rows": null,
            "right": null,
            "justify_content": null,
            "_view_module": "@jupyter-widgets/base",
            "overflow": null,
            "_model_module_version": "1.2.0",
            "_view_count": null,
            "flex_flow": null,
            "width": null,
            "min_width": null,
            "border": null,
            "align_items": null,
            "bottom": null,
            "_model_module": "@jupyter-widgets/base",
            "top": null,
            "grid_column": null,
            "overflow_y": null,
            "overflow_x": null,
            "grid_auto_flow": null,
            "grid_area": null,
            "grid_template_columns": null,
            "flex": null,
            "_model_name": "LayoutModel",
            "justify_items": null,
            "grid_row": null,
            "max_height": null,
            "align_content": null,
            "visibility": null,
            "align_self": null,
            "height": null,
            "min_height": null,
            "padding": null,
            "grid_auto_rows": null,
            "grid_gap": null,
            "max_width": null,
            "order": null,
            "_view_module_version": "1.2.0",
            "grid_template_areas": null,
            "object_position": null,
            "object_fit": null,
            "grid_auto_columns": null,
            "margin": null,
            "display": null,
            "left": null
          }
        },
        "989e4702a5cf48c59f45b1bccff0a953": {
          "model_module": "@jupyter-widgets/controls",
          "model_name": "FloatProgressModel",
          "state": {
            "_view_name": "ProgressView",
            "style": "IPY_MODEL_c1f81791abb149178f85e86692d70c21",
            "_dom_classes": [],
            "description": "padding spectrograms: 100%",
            "_model_name": "FloatProgressModel",
            "bar_style": "",
            "max": 1208,
            "_view_module": "@jupyter-widgets/controls",
            "_model_module_version": "1.5.0",
            "value": 1208,
            "_view_count": null,
            "_view_module_version": "1.5.0",
            "orientation": "horizontal",
            "min": 0,
            "description_tooltip": null,
            "_model_module": "@jupyter-widgets/controls",
            "layout": "IPY_MODEL_65052bb2433c4f3882f39e1b762fdae7"
          }
        },
        "cab4448fe1b24ba1a098dcb8dc06c472": {
          "model_module": "@jupyter-widgets/controls",
          "model_name": "HTMLModel",
          "state": {
            "_view_name": "HTMLView",
            "style": "IPY_MODEL_e225f4ca20924c84b30217fc415dcbf1",
            "_dom_classes": [],
            "description": "",
            "_model_name": "HTMLModel",
            "placeholder": "​",
            "_view_module": "@jupyter-widgets/controls",
            "_model_module_version": "1.5.0",
            "value": " 1208/1208 [00:02&lt;00:00, 767.84it/s]",
            "_view_count": null,
            "_view_module_version": "1.5.0",
            "description_tooltip": null,
            "_model_module": "@jupyter-widgets/controls",
            "layout": "IPY_MODEL_a4043156a81f4d64a0650e3c9aa59637"
          }
        },
        "c1f81791abb149178f85e86692d70c21": {
          "model_module": "@jupyter-widgets/controls",
          "model_name": "ProgressStyleModel",
          "state": {
            "_view_name": "StyleView",
            "_model_name": "ProgressStyleModel",
            "description_width": "initial",
            "_view_module": "@jupyter-widgets/base",
            "_model_module_version": "1.5.0",
            "_view_count": null,
            "_view_module_version": "1.2.0",
            "bar_color": null,
            "_model_module": "@jupyter-widgets/controls"
          }
        },
        "65052bb2433c4f3882f39e1b762fdae7": {
          "model_module": "@jupyter-widgets/base",
          "model_name": "LayoutModel",
          "state": {
            "_view_name": "LayoutView",
            "grid_template_rows": null,
            "right": null,
            "justify_content": null,
            "_view_module": "@jupyter-widgets/base",
            "overflow": null,
            "_model_module_version": "1.2.0",
            "_view_count": null,
            "flex_flow": null,
            "width": null,
            "min_width": null,
            "border": null,
            "align_items": null,
            "bottom": null,
            "_model_module": "@jupyter-widgets/base",
            "top": null,
            "grid_column": null,
            "overflow_y": null,
            "overflow_x": null,
            "grid_auto_flow": null,
            "grid_area": null,
            "grid_template_columns": null,
            "flex": null,
            "_model_name": "LayoutModel",
            "justify_items": null,
            "grid_row": null,
            "max_height": null,
            "align_content": null,
            "visibility": null,
            "align_self": null,
            "height": null,
            "min_height": null,
            "padding": null,
            "grid_auto_rows": null,
            "grid_gap": null,
            "max_width": null,
            "order": null,
            "_view_module_version": "1.2.0",
            "grid_template_areas": null,
            "object_position": null,
            "object_fit": null,
            "grid_auto_columns": null,
            "margin": null,
            "display": null,
            "left": null
          }
        },
        "e225f4ca20924c84b30217fc415dcbf1": {
          "model_module": "@jupyter-widgets/controls",
          "model_name": "DescriptionStyleModel",
          "state": {
            "_view_name": "StyleView",
            "_model_name": "DescriptionStyleModel",
            "description_width": "",
            "_view_module": "@jupyter-widgets/base",
            "_model_module_version": "1.5.0",
            "_view_count": null,
            "_view_module_version": "1.2.0",
            "_model_module": "@jupyter-widgets/controls"
          }
        },
        "a4043156a81f4d64a0650e3c9aa59637": {
          "model_module": "@jupyter-widgets/base",
          "model_name": "LayoutModel",
          "state": {
            "_view_name": "LayoutView",
            "grid_template_rows": null,
            "right": null,
            "justify_content": null,
            "_view_module": "@jupyter-widgets/base",
            "overflow": null,
            "_model_module_version": "1.2.0",
            "_view_count": null,
            "flex_flow": null,
            "width": null,
            "min_width": null,
            "border": null,
            "align_items": null,
            "bottom": null,
            "_model_module": "@jupyter-widgets/base",
            "top": null,
            "grid_column": null,
            "overflow_y": null,
            "overflow_x": null,
            "grid_auto_flow": null,
            "grid_area": null,
            "grid_template_columns": null,
            "flex": null,
            "_model_name": "LayoutModel",
            "justify_items": null,
            "grid_row": null,
            "max_height": null,
            "align_content": null,
            "visibility": null,
            "align_self": null,
            "height": null,
            "min_height": null,
            "padding": null,
            "grid_auto_rows": null,
            "grid_gap": null,
            "max_width": null,
            "order": null,
            "_view_module_version": "1.2.0",
            "grid_template_areas": null,
            "object_position": null,
            "object_fit": null,
            "grid_auto_columns": null,
            "margin": null,
            "display": null,
            "left": null
          }
        },
        "74a8970140624884a3f99561cfc81d09": {
          "model_module": "@jupyter-widgets/controls",
          "model_name": "HBoxModel",
          "state": {
            "_view_name": "HBoxView",
            "_dom_classes": [],
            "_model_name": "HBoxModel",
            "_view_module": "@jupyter-widgets/controls",
            "_model_module_version": "1.5.0",
            "_view_count": null,
            "_view_module_version": "1.5.0",
            "box_style": "",
            "layout": "IPY_MODEL_bd10651a962a4cca98a544048ac94c3c",
            "_model_module": "@jupyter-widgets/controls",
            "children": [
              "IPY_MODEL_54331421e38b47fcb12cb00e7b806305",
              "IPY_MODEL_5e16e02c87fc421dad6b948221693af2"
            ]
          }
        },
        "bd10651a962a4cca98a544048ac94c3c": {
          "model_module": "@jupyter-widgets/base",
          "model_name": "LayoutModel",
          "state": {
            "_view_name": "LayoutView",
            "grid_template_rows": null,
            "right": null,
            "justify_content": null,
            "_view_module": "@jupyter-widgets/base",
            "overflow": null,
            "_model_module_version": "1.2.0",
            "_view_count": null,
            "flex_flow": null,
            "width": null,
            "min_width": null,
            "border": null,
            "align_items": null,
            "bottom": null,
            "_model_module": "@jupyter-widgets/base",
            "top": null,
            "grid_column": null,
            "overflow_y": null,
            "overflow_x": null,
            "grid_auto_flow": null,
            "grid_area": null,
            "grid_template_columns": null,
            "flex": null,
            "_model_name": "LayoutModel",
            "justify_items": null,
            "grid_row": null,
            "max_height": null,
            "align_content": null,
            "visibility": null,
            "align_self": null,
            "height": null,
            "min_height": null,
            "padding": null,
            "grid_auto_rows": null,
            "grid_gap": null,
            "max_width": null,
            "order": null,
            "_view_module_version": "1.2.0",
            "grid_template_areas": null,
            "object_position": null,
            "object_fit": null,
            "grid_auto_columns": null,
            "margin": null,
            "display": null,
            "left": null
          }
        },
        "54331421e38b47fcb12cb00e7b806305": {
          "model_module": "@jupyter-widgets/controls",
          "model_name": "FloatProgressModel",
          "state": {
            "_view_name": "ProgressView",
            "style": "IPY_MODEL_2076f4be95a44a449166bb8b02d240c2",
            "_dom_classes": [],
            "description": "100%",
            "_model_name": "FloatProgressModel",
            "bar_style": "success",
            "max": 1208,
            "_view_module": "@jupyter-widgets/controls",
            "_model_module_version": "1.5.0",
            "value": 1208,
            "_view_count": null,
            "_view_module_version": "1.5.0",
            "orientation": "horizontal",
            "min": 0,
            "description_tooltip": null,
            "_model_module": "@jupyter-widgets/controls",
            "layout": "IPY_MODEL_af1648f74de74e8aaa559813e4a420bf"
          }
        },
        "5e16e02c87fc421dad6b948221693af2": {
          "model_module": "@jupyter-widgets/controls",
          "model_name": "HTMLModel",
          "state": {
            "_view_name": "HTMLView",
            "style": "IPY_MODEL_95d7df55780849bba2530e6258710812",
            "_dom_classes": [],
            "description": "",
            "_model_name": "HTMLModel",
            "placeholder": "​",
            "_view_module": "@jupyter-widgets/controls",
            "_model_module_version": "1.5.0",
            "value": " 1208/1208 [00:16&lt;00:00, 72.53it/s]",
            "_view_count": null,
            "_view_module_version": "1.5.0",
            "description_tooltip": null,
            "_model_module": "@jupyter-widgets/controls",
            "layout": "IPY_MODEL_9def7e281e1e4ef5bfc5a53500a568e2"
          }
        },
        "2076f4be95a44a449166bb8b02d240c2": {
          "model_module": "@jupyter-widgets/controls",
          "model_name": "ProgressStyleModel",
          "state": {
            "_view_name": "StyleView",
            "_model_name": "ProgressStyleModel",
            "description_width": "initial",
            "_view_module": "@jupyter-widgets/base",
            "_model_module_version": "1.5.0",
            "_view_count": null,
            "_view_module_version": "1.2.0",
            "bar_color": null,
            "_model_module": "@jupyter-widgets/controls"
          }
        },
        "af1648f74de74e8aaa559813e4a420bf": {
          "model_module": "@jupyter-widgets/base",
          "model_name": "LayoutModel",
          "state": {
            "_view_name": "LayoutView",
            "grid_template_rows": null,
            "right": null,
            "justify_content": null,
            "_view_module": "@jupyter-widgets/base",
            "overflow": null,
            "_model_module_version": "1.2.0",
            "_view_count": null,
            "flex_flow": null,
            "width": null,
            "min_width": null,
            "border": null,
            "align_items": null,
            "bottom": null,
            "_model_module": "@jupyter-widgets/base",
            "top": null,
            "grid_column": null,
            "overflow_y": null,
            "overflow_x": null,
            "grid_auto_flow": null,
            "grid_area": null,
            "grid_template_columns": null,
            "flex": null,
            "_model_name": "LayoutModel",
            "justify_items": null,
            "grid_row": null,
            "max_height": null,
            "align_content": null,
            "visibility": null,
            "align_self": null,
            "height": null,
            "min_height": null,
            "padding": null,
            "grid_auto_rows": null,
            "grid_gap": null,
            "max_width": null,
            "order": null,
            "_view_module_version": "1.2.0",
            "grid_template_areas": null,
            "object_position": null,
            "object_fit": null,
            "grid_auto_columns": null,
            "margin": null,
            "display": null,
            "left": null
          }
        },
        "95d7df55780849bba2530e6258710812": {
          "model_module": "@jupyter-widgets/controls",
          "model_name": "DescriptionStyleModel",
          "state": {
            "_view_name": "StyleView",
            "_model_name": "DescriptionStyleModel",
            "description_width": "",
            "_view_module": "@jupyter-widgets/base",
            "_model_module_version": "1.5.0",
            "_view_count": null,
            "_view_module_version": "1.2.0",
            "_model_module": "@jupyter-widgets/controls"
          }
        },
        "9def7e281e1e4ef5bfc5a53500a568e2": {
          "model_module": "@jupyter-widgets/base",
          "model_name": "LayoutModel",
          "state": {
            "_view_name": "LayoutView",
            "grid_template_rows": null,
            "right": null,
            "justify_content": null,
            "_view_module": "@jupyter-widgets/base",
            "overflow": null,
            "_model_module_version": "1.2.0",
            "_view_count": null,
            "flex_flow": null,
            "width": null,
            "min_width": null,
            "border": null,
            "align_items": null,
            "bottom": null,
            "_model_module": "@jupyter-widgets/base",
            "top": null,
            "grid_column": null,
            "overflow_y": null,
            "overflow_x": null,
            "grid_auto_flow": null,
            "grid_area": null,
            "grid_template_columns": null,
            "flex": null,
            "_model_name": "LayoutModel",
            "justify_items": null,
            "grid_row": null,
            "max_height": null,
            "align_content": null,
            "visibility": null,
            "align_self": null,
            "height": null,
            "min_height": null,
            "padding": null,
            "grid_auto_rows": null,
            "grid_gap": null,
            "max_width": null,
            "order": null,
            "_view_module_version": "1.2.0",
            "grid_template_areas": null,
            "object_position": null,
            "object_fit": null,
            "grid_auto_columns": null,
            "margin": null,
            "display": null,
            "left": null
          }
        }
      }
    }
  },
  "cells": [
    {
      "cell_type": "markdown",
      "metadata": {
        "id": "view-in-github",
        "colab_type": "text"
      },
      "source": [
        "<a href=\"https://colab.research.google.com/github/AvisP/Nest-Seq-Analysis/blob/main/notebooks/Notmat2dataframe.ipynb\" target=\"_parent\"><img src=\"https://colab.research.google.com/assets/colab-badge.svg\" alt=\"Open In Colab\"/></a>"
      ]
    },
    {
      "cell_type": "code",
      "metadata": {
        "id": "7ACBAznHUxRu"
      },
      "source": [
        "import pickle\n",
        "import pandas as pd"
      ],
      "execution_count": 1,
      "outputs": []
    },
    {
      "cell_type": "code",
      "metadata": {
        "colab": {
          "base_uri": "https://localhost:8080/"
        },
        "id": "alEcCNEiVLsi",
        "outputId": "a6c66041-6f7f-4e80-fef8-815242ba608c"
      },
      "source": [
        "from google.colab import drive\n",
        "drive.mount('/content/gdrive')"
      ],
      "execution_count": 2,
      "outputs": [
        {
          "output_type": "stream",
          "text": [
            "Mounted at /content/gdrive\n"
          ],
          "name": "stdout"
        }
      ]
    },
    {
      "cell_type": "code",
      "metadata": {
        "id": "F2GZFro1Uy-6"
      },
      "source": [
        "base_path = '/content/gdrive/My Drive/ZFDataset/'"
      ],
      "execution_count": 3,
      "outputs": []
    },
    {
      "cell_type": "code",
      "metadata": {
        "id": "HzJsUW-elDe_"
      },
      "source": [
        "# syllable_df_Nest_Total = pd.read_pickle(base_path+'Nest1_Densenet121.pkl')"
      ],
      "execution_count": null,
      "outputs": []
    },
    {
      "cell_type": "code",
      "metadata": {
        "id": "9J-TF3IpVZGc"
      },
      "source": [
        "# syllable_df_Nest_Total"
      ],
      "execution_count": null,
      "outputs": []
    },
    {
      "cell_type": "code",
      "metadata": {
        "id": "OfLoLsWLVxmx"
      },
      "source": [
        "# Nest1 = pd.read_pickle(base_path+'zf_Nest1_noRescale1.pickle')"
      ],
      "execution_count": null,
      "outputs": []
    },
    {
      "cell_type": "code",
      "metadata": {
        "id": "Wln7LoGrV5Xv"
      },
      "source": [
        "# Nest1"
      ],
      "execution_count": null,
      "outputs": []
    },
    {
      "cell_type": "code",
      "metadata": {
        "colab": {
          "base_uri": "https://localhost:8080/"
        },
        "id": "22kJVL2SXmCz",
        "outputId": "95f3c42b-8ced-4156-d5a2-a6c91ae2a529"
      },
      "source": [
        "ls"
      ],
      "execution_count": 4,
      "outputs": [
        {
          "output_type": "stream",
          "text": [
            "\u001b[0m\u001b[01;34mgdrive\u001b[0m/  \u001b[01;34msample_data\u001b[0m/\n"
          ],
          "name": "stdout"
        }
      ]
    },
    {
      "cell_type": "code",
      "metadata": {
        "colab": {
          "base_uri": "https://localhost:8080/"
        },
        "id": "-YBc76kfgUcQ",
        "outputId": "f3af766c-9386-40c4-89ab-56933c5c99f6"
      },
      "source": [
        "!git clone https://github.com/AvisP/Nest-Seq-Analysis.git"
      ],
      "execution_count": 5,
      "outputs": [
        {
          "output_type": "stream",
          "text": [
            "Cloning into 'Nest-Seq-Analysis'...\n",
            "remote: Enumerating objects: 122, done.\u001b[K\n",
            "remote: Counting objects: 100% (122/122), done.\u001b[K\n",
            "remote: Compressing objects: 100% (111/111), done.\u001b[K\n",
            "remote: Total 122 (delta 35), reused 53 (delta 4), pack-reused 0\u001b[K\n",
            "Receiving objects: 100% (122/122), 3.67 MiB | 7.70 MiB/s, done.\n",
            "Resolving deltas: 100% (35/35), done.\n"
          ],
          "name": "stdout"
        }
      ]
    },
    {
      "cell_type": "code",
      "metadata": {
        "colab": {
          "base_uri": "https://localhost:8080/"
        },
        "id": "RevZOH8elo23",
        "outputId": "b7a7d5e7-2232-4f3c-e2d1-cb1b905f7d70"
      },
      "source": [
        "cd Nest-Seq-Analysis/"
      ],
      "execution_count": 6,
      "outputs": [
        {
          "output_type": "stream",
          "text": [
            "/content/Nest-Seq-Analysis\n"
          ],
          "name": "stdout"
        }
      ]
    },
    {
      "cell_type": "code",
      "metadata": {
        "colab": {
          "base_uri": "https://localhost:8080/"
        },
        "id": "QeHv8fcMlrSz",
        "outputId": "26fbaf4b-9755-42a2-9707-22c4ef35c02b"
      },
      "source": [
        "ls"
      ],
      "execution_count": 7,
      "outputs": [
        {
          "output_type": "stream",
          "text": [
            "\u001b[0m\u001b[01;34mavgn\u001b[0m/  \u001b[01;34mmodels\u001b[0m/  \u001b[01;34mnotebooks\u001b[0m/  README.md  \u001b[01;34mscripts\u001b[0m/\n"
          ],
          "name": "stdout"
        }
      ]
    },
    {
      "cell_type": "code",
      "metadata": {
        "colab": {
          "base_uri": "https://localhost:8080/"
        },
        "id": "9kgC2CYYmdAE",
        "outputId": "18368099-84db-4b78-bb8d-2660c36752c5"
      },
      "source": [
        "pip install pathlib2"
      ],
      "execution_count": 8,
      "outputs": [
        {
          "output_type": "stream",
          "text": [
            "Collecting pathlib2\n",
            "  Downloading https://files.pythonhosted.org/packages/76/67/dc02c72177ec79f0176e5bf9921e9c1745a381ed556afb3b3ecc2bb8ba2e/pathlib2-2.3.6-py2.py3-none-any.whl\n",
            "Requirement already satisfied: six in /usr/local/lib/python3.7/dist-packages (from pathlib2) (1.15.0)\n",
            "Installing collected packages: pathlib2\n",
            "Successfully installed pathlib2-2.3.6\n"
          ],
          "name": "stdout"
        }
      ]
    },
    {
      "cell_type": "code",
      "metadata": {
        "id": "uVCgDphhlyTs",
        "colab": {
          "base_uri": "https://localhost:8080/"
        },
        "outputId": "b65bf78b-97a8-4930-84d4-b7c6bc7add31"
      },
      "source": [
        "from joblib import Parallel, delayed\n",
        "from tqdm.autonotebook import tqdm\n",
        "import pandas as pd\n",
        "pd.options.display.max_columns = None\n",
        "import librosa\n",
        "from datetime import datetime\n",
        "import numpy as np\n",
        "import pathlib2"
      ],
      "execution_count": 9,
      "outputs": [
        {
          "output_type": "stream",
          "text": [
            "/usr/local/lib/python3.7/dist-packages/ipykernel_launcher.py:2: TqdmExperimentalWarning: Using `tqdm.autonotebook.tqdm` in notebook mode. Use `tqdm.tqdm` instead to force console mode (e.g. in jupyter console)\n",
            "  \n"
          ],
          "name": "stderr"
        }
      ]
    },
    {
      "cell_type": "code",
      "metadata": {
        "id": "tPa07nYNmW4z"
      },
      "source": [
        "import avgn\n",
        "from avgn.custom_parsing.bengalese_finch_sakata import (\n",
        "    generate_json_wav_not_mat,\n",
        "    parse_song_df,\n",
        ")\n",
        "from avgn.utils.paths import DATA_DIR"
      ],
      "execution_count": 12,
      "outputs": []
    },
    {
      "cell_type": "code",
      "metadata": {
        "id": "52-PioSJmlzJ",
        "colab": {
          "base_uri": "https://localhost:8080/",
          "height": 35
        },
        "outputId": "ba323b73-e6fd-4149-f474-3cfe3f2713b3"
      },
      "source": [
        "DATASET_ID = 'zebra_finch_sakata'\n",
        "species = \"Taeniopygia guttata\"\n",
        "common_name = \"Zebra Finch\"\n",
        "\n",
        "DT_ID = datetime.now().strftime(\"%Y-%m-%d_%H-%M-%S\")\n",
        "DT_ID"
      ],
      "execution_count": 10,
      "outputs": [
        {
          "output_type": "execute_result",
          "data": {
            "application/vnd.google.colaboratory.intrinsic+json": {
              "type": "string"
            },
            "text/plain": [
              "'2021-07-08_02-57-54'"
            ]
          },
          "metadata": {
            "tags": []
          },
          "execution_count": 10
        }
      ]
    },
    {
      "cell_type": "markdown",
      "metadata": {
        "id": "zemh4C2OHkEN"
      },
      "source": [
        "Clear out the directory if runing a seperate nest or new bird, else the files from previous run will get carried over. Ignore if running for first time"
      ]
    },
    {
      "cell_type": "code",
      "metadata": {
        "id": "YRCDX1kBH1OM"
      },
      "source": [
        "# For clearing out the contents of WAV and JSON files from last run\n",
        "import os, shutil\n",
        "folder_JSON = \"/\".join(['/content/Nest-Seq-Analysis/data/processed/zebra_finch_sakata',DT_ID,'JSON'])\n",
        "folder_WAV = \"/\".join(['/content/Nest-Seq-Analysis/data/processed/zebra_finch_sakata',DT_ID,'WAV'])\n",
        "\n",
        "def remove_files_given_folder(folder):\n",
        "  for filename in os.listdir(folder):\n",
        "      file_path = os.path.join(folder, filename)\n",
        "      try:\n",
        "          if os.path.isfile(file_path) or os.path.islink(file_path):\n",
        "              os.unlink(file_path)\n",
        "          elif os.path.isdir(file_path):\n",
        "              shutil.rmtree(file_path)\n",
        "      except Exception as e:\n",
        "          print('Failed to delete %s. Reason: %s' % (file_path, e))\n",
        "\n",
        "remove_files_given_folder(folder_JSON)\n",
        "remove_files_given_folder(folder_WAV)"
      ],
      "execution_count": 60,
      "outputs": []
    },
    {
      "cell_type": "markdown",
      "metadata": {
        "id": "Gh9cPY-hH6Vw"
      },
      "source": [
        "Set folder/(s) or Nest name here"
      ]
    },
    {
      "cell_type": "code",
      "metadata": {
        "colab": {
          "base_uri": "https://localhost:8080/"
        },
        "id": "J21AREXNsZT1",
        "outputId": "a31db68f-58c1-4a97-9a2e-b6271a8cc24b"
      },
      "source": [
        "# DSLOC = avgn.utils.paths.Path('I:/ZebraFinchGenerations/Nest5')\n",
        "DSLOC = avgn.utils.paths.Path('/content/gdrive/MyDrive/ZFDataset/Nest5')\n",
        "DSLOC"
      ],
      "execution_count": 62,
      "outputs": [
        {
          "output_type": "execute_result",
          "data": {
            "text/plain": [
              "PosixPath('/content/gdrive/MyDrive/ZFDataset/Nest5')"
            ]
          },
          "metadata": {
            "tags": []
          },
          "execution_count": 62
        }
      ]
    },
    {
      "cell_type": "markdown",
      "metadata": {
        "id": "OHd5D1k5GShn"
      },
      "source": [
        "If there are lots of files preferable to process indvidual birds and then concatenate the seperate dataframes into 1 Nest else use the multiple folder processing"
      ]
    },
    {
      "cell_type": "markdown",
      "metadata": {
        "id": "CV41tDVuNLR-"
      },
      "source": [
        "## DSLOC is single folder \n"
      ]
    },
    {
      "cell_type": "code",
      "metadata": {
        "id": "QE-c6lxRLwM8",
        "colab": {
          "base_uri": "https://localhost:8080/",
          "height": 231
        },
        "outputId": "111070f2-350b-431a-d09c-35951a56fc0d"
      },
      "source": [
        "WAVLIST = list((DSLOC).expanduser().glob('*.wav'))\n",
        "len(WAVLIST), WAVLIST[0]\n",
        "\n",
        "MATLIST = list((DSLOC).expanduser().glob('*.wav.not.mat'))\n",
        "len(MATLIST), MATLIST[0]\n",
        "\n",
        "song_df = parse_song_df(WAVLIST,MATLIST)\n",
        "\n",
        "song_df[:3]\n",
        "\n",
        "wav_names = np.array([i.name for i in WAVLIST])"
      ],
      "execution_count": 53,
      "outputs": [
        {
          "output_type": "error",
          "ename": "IndexError",
          "evalue": "ignored",
          "traceback": [
            "\u001b[0;31m---------------------------------------------------------------------------\u001b[0m",
            "\u001b[0;31mIndexError\u001b[0m                                Traceback (most recent call last)",
            "\u001b[0;32m<ipython-input-53-45d7ff2fcbc6>\u001b[0m in \u001b[0;36m<module>\u001b[0;34m()\u001b[0m\n\u001b[1;32m      1\u001b[0m \u001b[0mWAVLIST\u001b[0m \u001b[0;34m=\u001b[0m \u001b[0mlist\u001b[0m\u001b[0;34m(\u001b[0m\u001b[0;34m(\u001b[0m\u001b[0mDSLOC\u001b[0m\u001b[0;34m)\u001b[0m\u001b[0;34m.\u001b[0m\u001b[0mexpanduser\u001b[0m\u001b[0;34m(\u001b[0m\u001b[0;34m)\u001b[0m\u001b[0;34m.\u001b[0m\u001b[0mglob\u001b[0m\u001b[0;34m(\u001b[0m\u001b[0;34m'*.wav'\u001b[0m\u001b[0;34m)\u001b[0m\u001b[0;34m)\u001b[0m\u001b[0;34m\u001b[0m\u001b[0;34m\u001b[0m\u001b[0m\n\u001b[0;32m----> 2\u001b[0;31m \u001b[0mlen\u001b[0m\u001b[0;34m(\u001b[0m\u001b[0mWAVLIST\u001b[0m\u001b[0;34m)\u001b[0m\u001b[0;34m,\u001b[0m \u001b[0mWAVLIST\u001b[0m\u001b[0;34m[\u001b[0m\u001b[0;36m0\u001b[0m\u001b[0;34m]\u001b[0m\u001b[0;34m\u001b[0m\u001b[0;34m\u001b[0m\u001b[0m\n\u001b[0m\u001b[1;32m      3\u001b[0m \u001b[0;34m\u001b[0m\u001b[0m\n\u001b[1;32m      4\u001b[0m \u001b[0mMATLIST\u001b[0m \u001b[0;34m=\u001b[0m \u001b[0mlist\u001b[0m\u001b[0;34m(\u001b[0m\u001b[0;34m(\u001b[0m\u001b[0mDSLOC\u001b[0m\u001b[0;34m)\u001b[0m\u001b[0;34m.\u001b[0m\u001b[0mexpanduser\u001b[0m\u001b[0;34m(\u001b[0m\u001b[0;34m)\u001b[0m\u001b[0;34m.\u001b[0m\u001b[0mglob\u001b[0m\u001b[0;34m(\u001b[0m\u001b[0;34m'*.wav.not.mat'\u001b[0m\u001b[0;34m)\u001b[0m\u001b[0;34m)\u001b[0m\u001b[0;34m\u001b[0m\u001b[0;34m\u001b[0m\u001b[0m\n\u001b[1;32m      5\u001b[0m \u001b[0mlen\u001b[0m\u001b[0;34m(\u001b[0m\u001b[0mMATLIST\u001b[0m\u001b[0;34m)\u001b[0m\u001b[0;34m,\u001b[0m \u001b[0mMATLIST\u001b[0m\u001b[0;34m[\u001b[0m\u001b[0;36m0\u001b[0m\u001b[0;34m]\u001b[0m\u001b[0;34m\u001b[0m\u001b[0;34m\u001b[0m\u001b[0m\n",
            "\u001b[0;31mIndexError\u001b[0m: list index out of range"
          ]
        }
      ]
    },
    {
      "cell_type": "code",
      "metadata": {
        "colab": {
          "base_uri": "https://localhost:8080/"
        },
        "id": "CK3uuKuaNgLt",
        "outputId": "b8670e17-e1cb-4ce0-c23e-82363a64c463"
      },
      "source": [
        "wav_names"
      ],
      "execution_count": null,
      "outputs": [
        {
          "output_type": "execute_result",
          "data": {
            "text/plain": [
              "array(['vstd_42628292.wav', 'vstd_36106201.wav', 'vstd_43722461.wav',\n",
              "       'vstd_43884779.wav', 'vstd_31268092.wav', 'vstd_39044041.wav',\n",
              "       'vstd_33957441.wav', 'vstd_33736341.wav', 'vstd_43619969.wav',\n",
              "       'vstd_34586941.wav', 'vstd_43287782.wav', 'vstd_41847011.wav',\n",
              "       'vstd_34785463.wav', 'vstd_31123682.wav', 'vstd_35780572.wav',\n",
              "       'vstd_30431169.wav', 'vstd_30514399.wav', 'vstd_31185069.wav',\n",
              "       'vstd_32637679.wav', 'vstd_34462842.wav', 'vstd_35675962.wav',\n",
              "       'vstd_36661719.wav', 'vstd_38630212.wav', 'vstd_41913452.wav',\n",
              "       'vstd_44505281.wav', 'vstd_44689342.wav', 'vstd_46563391.wav',\n",
              "       'vstd_46842399.wav', 'vstd_48308972.wav', 'vstd_47747992.wav',\n",
              "       'vstd_47747992_Copy.wav'], dtype='<U22')"
            ]
          },
          "metadata": {
            "tags": []
          },
          "execution_count": 78
        }
      ]
    },
    {
      "cell_type": "markdown",
      "metadata": {
        "id": "_d7b_EIQNkTB"
      },
      "source": [
        "## DSLOC has multiple folders\n",
        "\n",
        "Jump to Common Section part if using Single Folder section"
      ]
    },
    {
      "cell_type": "code",
      "metadata": {
        "colab": {
          "base_uri": "https://localhost:8080/"
        },
        "id": "ViXf2KCDN-uE",
        "outputId": "e11eea43-b5d8-49de-f465-8cfe853bea4d"
      },
      "source": [
        "folder_list = list((DSLOC).expanduser().glob('*'))\n",
        "\n",
        "WAVPATH = []\n",
        "\n",
        "for idx, folder_path in enumerate(folder_list):\n",
        "    WAVLIST = list((pathlib2.Path(folder_path.parent,folder_path.parts[-1])).expanduser().glob('*.wav'))\n",
        "    MATLIST = list((pathlib2.Path(folder_path.parent,folder_path.parts[-1])).expanduser().glob('*.wav.not.mat'))\n",
        "    song_temp = parse_song_df(WAVLIST,MATLIST)\n",
        "    if idx == 0:\n",
        "        song_df = song_temp\n",
        "        wav_names = np.array([i.name for i in WAVLIST])\n",
        "        WAVPATH = WAVLIST\n",
        "    else:\n",
        "        song_df = pd.concat([song_df, song_temp], axis=0, ignore_index=True)\n",
        "        wav_names = np.concatenate((wav_names, np.array([i.name for i in WAVLIST])), axis=0)\n",
        "        WAVPATH = WAVPATH + WAVLIST\n",
        "    \n",
        "# song_df = song_df.drop(columns='index')\n",
        "WAVLIST = WAVPATH"
      ],
      "execution_count": 64,
      "outputs": [
        {
          "output_type": "stream",
          "text": [
            "\n",
            "\n",
            "\n",
            "\n",
            "  0%|          | 0/40 [00:00<?, ?it/s]\u001b[A\u001b[A\u001b[A\u001b[A\n",
            "\n",
            "\n",
            "\n",
            " 38%|███▊      | 15/40 [00:00<00:00, 146.07it/s]\u001b[A\u001b[A\u001b[A\u001b[A"
          ],
          "name": "stderr"
        },
        {
          "output_type": "stream",
          "text": [
            "Expected wav file format structure : wh70bk90_May_07_2020_26053151_Copy.wav\n",
            "All wav files have corresponding not.mat files\n"
          ],
          "name": "stdout"
        },
        {
          "output_type": "stream",
          "text": [
            "\n",
            "\n",
            "\n",
            "\n",
            "100%|██████████| 40/40 [00:00<00:00, 137.65it/s]\n",
            "\n",
            "\n",
            "\n",
            "\n",
            "  0%|          | 0/37 [00:00<?, ?it/s]\u001b[A\u001b[A\u001b[A\u001b[A\n",
            "\n",
            "\n",
            "\n",
            " 41%|████      | 15/37 [00:00<00:00, 144.27it/s]\u001b[A\u001b[A\u001b[A\u001b[A"
          ],
          "name": "stderr"
        },
        {
          "output_type": "stream",
          "text": [
            "Expected wav file format structure : wh70bk90_May_07_2020_26053151_Copy.wav\n",
            "All wav files have corresponding not.mat files\n"
          ],
          "name": "stdout"
        },
        {
          "output_type": "stream",
          "text": [
            "\n",
            "\n",
            "\n",
            "\n",
            "100%|██████████| 37/37 [00:00<00:00, 133.27it/s]\n"
          ],
          "name": "stderr"
        }
      ]
    },
    {
      "cell_type": "markdown",
      "metadata": {
        "id": "7gjpjuTQOguP"
      },
      "source": [
        "If warning messages about missing wav or .not.mat files then go to dataset and check if all audio files have corresponding .not.mat files before proceeding"
      ]
    },
    {
      "cell_type": "code",
      "metadata": {
        "colab": {
          "base_uri": "https://localhost:8080/"
        },
        "id": "olX6IziCRMK2",
        "outputId": "39df5950-58bd-4418-e526-d5122fdad5be"
      },
      "source": [
        "WAVLIST"
      ],
      "execution_count": 65,
      "outputs": [
        {
          "output_type": "execute_result",
          "data": {
            "text/plain": [
              "[PosixPath('/content/gdrive/MyDrive/ZFDataset/Nest5/tbfk/tbfk_36251927.wav'),\n",
              " PosixPath('/content/gdrive/MyDrive/ZFDataset/Nest5/tbfk/tbfk_39036906.wav'),\n",
              " PosixPath('/content/gdrive/MyDrive/ZFDataset/Nest5/tbfk/tbfk_38473932.wav'),\n",
              " PosixPath('/content/gdrive/MyDrive/ZFDataset/Nest5/tbfk/tbfk_38075592_Copy.wav'),\n",
              " PosixPath('/content/gdrive/MyDrive/ZFDataset/Nest5/tbfk/tbfk_38075592.wav'),\n",
              " PosixPath('/content/gdrive/MyDrive/ZFDataset/Nest5/tbfk/tbfk_37993396.wav'),\n",
              " PosixPath('/content/gdrive/MyDrive/ZFDataset/Nest5/tbfk/tbfk_37782236_Copy.wav'),\n",
              " PosixPath('/content/gdrive/MyDrive/ZFDataset/Nest5/tbfk/tbfk_37782236.wav'),\n",
              " PosixPath('/content/gdrive/MyDrive/ZFDataset/Nest5/tbfk/tbfk_36673072.wav'),\n",
              " PosixPath('/content/gdrive/MyDrive/ZFDataset/Nest5/tbfk/tbfk_36395056.wav'),\n",
              " PosixPath('/content/gdrive/MyDrive/ZFDataset/Nest5/tbfk/tbfk_42835196_Copy1.wav'),\n",
              " PosixPath('/content/gdrive/MyDrive/ZFDataset/Nest5/tbfk/tbfk_42835196_Copy.wav'),\n",
              " PosixPath('/content/gdrive/MyDrive/ZFDataset/Nest5/tbfk/tbfk_42835196.wav'),\n",
              " PosixPath('/content/gdrive/MyDrive/ZFDataset/Nest5/tbfk/tbfk_41628696.wav'),\n",
              " PosixPath('/content/gdrive/MyDrive/ZFDataset/Nest5/tbfk/tbfk_41445236_Copy.wav'),\n",
              " PosixPath('/content/gdrive/MyDrive/ZFDataset/Nest5/tbfk/tbfk_41445236.wav'),\n",
              " PosixPath('/content/gdrive/MyDrive/ZFDataset/Nest5/tbfk/tbfk_53859817_Copy.wav'),\n",
              " PosixPath('/content/gdrive/MyDrive/ZFDataset/Nest5/tbfk/tbfk_53859817.wav'),\n",
              " PosixPath('/content/gdrive/MyDrive/ZFDataset/Nest5/tbfk/tbfk_53461607.wav'),\n",
              " PosixPath('/content/gdrive/MyDrive/ZFDataset/Nest5/tbfk/tbfk_48579806.wav'),\n",
              " PosixPath('/content/gdrive/MyDrive/ZFDataset/Nest5/tbfk/tbfk_48126946_Copy1.wav'),\n",
              " PosixPath('/content/gdrive/MyDrive/ZFDataset/Nest5/tbfk/tbfk_48126946_Copy.wav'),\n",
              " PosixPath('/content/gdrive/MyDrive/ZFDataset/Nest5/tbfk/tbfk_48126946.wav'),\n",
              " PosixPath('/content/gdrive/MyDrive/ZFDataset/Nest5/tbfk/tbfk_47997075.wav'),\n",
              " PosixPath('/content/gdrive/MyDrive/ZFDataset/Nest5/tbfk/tbfk_44201306.wav'),\n",
              " PosixPath('/content/gdrive/MyDrive/ZFDataset/Nest5/tbfk/tbfk_71927737.wav'),\n",
              " PosixPath('/content/gdrive/MyDrive/ZFDataset/Nest5/tbfk/tbfk_63349238.wav'),\n",
              " PosixPath('/content/gdrive/MyDrive/ZFDataset/Nest5/tbfk/tbfk_62827918.wav'),\n",
              " PosixPath('/content/gdrive/MyDrive/ZFDataset/Nest5/tbfk/tbfk_62303732.wav'),\n",
              " PosixPath('/content/gdrive/MyDrive/ZFDataset/Nest5/tbfk/tbfk_59068993_Copy1.wav'),\n",
              " PosixPath('/content/gdrive/MyDrive/ZFDataset/Nest5/tbfk/tbfk_59068993_Copy.wav'),\n",
              " PosixPath('/content/gdrive/MyDrive/ZFDataset/Nest5/tbfk/tbfk_59068993.wav'),\n",
              " PosixPath('/content/gdrive/MyDrive/ZFDataset/Nest5/tbfk/tbfk_55075474.wav'),\n",
              " PosixPath('/content/gdrive/MyDrive/ZFDataset/Nest5/tbfk/tbfk_55045756.wav'),\n",
              " PosixPath('/content/gdrive/MyDrive/ZFDataset/Nest5/tbfk/tbfk_77404997.wav'),\n",
              " PosixPath('/content/gdrive/MyDrive/ZFDataset/Nest5/tbfk/tbfk_77303286.wav'),\n",
              " PosixPath('/content/gdrive/MyDrive/ZFDataset/Nest5/tbfk/tbfk_77288588.wav'),\n",
              " PosixPath('/content/gdrive/MyDrive/ZFDataset/Nest5/tbfk/tbfk_76689958.wav'),\n",
              " PosixPath('/content/gdrive/MyDrive/ZFDataset/Nest5/tbfk/tbfk_71983297.wav'),\n",
              " PosixPath('/content/gdrive/MyDrive/ZFDataset/Nest5/tbfk/tbfk_65155407.wav'),\n",
              " PosixPath('/content/gdrive/MyDrive/ZFDataset/Nest5/ttog/ttog_38747842_Copy.wav'),\n",
              " PosixPath('/content/gdrive/MyDrive/ZFDataset/Nest5/ttog/ttog_38747842.wav'),\n",
              " PosixPath('/content/gdrive/MyDrive/ZFDataset/Nest5/ttog/ttog_39762384_Copy.wav'),\n",
              " PosixPath('/content/gdrive/MyDrive/ZFDataset/Nest5/ttog/ttog_39746474_Copy1.wav'),\n",
              " PosixPath('/content/gdrive/MyDrive/ZFDataset/Nest5/ttog/ttog_39746474_Copy.wav'),\n",
              " PosixPath('/content/gdrive/MyDrive/ZFDataset/Nest5/ttog/ttog_39746474.wav'),\n",
              " PosixPath('/content/gdrive/MyDrive/ZFDataset/Nest5/ttog/ttog_39741544.wav'),\n",
              " PosixPath('/content/gdrive/MyDrive/ZFDataset/Nest5/ttog/ttog_38971024.wav'),\n",
              " PosixPath('/content/gdrive/MyDrive/ZFDataset/Nest5/ttog/ttog_37266674.wav'),\n",
              " PosixPath('/content/gdrive/MyDrive/ZFDataset/Nest5/ttog/ttog_38958354.wav'),\n",
              " PosixPath('/content/gdrive/MyDrive/ZFDataset/Nest5/ttog/ttog_45887254.wav'),\n",
              " PosixPath('/content/gdrive/MyDrive/ZFDataset/Nest5/ttog/ttog_44963024_Copy.wav'),\n",
              " PosixPath('/content/gdrive/MyDrive/ZFDataset/Nest5/ttog/ttog_44963024.wav'),\n",
              " PosixPath('/content/gdrive/MyDrive/ZFDataset/Nest5/ttog/ttog_44939084.wav'),\n",
              " PosixPath('/content/gdrive/MyDrive/ZFDataset/Nest5/ttog/ttog_39839074.wav'),\n",
              " PosixPath('/content/gdrive/MyDrive/ZFDataset/Nest5/ttog/ttog_39762384.wav'),\n",
              " PosixPath('/content/gdrive/MyDrive/ZFDataset/Nest5/ttog/ttog_50662184.wav'),\n",
              " PosixPath('/content/gdrive/MyDrive/ZFDataset/Nest5/ttog/ttog_49989052.wav'),\n",
              " PosixPath('/content/gdrive/MyDrive/ZFDataset/Nest5/ttog/ttog_49989052_Copy.wav'),\n",
              " PosixPath('/content/gdrive/MyDrive/ZFDataset/Nest5/ttog/ttog_49972874.wav'),\n",
              " PosixPath('/content/gdrive/MyDrive/ZFDataset/Nest5/ttog/ttog_48491714.wav'),\n",
              " PosixPath('/content/gdrive/MyDrive/ZFDataset/Nest5/ttog/ttog_48460504.wav'),\n",
              " PosixPath('/content/gdrive/MyDrive/ZFDataset/Nest5/ttog/ttog_45877574.wav'),\n",
              " PosixPath('/content/gdrive/MyDrive/ZFDataset/Nest5/ttog/ttog_57145844_Copy.wav'),\n",
              " PosixPath('/content/gdrive/MyDrive/ZFDataset/Nest5/ttog/ttog_57145844.wav'),\n",
              " PosixPath('/content/gdrive/MyDrive/ZFDataset/Nest5/ttog/ttog_51868452.wav'),\n",
              " PosixPath('/content/gdrive/MyDrive/ZFDataset/Nest5/ttog/ttog_51855364.wav'),\n",
              " PosixPath('/content/gdrive/MyDrive/ZFDataset/Nest5/ttog/ttog_51177904_Copy.wav'),\n",
              " PosixPath('/content/gdrive/MyDrive/ZFDataset/Nest5/ttog/ttog_51177904.wav'),\n",
              " PosixPath('/content/gdrive/MyDrive/ZFDataset/Nest5/ttog/ttog_72500342.wav'),\n",
              " PosixPath('/content/gdrive/MyDrive/ZFDataset/Nest5/ttog/ttog_72493976.wav'),\n",
              " PosixPath('/content/gdrive/MyDrive/ZFDataset/Nest5/ttog/ttog_63647206_Copy2.wav'),\n",
              " PosixPath('/content/gdrive/MyDrive/ZFDataset/Nest5/ttog/ttog_63647206_Copy1.wav'),\n",
              " PosixPath('/content/gdrive/MyDrive/ZFDataset/Nest5/ttog/ttog_63647206_Copy.wav'),\n",
              " PosixPath('/content/gdrive/MyDrive/ZFDataset/Nest5/ttog/ttog_63647206.wav'),\n",
              " PosixPath('/content/gdrive/MyDrive/ZFDataset/Nest5/ttog/ttog_63637706.wav'),\n",
              " PosixPath('/content/gdrive/MyDrive/ZFDataset/Nest5/ttog/ttog_57145844_Copy1.wav')]"
            ]
          },
          "metadata": {
            "tags": []
          },
          "execution_count": 65
        }
      ]
    },
    {
      "cell_type": "markdown",
      "metadata": {
        "id": "ecaHo6t_Ay63"
      },
      "source": [
        "# Common section for both\n"
      ]
    },
    {
      "cell_type": "code",
      "metadata": {
        "colab": {
          "base_uri": "https://localhost:8080/",
          "height": 1000,
          "referenced_widgets": [
            "8a74606b742a4cadb17ac82ad62792a6",
            "16e4abc86f4047ff98f62fb8524e1d3c",
            "f45455f9287c4939a1ecad572b8caecc",
            "c157e237563c4e508d8a3bdf59df10bf",
            "390f4717b0584443bef3508365c1d915",
            "beb3536122b6460299f10c13320dbe99",
            "a4b61e523b7743a1b76b6fe1718bbcf6",
            "48980db13ba2477e8f994cb853198f5d"
          ]
        },
        "id": "E9eB4HANOhRl",
        "outputId": "7dc9be11-48fa-430f-95d6-861750a961cc"
      },
      "source": [
        "Parallel(n_jobs=1, verbose=10)(\n",
        "    delayed(generate_json_wav_not_mat)(row, WAVLIST, wav_names, DT_ID, species, common_name, DATASET_ID)\n",
        "    for idx, row in tqdm(song_df.iterrows(), total=len(song_df))\n",
        ");"
      ],
      "execution_count": 66,
      "outputs": [
        {
          "output_type": "display_data",
          "data": {
            "application/vnd.jupyter.widget-view+json": {
              "model_id": "8a74606b742a4cadb17ac82ad62792a6",
              "version_minor": 0,
              "version_major": 2
            },
            "text/plain": [
              "HBox(children=(FloatProgress(value=0.0, max=77.0), HTML(value='')))"
            ]
          },
          "metadata": {
            "tags": []
          }
        },
        {
          "output_type": "stream",
          "text": [
            "[Parallel(n_jobs=1)]: Using backend SequentialBackend with 1 concurrent workers.\n",
            "[Parallel(n_jobs=1)]: Done   1 out of   1 | elapsed:    0.0s remaining:    0.0s\n",
            "[Parallel(n_jobs=1)]: Done   2 out of   2 | elapsed:    0.0s remaining:    0.0s\n",
            "[Parallel(n_jobs=1)]: Done   3 out of   3 | elapsed:    0.1s remaining:    0.0s\n",
            "[Parallel(n_jobs=1)]: Done   4 out of   4 | elapsed:    0.1s remaining:    0.0s\n",
            "[Parallel(n_jobs=1)]: Done   5 out of   5 | elapsed:    0.1s remaining:    0.0s\n",
            "[Parallel(n_jobs=1)]: Done   6 out of   6 | elapsed:    0.1s remaining:    0.0s\n",
            "[Parallel(n_jobs=1)]: Done   7 out of   7 | elapsed:    0.1s remaining:    0.0s\n",
            "[Parallel(n_jobs=1)]: Done   8 out of   8 | elapsed:    0.2s remaining:    0.0s\n",
            "[Parallel(n_jobs=1)]: Done   9 out of   9 | elapsed:    0.2s remaining:    0.0s\n"
          ],
          "name": "stderr"
        },
        {
          "output_type": "stream",
          "text": [
            "/content/gdrive/MyDrive/ZFDataset/Nest5/tbfk/tbfk_39036906.wav\n",
            "/content/gdrive/MyDrive/ZFDataset/Nest5/tbfk/tbfk_38075592_Copy.wav\n",
            "/content/gdrive/MyDrive/ZFDataset/Nest5/tbfk/tbfk_38473932.wav\n",
            "/content/gdrive/MyDrive/ZFDataset/Nest5/tbfk/tbfk_38075592.wav\n",
            "/content/gdrive/MyDrive/ZFDataset/Nest5/tbfk/tbfk_37993396.wav\n",
            "/content/gdrive/MyDrive/ZFDataset/Nest5/tbfk/tbfk_37782236_Copy.wav\n",
            "/content/gdrive/MyDrive/ZFDataset/Nest5/tbfk/tbfk_37782236.wav\n",
            "/content/gdrive/MyDrive/ZFDataset/Nest5/tbfk/tbfk_36673072.wav\n",
            "/content/gdrive/MyDrive/ZFDataset/Nest5/tbfk/tbfk_36395056.wav\n",
            "/content/gdrive/MyDrive/ZFDataset/Nest5/tbfk/tbfk_36251927.wav\n",
            "/content/gdrive/MyDrive/ZFDataset/Nest5/tbfk/tbfk_44201306.wav\n",
            "/content/gdrive/MyDrive/ZFDataset/Nest5/tbfk/tbfk_47997075.wav\n",
            "/content/gdrive/MyDrive/ZFDataset/Nest5/tbfk/tbfk_42835196_Copy1.wav\n",
            "/content/gdrive/MyDrive/ZFDataset/Nest5/tbfk/tbfk_42835196_Copy.wav\n",
            "/content/gdrive/MyDrive/ZFDataset/Nest5/tbfk/tbfk_42835196.wav\n",
            "/content/gdrive/MyDrive/ZFDataset/Nest5/tbfk/tbfk_41628696.wav\n",
            "/content/gdrive/MyDrive/ZFDataset/Nest5/tbfk/tbfk_41445236_Copy.wav\n",
            "/content/gdrive/MyDrive/ZFDataset/Nest5/tbfk/tbfk_41445236.wav\n",
            "/content/gdrive/MyDrive/ZFDataset/Nest5/tbfk/tbfk_53859817_Copy.wav\n",
            "/content/gdrive/MyDrive/ZFDataset/Nest5/tbfk/tbfk_53859817.wav\n",
            "/content/gdrive/MyDrive/ZFDataset/Nest5/tbfk/tbfk_48579806.wav\n",
            "/content/gdrive/MyDrive/ZFDataset/Nest5/tbfk/tbfk_53461607.wav\n",
            "/content/gdrive/MyDrive/ZFDataset/Nest5/tbfk/tbfk_48126946_Copy1.wav\n",
            "/content/gdrive/MyDrive/ZFDataset/Nest5/tbfk/tbfk_48126946_Copy.wav\n",
            "/content/gdrive/MyDrive/ZFDataset/Nest5/tbfk/tbfk_48126946.wav\n",
            "/content/gdrive/MyDrive/ZFDataset/Nest5/tbfk/tbfk_71927737.wav\n",
            "/content/gdrive/MyDrive/ZFDataset/Nest5/tbfk/tbfk_65155407.wav\n",
            "/content/gdrive/MyDrive/ZFDataset/Nest5/tbfk/tbfk_63349238.wav\n",
            "/content/gdrive/MyDrive/ZFDataset/Nest5/tbfk/tbfk_62827918.wav\n",
            "/content/gdrive/MyDrive/ZFDataset/Nest5/tbfk/tbfk_62303732.wav\n",
            "/content/gdrive/MyDrive/ZFDataset/Nest5/tbfk/tbfk_59068993_Copy1.wav\n",
            "/content/gdrive/MyDrive/ZFDataset/Nest5/tbfk/tbfk_59068993_Copy.wav\n",
            "/content/gdrive/MyDrive/ZFDataset/Nest5/tbfk/tbfk_59068993.wav\n",
            "/content/gdrive/MyDrive/ZFDataset/Nest5/tbfk/tbfk_55075474.wav\n",
            "/content/gdrive/MyDrive/ZFDataset/Nest5/tbfk/tbfk_55045756.wav\n",
            "/content/gdrive/MyDrive/ZFDataset/Nest5/tbfk/tbfk_77404997.wav\n",
            "/content/gdrive/MyDrive/ZFDataset/Nest5/tbfk/tbfk_77303286.wav\n",
            "/content/gdrive/MyDrive/ZFDataset/Nest5/tbfk/tbfk_77288588.wav\n",
            "/content/gdrive/MyDrive/ZFDataset/Nest5/tbfk/tbfk_76689958.wav\n",
            "/content/gdrive/MyDrive/ZFDataset/Nest5/tbfk/tbfk_71983297.wav\n",
            "/content/gdrive/MyDrive/ZFDataset/Nest5/ttog/ttog_38747842_Copy.wav\n",
            "/content/gdrive/MyDrive/ZFDataset/Nest5/ttog/ttog_38747842.wav\n",
            "/content/gdrive/MyDrive/ZFDataset/Nest5/ttog/ttog_37266674.wav\n",
            "/content/gdrive/MyDrive/ZFDataset/Nest5/ttog/ttog_39762384.wav\n",
            "/content/gdrive/MyDrive/ZFDataset/Nest5/ttog/ttog_39746474_Copy1.wav\n",
            "/content/gdrive/MyDrive/ZFDataset/Nest5/ttog/ttog_39746474_Copy.wav\n",
            "/content/gdrive/MyDrive/ZFDataset/Nest5/ttog/ttog_39746474.wav\n",
            "/content/gdrive/MyDrive/ZFDataset/Nest5/ttog/ttog_39741544.wav\n",
            "/content/gdrive/MyDrive/ZFDataset/Nest5/ttog/ttog_38971024.wav\n",
            "/content/gdrive/MyDrive/ZFDataset/Nest5/ttog/ttog_38958354.wav\n",
            "/content/gdrive/MyDrive/ZFDataset/Nest5/ttog/ttog_45877574.wav\n",
            "/content/gdrive/MyDrive/ZFDataset/Nest5/ttog/ttog_45887254.wav\n",
            "/content/gdrive/MyDrive/ZFDataset/Nest5/ttog/ttog_44963024_Copy.wav\n",
            "/content/gdrive/MyDrive/ZFDataset/Nest5/ttog/ttog_44963024.wav\n",
            "/content/gdrive/MyDrive/ZFDataset/Nest5/ttog/ttog_44939084.wav\n",
            "/content/gdrive/MyDrive/ZFDataset/Nest5/ttog/ttog_39839074.wav\n",
            "/content/gdrive/MyDrive/ZFDataset/Nest5/ttog/ttog_39762384_Copy.wav\n",
            "/content/gdrive/MyDrive/ZFDataset/Nest5/ttog/ttog_50662184.wav\n",
            "/content/gdrive/MyDrive/ZFDataset/Nest5/ttog/ttog_49989052_Copy.wav\n",
            "/content/gdrive/MyDrive/ZFDataset/Nest5/ttog/ttog_49989052.wav\n",
            "/content/gdrive/MyDrive/ZFDataset/Nest5/ttog/ttog_49972874.wav\n",
            "/content/gdrive/MyDrive/ZFDataset/Nest5/ttog/ttog_48491714.wav\n",
            "/content/gdrive/MyDrive/ZFDataset/Nest5/ttog/ttog_48460504.wav\n",
            "/content/gdrive/MyDrive/ZFDataset/Nest5/ttog/ttog_57145844_Copy1.wav\n",
            "/content/gdrive/MyDrive/ZFDataset/Nest5/ttog/ttog_57145844_Copy.wav\n",
            "/content/gdrive/MyDrive/ZFDataset/Nest5/ttog/ttog_57145844.wav\n",
            "/content/gdrive/MyDrive/ZFDataset/Nest5/ttog/ttog_51868452.wav\n",
            "/content/gdrive/MyDrive/ZFDataset/Nest5/ttog/ttog_51855364.wav\n",
            "/content/gdrive/MyDrive/ZFDataset/Nest5/ttog/ttog_51177904_Copy.wav\n",
            "/content/gdrive/MyDrive/ZFDataset/Nest5/ttog/ttog_51177904.wav\n",
            "/content/gdrive/MyDrive/ZFDataset/Nest5/ttog/ttog_72500342.wav\n",
            "/content/gdrive/MyDrive/ZFDataset/Nest5/ttog/ttog_72493976.wav\n",
            "/content/gdrive/MyDrive/ZFDataset/Nest5/ttog/ttog_63647206_Copy2.wav\n",
            "/content/gdrive/MyDrive/ZFDataset/Nest5/ttog/ttog_63647206_Copy1.wav\n",
            "/content/gdrive/MyDrive/ZFDataset/Nest5/ttog/ttog_63647206_Copy.wav\n",
            "/content/gdrive/MyDrive/ZFDataset/Nest5/ttog/ttog_63647206.wav\n",
            "/content/gdrive/MyDrive/ZFDataset/Nest5/ttog/ttog_63637706.wav\n",
            "\n"
          ],
          "name": "stdout"
        },
        {
          "output_type": "stream",
          "text": [
            "[Parallel(n_jobs=1)]: Done  77 out of  77 | elapsed:   31.1s finished\n"
          ],
          "name": "stderr"
        }
      ]
    },
    {
      "cell_type": "code",
      "metadata": {
        "id": "IHD65vOC6cvJ"
      },
      "source": [
        "pip install noisereduce"
      ],
      "execution_count": null,
      "outputs": []
    },
    {
      "cell_type": "code",
      "metadata": {
        "id": "4hnriLcJSLfT"
      },
      "source": [
        "import numpy as np\n",
        "import matplotlib.pyplot as plt\n",
        "# from tqdm.autonotebook import tqdm\n",
        "from joblib import Parallel, delayed\n",
        "#import umap\n",
        "import pandas as pd\n",
        "\n",
        "from avgn.utils.paths import DATA_DIR, most_recent_subdirectory, ensure_dir\n",
        "from avgn.utils.hparams import HParams\n",
        "from avgn.dataset import DataSet\n",
        "\n",
        "from avgn.signalprocessing.create_spectrogram_dataset import prepare_wav, create_label_df, get_row_audio\n",
        "from avgn.visualization.spectrogram import plot_spec\n",
        "from avgn.song_segmentation.dynamic_thresholding import norm"
      ],
      "execution_count": null,
      "outputs": []
    },
    {
      "cell_type": "code",
      "metadata": {
        "id": "_h5cSdXkbNRT"
      },
      "source": [
        "DATASET_ID = 'zebra_finch_sakata'\n",
        "\n",
        "hparams = HParams(\n",
        "    n_fft = 4096,\n",
        "    mel_lower_edge_hertz=500,\n",
        "    mel_upper_edge_hertz=15000,  # Should be sample_rate / 2 or less\n",
        "    butter_lowcut = 500,\n",
        "    butter_highcut = 15000,\n",
        "    ref_level_db = 20,\n",
        "    min_level_db = -100,\n",
        "    win_length_ms = 10,\n",
        "    hop_length_ms = 1,\n",
        "    num_mel_bins = 32,\n",
        "    mask_spec = True,\n",
        "    n_jobs = 1,  # Makes processing serial if set to 1, parallel processing giving errors\n",
        "    verbosity=1,\n",
        "    nex = -1\n",
        ")"
      ],
      "execution_count": 67,
      "outputs": []
    },
    {
      "cell_type": "code",
      "metadata": {
        "colab": {
          "base_uri": "https://localhost:8080/",
          "height": 117,
          "referenced_widgets": [
            "9f3d83d600034b90a29aff6af275405b",
            "de09da38353f41009cc0529b2ea17f9b",
            "adb2f0431b66411dbddfe53c7ba2df2d",
            "29fbfdbce0574d768979c612b4aecf94",
            "a0a0b63ccf734d759a3b885e88f381dd",
            "15b8b983470749a6a97e2dca93e5ae99",
            "c242bb3f06e34678a2c6d49196a81ce8",
            "d9d3e2acadc6475ab114261a859d8665",
            "64af7a8c4156408e9081167215e8ca9b",
            "2caa5090547041b099062e5d7a8deb41",
            "f96f48f7be044d5b82081ce6862d5eda",
            "1408a0b8a1fb48eca0ed391b20231763",
            "3babb0973c0e458cbb7fd947cfc5a541",
            "ecef7391b96a45d4a56d8f3e56e8293c",
            "2d791feb1f534f5caa8860032b8618ab",
            "85b1d53c8236483186ee6949887c9235"
          ]
        },
        "id": "SyRJvLSb6pRp",
        "outputId": "ed4b47dc-dc6c-4457-9635-54cdcc16657e"
      },
      "source": [
        "dataset = DataSet(DATASET_ID, hparams = hparams)\n",
        "dataset.sample_json\n",
        "len(dataset.data_files)"
      ],
      "execution_count": 68,
      "outputs": [
        {
          "output_type": "display_data",
          "data": {
            "application/vnd.jupyter.widget-view+json": {
              "model_id": "9f3d83d600034b90a29aff6af275405b",
              "version_minor": 0,
              "version_major": 2
            },
            "text/plain": [
              "HBox(children=(FloatProgress(value=0.0, description='loading json', max=76.0, style=ProgressStyle(description_…"
            ]
          },
          "metadata": {
            "tags": []
          }
        },
        {
          "output_type": "stream",
          "text": [
            "\n"
          ],
          "name": "stdout"
        },
        {
          "output_type": "stream",
          "text": [
            "[Parallel(n_jobs=1)]: Using backend SequentialBackend with 1 concurrent workers.\n",
            "[Parallel(n_jobs=1)]: Done  76 out of  76 | elapsed:    0.0s finished\n"
          ],
          "name": "stderr"
        },
        {
          "output_type": "display_data",
          "data": {
            "application/vnd.jupyter.widget-view+json": {
              "model_id": "64af7a8c4156408e9081167215e8ca9b",
              "version_minor": 0,
              "version_major": 2
            },
            "text/plain": [
              "HBox(children=(FloatProgress(value=0.0, description='getting unique individuals', max=76.0, style=ProgressStyl…"
            ]
          },
          "metadata": {
            "tags": []
          }
        },
        {
          "output_type": "execute_result",
          "data": {
            "text/plain": [
              "76"
            ]
          },
          "metadata": {
            "tags": []
          },
          "execution_count": 68
        }
      ]
    },
    {
      "cell_type": "code",
      "metadata": {
        "colab": {
          "base_uri": "https://localhost:8080/",
          "height": 270,
          "referenced_widgets": [
            "da745addfa294050800bb60724057388",
            "ff27e09127674b08af797ec6a8061f01",
            "f6439abbfa63416d8d26754500e6994c",
            "af23953492324bc38cab249036e12ff4",
            "c4ca133af7604ec6b87a06d5de159f7a",
            "2b9c24f0ae3949deb8f468e9b61c8333",
            "0228e4a1fc864982a39b2812b96b0969",
            "9c75ee6fdf724d66a039e019f48ea6bf"
          ]
        },
        "id": "kC36dVDG6u8x",
        "outputId": "20cfa46e-fbe3-44f9-ab91-d25da7c8e3a2"
      },
      "source": [
        "### Create dataset based upon JSON\n",
        "from joblib import Parallel, delayed\n",
        "n_jobs = 1; verbosity = 10\n",
        "\n",
        "with Parallel(n_jobs=n_jobs, verbose=verbosity) as parallel:\n",
        "    syllable_dfs = parallel(\n",
        "        delayed(create_label_df)(\n",
        "            dataset.data_files[key].data,\n",
        "            hparams=dataset.hparams,\n",
        "            labels_to_retain=['labels'],\n",
        "            unit=\"syllables\",\n",
        "            dict_features_to_retain = [],\n",
        "            key = key,\n",
        "        )\n",
        "        for key in tqdm(dataset.data_files.keys())\n",
        "    )\n",
        "syllable_df = pd.concat(syllable_dfs)\n",
        "len(syllable_df)"
      ],
      "execution_count": 69,
      "outputs": [
        {
          "output_type": "display_data",
          "data": {
            "application/vnd.jupyter.widget-view+json": {
              "model_id": "da745addfa294050800bb60724057388",
              "version_minor": 0,
              "version_major": 2
            },
            "text/plain": [
              "HBox(children=(FloatProgress(value=0.0, max=76.0), HTML(value='')))"
            ]
          },
          "metadata": {
            "tags": []
          }
        },
        {
          "output_type": "stream",
          "text": [
            "[Parallel(n_jobs=1)]: Using backend SequentialBackend with 1 concurrent workers.\n",
            "[Parallel(n_jobs=1)]: Done   1 out of   1 | elapsed:    0.0s remaining:    0.0s\n",
            "[Parallel(n_jobs=1)]: Done   2 out of   2 | elapsed:    0.0s remaining:    0.0s\n",
            "[Parallel(n_jobs=1)]: Done   3 out of   3 | elapsed:    0.0s remaining:    0.0s\n",
            "[Parallel(n_jobs=1)]: Done   4 out of   4 | elapsed:    0.0s remaining:    0.0s\n",
            "[Parallel(n_jobs=1)]: Done   5 out of   5 | elapsed:    0.0s remaining:    0.0s\n",
            "[Parallel(n_jobs=1)]: Done   6 out of   6 | elapsed:    0.0s remaining:    0.0s\n",
            "[Parallel(n_jobs=1)]: Done   7 out of   7 | elapsed:    0.0s remaining:    0.0s\n",
            "[Parallel(n_jobs=1)]: Done   8 out of   8 | elapsed:    0.0s remaining:    0.0s\n",
            "[Parallel(n_jobs=1)]: Done   9 out of   9 | elapsed:    0.0s remaining:    0.0s\n",
            "[Parallel(n_jobs=1)]: Done  76 out of  76 | elapsed:    0.2s finished\n"
          ],
          "name": "stderr"
        },
        {
          "output_type": "stream",
          "text": [
            "\n"
          ],
          "name": "stdout"
        },
        {
          "output_type": "execute_result",
          "data": {
            "text/plain": [
              "1208"
            ]
          },
          "metadata": {
            "tags": []
          },
          "execution_count": 69
        }
      ]
    },
    {
      "cell_type": "code",
      "metadata": {
        "colab": {
          "base_uri": "https://localhost:8080/",
          "height": 474,
          "referenced_widgets": [
            "7075d99aff234ef78d081180f83f6bc5",
            "7beb66f3cd184e3aa58cad3e35ecd14b",
            "1fbbe7df67b442538968c8b7f10a3087",
            "c896a0d37e9043a9956ac2d5bcca88ec",
            "811b8046978d44579bdfcd439df36c8d",
            "e6035eb1e7ee4fbca84a1a39dc4bfc7a",
            "4d74353c3ecf48c3adafccd9c6ddadf7",
            "cb29d640f58442669babcde33bce72bf"
          ]
        },
        "id": "hhiccwtSAMIh",
        "outputId": "cbb686ee-fe8b-4d01-dca3-2ba9678e6a32"
      },
      "source": [
        "## Add wav location and audio to dataframe\n",
        "\n",
        "with Parallel(n_jobs=n_jobs, verbose=verbosity) as parallel:\n",
        "    syllable_dfs = parallel(\n",
        "        delayed(get_row_audio)(\n",
        "            syllable_df[syllable_df.key == key], \n",
        "            dataset.data_files[key].data['wav_loc'], \n",
        "            dataset.hparams\n",
        "        )\n",
        "        for key in tqdm(syllable_df.key.unique())\n",
        "    )\n",
        "syllable_df = pd.concat(syllable_dfs)\n",
        "len(syllable_df)"
      ],
      "execution_count": 70,
      "outputs": [
        {
          "output_type": "display_data",
          "data": {
            "application/vnd.jupyter.widget-view+json": {
              "model_id": "7075d99aff234ef78d081180f83f6bc5",
              "version_minor": 0,
              "version_major": 2
            },
            "text/plain": [
              "HBox(children=(FloatProgress(value=0.0, max=76.0), HTML(value='')))"
            ]
          },
          "metadata": {
            "tags": []
          }
        },
        {
          "output_type": "stream",
          "text": [
            "[Parallel(n_jobs=1)]: Using backend SequentialBackend with 1 concurrent workers.\n",
            "/content/Nest-Seq-Analysis/avgn/signalprocessing/create_spectrogram_dataset.py:380: SettingWithCopyWarning: \n",
            "A value is trying to be set on a copy of a slice from a DataFrame.\n",
            "Try using .loc[row_indexer,col_indexer] = value instead\n",
            "\n",
            "See the caveats in the documentation: https://pandas.pydata.org/pandas-docs/stable/user_guide/indexing.html#returning-a-view-versus-a-copy\n",
            "  for st, et in zip(syllable_df.start_time.values, syllable_df.end_time.values)\n",
            "/content/Nest-Seq-Analysis/avgn/signalprocessing/create_spectrogram_dataset.py:383: SettingWithCopyWarning: \n",
            "A value is trying to be set on a copy of a slice from a DataFrame.\n",
            "Try using .loc[row_indexer,col_indexer] = value instead\n",
            "\n",
            "See the caveats in the documentation: https://pandas.pydata.org/pandas-docs/stable/user_guide/indexing.html#returning-a-view-versus-a-copy\n",
            "  syllable_df[\"rate\"] = rate\n",
            "[Parallel(n_jobs=1)]: Done   1 out of   1 | elapsed:    0.0s remaining:    0.0s\n",
            "[Parallel(n_jobs=1)]: Done   2 out of   2 | elapsed:    0.0s remaining:    0.0s\n",
            "[Parallel(n_jobs=1)]: Done   3 out of   3 | elapsed:    0.0s remaining:    0.0s\n",
            "[Parallel(n_jobs=1)]: Done   4 out of   4 | elapsed:    0.0s remaining:    0.0s\n",
            "[Parallel(n_jobs=1)]: Done   5 out of   5 | elapsed:    0.0s remaining:    0.0s\n",
            "[Parallel(n_jobs=1)]: Done   6 out of   6 | elapsed:    0.0s remaining:    0.0s\n",
            "[Parallel(n_jobs=1)]: Done   7 out of   7 | elapsed:    0.1s remaining:    0.0s\n",
            "[Parallel(n_jobs=1)]: Done   8 out of   8 | elapsed:    0.1s remaining:    0.0s\n",
            "[Parallel(n_jobs=1)]: Done   9 out of   9 | elapsed:    0.1s remaining:    0.0s\n"
          ],
          "name": "stderr"
        },
        {
          "output_type": "stream",
          "text": [
            "\n"
          ],
          "name": "stdout"
        },
        {
          "output_type": "stream",
          "text": [
            "[Parallel(n_jobs=1)]: Done  76 out of  76 | elapsed:    0.5s finished\n"
          ],
          "name": "stderr"
        },
        {
          "output_type": "execute_result",
          "data": {
            "text/plain": [
              "1208"
            ]
          },
          "metadata": {
            "tags": []
          },
          "execution_count": 70
        }
      ]
    },
    {
      "cell_type": "code",
      "metadata": {
        "colab": {
          "base_uri": "https://localhost:8080/",
          "height": 66,
          "referenced_widgets": [
            "84fae22f259e4d55844eacdd890217e8",
            "57971dd6652046b994f997230f688cf8",
            "38c78ad5dc5f4591b72ea76c88366e6f",
            "e4fe009f64cf459d8e3b77db418665e2",
            "17426cb46fed4ea78a0c5198473d9926",
            "ad0aeb0cc6bd4d89801249c9ed3865cb",
            "ded5836a93e744ccad412869b702fb6b",
            "e964e2e0a09443cb8d57fccc2818c95b"
          ]
        },
        "id": "D6BIGNeTAVCp",
        "outputId": "38fbd231-09a7-4df6-e6dd-64c4b9a77124"
      },
      "source": [
        "# Check for bad audio files\n",
        "df_mask  = np.array([len(i) > 0 for i in tqdm(syllable_df.audio.values)])\n",
        "syllable_df = syllable_df[np.array(df_mask)]"
      ],
      "execution_count": 71,
      "outputs": [
        {
          "output_type": "display_data",
          "data": {
            "application/vnd.jupyter.widget-view+json": {
              "model_id": "84fae22f259e4d55844eacdd890217e8",
              "version_minor": 0,
              "version_major": 2
            },
            "text/plain": [
              "HBox(children=(FloatProgress(value=0.0, max=1208.0), HTML(value='')))"
            ]
          },
          "metadata": {
            "tags": []
          }
        },
        {
          "output_type": "stream",
          "text": [
            "\n"
          ],
          "name": "stdout"
        }
      ]
    },
    {
      "cell_type": "code",
      "metadata": {
        "colab": {
          "base_uri": "https://localhost:8080/",
          "height": 428,
          "referenced_widgets": [
            "612d622adc994330bc635c5ba0f0c3dd",
            "c4bc74e28d5441ca919c8b14053f5d7a",
            "f8e5685a9ae84bd0ae29976601f73721",
            "08515c08805c4b93be6164b99eed9810",
            "bbd316bc1f3e4aa785e558394b24af3d",
            "6992e06367eb4a17943a1e17da0f1985",
            "6d6ab3a95b1d4be4b4cab3aadcbc4271",
            "4c1cca08a1c94f29b59e61e9120da4e4"
          ]
        },
        "id": "JvKSyQvGCpiI",
        "outputId": "bffd83a6-304a-4f79-e99d-5be2727e6833"
      },
      "source": [
        "# Plot some audio syllables\n",
        "sylls = syllable_df.audio.values\n",
        "\n",
        "nrows = 5\n",
        "ncols = 10\n",
        "zoom = 2\n",
        "fig, axs = plt.subplots(ncols=ncols, nrows = nrows,figsize = (ncols*zoom, nrows+zoom/1.5))\n",
        "for i, syll in tqdm(enumerate(sylls), total = nrows*ncols):\n",
        "    ax = axs.flatten()[i]\n",
        "    ax.plot(syll)\n",
        "    if i == nrows*ncols -1:\n",
        "        break"
      ],
      "execution_count": 72,
      "outputs": [
        {
          "output_type": "display_data",
          "data": {
            "application/vnd.jupyter.widget-view+json": {
              "model_id": "612d622adc994330bc635c5ba0f0c3dd",
              "version_minor": 0,
              "version_major": 2
            },
            "text/plain": [
              "HBox(children=(FloatProgress(value=0.0, max=50.0), HTML(value='')))"
            ]
          },
          "metadata": {
            "tags": []
          }
        },
        {
          "output_type": "display_data",
          "data": {
            "image/png": "[encoded data removed]",
            "text/plain": [
              "<Figure size 1440x456 with 50 Axes>"
            ]
          },
          "metadata": {
            "tags": [],
            "needs_background": "light"
          }
        }
      ]
    },
    {
      "cell_type": "markdown",
      "metadata": {
        "id": "9MV_6s_XC0Cr"
      },
      "source": [
        "# Spectrogram generation section\n"
      ]
    },
    {
      "cell_type": "code",
      "metadata": {
        "id": "tbgk6QxeCsGI"
      },
      "source": [
        "# Make spectrogram\n",
        "from avgn.visualization.spectrogram import draw_spec_set\n",
        "from avgn.visualization.spectrogram import draw_spec_set_actual\n",
        "from avgn.signalprocessing.create_spectrogram_dataset import make_spec, mask_spec, log_resize_spec, pad_spectrogram\n",
        "from avgn.visualization.spectrogram import plot_spec, visualize_spec\n",
        "\n",
        "from avgn.utils.audio import load_wav, read_wav\n",
        "from avgn.signalprocessing.filtering import butter_bandpass_filter\n",
        "from avgn.signalprocessing.spectrogramming import spectrogram"
      ],
      "execution_count": 27,
      "outputs": []
    },
    {
      "cell_type": "code",
      "metadata": {
        "colab": {
          "base_uri": "https://localhost:8080/",
          "height": 35
        },
        "id": "GT7qin4hDDiF",
        "outputId": "87929dbf-df00-4841-dd70-6b291edf1ccb"
      },
      "source": [
        "(dataset.wav_files[10].as_posix())"
      ],
      "execution_count": 73,
      "outputs": [
        {
          "output_type": "execute_result",
          "data": {
            "application/vnd.google.colaboratory.intrinsic+json": {
              "type": "string"
            },
            "text/plain": [
              "'/content/Nest-Seq-Analysis/data/processed/zebra_finch_sakata/2021-07-08_02-57-54/WAV/ttog_0019.WAV'"
            ]
          },
          "metadata": {
            "tags": []
          },
          "execution_count": 73
        }
      ]
    },
    {
      "cell_type": "code",
      "metadata": {
        "id": "m0pm8QhuDUe7"
      },
      "source": [
        "#### -----------   Plotting a sample data file --------------------- ####\n",
        "rate, data_loaded = load_wav(dataset.wav_files[10])\n",
        "data = data_loaded\n",
        "times = np.linspace(0,len(data)/rate,len(data));"
      ],
      "execution_count": 74,
      "outputs": []
    },
    {
      "cell_type": "code",
      "metadata": {
        "colab": {
          "base_uri": "https://localhost:8080/",
          "height": 380
        },
        "id": "btd5zMPSDbC4",
        "outputId": "3433677a-1e46-4ae2-9d22-1da3ea183b7b"
      },
      "source": [
        "# Plot audio and spectrogram of sample audio file\n",
        "# filter data\n",
        "butter_min = hparams.butter_lowcut\n",
        "butter_max = hparams.butter_highcut\n",
        "data = butter_bandpass_filter(data, butter_min, butter_max, rate)\n",
        "\n",
        "fig, axs = plt.subplots(nrows=2,ncols=1, figsize=(10, 6))\n",
        "axs[0].set_axis_off()\n",
        "axs[0].get_tightbbox('True')\n",
        "axs[0].plot(times,data)\n",
        "# ax[0].axis('off')\n",
        "\n",
        "\n",
        "hparams.sample_rate = rate\n",
        "\n",
        "hparams.ref_level_db = 60\n",
        "spec_orig = spectrogram(data,\n",
        "                            rate,\n",
        "                            hparams)\n",
        "plot_spec(\n",
        "    norm(spec_orig),\n",
        "    fig=fig,\n",
        "    ax=axs[1],\n",
        "    rate=rate,\n",
        "    hop_len_ms=hparams.hop_length_ms,\n",
        "    cmap=plt.cm.afmhot,\n",
        "    show_cbar=False,\n",
        "    figsize=(10, 6),\n",
        ")"
      ],
      "execution_count": 76,
      "outputs": [
        {
          "output_type": "execute_result",
          "data": {
            "text/plain": [
              "<matplotlib.image.AxesImage at 0x7fef2a4d18d0>"
            ]
          },
          "metadata": {
            "tags": []
          },
          "execution_count": 76
        },
        {
          "output_type": "display_data",
          "data": {
            "image/png": "[encoded data removed]",
            "text/plain": [
              "<Figure size 720x432 with 2 Axes>"
            ]
          },
          "metadata": {
            "tags": [],
            "needs_background": "light"
          }
        }
      ]
    },
    {
      "cell_type": "code",
      "metadata": {
        "id": "OQC6JhMIEEXp"
      },
      "source": [
        "syllables_wav = syllable_df.audio.values\n",
        "syllables_rate = syllable_df.rate.values"
      ],
      "execution_count": 75,
      "outputs": []
    },
    {
      "cell_type": "code",
      "metadata": {
        "colab": {
          "base_uri": "https://localhost:8080/"
        },
        "id": "v3veE8l98zSF",
        "outputId": "426641ef-293c-4f2f-8392-0595390bdc5e"
      },
      "source": [
        "np.shape(syllables_wav)"
      ],
      "execution_count": 77,
      "outputs": [
        {
          "output_type": "execute_result",
          "data": {
            "text/plain": [
              "(1208,)"
            ]
          },
          "metadata": {
            "tags": []
          },
          "execution_count": 77
        }
      ]
    },
    {
      "cell_type": "code",
      "metadata": {
        "colab": {
          "base_uri": "https://localhost:8080/",
          "height": 380
        },
        "id": "MyD8cr1qERGx",
        "outputId": "d9ef2f8f-d0d8-414a-c620-ba3596e7a6bf"
      },
      "source": [
        "###  ---  Indivdual audio snippet  ----   ###\n",
        "i=50\n",
        "\n",
        "spec = spectrogram(syllables_wav[i], syllables_rate[i], hparams)\n",
        "\n",
        "times = np.linspace(0,len(syllables_wav[i])/syllables_rate[i],len(syllables_wav[i]));\n",
        "\n",
        "fig, axs = plt.subplots(nrows=2,ncols=1, figsize=(5, 6))\n",
        "axs[0].set_axis_off()\n",
        "axs[0].get_tightbbox('True')\n",
        "axs[0].plot(times,syllables_wav[i])\n",
        "\n",
        "plot_spec(\n",
        "    norm(spec),\n",
        "    fig=fig,\n",
        "    ax=axs[1],\n",
        "    rate=syllables_rate[i],\n",
        "    hop_len_ms=hparams.hop_length_ms,\n",
        "    cmap=plt.cm.afmhot,\n",
        "    show_cbar=False,\n",
        "    figsize=(5, 6),\n",
        ")"
      ],
      "execution_count": 78,
      "outputs": [
        {
          "output_type": "execute_result",
          "data": {
            "text/plain": [
              "<matplotlib.image.AxesImage at 0x7fef2a463990>"
            ]
          },
          "metadata": {
            "tags": []
          },
          "execution_count": 78
        },
        {
          "output_type": "display_data",
          "data": {
            "image/png": "[encoded data removed]",
            "text/plain": [
              "<Figure size 360x432 with 2 Axes>"
            ]
          },
          "metadata": {
            "tags": [],
            "needs_background": "light"
          }
        }
      ]
    },
    {
      "cell_type": "code",
      "metadata": {
        "id": "Viq53JBWETYI"
      },
      "source": [
        "# ### --- Displays specs in sequence of windows --- ###\n",
        "\n",
        "# for i in range(0,50):\n",
        "#     fig, axs = plt.subplots(nrows=1,ncols=1, figsize=(5, 6))\n",
        "#     plot_spec(\n",
        "#         norm(syllable_df.spectrogram.values[i]),\n",
        "#         fig=fig,\n",
        "#         ax=axs,\n",
        "#         rate=syllables_rate[i],\n",
        "#         hop_len_ms=hparams.hop_length_ms,\n",
        "#         cmap=plt.cm.afmhot,\n",
        "#         show_cbar=False,\n",
        "#         figsize=(5, 6),\n",
        "#     )\n",
        "#     plt.title(i)\n",
        "#     plt.show(block=False)\n",
        "#     plt.pause(0.5)\n",
        "#     plt.close()"
      ],
      "execution_count": null,
      "outputs": []
    },
    {
      "cell_type": "code",
      "metadata": {
        "colab": {
          "base_uri": "https://localhost:8080/",
          "height": 1000,
          "referenced_widgets": [
            "50344b63940d474ab61e1ee4abaa5e2a",
            "f329ed3ff62d43d5a32044fc3f487f08",
            "88377ba5b94e4877800c476fd9178019",
            "9b2e02a2b78c46319a6c77c370c6f3ba",
            "42524b13a810426bb2d54d6e1eae927a",
            "27b7dd762baf49959de48b78f975704b",
            "75398cf6b6a74178afaa602838ac3b96",
            "abb7209bf2b84f3e94f5dea957c6ecb9"
          ]
        },
        "id": "kfuz3o6jPlKQ",
        "outputId": "def3acb8-55bb-4928-a0de-d04cb946446f"
      },
      "source": [
        "### --- Compute Spectrograms --- ###\n",
        "\n",
        "with Parallel(n_jobs=n_jobs, verbose=verbosity) as parallel:\n",
        "    # create spectrograms\n",
        "    syllables_spec = parallel(\n",
        "        delayed(spectrogram)(\n",
        "            syllable,\n",
        "            rate,\n",
        "            hparams=dataset.hparams\n",
        "        #     mel_matrix=dataset.mel_matrix,\n",
        "        #     use_mel=True,\n",
        "        #     use_tensorflow=False,\n",
        "         )\n",
        "        for syllable, rate in tqdm(\n",
        "            zip(syllables_wav, syllables_rate),\n",
        "            total=len(syllables_rate),\n",
        "            desc=\"getting syllable spectrograms\",\n",
        "            leave=False,\n",
        "        )\n",
        "    )"
      ],
      "execution_count": 79,
      "outputs": [
        {
          "output_type": "display_data",
          "data": {
            "application/vnd.jupyter.widget-view+json": {
              "model_id": "50344b63940d474ab61e1ee4abaa5e2a",
              "version_minor": 0,
              "version_major": 2
            },
            "text/plain": [
              "HBox(children=(FloatProgress(value=0.0, description='getting syllable spectrograms', max=1208.0, style=Progres…"
            ]
          },
          "metadata": {
            "tags": []
          }
        },
        {
          "output_type": "stream",
          "text": [
            "[Parallel(n_jobs=1)]: Using backend SequentialBackend with 1 concurrent workers.\n",
            "/usr/local/lib/python3.7/dist-packages/librosa/core/spectrum.py:224: UserWarning: n_fft=4096 is too small for input signal of length=2715\n",
            "  n_fft, y.shape[-1]\n",
            "[Parallel(n_jobs=1)]: Done   1 out of   1 | elapsed:    0.0s remaining:    0.0s\n",
            "/usr/local/lib/python3.7/dist-packages/librosa/core/spectrum.py:224: UserWarning: n_fft=4096 is too small for input signal of length=3014\n",
            "  n_fft, y.shape[-1]\n",
            "[Parallel(n_jobs=1)]: Done   2 out of   2 | elapsed:    0.0s remaining:    0.0s\n",
            "/usr/local/lib/python3.7/dist-packages/librosa/core/spectrum.py:224: UserWarning: n_fft=4096 is too small for input signal of length=3022\n",
            "  n_fft, y.shape[-1]\n",
            "[Parallel(n_jobs=1)]: Done   3 out of   3 | elapsed:    0.0s remaining:    0.0s\n",
            "/usr/local/lib/python3.7/dist-packages/librosa/core/spectrum.py:224: UserWarning: n_fft=4096 is too small for input signal of length=3271\n",
            "  n_fft, y.shape[-1]\n",
            "[Parallel(n_jobs=1)]: Done   4 out of   4 | elapsed:    0.0s remaining:    0.0s\n",
            "[Parallel(n_jobs=1)]: Done   5 out of   5 | elapsed:    0.1s remaining:    0.0s\n",
            "[Parallel(n_jobs=1)]: Done   6 out of   6 | elapsed:    0.1s remaining:    0.0s\n",
            "/usr/local/lib/python3.7/dist-packages/librosa/core/spectrum.py:224: UserWarning: n_fft=4096 is too small for input signal of length=2882\n",
            "  n_fft, y.shape[-1]\n",
            "[Parallel(n_jobs=1)]: Done   7 out of   7 | elapsed:    0.1s remaining:    0.0s\n",
            "/usr/local/lib/python3.7/dist-packages/librosa/core/spectrum.py:224: UserWarning: n_fft=4096 is too small for input signal of length=3088\n",
            "  n_fft, y.shape[-1]\n",
            "[Parallel(n_jobs=1)]: Done   8 out of   8 | elapsed:    0.2s remaining:    0.0s\n",
            "/usr/local/lib/python3.7/dist-packages/librosa/core/spectrum.py:224: UserWarning: n_fft=4096 is too small for input signal of length=2956\n",
            "  n_fft, y.shape[-1]\n",
            "[Parallel(n_jobs=1)]: Done   9 out of   9 | elapsed:    0.2s remaining:    0.0s\n",
            "/usr/local/lib/python3.7/dist-packages/librosa/core/spectrum.py:224: UserWarning: n_fft=4096 is too small for input signal of length=3187\n",
            "  n_fft, y.shape[-1]\n",
            "/usr/local/lib/python3.7/dist-packages/librosa/core/spectrum.py:224: UserWarning: n_fft=4096 is too small for input signal of length=3136\n",
            "  n_fft, y.shape[-1]\n",
            "/usr/local/lib/python3.7/dist-packages/librosa/core/spectrum.py:224: UserWarning: n_fft=4096 is too small for input signal of length=3451\n",
            "  n_fft, y.shape[-1]\n",
            "/usr/local/lib/python3.7/dist-packages/librosa/core/spectrum.py:224: UserWarning: n_fft=4096 is too small for input signal of length=3118\n",
            "  n_fft, y.shape[-1]\n",
            "/usr/local/lib/python3.7/dist-packages/librosa/core/spectrum.py:224: UserWarning: n_fft=4096 is too small for input signal of length=3188\n",
            "  n_fft, y.shape[-1]\n",
            "/usr/local/lib/python3.7/dist-packages/librosa/core/spectrum.py:224: UserWarning: n_fft=4096 is too small for input signal of length=3355\n",
            "  n_fft, y.shape[-1]\n",
            "/usr/local/lib/python3.7/dist-packages/librosa/core/spectrum.py:224: UserWarning: n_fft=4096 is too small for input signal of length=2780\n",
            "  n_fft, y.shape[-1]\n",
            "/usr/local/lib/python3.7/dist-packages/librosa/core/spectrum.py:224: UserWarning: n_fft=4096 is too small for input signal of length=2864\n",
            "  n_fft, y.shape[-1]\n",
            "/usr/local/lib/python3.7/dist-packages/librosa/core/spectrum.py:224: UserWarning: n_fft=4096 is too small for input signal of length=3149\n",
            "  n_fft, y.shape[-1]\n",
            "/usr/local/lib/python3.7/dist-packages/librosa/core/spectrum.py:224: UserWarning: n_fft=4096 is too small for input signal of length=3030\n",
            "  n_fft, y.shape[-1]\n",
            "/usr/local/lib/python3.7/dist-packages/librosa/core/spectrum.py:224: UserWarning: n_fft=4096 is too small for input signal of length=3395\n",
            "  n_fft, y.shape[-1]\n",
            "/usr/local/lib/python3.7/dist-packages/librosa/core/spectrum.py:224: UserWarning: n_fft=4096 is too small for input signal of length=2929\n",
            "  n_fft, y.shape[-1]\n",
            "/usr/local/lib/python3.7/dist-packages/librosa/core/spectrum.py:224: UserWarning: n_fft=4096 is too small for input signal of length=3050\n",
            "  n_fft, y.shape[-1]\n",
            "/usr/local/lib/python3.7/dist-packages/librosa/core/spectrum.py:224: UserWarning: n_fft=4096 is too small for input signal of length=3283\n",
            "  n_fft, y.shape[-1]\n",
            "/usr/local/lib/python3.7/dist-packages/librosa/core/spectrum.py:224: UserWarning: n_fft=4096 is too small for input signal of length=3220\n",
            "  n_fft, y.shape[-1]\n",
            "/usr/local/lib/python3.7/dist-packages/librosa/core/spectrum.py:224: UserWarning: n_fft=4096 is too small for input signal of length=3027\n",
            "  n_fft, y.shape[-1]\n",
            "/usr/local/lib/python3.7/dist-packages/librosa/core/spectrum.py:224: UserWarning: n_fft=4096 is too small for input signal of length=3269\n",
            "  n_fft, y.shape[-1]\n",
            "/usr/local/lib/python3.7/dist-packages/librosa/core/spectrum.py:224: UserWarning: n_fft=4096 is too small for input signal of length=2643\n",
            "  n_fft, y.shape[-1]\n",
            "/usr/local/lib/python3.7/dist-packages/librosa/core/spectrum.py:224: UserWarning: n_fft=4096 is too small for input signal of length=2734\n",
            "  n_fft, y.shape[-1]\n",
            "/usr/local/lib/python3.7/dist-packages/librosa/core/spectrum.py:224: UserWarning: n_fft=4096 is too small for input signal of length=2769\n",
            "  n_fft, y.shape[-1]\n",
            "/usr/local/lib/python3.7/dist-packages/librosa/core/spectrum.py:224: UserWarning: n_fft=4096 is too small for input signal of length=3249\n",
            "  n_fft, y.shape[-1]\n",
            "/usr/local/lib/python3.7/dist-packages/librosa/core/spectrum.py:224: UserWarning: n_fft=4096 is too small for input signal of length=2457\n",
            "  n_fft, y.shape[-1]\n",
            "/usr/local/lib/python3.7/dist-packages/librosa/core/spectrum.py:224: UserWarning: n_fft=4096 is too small for input signal of length=2934\n",
            "  n_fft, y.shape[-1]\n",
            "/usr/local/lib/python3.7/dist-packages/librosa/core/spectrum.py:224: UserWarning: n_fft=4096 is too small for input signal of length=3076\n",
            "  n_fft, y.shape[-1]\n",
            "/usr/local/lib/python3.7/dist-packages/librosa/core/spectrum.py:224: UserWarning: n_fft=4096 is too small for input signal of length=3397\n",
            "  n_fft, y.shape[-1]\n",
            "/usr/local/lib/python3.7/dist-packages/librosa/core/spectrum.py:224: UserWarning: n_fft=4096 is too small for input signal of length=2997\n",
            "  n_fft, y.shape[-1]\n",
            "/usr/local/lib/python3.7/dist-packages/librosa/core/spectrum.py:224: UserWarning: n_fft=4096 is too small for input signal of length=3005\n",
            "  n_fft, y.shape[-1]\n",
            "/usr/local/lib/python3.7/dist-packages/librosa/core/spectrum.py:224: UserWarning: n_fft=4096 is too small for input signal of length=3286\n",
            "  n_fft, y.shape[-1]\n",
            "/usr/local/lib/python3.7/dist-packages/librosa/core/spectrum.py:224: UserWarning: n_fft=4096 is too small for input signal of length=2242\n",
            "  n_fft, y.shape[-1]\n",
            "/usr/local/lib/python3.7/dist-packages/librosa/core/spectrum.py:224: UserWarning: n_fft=4096 is too small for input signal of length=2208\n",
            "  n_fft, y.shape[-1]\n",
            "/usr/local/lib/python3.7/dist-packages/librosa/core/spectrum.py:224: UserWarning: n_fft=4096 is too small for input signal of length=2254\n",
            "  n_fft, y.shape[-1]\n",
            "/usr/local/lib/python3.7/dist-packages/librosa/core/spectrum.py:224: UserWarning: n_fft=4096 is too small for input signal of length=2539\n",
            "  n_fft, y.shape[-1]\n",
            "/usr/local/lib/python3.7/dist-packages/librosa/core/spectrum.py:224: UserWarning: n_fft=4096 is too small for input signal of length=2128\n",
            "  n_fft, y.shape[-1]\n",
            "/usr/local/lib/python3.7/dist-packages/librosa/core/spectrum.py:224: UserWarning: n_fft=4096 is too small for input signal of length=2397\n",
            "  n_fft, y.shape[-1]\n",
            "/usr/local/lib/python3.7/dist-packages/librosa/core/spectrum.py:224: UserWarning: n_fft=4096 is too small for input signal of length=2758\n",
            "  n_fft, y.shape[-1]\n",
            "/usr/local/lib/python3.7/dist-packages/librosa/core/spectrum.py:224: UserWarning: n_fft=4096 is too small for input signal of length=2792\n",
            "  n_fft, y.shape[-1]\n",
            "/usr/local/lib/python3.7/dist-packages/librosa/core/spectrum.py:224: UserWarning: n_fft=4096 is too small for input signal of length=3196\n",
            "  n_fft, y.shape[-1]\n",
            "/usr/local/lib/python3.7/dist-packages/librosa/core/spectrum.py:224: UserWarning: n_fft=4096 is too small for input signal of length=2918\n",
            "  n_fft, y.shape[-1]\n",
            "/usr/local/lib/python3.7/dist-packages/librosa/core/spectrum.py:224: UserWarning: n_fft=4096 is too small for input signal of length=3204\n",
            "  n_fft, y.shape[-1]\n",
            "/usr/local/lib/python3.7/dist-packages/librosa/core/spectrum.py:224: UserWarning: n_fft=4096 is too small for input signal of length=2723\n",
            "  n_fft, y.shape[-1]\n",
            "/usr/local/lib/python3.7/dist-packages/librosa/core/spectrum.py:224: UserWarning: n_fft=4096 is too small for input signal of length=3154\n",
            "  n_fft, y.shape[-1]\n",
            "/usr/local/lib/python3.7/dist-packages/librosa/core/spectrum.py:224: UserWarning: n_fft=4096 is too small for input signal of length=2880\n",
            "  n_fft, y.shape[-1]\n",
            "/usr/local/lib/python3.7/dist-packages/librosa/core/spectrum.py:224: UserWarning: n_fft=4096 is too small for input signal of length=2875\n",
            "  n_fft, y.shape[-1]\n",
            "/usr/local/lib/python3.7/dist-packages/librosa/core/spectrum.py:224: UserWarning: n_fft=4096 is too small for input signal of length=3081\n",
            "  n_fft, y.shape[-1]\n",
            "/usr/local/lib/python3.7/dist-packages/librosa/core/spectrum.py:224: UserWarning: n_fft=4096 is too small for input signal of length=2970\n",
            "  n_fft, y.shape[-1]\n",
            "/usr/local/lib/python3.7/dist-packages/librosa/core/spectrum.py:224: UserWarning: n_fft=4096 is too small for input signal of length=2960\n",
            "  n_fft, y.shape[-1]\n",
            "/usr/local/lib/python3.7/dist-packages/librosa/core/spectrum.py:224: UserWarning: n_fft=4096 is too small for input signal of length=2777\n",
            "  n_fft, y.shape[-1]\n",
            "/usr/local/lib/python3.7/dist-packages/librosa/core/spectrum.py:224: UserWarning: n_fft=4096 is too small for input signal of length=3206\n",
            "  n_fft, y.shape[-1]\n",
            "/usr/local/lib/python3.7/dist-packages/librosa/core/spectrum.py:224: UserWarning: n_fft=4096 is too small for input signal of length=2818\n",
            "  n_fft, y.shape[-1]\n",
            "/usr/local/lib/python3.7/dist-packages/librosa/core/spectrum.py:224: UserWarning: n_fft=4096 is too small for input signal of length=2782\n",
            "  n_fft, y.shape[-1]\n",
            "/usr/local/lib/python3.7/dist-packages/librosa/core/spectrum.py:224: UserWarning: n_fft=4096 is too small for input signal of length=3092\n",
            "  n_fft, y.shape[-1]\n",
            "/usr/local/lib/python3.7/dist-packages/librosa/core/spectrum.py:224: UserWarning: n_fft=4096 is too small for input signal of length=3000\n",
            "  n_fft, y.shape[-1]\n",
            "/usr/local/lib/python3.7/dist-packages/librosa/core/spectrum.py:224: UserWarning: n_fft=4096 is too small for input signal of length=3211\n",
            "  n_fft, y.shape[-1]\n",
            "/usr/local/lib/python3.7/dist-packages/librosa/core/spectrum.py:224: UserWarning: n_fft=4096 is too small for input signal of length=1386\n",
            "  n_fft, y.shape[-1]\n",
            "/usr/local/lib/python3.7/dist-packages/librosa/core/spectrum.py:224: UserWarning: n_fft=4096 is too small for input signal of length=2600\n",
            "  n_fft, y.shape[-1]\n",
            "/usr/local/lib/python3.7/dist-packages/librosa/core/spectrum.py:224: UserWarning: n_fft=4096 is too small for input signal of length=2902\n",
            "  n_fft, y.shape[-1]\n",
            "/usr/local/lib/python3.7/dist-packages/librosa/core/spectrum.py:224: UserWarning: n_fft=4096 is too small for input signal of length=2881\n",
            "  n_fft, y.shape[-1]\n",
            "/usr/local/lib/python3.7/dist-packages/librosa/core/spectrum.py:224: UserWarning: n_fft=4096 is too small for input signal of length=3261\n",
            "  n_fft, y.shape[-1]\n",
            "/usr/local/lib/python3.7/dist-packages/librosa/core/spectrum.py:224: UserWarning: n_fft=4096 is too small for input signal of length=3189\n",
            "  n_fft, y.shape[-1]\n",
            "/usr/local/lib/python3.7/dist-packages/librosa/core/spectrum.py:224: UserWarning: n_fft=4096 is too small for input signal of length=3200\n",
            "  n_fft, y.shape[-1]\n",
            "/usr/local/lib/python3.7/dist-packages/librosa/core/spectrum.py:224: UserWarning: n_fft=4096 is too small for input signal of length=2135\n",
            "  n_fft, y.shape[-1]\n",
            "/usr/local/lib/python3.7/dist-packages/librosa/core/spectrum.py:224: UserWarning: n_fft=4096 is too small for input signal of length=2017\n",
            "  n_fft, y.shape[-1]\n",
            "/usr/local/lib/python3.7/dist-packages/librosa/core/spectrum.py:224: UserWarning: n_fft=4096 is too small for input signal of length=2139\n",
            "  n_fft, y.shape[-1]\n",
            "/usr/local/lib/python3.7/dist-packages/librosa/core/spectrum.py:224: UserWarning: n_fft=4096 is too small for input signal of length=3479\n",
            "  n_fft, y.shape[-1]\n",
            "/usr/local/lib/python3.7/dist-packages/librosa/core/spectrum.py:224: UserWarning: n_fft=4096 is too small for input signal of length=2193\n",
            "  n_fft, y.shape[-1]\n",
            "/usr/local/lib/python3.7/dist-packages/librosa/core/spectrum.py:224: UserWarning: n_fft=4096 is too small for input signal of length=2978\n",
            "  n_fft, y.shape[-1]\n",
            "/usr/local/lib/python3.7/dist-packages/librosa/core/spectrum.py:224: UserWarning: n_fft=4096 is too small for input signal of length=3068\n",
            "  n_fft, y.shape[-1]\n",
            "/usr/local/lib/python3.7/dist-packages/librosa/core/spectrum.py:224: UserWarning: n_fft=4096 is too small for input signal of length=3048\n",
            "  n_fft, y.shape[-1]\n",
            "/usr/local/lib/python3.7/dist-packages/librosa/core/spectrum.py:224: UserWarning: n_fft=4096 is too small for input signal of length=2933\n",
            "  n_fft, y.shape[-1]\n",
            "/usr/local/lib/python3.7/dist-packages/librosa/core/spectrum.py:224: UserWarning: n_fft=4096 is too small for input signal of length=3234\n",
            "  n_fft, y.shape[-1]\n",
            "/usr/local/lib/python3.7/dist-packages/librosa/core/spectrum.py:224: UserWarning: n_fft=4096 is too small for input signal of length=3029\n",
            "  n_fft, y.shape[-1]\n",
            "/usr/local/lib/python3.7/dist-packages/librosa/core/spectrum.py:224: UserWarning: n_fft=4096 is too small for input signal of length=3235\n",
            "  n_fft, y.shape[-1]\n",
            "/usr/local/lib/python3.7/dist-packages/librosa/core/spectrum.py:224: UserWarning: n_fft=4096 is too small for input signal of length=3003\n",
            "  n_fft, y.shape[-1]\n",
            "/usr/local/lib/python3.7/dist-packages/librosa/core/spectrum.py:224: UserWarning: n_fft=4096 is too small for input signal of length=3246\n",
            "  n_fft, y.shape[-1]\n",
            "/usr/local/lib/python3.7/dist-packages/librosa/core/spectrum.py:224: UserWarning: n_fft=4096 is too small for input signal of length=2621\n",
            "  n_fft, y.shape[-1]\n",
            "/usr/local/lib/python3.7/dist-packages/librosa/core/spectrum.py:224: UserWarning: n_fft=4096 is too small for input signal of length=2977\n",
            "  n_fft, y.shape[-1]\n",
            "/usr/local/lib/python3.7/dist-packages/librosa/core/spectrum.py:224: UserWarning: n_fft=4096 is too small for input signal of length=2941\n",
            "  n_fft, y.shape[-1]\n",
            "/usr/local/lib/python3.7/dist-packages/librosa/core/spectrum.py:224: UserWarning: n_fft=4096 is too small for input signal of length=3207\n",
            "  n_fft, y.shape[-1]\n",
            "/usr/local/lib/python3.7/dist-packages/librosa/core/spectrum.py:224: UserWarning: n_fft=4096 is too small for input signal of length=2106\n",
            "  n_fft, y.shape[-1]\n",
            "/usr/local/lib/python3.7/dist-packages/librosa/core/spectrum.py:224: UserWarning: n_fft=4096 is too small for input signal of length=2216\n",
            "  n_fft, y.shape[-1]\n",
            "/usr/local/lib/python3.7/dist-packages/librosa/core/spectrum.py:224: UserWarning: n_fft=4096 is too small for input signal of length=2212\n",
            "  n_fft, y.shape[-1]\n",
            "/usr/local/lib/python3.7/dist-packages/librosa/core/spectrum.py:224: UserWarning: n_fft=4096 is too small for input signal of length=2259\n",
            "  n_fft, y.shape[-1]\n",
            "/usr/local/lib/python3.7/dist-packages/librosa/core/spectrum.py:224: UserWarning: n_fft=4096 is too small for input signal of length=2238\n",
            "  n_fft, y.shape[-1]\n",
            "/usr/local/lib/python3.7/dist-packages/librosa/core/spectrum.py:224: UserWarning: n_fft=4096 is too small for input signal of length=2060\n",
            "  n_fft, y.shape[-1]\n",
            "/usr/local/lib/python3.7/dist-packages/librosa/core/spectrum.py:224: UserWarning: n_fft=4096 is too small for input signal of length=2149\n",
            "  n_fft, y.shape[-1]\n",
            "/usr/local/lib/python3.7/dist-packages/librosa/core/spectrum.py:224: UserWarning: n_fft=4096 is too small for input signal of length=1929\n",
            "  n_fft, y.shape[-1]\n",
            "/usr/local/lib/python3.7/dist-packages/librosa/core/spectrum.py:224: UserWarning: n_fft=4096 is too small for input signal of length=2110\n",
            "  n_fft, y.shape[-1]\n",
            "/usr/local/lib/python3.7/dist-packages/librosa/core/spectrum.py:224: UserWarning: n_fft=4096 is too small for input signal of length=2339\n",
            "  n_fft, y.shape[-1]\n",
            "/usr/local/lib/python3.7/dist-packages/librosa/core/spectrum.py:224: UserWarning: n_fft=4096 is too small for input signal of length=2936\n",
            "  n_fft, y.shape[-1]\n",
            "/usr/local/lib/python3.7/dist-packages/librosa/core/spectrum.py:224: UserWarning: n_fft=4096 is too small for input signal of length=2928\n",
            "  n_fft, y.shape[-1]\n",
            "/usr/local/lib/python3.7/dist-packages/librosa/core/spectrum.py:224: UserWarning: n_fft=4096 is too small for input signal of length=3215\n",
            "  n_fft, y.shape[-1]\n",
            "/usr/local/lib/python3.7/dist-packages/librosa/core/spectrum.py:224: UserWarning: n_fft=4096 is too small for input signal of length=2913\n",
            "  n_fft, y.shape[-1]\n",
            "/usr/local/lib/python3.7/dist-packages/librosa/core/spectrum.py:224: UserWarning: n_fft=4096 is too small for input signal of length=2992\n",
            "  n_fft, y.shape[-1]\n",
            "/usr/local/lib/python3.7/dist-packages/librosa/core/spectrum.py:224: UserWarning: n_fft=4096 is too small for input signal of length=3185\n",
            "  n_fft, y.shape[-1]\n",
            "/usr/local/lib/python3.7/dist-packages/librosa/core/spectrum.py:224: UserWarning: n_fft=4096 is too small for input signal of length=3028\n",
            "  n_fft, y.shape[-1]\n",
            "/usr/local/lib/python3.7/dist-packages/librosa/core/spectrum.py:224: UserWarning: n_fft=4096 is too small for input signal of length=3251\n",
            "  n_fft, y.shape[-1]\n",
            "/usr/local/lib/python3.7/dist-packages/librosa/core/spectrum.py:224: UserWarning: n_fft=4096 is too small for input signal of length=3109\n",
            "  n_fft, y.shape[-1]\n",
            "/usr/local/lib/python3.7/dist-packages/librosa/core/spectrum.py:224: UserWarning: n_fft=4096 is too small for input signal of length=3306\n",
            "  n_fft, y.shape[-1]\n",
            "/usr/local/lib/python3.7/dist-packages/librosa/core/spectrum.py:224: UserWarning: n_fft=4096 is too small for input signal of length=2946\n",
            "  n_fft, y.shape[-1]\n",
            "/usr/local/lib/python3.7/dist-packages/librosa/core/spectrum.py:224: UserWarning: n_fft=4096 is too small for input signal of length=2953\n",
            "  n_fft, y.shape[-1]\n",
            "/usr/local/lib/python3.7/dist-packages/librosa/core/spectrum.py:224: UserWarning: n_fft=4096 is too small for input signal of length=3059\n",
            "  n_fft, y.shape[-1]\n",
            "/usr/local/lib/python3.7/dist-packages/librosa/core/spectrum.py:224: UserWarning: n_fft=4096 is too small for input signal of length=3304\n",
            "  n_fft, y.shape[-1]\n",
            "/usr/local/lib/python3.7/dist-packages/librosa/core/spectrum.py:224: UserWarning: n_fft=4096 is too small for input signal of length=1663\n",
            "  n_fft, y.shape[-1]\n",
            "/usr/local/lib/python3.7/dist-packages/librosa/core/spectrum.py:224: UserWarning: n_fft=4096 is too small for input signal of length=1932\n",
            "  n_fft, y.shape[-1]\n",
            "/usr/local/lib/python3.7/dist-packages/librosa/core/spectrum.py:224: UserWarning: n_fft=4096 is too small for input signal of length=1654\n",
            "  n_fft, y.shape[-1]\n",
            "/usr/local/lib/python3.7/dist-packages/librosa/core/spectrum.py:224: UserWarning: n_fft=4096 is too small for input signal of length=1977\n",
            "  n_fft, y.shape[-1]\n",
            "/usr/local/lib/python3.7/dist-packages/librosa/core/spectrum.py:224: UserWarning: n_fft=4096 is too small for input signal of length=1974\n",
            "  n_fft, y.shape[-1]\n",
            "/usr/local/lib/python3.7/dist-packages/librosa/core/spectrum.py:224: UserWarning: n_fft=4096 is too small for input signal of length=2024\n",
            "  n_fft, y.shape[-1]\n",
            "/usr/local/lib/python3.7/dist-packages/librosa/core/spectrum.py:224: UserWarning: n_fft=4096 is too small for input signal of length=1755\n",
            "  n_fft, y.shape[-1]\n",
            "/usr/local/lib/python3.7/dist-packages/librosa/core/spectrum.py:224: UserWarning: n_fft=4096 is too small for input signal of length=2442\n",
            "  n_fft, y.shape[-1]\n",
            "/usr/local/lib/python3.7/dist-packages/librosa/core/spectrum.py:224: UserWarning: n_fft=4096 is too small for input signal of length=3080\n",
            "  n_fft, y.shape[-1]\n",
            "/usr/local/lib/python3.7/dist-packages/librosa/core/spectrum.py:224: UserWarning: n_fft=4096 is too small for input signal of length=2304\n",
            "  n_fft, y.shape[-1]\n",
            "/usr/local/lib/python3.7/dist-packages/librosa/core/spectrum.py:224: UserWarning: n_fft=4096 is too small for input signal of length=2618\n",
            "  n_fft, y.shape[-1]\n",
            "/usr/local/lib/python3.7/dist-packages/librosa/core/spectrum.py:224: UserWarning: n_fft=4096 is too small for input signal of length=2613\n",
            "  n_fft, y.shape[-1]\n",
            "/usr/local/lib/python3.7/dist-packages/librosa/core/spectrum.py:224: UserWarning: n_fft=4096 is too small for input signal of length=2961\n",
            "  n_fft, y.shape[-1]\n",
            "/usr/local/lib/python3.7/dist-packages/librosa/core/spectrum.py:224: UserWarning: n_fft=4096 is too small for input signal of length=3058\n",
            "  n_fft, y.shape[-1]\n",
            "/usr/local/lib/python3.7/dist-packages/librosa/core/spectrum.py:224: UserWarning: n_fft=4096 is too small for input signal of length=1183\n",
            "  n_fft, y.shape[-1]\n",
            "/usr/local/lib/python3.7/dist-packages/librosa/core/spectrum.py:224: UserWarning: n_fft=4096 is too small for input signal of length=2636\n",
            "  n_fft, y.shape[-1]\n",
            "/usr/local/lib/python3.7/dist-packages/librosa/core/spectrum.py:224: UserWarning: n_fft=4096 is too small for input signal of length=2586\n",
            "  n_fft, y.shape[-1]\n",
            "/usr/local/lib/python3.7/dist-packages/librosa/core/spectrum.py:224: UserWarning: n_fft=4096 is too small for input signal of length=2985\n",
            "  n_fft, y.shape[-1]\n",
            "/usr/local/lib/python3.7/dist-packages/librosa/core/spectrum.py:224: UserWarning: n_fft=4096 is too small for input signal of length=3293\n",
            "  n_fft, y.shape[-1]\n",
            "/usr/local/lib/python3.7/dist-packages/librosa/core/spectrum.py:224: UserWarning: n_fft=4096 is too small for input signal of length=2816\n",
            "  n_fft, y.shape[-1]\n",
            "/usr/local/lib/python3.7/dist-packages/librosa/core/spectrum.py:224: UserWarning: n_fft=4096 is too small for input signal of length=3031\n",
            "  n_fft, y.shape[-1]\n",
            "/usr/local/lib/python3.7/dist-packages/librosa/core/spectrum.py:224: UserWarning: n_fft=4096 is too small for input signal of length=3239\n",
            "  n_fft, y.shape[-1]\n",
            "/usr/local/lib/python3.7/dist-packages/librosa/core/spectrum.py:224: UserWarning: n_fft=4096 is too small for input signal of length=3315\n",
            "  n_fft, y.shape[-1]\n",
            "/usr/local/lib/python3.7/dist-packages/librosa/core/spectrum.py:224: UserWarning: n_fft=4096 is too small for input signal of length=2996\n",
            "  n_fft, y.shape[-1]\n",
            "/usr/local/lib/python3.7/dist-packages/librosa/core/spectrum.py:224: UserWarning: n_fft=4096 is too small for input signal of length=3010\n",
            "  n_fft, y.shape[-1]\n",
            "/usr/local/lib/python3.7/dist-packages/librosa/core/spectrum.py:224: UserWarning: n_fft=4096 is too small for input signal of length=3390\n",
            "  n_fft, y.shape[-1]\n",
            "/usr/local/lib/python3.7/dist-packages/librosa/core/spectrum.py:224: UserWarning: n_fft=4096 is too small for input signal of length=2348\n",
            "  n_fft, y.shape[-1]\n",
            "/usr/local/lib/python3.7/dist-packages/librosa/core/spectrum.py:224: UserWarning: n_fft=4096 is too small for input signal of length=2335\n",
            "  n_fft, y.shape[-1]\n",
            "/usr/local/lib/python3.7/dist-packages/librosa/core/spectrum.py:224: UserWarning: n_fft=4096 is too small for input signal of length=2982\n",
            "  n_fft, y.shape[-1]\n",
            "/usr/local/lib/python3.7/dist-packages/librosa/core/spectrum.py:224: UserWarning: n_fft=4096 is too small for input signal of length=3024\n",
            "  n_fft, y.shape[-1]\n",
            "/usr/local/lib/python3.7/dist-packages/librosa/core/spectrum.py:224: UserWarning: n_fft=4096 is too small for input signal of length=3164\n",
            "  n_fft, y.shape[-1]\n",
            "/usr/local/lib/python3.7/dist-packages/librosa/core/spectrum.py:224: UserWarning: n_fft=4096 is too small for input signal of length=3052\n",
            "  n_fft, y.shape[-1]\n",
            "/usr/local/lib/python3.7/dist-packages/librosa/core/spectrum.py:224: UserWarning: n_fft=4096 is too small for input signal of length=3252\n",
            "  n_fft, y.shape[-1]\n",
            "/usr/local/lib/python3.7/dist-packages/librosa/core/spectrum.py:224: UserWarning: n_fft=4096 is too small for input signal of length=2892\n",
            "  n_fft, y.shape[-1]\n",
            "/usr/local/lib/python3.7/dist-packages/librosa/core/spectrum.py:224: UserWarning: n_fft=4096 is too small for input signal of length=3161\n",
            "  n_fft, y.shape[-1]\n",
            "/usr/local/lib/python3.7/dist-packages/librosa/core/spectrum.py:224: UserWarning: n_fft=4096 is too small for input signal of length=1604\n",
            "  n_fft, y.shape[-1]\n",
            "/usr/local/lib/python3.7/dist-packages/librosa/core/spectrum.py:224: UserWarning: n_fft=4096 is too small for input signal of length=2321\n",
            "  n_fft, y.shape[-1]\n",
            "/usr/local/lib/python3.7/dist-packages/librosa/core/spectrum.py:224: UserWarning: n_fft=4096 is too small for input signal of length=1926\n",
            "  n_fft, y.shape[-1]\n",
            "/usr/local/lib/python3.7/dist-packages/librosa/core/spectrum.py:224: UserWarning: n_fft=4096 is too small for input signal of length=3399\n",
            "  n_fft, y.shape[-1]\n",
            "/usr/local/lib/python3.7/dist-packages/librosa/core/spectrum.py:224: UserWarning: n_fft=4096 is too small for input signal of length=1514\n",
            "  n_fft, y.shape[-1]\n",
            "/usr/local/lib/python3.7/dist-packages/librosa/core/spectrum.py:224: UserWarning: n_fft=4096 is too small for input signal of length=953\n",
            "  n_fft, y.shape[-1]\n",
            "/usr/local/lib/python3.7/dist-packages/librosa/core/spectrum.py:224: UserWarning: n_fft=4096 is too small for input signal of length=2004\n",
            "  n_fft, y.shape[-1]\n",
            "/usr/local/lib/python3.7/dist-packages/librosa/core/spectrum.py:224: UserWarning: n_fft=4096 is too small for input signal of length=2129\n",
            "  n_fft, y.shape[-1]\n",
            "/usr/local/lib/python3.7/dist-packages/librosa/core/spectrum.py:224: UserWarning: n_fft=4096 is too small for input signal of length=2245\n",
            "  n_fft, y.shape[-1]\n",
            "/usr/local/lib/python3.7/dist-packages/librosa/core/spectrum.py:224: UserWarning: n_fft=4096 is too small for input signal of length=2678\n",
            "  n_fft, y.shape[-1]\n",
            "/usr/local/lib/python3.7/dist-packages/librosa/core/spectrum.py:224: UserWarning: n_fft=4096 is too small for input signal of length=2053\n",
            "  n_fft, y.shape[-1]\n",
            "/usr/local/lib/python3.7/dist-packages/librosa/core/spectrum.py:224: UserWarning: n_fft=4096 is too small for input signal of length=2681\n",
            "  n_fft, y.shape[-1]\n",
            "/usr/local/lib/python3.7/dist-packages/librosa/core/spectrum.py:224: UserWarning: n_fft=4096 is too small for input signal of length=2844\n",
            "  n_fft, y.shape[-1]\n",
            "/usr/local/lib/python3.7/dist-packages/librosa/core/spectrum.py:224: UserWarning: n_fft=4096 is too small for input signal of length=2874\n",
            "  n_fft, y.shape[-1]\n",
            "/usr/local/lib/python3.7/dist-packages/librosa/core/spectrum.py:224: UserWarning: n_fft=4096 is too small for input signal of length=2871\n",
            "  n_fft, y.shape[-1]\n",
            "/usr/local/lib/python3.7/dist-packages/librosa/core/spectrum.py:224: UserWarning: n_fft=4096 is too small for input signal of length=2788\n",
            "  n_fft, y.shape[-1]\n",
            "/usr/local/lib/python3.7/dist-packages/librosa/core/spectrum.py:224: UserWarning: n_fft=4096 is too small for input signal of length=3294\n",
            "  n_fft, y.shape[-1]\n",
            "/usr/local/lib/python3.7/dist-packages/librosa/core/spectrum.py:224: UserWarning: n_fft=4096 is too small for input signal of length=2890\n",
            "  n_fft, y.shape[-1]\n",
            "/usr/local/lib/python3.7/dist-packages/librosa/core/spectrum.py:224: UserWarning: n_fft=4096 is too small for input signal of length=3371\n",
            "  n_fft, y.shape[-1]\n",
            "/usr/local/lib/python3.7/dist-packages/librosa/core/spectrum.py:224: UserWarning: n_fft=4096 is too small for input signal of length=2954\n",
            "  n_fft, y.shape[-1]\n",
            "/usr/local/lib/python3.7/dist-packages/librosa/core/spectrum.py:224: UserWarning: n_fft=4096 is too small for input signal of length=3292\n",
            "  n_fft, y.shape[-1]\n",
            "/usr/local/lib/python3.7/dist-packages/librosa/core/spectrum.py:224: UserWarning: n_fft=4096 is too small for input signal of length=2866\n",
            "  n_fft, y.shape[-1]\n",
            "/usr/local/lib/python3.7/dist-packages/librosa/core/spectrum.py:224: UserWarning: n_fft=4096 is too small for input signal of length=3279\n",
            "  n_fft, y.shape[-1]\n",
            "/usr/local/lib/python3.7/dist-packages/librosa/core/spectrum.py:224: UserWarning: n_fft=4096 is too small for input signal of length=1412\n",
            "  n_fft, y.shape[-1]\n",
            "/usr/local/lib/python3.7/dist-packages/librosa/core/spectrum.py:224: UserWarning: n_fft=4096 is too small for input signal of length=2804\n",
            "  n_fft, y.shape[-1]\n",
            "/usr/local/lib/python3.7/dist-packages/librosa/core/spectrum.py:224: UserWarning: n_fft=4096 is too small for input signal of length=2915\n",
            "  n_fft, y.shape[-1]\n",
            "/usr/local/lib/python3.7/dist-packages/librosa/core/spectrum.py:224: UserWarning: n_fft=4096 is too small for input signal of length=3025\n",
            "  n_fft, y.shape[-1]\n",
            "/usr/local/lib/python3.7/dist-packages/librosa/core/spectrum.py:224: UserWarning: n_fft=4096 is too small for input signal of length=2993\n",
            "  n_fft, y.shape[-1]\n",
            "/usr/local/lib/python3.7/dist-packages/librosa/core/spectrum.py:224: UserWarning: n_fft=4096 is too small for input signal of length=3230\n",
            "  n_fft, y.shape[-1]\n",
            "/usr/local/lib/python3.7/dist-packages/librosa/core/spectrum.py:224: UserWarning: n_fft=4096 is too small for input signal of length=1763\n",
            "  n_fft, y.shape[-1]\n",
            "/usr/local/lib/python3.7/dist-packages/librosa/core/spectrum.py:224: UserWarning: n_fft=4096 is too small for input signal of length=2190\n",
            "  n_fft, y.shape[-1]\n",
            "/usr/local/lib/python3.7/dist-packages/librosa/core/spectrum.py:224: UserWarning: n_fft=4096 is too small for input signal of length=2231\n",
            "  n_fft, y.shape[-1]\n",
            "/usr/local/lib/python3.7/dist-packages/librosa/core/spectrum.py:224: UserWarning: n_fft=4096 is too small for input signal of length=2842\n",
            "  n_fft, y.shape[-1]\n",
            "/usr/local/lib/python3.7/dist-packages/librosa/core/spectrum.py:224: UserWarning: n_fft=4096 is too small for input signal of length=2917\n",
            "  n_fft, y.shape[-1]\n",
            "/usr/local/lib/python3.7/dist-packages/librosa/core/spectrum.py:224: UserWarning: n_fft=4096 is too small for input signal of length=3352\n",
            "  n_fft, y.shape[-1]\n",
            "/usr/local/lib/python3.7/dist-packages/librosa/core/spectrum.py:224: UserWarning: n_fft=4096 is too small for input signal of length=3110\n",
            "  n_fft, y.shape[-1]\n",
            "/usr/local/lib/python3.7/dist-packages/librosa/core/spectrum.py:224: UserWarning: n_fft=4096 is too small for input signal of length=3346\n",
            "  n_fft, y.shape[-1]\n",
            "/usr/local/lib/python3.7/dist-packages/librosa/core/spectrum.py:224: UserWarning: n_fft=4096 is too small for input signal of length=1905\n",
            "  n_fft, y.shape[-1]\n",
            "/usr/local/lib/python3.7/dist-packages/librosa/core/spectrum.py:224: UserWarning: n_fft=4096 is too small for input signal of length=1601\n",
            "  n_fft, y.shape[-1]\n",
            "/usr/local/lib/python3.7/dist-packages/librosa/core/spectrum.py:224: UserWarning: n_fft=4096 is too small for input signal of length=2122\n",
            "  n_fft, y.shape[-1]\n",
            "/usr/local/lib/python3.7/dist-packages/librosa/core/spectrum.py:224: UserWarning: n_fft=4096 is too small for input signal of length=2098\n",
            "  n_fft, y.shape[-1]\n",
            "/usr/local/lib/python3.7/dist-packages/librosa/core/spectrum.py:224: UserWarning: n_fft=4096 is too small for input signal of length=2182\n",
            "  n_fft, y.shape[-1]\n",
            "/usr/local/lib/python3.7/dist-packages/librosa/core/spectrum.py:224: UserWarning: n_fft=4096 is too small for input signal of length=2417\n",
            "  n_fft, y.shape[-1]\n",
            "/usr/local/lib/python3.7/dist-packages/librosa/core/spectrum.py:224: UserWarning: n_fft=4096 is too small for input signal of length=3877\n",
            "  n_fft, y.shape[-1]\n",
            "/usr/local/lib/python3.7/dist-packages/librosa/core/spectrum.py:224: UserWarning: n_fft=4096 is too small for input signal of length=1887\n",
            "  n_fft, y.shape[-1]\n",
            "/usr/local/lib/python3.7/dist-packages/librosa/core/spectrum.py:224: UserWarning: n_fft=4096 is too small for input signal of length=2969\n",
            "  n_fft, y.shape[-1]\n",
            "/usr/local/lib/python3.7/dist-packages/librosa/core/spectrum.py:224: UserWarning: n_fft=4096 is too small for input signal of length=2504\n",
            "  n_fft, y.shape[-1]\n",
            "/usr/local/lib/python3.7/dist-packages/librosa/core/spectrum.py:224: UserWarning: n_fft=4096 is too small for input signal of length=2533\n",
            "  n_fft, y.shape[-1]\n",
            "/usr/local/lib/python3.7/dist-packages/librosa/core/spectrum.py:224: UserWarning: n_fft=4096 is too small for input signal of length=2130\n",
            "  n_fft, y.shape[-1]\n",
            "/usr/local/lib/python3.7/dist-packages/librosa/core/spectrum.py:224: UserWarning: n_fft=4096 is too small for input signal of length=1957\n",
            "  n_fft, y.shape[-1]\n",
            "/usr/local/lib/python3.7/dist-packages/librosa/core/spectrum.py:224: UserWarning: n_fft=4096 is too small for input signal of length=3098\n",
            "  n_fft, y.shape[-1]\n",
            "/usr/local/lib/python3.7/dist-packages/librosa/core/spectrum.py:224: UserWarning: n_fft=4096 is too small for input signal of length=2033\n",
            "  n_fft, y.shape[-1]\n",
            "/usr/local/lib/python3.7/dist-packages/librosa/core/spectrum.py:224: UserWarning: n_fft=4096 is too small for input signal of length=3601\n",
            "  n_fft, y.shape[-1]\n",
            "/usr/local/lib/python3.7/dist-packages/librosa/core/spectrum.py:224: UserWarning: n_fft=4096 is too small for input signal of length=2352\n",
            "  n_fft, y.shape[-1]\n",
            "/usr/local/lib/python3.7/dist-packages/librosa/core/spectrum.py:224: UserWarning: n_fft=4096 is too small for input signal of length=2086\n",
            "  n_fft, y.shape[-1]\n",
            "/usr/local/lib/python3.7/dist-packages/librosa/core/spectrum.py:224: UserWarning: n_fft=4096 is too small for input signal of length=2743\n",
            "  n_fft, y.shape[-1]\n",
            "/usr/local/lib/python3.7/dist-packages/librosa/core/spectrum.py:224: UserWarning: n_fft=4096 is too small for input signal of length=2800\n",
            "  n_fft, y.shape[-1]\n",
            "/usr/local/lib/python3.7/dist-packages/librosa/core/spectrum.py:224: UserWarning: n_fft=4096 is too small for input signal of length=3193\n",
            "  n_fft, y.shape[-1]\n",
            "/usr/local/lib/python3.7/dist-packages/librosa/core/spectrum.py:224: UserWarning: n_fft=4096 is too small for input signal of length=2793\n",
            "  n_fft, y.shape[-1]\n",
            "/usr/local/lib/python3.7/dist-packages/librosa/core/spectrum.py:224: UserWarning: n_fft=4096 is too small for input signal of length=2747\n",
            "  n_fft, y.shape[-1]\n",
            "/usr/local/lib/python3.7/dist-packages/librosa/core/spectrum.py:224: UserWarning: n_fft=4096 is too small for input signal of length=3184\n",
            "  n_fft, y.shape[-1]\n",
            "/usr/local/lib/python3.7/dist-packages/librosa/core/spectrum.py:224: UserWarning: n_fft=4096 is too small for input signal of length=2889\n",
            "  n_fft, y.shape[-1]\n",
            "/usr/local/lib/python3.7/dist-packages/librosa/core/spectrum.py:224: UserWarning: n_fft=4096 is too small for input signal of length=2911\n",
            "  n_fft, y.shape[-1]\n",
            "/usr/local/lib/python3.7/dist-packages/librosa/core/spectrum.py:224: UserWarning: n_fft=4096 is too small for input signal of length=3250\n",
            "  n_fft, y.shape[-1]\n",
            "/usr/local/lib/python3.7/dist-packages/librosa/core/spectrum.py:224: UserWarning: n_fft=4096 is too small for input signal of length=1792\n",
            "  n_fft, y.shape[-1]\n",
            "/usr/local/lib/python3.7/dist-packages/librosa/core/spectrum.py:224: UserWarning: n_fft=4096 is too small for input signal of length=4073\n",
            "  n_fft, y.shape[-1]\n",
            "/usr/local/lib/python3.7/dist-packages/librosa/core/spectrum.py:224: UserWarning: n_fft=4096 is too small for input signal of length=2293\n",
            "  n_fft, y.shape[-1]\n",
            "/usr/local/lib/python3.7/dist-packages/librosa/core/spectrum.py:224: UserWarning: n_fft=4096 is too small for input signal of length=2012\n",
            "  n_fft, y.shape[-1]\n",
            "/usr/local/lib/python3.7/dist-packages/librosa/core/spectrum.py:224: UserWarning: n_fft=4096 is too small for input signal of length=2502\n",
            "  n_fft, y.shape[-1]\n",
            "/usr/local/lib/python3.7/dist-packages/librosa/core/spectrum.py:224: UserWarning: n_fft=4096 is too small for input signal of length=2959\n",
            "  n_fft, y.shape[-1]\n",
            "/usr/local/lib/python3.7/dist-packages/librosa/core/spectrum.py:224: UserWarning: n_fft=4096 is too small for input signal of length=2876\n",
            "  n_fft, y.shape[-1]\n",
            "/usr/local/lib/python3.7/dist-packages/librosa/core/spectrum.py:224: UserWarning: n_fft=4096 is too small for input signal of length=3259\n",
            "  n_fft, y.shape[-1]\n",
            "/usr/local/lib/python3.7/dist-packages/librosa/core/spectrum.py:224: UserWarning: n_fft=4096 is too small for input signal of length=3032\n",
            "  n_fft, y.shape[-1]\n",
            "/usr/local/lib/python3.7/dist-packages/librosa/core/spectrum.py:224: UserWarning: n_fft=4096 is too small for input signal of length=3063\n",
            "  n_fft, y.shape[-1]\n",
            "/usr/local/lib/python3.7/dist-packages/librosa/core/spectrum.py:224: UserWarning: n_fft=4096 is too small for input signal of length=3302\n",
            "  n_fft, y.shape[-1]\n",
            "/usr/local/lib/python3.7/dist-packages/librosa/core/spectrum.py:224: UserWarning: n_fft=4096 is too small for input signal of length=2907\n",
            "  n_fft, y.shape[-1]\n",
            "/usr/local/lib/python3.7/dist-packages/librosa/core/spectrum.py:224: UserWarning: n_fft=4096 is too small for input signal of length=3303\n",
            "  n_fft, y.shape[-1]\n",
            "/usr/local/lib/python3.7/dist-packages/librosa/core/spectrum.py:224: UserWarning: n_fft=4096 is too small for input signal of length=2676\n",
            "  n_fft, y.shape[-1]\n",
            "/usr/local/lib/python3.7/dist-packages/librosa/core/spectrum.py:224: UserWarning: n_fft=4096 is too small for input signal of length=2927\n",
            "  n_fft, y.shape[-1]\n",
            "/usr/local/lib/python3.7/dist-packages/librosa/core/spectrum.py:224: UserWarning: n_fft=4096 is too small for input signal of length=2967\n",
            "  n_fft, y.shape[-1]\n",
            "/usr/local/lib/python3.7/dist-packages/librosa/core/spectrum.py:224: UserWarning: n_fft=4096 is too small for input signal of length=2939\n",
            "  n_fft, y.shape[-1]\n",
            "/usr/local/lib/python3.7/dist-packages/librosa/core/spectrum.py:224: UserWarning: n_fft=4096 is too small for input signal of length=3255\n",
            "  n_fft, y.shape[-1]\n",
            "/usr/local/lib/python3.7/dist-packages/librosa/core/spectrum.py:224: UserWarning: n_fft=4096 is too small for input signal of length=3017\n",
            "  n_fft, y.shape[-1]\n",
            "/usr/local/lib/python3.7/dist-packages/librosa/core/spectrum.py:224: UserWarning: n_fft=4096 is too small for input signal of length=2972\n",
            "  n_fft, y.shape[-1]\n",
            "/usr/local/lib/python3.7/dist-packages/librosa/core/spectrum.py:224: UserWarning: n_fft=4096 is too small for input signal of length=3308\n",
            "  n_fft, y.shape[-1]\n",
            "/usr/local/lib/python3.7/dist-packages/librosa/core/spectrum.py:224: UserWarning: n_fft=4096 is too small for input signal of length=1983\n",
            "  n_fft, y.shape[-1]\n",
            "/usr/local/lib/python3.7/dist-packages/librosa/core/spectrum.py:224: UserWarning: n_fft=4096 is too small for input signal of length=2200\n",
            "  n_fft, y.shape[-1]\n",
            "/usr/local/lib/python3.7/dist-packages/librosa/core/spectrum.py:224: UserWarning: n_fft=4096 is too small for input signal of length=2554\n",
            "  n_fft, y.shape[-1]\n",
            "/usr/local/lib/python3.7/dist-packages/librosa/core/spectrum.py:224: UserWarning: n_fft=4096 is too small for input signal of length=1210\n",
            "  n_fft, y.shape[-1]\n",
            "/usr/local/lib/python3.7/dist-packages/librosa/core/spectrum.py:224: UserWarning: n_fft=4096 is too small for input signal of length=1675\n",
            "  n_fft, y.shape[-1]\n",
            "/usr/local/lib/python3.7/dist-packages/librosa/core/spectrum.py:224: UserWarning: n_fft=4096 is too small for input signal of length=2347\n",
            "  n_fft, y.shape[-1]\n",
            "/usr/local/lib/python3.7/dist-packages/librosa/core/spectrum.py:224: UserWarning: n_fft=4096 is too small for input signal of length=1933\n",
            "  n_fft, y.shape[-1]\n",
            "/usr/local/lib/python3.7/dist-packages/librosa/core/spectrum.py:224: UserWarning: n_fft=4096 is too small for input signal of length=2458\n",
            "  n_fft, y.shape[-1]\n",
            "/usr/local/lib/python3.7/dist-packages/librosa/core/spectrum.py:224: UserWarning: n_fft=4096 is too small for input signal of length=1228\n",
            "  n_fft, y.shape[-1]\n",
            "/usr/local/lib/python3.7/dist-packages/librosa/core/spectrum.py:224: UserWarning: n_fft=4096 is too small for input signal of length=1834\n",
            "  n_fft, y.shape[-1]\n",
            "/usr/local/lib/python3.7/dist-packages/librosa/core/spectrum.py:224: UserWarning: n_fft=4096 is too small for input signal of length=2230\n",
            "  n_fft, y.shape[-1]\n",
            "/usr/local/lib/python3.7/dist-packages/librosa/core/spectrum.py:224: UserWarning: n_fft=4096 is too small for input signal of length=2261\n",
            "  n_fft, y.shape[-1]\n",
            "/usr/local/lib/python3.7/dist-packages/librosa/core/spectrum.py:224: UserWarning: n_fft=4096 is too small for input signal of length=1419\n",
            "  n_fft, y.shape[-1]\n",
            "/usr/local/lib/python3.7/dist-packages/librosa/core/spectrum.py:224: UserWarning: n_fft=4096 is too small for input signal of length=2077\n",
            "  n_fft, y.shape[-1]\n",
            "/usr/local/lib/python3.7/dist-packages/librosa/core/spectrum.py:224: UserWarning: n_fft=4096 is too small for input signal of length=2015\n",
            "  n_fft, y.shape[-1]\n",
            "/usr/local/lib/python3.7/dist-packages/librosa/core/spectrum.py:224: UserWarning: n_fft=4096 is too small for input signal of length=2429\n",
            "  n_fft, y.shape[-1]\n",
            "/usr/local/lib/python3.7/dist-packages/librosa/core/spectrum.py:224: UserWarning: n_fft=4096 is too small for input signal of length=2828\n",
            "  n_fft, y.shape[-1]\n",
            "/usr/local/lib/python3.7/dist-packages/librosa/core/spectrum.py:224: UserWarning: n_fft=4096 is too small for input signal of length=3008\n",
            "  n_fft, y.shape[-1]\n",
            "/usr/local/lib/python3.7/dist-packages/librosa/core/spectrum.py:224: UserWarning: n_fft=4096 is too small for input signal of length=3339\n",
            "  n_fft, y.shape[-1]\n",
            "/usr/local/lib/python3.7/dist-packages/librosa/core/spectrum.py:224: UserWarning: n_fft=4096 is too small for input signal of length=2684\n",
            "  n_fft, y.shape[-1]\n",
            "/usr/local/lib/python3.7/dist-packages/librosa/core/spectrum.py:224: UserWarning: n_fft=4096 is too small for input signal of length=3066\n",
            "  n_fft, y.shape[-1]\n",
            "/usr/local/lib/python3.7/dist-packages/librosa/core/spectrum.py:224: UserWarning: n_fft=4096 is too small for input signal of length=3322\n",
            "  n_fft, y.shape[-1]\n",
            "/usr/local/lib/python3.7/dist-packages/librosa/core/spectrum.py:224: UserWarning: n_fft=4096 is too small for input signal of length=1992\n",
            "  n_fft, y.shape[-1]\n",
            "/usr/local/lib/python3.7/dist-packages/librosa/core/spectrum.py:224: UserWarning: n_fft=4096 is too small for input signal of length=2001\n",
            "  n_fft, y.shape[-1]\n",
            "/usr/local/lib/python3.7/dist-packages/librosa/core/spectrum.py:224: UserWarning: n_fft=4096 is too small for input signal of length=2126\n",
            "  n_fft, y.shape[-1]\n",
            "/usr/local/lib/python3.7/dist-packages/librosa/core/spectrum.py:224: UserWarning: n_fft=4096 is too small for input signal of length=2256\n",
            "  n_fft, y.shape[-1]\n",
            "/usr/local/lib/python3.7/dist-packages/librosa/core/spectrum.py:224: UserWarning: n_fft=4096 is too small for input signal of length=1997\n",
            "  n_fft, y.shape[-1]\n",
            "/usr/local/lib/python3.7/dist-packages/librosa/core/spectrum.py:224: UserWarning: n_fft=4096 is too small for input signal of length=3049\n",
            "  n_fft, y.shape[-1]\n",
            "/usr/local/lib/python3.7/dist-packages/librosa/core/spectrum.py:224: UserWarning: n_fft=4096 is too small for input signal of length=2903\n",
            "  n_fft, y.shape[-1]\n",
            "/usr/local/lib/python3.7/dist-packages/librosa/core/spectrum.py:224: UserWarning: n_fft=4096 is too small for input signal of length=2826\n",
            "  n_fft, y.shape[-1]\n",
            "/usr/local/lib/python3.7/dist-packages/librosa/core/spectrum.py:224: UserWarning: n_fft=4096 is too small for input signal of length=2914\n",
            "  n_fft, y.shape[-1]\n",
            "/usr/local/lib/python3.7/dist-packages/librosa/core/spectrum.py:224: UserWarning: n_fft=4096 is too small for input signal of length=3668\n",
            "  n_fft, y.shape[-1]\n",
            "/usr/local/lib/python3.7/dist-packages/librosa/core/spectrum.py:224: UserWarning: n_fft=4096 is too small for input signal of length=3158\n",
            "  n_fft, y.shape[-1]\n",
            "/usr/local/lib/python3.7/dist-packages/librosa/core/spectrum.py:224: UserWarning: n_fft=4096 is too small for input signal of length=3388\n",
            "  n_fft, y.shape[-1]\n",
            "/usr/local/lib/python3.7/dist-packages/librosa/core/spectrum.py:224: UserWarning: n_fft=4096 is too small for input signal of length=3040\n",
            "  n_fft, y.shape[-1]\n",
            "/usr/local/lib/python3.7/dist-packages/librosa/core/spectrum.py:224: UserWarning: n_fft=4096 is too small for input signal of length=3381\n",
            "  n_fft, y.shape[-1]\n",
            "/usr/local/lib/python3.7/dist-packages/librosa/core/spectrum.py:224: UserWarning: n_fft=4096 is too small for input signal of length=3183\n",
            "  n_fft, y.shape[-1]\n",
            "/usr/local/lib/python3.7/dist-packages/librosa/core/spectrum.py:224: UserWarning: n_fft=4096 is too small for input signal of length=3345\n",
            "  n_fft, y.shape[-1]\n",
            "/usr/local/lib/python3.7/dist-packages/librosa/core/spectrum.py:224: UserWarning: n_fft=4096 is too small for input signal of length=1990\n",
            "  n_fft, y.shape[-1]\n",
            "/usr/local/lib/python3.7/dist-packages/librosa/core/spectrum.py:224: UserWarning: n_fft=4096 is too small for input signal of length=2645\n",
            "  n_fft, y.shape[-1]\n",
            "/usr/local/lib/python3.7/dist-packages/librosa/core/spectrum.py:224: UserWarning: n_fft=4096 is too small for input signal of length=1863\n",
            "  n_fft, y.shape[-1]\n",
            "/usr/local/lib/python3.7/dist-packages/librosa/core/spectrum.py:224: UserWarning: n_fft=4096 is too small for input signal of length=3358\n",
            "  n_fft, y.shape[-1]\n",
            "/usr/local/lib/python3.7/dist-packages/librosa/core/spectrum.py:224: UserWarning: n_fft=4096 is too small for input signal of length=2194\n",
            "  n_fft, y.shape[-1]\n",
            "/usr/local/lib/python3.7/dist-packages/librosa/core/spectrum.py:224: UserWarning: n_fft=4096 is too small for input signal of length=2351\n",
            "  n_fft, y.shape[-1]\n",
            "/usr/local/lib/python3.7/dist-packages/librosa/core/spectrum.py:224: UserWarning: n_fft=4096 is too small for input signal of length=3222\n",
            "  n_fft, y.shape[-1]\n",
            "/usr/local/lib/python3.7/dist-packages/librosa/core/spectrum.py:224: UserWarning: n_fft=4096 is too small for input signal of length=3332\n",
            "  n_fft, y.shape[-1]\n",
            "/usr/local/lib/python3.7/dist-packages/librosa/core/spectrum.py:224: UserWarning: n_fft=4096 is too small for input signal of length=2897\n",
            "  n_fft, y.shape[-1]\n",
            "/usr/local/lib/python3.7/dist-packages/librosa/core/spectrum.py:224: UserWarning: n_fft=4096 is too small for input signal of length=3439\n",
            "  n_fft, y.shape[-1]\n",
            "/usr/local/lib/python3.7/dist-packages/librosa/core/spectrum.py:224: UserWarning: n_fft=4096 is too small for input signal of length=2837\n",
            "  n_fft, y.shape[-1]\n",
            "/usr/local/lib/python3.7/dist-packages/librosa/core/spectrum.py:224: UserWarning: n_fft=4096 is too small for input signal of length=3307\n",
            "  n_fft, y.shape[-1]\n",
            "/usr/local/lib/python3.7/dist-packages/librosa/core/spectrum.py:224: UserWarning: n_fft=4096 is too small for input signal of length=2541\n",
            "  n_fft, y.shape[-1]\n",
            "/usr/local/lib/python3.7/dist-packages/librosa/core/spectrum.py:224: UserWarning: n_fft=4096 is too small for input signal of length=2949\n",
            "  n_fft, y.shape[-1]\n",
            "/usr/local/lib/python3.7/dist-packages/librosa/core/spectrum.py:224: UserWarning: n_fft=4096 is too small for input signal of length=3625\n",
            "  n_fft, y.shape[-1]\n",
            "/usr/local/lib/python3.7/dist-packages/librosa/core/spectrum.py:224: UserWarning: n_fft=4096 is too small for input signal of length=2308\n",
            "  n_fft, y.shape[-1]\n",
            "/usr/local/lib/python3.7/dist-packages/librosa/core/spectrum.py:224: UserWarning: n_fft=4096 is too small for input signal of length=2111\n",
            "  n_fft, y.shape[-1]\n",
            "/usr/local/lib/python3.7/dist-packages/librosa/core/spectrum.py:224: UserWarning: n_fft=4096 is too small for input signal of length=2235\n",
            "  n_fft, y.shape[-1]\n",
            "/usr/local/lib/python3.7/dist-packages/librosa/core/spectrum.py:224: UserWarning: n_fft=4096 is too small for input signal of length=2552\n",
            "  n_fft, y.shape[-1]\n",
            "/usr/local/lib/python3.7/dist-packages/librosa/core/spectrum.py:224: UserWarning: n_fft=4096 is too small for input signal of length=2105\n",
            "  n_fft, y.shape[-1]\n",
            "/usr/local/lib/python3.7/dist-packages/librosa/core/spectrum.py:224: UserWarning: n_fft=4096 is too small for input signal of length=2089\n",
            "  n_fft, y.shape[-1]\n",
            "/usr/local/lib/python3.7/dist-packages/librosa/core/spectrum.py:224: UserWarning: n_fft=4096 is too small for input signal of length=2011\n",
            "  n_fft, y.shape[-1]\n",
            "/usr/local/lib/python3.7/dist-packages/librosa/core/spectrum.py:224: UserWarning: n_fft=4096 is too small for input signal of length=3902\n",
            "  n_fft, y.shape[-1]\n",
            "/usr/local/lib/python3.7/dist-packages/librosa/core/spectrum.py:224: UserWarning: n_fft=4096 is too small for input signal of length=1776\n",
            "  n_fft, y.shape[-1]\n",
            "/usr/local/lib/python3.7/dist-packages/librosa/core/spectrum.py:224: UserWarning: n_fft=4096 is too small for input signal of length=2163\n",
            "  n_fft, y.shape[-1]\n",
            "/usr/local/lib/python3.7/dist-packages/librosa/core/spectrum.py:224: UserWarning: n_fft=4096 is too small for input signal of length=2085\n",
            "  n_fft, y.shape[-1]\n",
            "/usr/local/lib/python3.7/dist-packages/librosa/core/spectrum.py:224: UserWarning: n_fft=4096 is too small for input signal of length=3006\n",
            "  n_fft, y.shape[-1]\n",
            "/usr/local/lib/python3.7/dist-packages/librosa/core/spectrum.py:224: UserWarning: n_fft=4096 is too small for input signal of length=2298\n",
            "  n_fft, y.shape[-1]\n",
            "/usr/local/lib/python3.7/dist-packages/librosa/core/spectrum.py:224: UserWarning: n_fft=4096 is too small for input signal of length=2659\n",
            "  n_fft, y.shape[-1]\n",
            "/usr/local/lib/python3.7/dist-packages/librosa/core/spectrum.py:224: UserWarning: n_fft=4096 is too small for input signal of length=2765\n",
            "  n_fft, y.shape[-1]\n",
            "/usr/local/lib/python3.7/dist-packages/librosa/core/spectrum.py:224: UserWarning: n_fft=4096 is too small for input signal of length=2814\n",
            "  n_fft, y.shape[-1]\n",
            "/usr/local/lib/python3.7/dist-packages/librosa/core/spectrum.py:224: UserWarning: n_fft=4096 is too small for input signal of length=2851\n",
            "  n_fft, y.shape[-1]\n",
            "/usr/local/lib/python3.7/dist-packages/librosa/core/spectrum.py:224: UserWarning: n_fft=4096 is too small for input signal of length=2886\n",
            "  n_fft, y.shape[-1]\n",
            "/usr/local/lib/python3.7/dist-packages/librosa/core/spectrum.py:224: UserWarning: n_fft=4096 is too small for input signal of length=3372\n",
            "  n_fft, y.shape[-1]\n",
            "/usr/local/lib/python3.7/dist-packages/librosa/core/spectrum.py:224: UserWarning: n_fft=4096 is too small for input signal of length=3102\n",
            "  n_fft, y.shape[-1]\n",
            "/usr/local/lib/python3.7/dist-packages/librosa/core/spectrum.py:224: UserWarning: n_fft=4096 is too small for input signal of length=3276\n",
            "  n_fft, y.shape[-1]\n",
            "/usr/local/lib/python3.7/dist-packages/librosa/core/spectrum.py:224: UserWarning: n_fft=4096 is too small for input signal of length=3036\n",
            "  n_fft, y.shape[-1]\n",
            "/usr/local/lib/python3.7/dist-packages/librosa/core/spectrum.py:224: UserWarning: n_fft=4096 is too small for input signal of length=3194\n",
            "  n_fft, y.shape[-1]\n",
            "/usr/local/lib/python3.7/dist-packages/librosa/core/spectrum.py:224: UserWarning: n_fft=4096 is too small for input signal of length=2896\n",
            "  n_fft, y.shape[-1]\n",
            "/usr/local/lib/python3.7/dist-packages/librosa/core/spectrum.py:224: UserWarning: n_fft=4096 is too small for input signal of length=3295\n",
            "  n_fft, y.shape[-1]\n",
            "/usr/local/lib/python3.7/dist-packages/librosa/core/spectrum.py:224: UserWarning: n_fft=4096 is too small for input signal of length=2808\n",
            "  n_fft, y.shape[-1]\n",
            "/usr/local/lib/python3.7/dist-packages/librosa/core/spectrum.py:224: UserWarning: n_fft=4096 is too small for input signal of length=2974\n",
            "  n_fft, y.shape[-1]\n",
            "/usr/local/lib/python3.7/dist-packages/librosa/core/spectrum.py:224: UserWarning: n_fft=4096 is too small for input signal of length=3275\n",
            "  n_fft, y.shape[-1]\n",
            "/usr/local/lib/python3.7/dist-packages/librosa/core/spectrum.py:224: UserWarning: n_fft=4096 is too small for input signal of length=1973\n",
            "  n_fft, y.shape[-1]\n",
            "/usr/local/lib/python3.7/dist-packages/librosa/core/spectrum.py:224: UserWarning: n_fft=4096 is too small for input signal of length=2162\n",
            "  n_fft, y.shape[-1]\n",
            "/usr/local/lib/python3.7/dist-packages/librosa/core/spectrum.py:224: UserWarning: n_fft=4096 is too small for input signal of length=2646\n",
            "  n_fft, y.shape[-1]\n",
            "/usr/local/lib/python3.7/dist-packages/librosa/core/spectrum.py:224: UserWarning: n_fft=4096 is too small for input signal of length=2283\n",
            "  n_fft, y.shape[-1]\n",
            "/usr/local/lib/python3.7/dist-packages/librosa/core/spectrum.py:224: UserWarning: n_fft=4096 is too small for input signal of length=2652\n",
            "  n_fft, y.shape[-1]\n",
            "/usr/local/lib/python3.7/dist-packages/librosa/core/spectrum.py:224: UserWarning: n_fft=4096 is too small for input signal of length=2943\n",
            "  n_fft, y.shape[-1]\n",
            "/usr/local/lib/python3.7/dist-packages/librosa/core/spectrum.py:224: UserWarning: n_fft=4096 is too small for input signal of length=2836\n",
            "  n_fft, y.shape[-1]\n",
            "/usr/local/lib/python3.7/dist-packages/librosa/core/spectrum.py:224: UserWarning: n_fft=4096 is too small for input signal of length=3238\n",
            "  n_fft, y.shape[-1]\n",
            "/usr/local/lib/python3.7/dist-packages/librosa/core/spectrum.py:224: UserWarning: n_fft=4096 is too small for input signal of length=3418\n",
            "  n_fft, y.shape[-1]\n",
            "/usr/local/lib/python3.7/dist-packages/librosa/core/spectrum.py:224: UserWarning: n_fft=4096 is too small for input signal of length=2951\n",
            "  n_fft, y.shape[-1]\n",
            "/usr/local/lib/python3.7/dist-packages/librosa/core/spectrum.py:224: UserWarning: n_fft=4096 is too small for input signal of length=3414\n",
            "  n_fft, y.shape[-1]\n",
            "/usr/local/lib/python3.7/dist-packages/librosa/core/spectrum.py:224: UserWarning: n_fft=4096 is too small for input signal of length=1818\n",
            "  n_fft, y.shape[-1]\n",
            "/usr/local/lib/python3.7/dist-packages/librosa/core/spectrum.py:224: UserWarning: n_fft=4096 is too small for input signal of length=728\n",
            "  n_fft, y.shape[-1]\n",
            "/usr/local/lib/python3.7/dist-packages/librosa/core/spectrum.py:224: UserWarning: n_fft=4096 is too small for input signal of length=1516\n",
            "  n_fft, y.shape[-1]\n",
            "/usr/local/lib/python3.7/dist-packages/librosa/core/spectrum.py:224: UserWarning: n_fft=4096 is too small for input signal of length=1916\n",
            "  n_fft, y.shape[-1]\n",
            "/usr/local/lib/python3.7/dist-packages/librosa/core/spectrum.py:224: UserWarning: n_fft=4096 is too small for input signal of length=1890\n",
            "  n_fft, y.shape[-1]\n",
            "/usr/local/lib/python3.7/dist-packages/librosa/core/spectrum.py:224: UserWarning: n_fft=4096 is too small for input signal of length=2246\n",
            "  n_fft, y.shape[-1]\n",
            "/usr/local/lib/python3.7/dist-packages/librosa/core/spectrum.py:224: UserWarning: n_fft=4096 is too small for input signal of length=2884\n",
            "  n_fft, y.shape[-1]\n",
            "/usr/local/lib/python3.7/dist-packages/librosa/core/spectrum.py:224: UserWarning: n_fft=4096 is too small for input signal of length=3141\n",
            "  n_fft, y.shape[-1]\n",
            "/usr/local/lib/python3.7/dist-packages/librosa/core/spectrum.py:224: UserWarning: n_fft=4096 is too small for input signal of length=2910\n",
            "  n_fft, y.shape[-1]\n",
            "/usr/local/lib/python3.7/dist-packages/librosa/core/spectrum.py:224: UserWarning: n_fft=4096 is too small for input signal of length=3176\n",
            "  n_fft, y.shape[-1]\n",
            "/usr/local/lib/python3.7/dist-packages/librosa/core/spectrum.py:224: UserWarning: n_fft=4096 is too small for input signal of length=1458\n",
            "  n_fft, y.shape[-1]\n",
            "/usr/local/lib/python3.7/dist-packages/librosa/core/spectrum.py:224: UserWarning: n_fft=4096 is too small for input signal of length=2423\n",
            "  n_fft, y.shape[-1]\n",
            "/usr/local/lib/python3.7/dist-packages/librosa/core/spectrum.py:224: UserWarning: n_fft=4096 is too small for input signal of length=2309\n",
            "  n_fft, y.shape[-1]\n",
            "/usr/local/lib/python3.7/dist-packages/librosa/core/spectrum.py:224: UserWarning: n_fft=4096 is too small for input signal of length=1922\n",
            "  n_fft, y.shape[-1]\n",
            "/usr/local/lib/python3.7/dist-packages/librosa/core/spectrum.py:224: UserWarning: n_fft=4096 is too small for input signal of length=2185\n",
            "  n_fft, y.shape[-1]\n",
            "/usr/local/lib/python3.7/dist-packages/librosa/core/spectrum.py:224: UserWarning: n_fft=4096 is too small for input signal of length=2237\n",
            "  n_fft, y.shape[-1]\n",
            "/usr/local/lib/python3.7/dist-packages/librosa/core/spectrum.py:224: UserWarning: n_fft=4096 is too small for input signal of length=2968\n",
            "  n_fft, y.shape[-1]\n",
            "/usr/local/lib/python3.7/dist-packages/librosa/core/spectrum.py:224: UserWarning: n_fft=4096 is too small for input signal of length=3347\n",
            "  n_fft, y.shape[-1]\n",
            "/usr/local/lib/python3.7/dist-packages/librosa/core/spectrum.py:224: UserWarning: n_fft=4096 is too small for input signal of length=3380\n",
            "  n_fft, y.shape[-1]\n",
            "/usr/local/lib/python3.7/dist-packages/librosa/core/spectrum.py:224: UserWarning: n_fft=4096 is too small for input signal of length=3338\n",
            "  n_fft, y.shape[-1]\n",
            "/usr/local/lib/python3.7/dist-packages/librosa/core/spectrum.py:224: UserWarning: n_fft=4096 is too small for input signal of length=3001\n",
            "  n_fft, y.shape[-1]\n",
            "/usr/local/lib/python3.7/dist-packages/librosa/core/spectrum.py:224: UserWarning: n_fft=4096 is too small for input signal of length=2749\n",
            "  n_fft, y.shape[-1]\n",
            "/usr/local/lib/python3.7/dist-packages/librosa/core/spectrum.py:224: UserWarning: n_fft=4096 is too small for input signal of length=2938\n",
            "  n_fft, y.shape[-1]\n",
            "/usr/local/lib/python3.7/dist-packages/librosa/core/spectrum.py:224: UserWarning: n_fft=4096 is too small for input signal of length=3229\n",
            "  n_fft, y.shape[-1]\n",
            "/usr/local/lib/python3.7/dist-packages/librosa/core/spectrum.py:224: UserWarning: n_fft=4096 is too small for input signal of length=3296\n",
            "  n_fft, y.shape[-1]\n",
            "/usr/local/lib/python3.7/dist-packages/librosa/core/spectrum.py:224: UserWarning: n_fft=4096 is too small for input signal of length=3349\n",
            "  n_fft, y.shape[-1]\n",
            "/usr/local/lib/python3.7/dist-packages/librosa/core/spectrum.py:224: UserWarning: n_fft=4096 is too small for input signal of length=2809\n",
            "  n_fft, y.shape[-1]\n",
            "/usr/local/lib/python3.7/dist-packages/librosa/core/spectrum.py:224: UserWarning: n_fft=4096 is too small for input signal of length=3263\n",
            "  n_fft, y.shape[-1]\n",
            "/usr/local/lib/python3.7/dist-packages/librosa/core/spectrum.py:224: UserWarning: n_fft=4096 is too small for input signal of length=3712\n",
            "  n_fft, y.shape[-1]\n",
            "/usr/local/lib/python3.7/dist-packages/librosa/core/spectrum.py:224: UserWarning: n_fft=4096 is too small for input signal of length=2405\n",
            "  n_fft, y.shape[-1]\n",
            "/usr/local/lib/python3.7/dist-packages/librosa/core/spectrum.py:224: UserWarning: n_fft=4096 is too small for input signal of length=2464\n",
            "  n_fft, y.shape[-1]\n",
            "/usr/local/lib/python3.7/dist-packages/librosa/core/spectrum.py:224: UserWarning: n_fft=4096 is too small for input signal of length=2042\n",
            "  n_fft, y.shape[-1]\n",
            "/usr/local/lib/python3.7/dist-packages/librosa/core/spectrum.py:224: UserWarning: n_fft=4096 is too small for input signal of length=3353\n",
            "  n_fft, y.shape[-1]\n",
            "/usr/local/lib/python3.7/dist-packages/librosa/core/spectrum.py:224: UserWarning: n_fft=4096 is too small for input signal of length=2173\n",
            "  n_fft, y.shape[-1]\n",
            "/usr/local/lib/python3.7/dist-packages/librosa/core/spectrum.py:224: UserWarning: n_fft=4096 is too small for input signal of length=2044\n",
            "  n_fft, y.shape[-1]\n",
            "/usr/local/lib/python3.7/dist-packages/librosa/core/spectrum.py:224: UserWarning: n_fft=4096 is too small for input signal of length=2414\n",
            "  n_fft, y.shape[-1]\n",
            "/usr/local/lib/python3.7/dist-packages/librosa/core/spectrum.py:224: UserWarning: n_fft=4096 is too small for input signal of length=2751\n",
            "  n_fft, y.shape[-1]\n",
            "/usr/local/lib/python3.7/dist-packages/librosa/core/spectrum.py:224: UserWarning: n_fft=4096 is too small for input signal of length=2879\n",
            "  n_fft, y.shape[-1]\n",
            "/usr/local/lib/python3.7/dist-packages/librosa/core/spectrum.py:224: UserWarning: n_fft=4096 is too small for input signal of length=2986\n",
            "  n_fft, y.shape[-1]\n",
            "/usr/local/lib/python3.7/dist-packages/librosa/core/spectrum.py:224: UserWarning: n_fft=4096 is too small for input signal of length=2894\n",
            "  n_fft, y.shape[-1]\n",
            "/usr/local/lib/python3.7/dist-packages/librosa/core/spectrum.py:224: UserWarning: n_fft=4096 is too small for input signal of length=3270\n",
            "  n_fft, y.shape[-1]\n",
            "/usr/local/lib/python3.7/dist-packages/librosa/core/spectrum.py:224: UserWarning: n_fft=4096 is too small for input signal of length=3260\n",
            "  n_fft, y.shape[-1]\n",
            "/usr/local/lib/python3.7/dist-packages/librosa/core/spectrum.py:224: UserWarning: n_fft=4096 is too small for input signal of length=2945\n",
            "  n_fft, y.shape[-1]\n",
            "/usr/local/lib/python3.7/dist-packages/librosa/core/spectrum.py:224: UserWarning: n_fft=4096 is too small for input signal of length=2720\n",
            "  n_fft, y.shape[-1]\n",
            "/usr/local/lib/python3.7/dist-packages/librosa/core/spectrum.py:224: UserWarning: n_fft=4096 is too small for input signal of length=2976\n",
            "  n_fft, y.shape[-1]\n",
            "/usr/local/lib/python3.7/dist-packages/librosa/core/spectrum.py:224: UserWarning: n_fft=4096 is too small for input signal of length=3289\n",
            "  n_fft, y.shape[-1]\n",
            "/usr/local/lib/python3.7/dist-packages/librosa/core/spectrum.py:224: UserWarning: n_fft=4096 is too small for input signal of length=1848\n",
            "  n_fft, y.shape[-1]\n",
            "/usr/local/lib/python3.7/dist-packages/librosa/core/spectrum.py:224: UserWarning: n_fft=4096 is too small for input signal of length=2152\n",
            "  n_fft, y.shape[-1]\n",
            "/usr/local/lib/python3.7/dist-packages/librosa/core/spectrum.py:224: UserWarning: n_fft=4096 is too small for input signal of length=2629\n",
            "  n_fft, y.shape[-1]\n",
            "/usr/local/lib/python3.7/dist-packages/librosa/core/spectrum.py:224: UserWarning: n_fft=4096 is too small for input signal of length=1692\n",
            "  n_fft, y.shape[-1]\n",
            "/usr/local/lib/python3.7/dist-packages/librosa/core/spectrum.py:224: UserWarning: n_fft=4096 is too small for input signal of length=3590\n",
            "  n_fft, y.shape[-1]\n",
            "/usr/local/lib/python3.7/dist-packages/librosa/core/spectrum.py:224: UserWarning: n_fft=4096 is too small for input signal of length=1988\n",
            "  n_fft, y.shape[-1]\n",
            "/usr/local/lib/python3.7/dist-packages/librosa/core/spectrum.py:224: UserWarning: n_fft=4096 is too small for input signal of length=1777\n",
            "  n_fft, y.shape[-1]\n",
            "/usr/local/lib/python3.7/dist-packages/librosa/core/spectrum.py:224: UserWarning: n_fft=4096 is too small for input signal of length=2079\n",
            "  n_fft, y.shape[-1]\n",
            "/usr/local/lib/python3.7/dist-packages/librosa/core/spectrum.py:224: UserWarning: n_fft=4096 is too small for input signal of length=2431\n",
            "  n_fft, y.shape[-1]\n",
            "/usr/local/lib/python3.7/dist-packages/librosa/core/spectrum.py:224: UserWarning: n_fft=4096 is too small for input signal of length=1716\n",
            "  n_fft, y.shape[-1]\n",
            "/usr/local/lib/python3.7/dist-packages/librosa/core/spectrum.py:224: UserWarning: n_fft=4096 is too small for input signal of length=1768\n",
            "  n_fft, y.shape[-1]\n",
            "/usr/local/lib/python3.7/dist-packages/librosa/core/spectrum.py:224: UserWarning: n_fft=4096 is too small for input signal of length=2055\n",
            "  n_fft, y.shape[-1]\n",
            "/usr/local/lib/python3.7/dist-packages/librosa/core/spectrum.py:224: UserWarning: n_fft=4096 is too small for input signal of length=2223\n",
            "  n_fft, y.shape[-1]\n",
            "/usr/local/lib/python3.7/dist-packages/librosa/core/spectrum.py:224: UserWarning: n_fft=4096 is too small for input signal of length=2619\n",
            "  n_fft, y.shape[-1]\n",
            "/usr/local/lib/python3.7/dist-packages/librosa/core/spectrum.py:224: UserWarning: n_fft=4096 is too small for input signal of length=2955\n",
            "  n_fft, y.shape[-1]\n",
            "/usr/local/lib/python3.7/dist-packages/librosa/core/spectrum.py:224: UserWarning: n_fft=4096 is too small for input signal of length=3348\n",
            "  n_fft, y.shape[-1]\n",
            "/usr/local/lib/python3.7/dist-packages/librosa/core/spectrum.py:224: UserWarning: n_fft=4096 is too small for input signal of length=1823\n",
            "  n_fft, y.shape[-1]\n",
            "/usr/local/lib/python3.7/dist-packages/librosa/core/spectrum.py:224: UserWarning: n_fft=4096 is too small for input signal of length=2036\n",
            "  n_fft, y.shape[-1]\n",
            "/usr/local/lib/python3.7/dist-packages/librosa/core/spectrum.py:224: UserWarning: n_fft=4096 is too small for input signal of length=2123\n",
            "  n_fft, y.shape[-1]\n",
            "/usr/local/lib/python3.7/dist-packages/librosa/core/spectrum.py:224: UserWarning: n_fft=4096 is too small for input signal of length=2260\n",
            "  n_fft, y.shape[-1]\n",
            "/usr/local/lib/python3.7/dist-packages/librosa/core/spectrum.py:224: UserWarning: n_fft=4096 is too small for input signal of length=2868\n",
            "  n_fft, y.shape[-1]\n",
            "/usr/local/lib/python3.7/dist-packages/librosa/core/spectrum.py:224: UserWarning: n_fft=4096 is too small for input signal of length=3248\n",
            "  n_fft, y.shape[-1]\n",
            "/usr/local/lib/python3.7/dist-packages/librosa/core/spectrum.py:224: UserWarning: n_fft=4096 is too small for input signal of length=2975\n",
            "  n_fft, y.shape[-1]\n",
            "/usr/local/lib/python3.7/dist-packages/librosa/core/spectrum.py:224: UserWarning: n_fft=4096 is too small for input signal of length=2855\n",
            "  n_fft, y.shape[-1]\n",
            "/usr/local/lib/python3.7/dist-packages/librosa/core/spectrum.py:224: UserWarning: n_fft=4096 is too small for input signal of length=2950\n",
            "  n_fft, y.shape[-1]\n",
            "/usr/local/lib/python3.7/dist-packages/librosa/core/spectrum.py:224: UserWarning: n_fft=4096 is too small for input signal of length=3113\n",
            "  n_fft, y.shape[-1]\n",
            "/usr/local/lib/python3.7/dist-packages/librosa/core/spectrum.py:224: UserWarning: n_fft=4096 is too small for input signal of length=3096\n",
            "  n_fft, y.shape[-1]\n",
            "/usr/local/lib/python3.7/dist-packages/librosa/core/spectrum.py:224: UserWarning: n_fft=4096 is too small for input signal of length=2957\n",
            "  n_fft, y.shape[-1]\n",
            "/usr/local/lib/python3.7/dist-packages/librosa/core/spectrum.py:224: UserWarning: n_fft=4096 is too small for input signal of length=3087\n",
            "  n_fft, y.shape[-1]\n",
            "/usr/local/lib/python3.7/dist-packages/librosa/core/spectrum.py:224: UserWarning: n_fft=4096 is too small for input signal of length=3280\n",
            "  n_fft, y.shape[-1]\n",
            "/usr/local/lib/python3.7/dist-packages/librosa/core/spectrum.py:224: UserWarning: n_fft=4096 is too small for input signal of length=2387\n",
            "  n_fft, y.shape[-1]\n",
            "/usr/local/lib/python3.7/dist-packages/librosa/core/spectrum.py:224: UserWarning: n_fft=4096 is too small for input signal of length=3020\n",
            "  n_fft, y.shape[-1]\n",
            "/usr/local/lib/python3.7/dist-packages/librosa/core/spectrum.py:224: UserWarning: n_fft=4096 is too small for input signal of length=3083\n",
            "  n_fft, y.shape[-1]\n",
            "/usr/local/lib/python3.7/dist-packages/librosa/core/spectrum.py:224: UserWarning: n_fft=4096 is too small for input signal of length=3266\n",
            "  n_fft, y.shape[-1]\n",
            "/usr/local/lib/python3.7/dist-packages/librosa/core/spectrum.py:224: UserWarning: n_fft=4096 is too small for input signal of length=2167\n",
            "  n_fft, y.shape[-1]\n",
            "/usr/local/lib/python3.7/dist-packages/librosa/core/spectrum.py:224: UserWarning: n_fft=4096 is too small for input signal of length=2570\n",
            "  n_fft, y.shape[-1]\n",
            "/usr/local/lib/python3.7/dist-packages/librosa/core/spectrum.py:224: UserWarning: n_fft=4096 is too small for input signal of length=1382\n",
            "  n_fft, y.shape[-1]\n",
            "/usr/local/lib/python3.7/dist-packages/librosa/core/spectrum.py:224: UserWarning: n_fft=4096 is too small for input signal of length=1797\n",
            "  n_fft, y.shape[-1]\n",
            "/usr/local/lib/python3.7/dist-packages/librosa/core/spectrum.py:224: UserWarning: n_fft=4096 is too small for input signal of length=2093\n",
            "  n_fft, y.shape[-1]\n",
            "/usr/local/lib/python3.7/dist-packages/librosa/core/spectrum.py:224: UserWarning: n_fft=4096 is too small for input signal of length=2072\n",
            "  n_fft, y.shape[-1]\n",
            "/usr/local/lib/python3.7/dist-packages/librosa/core/spectrum.py:224: UserWarning: n_fft=4096 is too small for input signal of length=2571\n",
            "  n_fft, y.shape[-1]\n",
            "/usr/local/lib/python3.7/dist-packages/librosa/core/spectrum.py:224: UserWarning: n_fft=4096 is too small for input signal of length=2655\n",
            "  n_fft, y.shape[-1]\n",
            "/usr/local/lib/python3.7/dist-packages/librosa/core/spectrum.py:224: UserWarning: n_fft=4096 is too small for input signal of length=2524\n",
            "  n_fft, y.shape[-1]\n",
            "/usr/local/lib/python3.7/dist-packages/librosa/core/spectrum.py:224: UserWarning: n_fft=4096 is too small for input signal of length=2738\n",
            "  n_fft, y.shape[-1]\n",
            "/usr/local/lib/python3.7/dist-packages/librosa/core/spectrum.py:224: UserWarning: n_fft=4096 is too small for input signal of length=3157\n",
            "  n_fft, y.shape[-1]\n",
            "/usr/local/lib/python3.7/dist-packages/librosa/core/spectrum.py:224: UserWarning: n_fft=4096 is too small for input signal of length=3065\n",
            "  n_fft, y.shape[-1]\n",
            "/usr/local/lib/python3.7/dist-packages/librosa/core/spectrum.py:224: UserWarning: n_fft=4096 is too small for input signal of length=3323\n",
            "  n_fft, y.shape[-1]\n",
            "/usr/local/lib/python3.7/dist-packages/librosa/core/spectrum.py:224: UserWarning: n_fft=4096 is too small for input signal of length=2665\n",
            "  n_fft, y.shape[-1]\n",
            "/usr/local/lib/python3.7/dist-packages/librosa/core/spectrum.py:224: UserWarning: n_fft=4096 is too small for input signal of length=2847\n",
            "  n_fft, y.shape[-1]\n",
            "/usr/local/lib/python3.7/dist-packages/librosa/core/spectrum.py:224: UserWarning: n_fft=4096 is too small for input signal of length=3225\n",
            "  n_fft, y.shape[-1]\n",
            "/usr/local/lib/python3.7/dist-packages/librosa/core/spectrum.py:224: UserWarning: n_fft=4096 is too small for input signal of length=2877\n",
            "  n_fft, y.shape[-1]\n",
            "/usr/local/lib/python3.7/dist-packages/librosa/core/spectrum.py:224: UserWarning: n_fft=4096 is too small for input signal of length=2900\n",
            "  n_fft, y.shape[-1]\n",
            "[Parallel(n_jobs=1)]: Done 1208 out of 1208 | elapsed:   27.2s finished\n"
          ],
          "name": "stderr"
        }
      ]
    },
    {
      "cell_type": "code",
      "metadata": {
        "colab": {
          "base_uri": "https://localhost:8080/",
          "height": 66,
          "referenced_widgets": [
            "b7ff5af328cf4ef59b399e82cb98535c",
            "95d32b1fb7b847d3b28ccdf7df6e2cfb",
            "e54f96699638488cbeb951be141e1d11",
            "6dc05ecb8f41415f9edc9906415220b0",
            "bce96efab0bc4e8097d52a5e7e0c63ea",
            "6b9835113e2045a7924ddd7cd2b3f713",
            "5b6dab8359474f1b9c07fd3da7d14300",
            "11be67626f754e4aa47fe00785dec8c2"
          ]
        },
        "id": "O1kjW8rHQO8Y",
        "outputId": "606eed79-fa24-4e57-bd7e-29e3eac43871"
      },
      "source": [
        "# draw_spec_set_actual(syllables_spec, zoom=1, maxrows=10, colsize=25)"
      ],
      "execution_count": null,
      "outputs": [
        {
          "output_type": "display_data",
          "data": {
            "application/vnd.jupyter.widget-view+json": {
              "model_id": "b7ff5af328cf4ef59b399e82cb98535c",
              "version_minor": 0,
              "version_major": 2
            },
            "text/plain": [
              "HBox(children=(FloatProgress(value=1.0, bar_style='info', max=1.0), HTML(value='')))"
            ]
          },
          "metadata": {
            "tags": []
          }
        },
        {
          "output_type": "stream",
          "text": [
            "\n"
          ],
          "name": "stdout"
        }
      ]
    },
    {
      "cell_type": "code",
      "metadata": {
        "id": "WiVukcB5P5Cf"
      },
      "source": [
        "# ####  -----------  Rescaling --------  #### (Avoid this if possible)\n",
        "    \n",
        "# log_scaling_factor = 4\n",
        "\n",
        "# with Parallel(n_jobs=n_jobs, verbose=verbosity) as parallel:\n",
        "#     syllables_spec = parallel(\n",
        "#         delayed(log_resize_spec)(spec, scaling_factor=log_scaling_factor)\n",
        "#         for spec in tqdm(syllables_spec, desc=\"scaling spectrograms\", leave=False)\n",
        "#     )  "
      ],
      "execution_count": null,
      "outputs": []
    },
    {
      "cell_type": "code",
      "metadata": {
        "colab": {
          "base_uri": "https://localhost:8080/"
        },
        "id": "JUGL5t7qqPH-",
        "outputId": "cc1f339b-0e1b-42d4-ca34-a3c5dd0592c6"
      },
      "source": [
        "syll_lens = [np.shape(i)[1] for i in syllables_spec]\n",
        "pad_length = np.max(syll_lens) # Set this as 467 based on Nest 2\n",
        "print(pad_length)\n",
        "if pad_length < 467:\n",
        "  pad_length = 467\n",
        "else:\n",
        "  print('New syllable with longer syllable length found')"
      ],
      "execution_count": 80,
      "outputs": [
        {
          "output_type": "stream",
          "text": [
            "421\n"
          ],
          "name": "stdout"
        }
      ]
    },
    {
      "cell_type": "code",
      "metadata": {
        "colab": {
          "base_uri": "https://localhost:8080/"
        },
        "id": "2j5vkBMe13Ic",
        "outputId": "870de5e1-dfb7-4505-f8a7-f00cb006dcfa"
      },
      "source": [
        "pad_length"
      ],
      "execution_count": 81,
      "outputs": [
        {
          "output_type": "execute_result",
          "data": {
            "text/plain": [
              "467"
            ]
          },
          "metadata": {
            "tags": []
          },
          "execution_count": 81
        }
      ]
    },
    {
      "cell_type": "code",
      "metadata": {
        "colab": {
          "base_uri": "https://localhost:8080/",
          "height": 204,
          "referenced_widgets": [
            "f14af89014a344b3a08bcae9bb4a163b",
            "edde15ce9fd445c498a9e0d509e898c0",
            "ebf9ba475b764cf1862b2c1171734b2c",
            "f768f677758049a3bc396cb2ae1f9307",
            "9a4ba95b484b4169bf919e8d8b820fef",
            "f062202fde564809baccfe79bf326e46",
            "4f082090631d49949776473edf5ddd6a",
            "6e669638074f4863be0283c5aa74a229"
          ]
        },
        "id": "iv4GhedZ1khm",
        "outputId": "efdb41f2-b3b2-48ed-80c8-c0ae527b91b7"
      },
      "source": [
        "###  Discards the top half of frequency range ###\n",
        "\n",
        "def freq_range_reduction(spec, yrange=0.5):\n",
        "    ylim = int(np.floor(spec.shape[0]*yrange))\n",
        "    spec = spec[:ylim,:]\n",
        "    return spec\n",
        "\n",
        "with Parallel(n_jobs=n_jobs, verbose=verbosity) as parallel:\n",
        "    \n",
        "    syllables_spec = parallel(\n",
        "        delayed(freq_range_reduction)(spec, yrange=0.5)\n",
        "        for spec in tqdm(\n",
        "            syllables_spec, desc=\"resizing spectrogram frequency\", leave=False\n",
        "        )\n",
        "    )\n",
        "# np.shape(syllables_spec)"
      ],
      "execution_count": 82,
      "outputs": [
        {
          "output_type": "display_data",
          "data": {
            "application/vnd.jupyter.widget-view+json": {
              "model_id": "f14af89014a344b3a08bcae9bb4a163b",
              "version_minor": 0,
              "version_major": 2
            },
            "text/plain": [
              "HBox(children=(FloatProgress(value=0.0, description='resizing spectrogram frequency', max=1208.0, style=Progre…"
            ]
          },
          "metadata": {
            "tags": []
          }
        },
        {
          "output_type": "stream",
          "text": [
            "[Parallel(n_jobs=1)]: Using backend SequentialBackend with 1 concurrent workers.\n",
            "[Parallel(n_jobs=1)]: Done   1 out of   1 | elapsed:    0.0s remaining:    0.0s\n",
            "[Parallel(n_jobs=1)]: Done   2 out of   2 | elapsed:    0.0s remaining:    0.0s\n",
            "[Parallel(n_jobs=1)]: Done   3 out of   3 | elapsed:    0.0s remaining:    0.0s\n",
            "[Parallel(n_jobs=1)]: Done   4 out of   4 | elapsed:    0.0s remaining:    0.0s\n",
            "[Parallel(n_jobs=1)]: Done   5 out of   5 | elapsed:    0.0s remaining:    0.0s\n",
            "[Parallel(n_jobs=1)]: Done   6 out of   6 | elapsed:    0.0s remaining:    0.0s\n",
            "[Parallel(n_jobs=1)]: Done   7 out of   7 | elapsed:    0.0s remaining:    0.0s\n",
            "[Parallel(n_jobs=1)]: Done   8 out of   8 | elapsed:    0.0s remaining:    0.0s\n",
            "[Parallel(n_jobs=1)]: Done   9 out of   9 | elapsed:    0.0s remaining:    0.0s\n",
            "[Parallel(n_jobs=1)]: Done 1208 out of 1208 | elapsed:    0.1s finished\n"
          ],
          "name": "stderr"
        }
      ]
    },
    {
      "cell_type": "code",
      "metadata": {
        "colab": {
          "base_uri": "https://localhost:8080/",
          "height": 221,
          "referenced_widgets": [
            "7d4bbbf76d904d80a60a15e659946740",
            "57ff08ae8a4d41fea5d6dc832779a455",
            "989e4702a5cf48c59f45b1bccff0a953",
            "cab4448fe1b24ba1a098dcb8dc06c472",
            "c1f81791abb149178f85e86692d70c21",
            "65052bb2433c4f3882f39e1b762fdae7",
            "e225f4ca20924c84b30217fc415dcbf1",
            "a4043156a81f4d64a0650e3c9aa59637"
          ]
        },
        "id": "kvh-8KIptEZ3",
        "outputId": "f31ccd25-69a5-49a0-ad88-2b7e6d5d9792"
      },
      "source": [
        "with Parallel(n_jobs=n_jobs, verbose=verbosity) as parallel:\n",
        "\n",
        "    syllables_spec = parallel(\n",
        "        delayed(pad_spectrogram)(spec, pad_length)\n",
        "        for spec in tqdm(\n",
        "            syllables_spec, desc=\"padding spectrograms\", leave=False\n",
        "        )\n",
        "    )\n",
        "np.shape(syllables_spec)"
      ],
      "execution_count": 83,
      "outputs": [
        {
          "output_type": "display_data",
          "data": {
            "application/vnd.jupyter.widget-view+json": {
              "model_id": "7d4bbbf76d904d80a60a15e659946740",
              "version_minor": 0,
              "version_major": 2
            },
            "text/plain": [
              "HBox(children=(FloatProgress(value=0.0, description='padding spectrograms', max=1208.0, style=ProgressStyle(de…"
            ]
          },
          "metadata": {
            "tags": []
          }
        },
        {
          "output_type": "stream",
          "text": [
            "[Parallel(n_jobs=1)]: Using backend SequentialBackend with 1 concurrent workers.\n",
            "[Parallel(n_jobs=1)]: Done   1 out of   1 | elapsed:    0.0s remaining:    0.0s\n",
            "[Parallel(n_jobs=1)]: Done   2 out of   2 | elapsed:    0.0s remaining:    0.0s\n",
            "[Parallel(n_jobs=1)]: Done   3 out of   3 | elapsed:    0.0s remaining:    0.0s\n",
            "[Parallel(n_jobs=1)]: Done   4 out of   4 | elapsed:    0.0s remaining:    0.0s\n",
            "[Parallel(n_jobs=1)]: Done   5 out of   5 | elapsed:    0.0s remaining:    0.0s\n",
            "[Parallel(n_jobs=1)]: Done   6 out of   6 | elapsed:    0.0s remaining:    0.0s\n",
            "[Parallel(n_jobs=1)]: Done   7 out of   7 | elapsed:    0.0s remaining:    0.0s\n",
            "[Parallel(n_jobs=1)]: Done   8 out of   8 | elapsed:    0.0s remaining:    0.0s\n",
            "[Parallel(n_jobs=1)]: Done   9 out of   9 | elapsed:    0.0s remaining:    0.0s\n",
            "[Parallel(n_jobs=1)]: Done 1208 out of 1208 | elapsed:    2.8s finished\n"
          ],
          "name": "stderr"
        },
        {
          "output_type": "execute_result",
          "data": {
            "text/plain": [
              "(1208, 1024, 467)"
            ]
          },
          "metadata": {
            "tags": []
          },
          "execution_count": 83
        }
      ]
    },
    {
      "cell_type": "code",
      "metadata": {
        "id": "ALqx22VC7nJ9",
        "colab": {
          "base_uri": "https://localhost:8080/",
          "height": 66,
          "referenced_widgets": [
            "74a8970140624884a3f99561cfc81d09",
            "bd10651a962a4cca98a544048ac94c3c",
            "54331421e38b47fcb12cb00e7b806305",
            "5e16e02c87fc421dad6b948221693af2",
            "2076f4be95a44a449166bb8b02d240c2",
            "af1648f74de74e8aaa559813e4a420bf",
            "95d7df55780849bba2530e6258710812",
            "9def7e281e1e4ef5bfc5a53500a568e2"
          ]
        },
        "outputId": "86c1127b-9f6f-420b-8436-6b854437a74a"
      },
      "source": [
        "### To save space back to dataframe\n",
        "syllables_spec = [(norm(i)*255).astype('uint8') for i in tqdm(syllables_spec)]\n",
        "syllable_df['spectrogram'] = syllables_spec"
      ],
      "execution_count": 84,
      "outputs": [
        {
          "output_type": "display_data",
          "data": {
            "application/vnd.jupyter.widget-view+json": {
              "model_id": "74a8970140624884a3f99561cfc81d09",
              "version_minor": 0,
              "version_major": 2
            },
            "text/plain": [
              "HBox(children=(FloatProgress(value=0.0, max=1208.0), HTML(value='')))"
            ]
          },
          "metadata": {
            "tags": []
          }
        },
        {
          "output_type": "stream",
          "text": [
            "\n"
          ],
          "name": "stdout"
        }
      ]
    },
    {
      "cell_type": "code",
      "metadata": {
        "id": "rvnbvOjE9Nqd"
      },
      "source": [
        "save_loc = DATA_DIR / 'syllable_dfs' / DATASET_ID / 'zf_Nest5_noRescale.pickle'"
      ],
      "execution_count": 85,
      "outputs": []
    },
    {
      "cell_type": "code",
      "metadata": {
        "id": "U-ZLjcnC9auM",
        "colab": {
          "base_uri": "https://localhost:8080/"
        },
        "outputId": "7760a086-42ae-439f-c034-85c772e964ad"
      },
      "source": [
        "save_loc"
      ],
      "execution_count": 86,
      "outputs": [
        {
          "output_type": "execute_result",
          "data": {
            "text/plain": [
              "PosixPath('/content/Nest-Seq-Analysis/data/syllable_dfs/zebra_finch_sakata/zf_Nest5_noRescale.pickle')"
            ]
          },
          "metadata": {
            "tags": []
          },
          "execution_count": 86
        }
      ]
    },
    {
      "cell_type": "code",
      "metadata": {
        "id": "WiE82KG0CV8A"
      },
      "source": [
        "syllable_df.reset_index(drop=True, inplace=True)"
      ],
      "execution_count": 87,
      "outputs": []
    },
    {
      "cell_type": "code",
      "metadata": {
        "id": "Z7D_mh-W9wnd",
        "colab": {
          "base_uri": "https://localhost:8080/",
          "height": 419
        },
        "outputId": "cdc16891-f4e4-4595-8c74-1e2947a362f6"
      },
      "source": [
        "syllable_df"
      ],
      "execution_count": 88,
      "outputs": [
        {
          "output_type": "execute_result",
          "data": {
            "text/html": [
              "<div>\n",
              "<style scoped>\n",
              "    .dataframe tbody tr th:only-of-type {\n",
              "        vertical-align: middle;\n",
              "    }\n",
              "\n",
              "    .dataframe tbody tr th {\n",
              "        vertical-align: top;\n",
              "    }\n",
              "\n",
              "    .dataframe thead th {\n",
              "        text-align: right;\n",
              "    }\n",
              "</style>\n",
              "<table border=\"1\" class=\"dataframe\">\n",
              "  <thead>\n",
              "    <tr style=\"text-align: right;\">\n",
              "      <th></th>\n",
              "      <th>start_time</th>\n",
              "      <th>end_time</th>\n",
              "      <th>labels</th>\n",
              "      <th>indv</th>\n",
              "      <th>indvi</th>\n",
              "      <th>key</th>\n",
              "      <th>audio</th>\n",
              "      <th>rate</th>\n",
              "      <th>spectrogram</th>\n",
              "    </tr>\n",
              "  </thead>\n",
              "  <tbody>\n",
              "    <tr>\n",
              "      <th>0</th>\n",
              "      <td>0.090219</td>\n",
              "      <td>0.151783</td>\n",
              "      <td>i</td>\n",
              "      <td>ttog</td>\n",
              "      <td>1</td>\n",
              "      <td>ttog_0012</td>\n",
              "      <td>[-0.00017775803, 8.467357e-06, 5.4927576e-05, ...</td>\n",
              "      <td>44100</td>\n",
              "      <td>[[0, 0, 0, 0, 0, 0, 0, 0, 0, 0, 0, 0, 0, 0, 0,...</td>\n",
              "    </tr>\n",
              "    <tr>\n",
              "      <th>1</th>\n",
              "      <td>0.186387</td>\n",
              "      <td>0.254731</td>\n",
              "      <td>i</td>\n",
              "      <td>ttog</td>\n",
              "      <td>2</td>\n",
              "      <td>ttog_0012</td>\n",
              "      <td>[0.0014492568, 0.001327202, 0.0010414465, 0.00...</td>\n",
              "      <td>44100</td>\n",
              "      <td>[[0, 0, 0, 0, 0, 0, 0, 0, 0, 0, 0, 0, 0, 0, 0,...</td>\n",
              "    </tr>\n",
              "    <tr>\n",
              "      <th>2</th>\n",
              "      <td>0.271715</td>\n",
              "      <td>0.340241</td>\n",
              "      <td>i</td>\n",
              "      <td>ttog</td>\n",
              "      <td>3</td>\n",
              "      <td>ttog_0012</td>\n",
              "      <td>[0.00057293667, 0.00040001346, 0.00019943516, ...</td>\n",
              "      <td>44100</td>\n",
              "      <td>[[0, 0, 0, 0, 0, 0, 0, 0, 0, 0, 0, 0, 0, 0, 0,...</td>\n",
              "    </tr>\n",
              "    <tr>\n",
              "      <th>3</th>\n",
              "      <td>0.359720</td>\n",
              "      <td>0.433892</td>\n",
              "      <td>a</td>\n",
              "      <td>ttog</td>\n",
              "      <td>4</td>\n",
              "      <td>ttog_0012</td>\n",
              "      <td>[-0.00032641325, -0.0004420503, -0.00043612465...</td>\n",
              "      <td>44100</td>\n",
              "      <td>[[0, 0, 0, 0, 0, 0, 0, 0, 0, 0, 0, 0, 0, 0, 0,...</td>\n",
              "    </tr>\n",
              "    <tr>\n",
              "      <th>4</th>\n",
              "      <td>0.458405</td>\n",
              "      <td>0.854754</td>\n",
              "      <td>b</td>\n",
              "      <td>ttog</td>\n",
              "      <td>5</td>\n",
              "      <td>ttog_0012</td>\n",
              "      <td>[0.0033812039, 0.0036342381, 0.0033554344, 0.0...</td>\n",
              "      <td>44100</td>\n",
              "      <td>[[0, 0, 0, 0, 0, 0, 0, 0, 0, 0, 0, 0, 0, 0, 0,...</td>\n",
              "    </tr>\n",
              "    <tr>\n",
              "      <th>...</th>\n",
              "      <td>...</td>\n",
              "      <td>...</td>\n",
              "      <td>...</td>\n",
              "      <td>...</td>\n",
              "      <td>...</td>\n",
              "      <td>...</td>\n",
              "      <td>...</td>\n",
              "      <td>...</td>\n",
              "      <td>...</td>\n",
              "    </tr>\n",
              "    <tr>\n",
              "      <th>1203</th>\n",
              "      <td>7.790454</td>\n",
              "      <td>7.855692</td>\n",
              "      <td>-</td>\n",
              "      <td>ttog</td>\n",
              "      <td>28</td>\n",
              "      <td>ttog_0002</td>\n",
              "      <td>[7.613921e-06, 0.00039439645, -0.000219392, -0...</td>\n",
              "      <td>44100</td>\n",
              "      <td>[[0, 0, 0, 0, 0, 0, 0, 0, 0, 0, 0, 0, 0, 0, 0,...</td>\n",
              "    </tr>\n",
              "    <tr>\n",
              "      <th>1204</th>\n",
              "      <td>7.881134</td>\n",
              "      <td>7.946893</td>\n",
              "      <td>-</td>\n",
              "      <td>ttog</td>\n",
              "      <td>29</td>\n",
              "      <td>ttog_0002</td>\n",
              "      <td>[0.0003486598, 3.1747815e-05, -0.00021428091, ...</td>\n",
              "      <td>44100</td>\n",
              "      <td>[[0, 0, 0, 0, 0, 0, 0, 0, 0, 0, 0, 0, 0, 0, 0,...</td>\n",
              "    </tr>\n",
              "    <tr>\n",
              "      <th>1205</th>\n",
              "      <td>7.970726</td>\n",
              "      <td>8.043787</td>\n",
              "      <td>-</td>\n",
              "      <td>ttog</td>\n",
              "      <td>30</td>\n",
              "      <td>ttog_0002</td>\n",
              "      <td>[-0.006481275, -0.005286367, -0.0028302197, -0...</td>\n",
              "      <td>44100</td>\n",
              "      <td>[[0, 0, 0, 0, 0, 0, 0, 0, 0, 0, 0, 0, 0, 0, 0,...</td>\n",
              "    </tr>\n",
              "    <tr>\n",
              "      <th>1206</th>\n",
              "      <td>8.072630</td>\n",
              "      <td>8.470635</td>\n",
              "      <td>-</td>\n",
              "      <td>ttog</td>\n",
              "      <td>31</td>\n",
              "      <td>ttog_0002</td>\n",
              "      <td>[0.005190153, 0.0057454286, 0.0057890974, 0.00...</td>\n",
              "      <td>44100</td>\n",
              "      <td>[[0, 0, 0, 0, 0, 0, 0, 0, 0, 0, 0, 0, 0, 0, 0,...</td>\n",
              "    </tr>\n",
              "    <tr>\n",
              "      <th>1207</th>\n",
              "      <td>8.505873</td>\n",
              "      <td>8.701293</td>\n",
              "      <td>-</td>\n",
              "      <td>ttog</td>\n",
              "      <td>32</td>\n",
              "      <td>ttog_0002</td>\n",
              "      <td>[0.0008739565, -6.754252e-05, -0.0007542508, -...</td>\n",
              "      <td>44100</td>\n",
              "      <td>[[0, 0, 0, 0, 0, 0, 0, 0, 0, 0, 0, 0, 0, 0, 0,...</td>\n",
              "    </tr>\n",
              "  </tbody>\n",
              "</table>\n",
              "<p>1208 rows × 9 columns</p>\n",
              "</div>"
            ],
            "text/plain": [
              "      start_time  end_time labels  indv  indvi        key  \\\n",
              "0       0.090219  0.151783      i  ttog      1  ttog_0012   \n",
              "1       0.186387  0.254731      i  ttog      2  ttog_0012   \n",
              "2       0.271715  0.340241      i  ttog      3  ttog_0012   \n",
              "3       0.359720  0.433892      a  ttog      4  ttog_0012   \n",
              "4       0.458405  0.854754      b  ttog      5  ttog_0012   \n",
              "...          ...       ...    ...   ...    ...        ...   \n",
              "1203    7.790454  7.855692      -  ttog     28  ttog_0002   \n",
              "1204    7.881134  7.946893      -  ttog     29  ttog_0002   \n",
              "1205    7.970726  8.043787      -  ttog     30  ttog_0002   \n",
              "1206    8.072630  8.470635      -  ttog     31  ttog_0002   \n",
              "1207    8.505873  8.701293      -  ttog     32  ttog_0002   \n",
              "\n",
              "                                                  audio   rate  \\\n",
              "0     [-0.00017775803, 8.467357e-06, 5.4927576e-05, ...  44100   \n",
              "1     [0.0014492568, 0.001327202, 0.0010414465, 0.00...  44100   \n",
              "2     [0.00057293667, 0.00040001346, 0.00019943516, ...  44100   \n",
              "3     [-0.00032641325, -0.0004420503, -0.00043612465...  44100   \n",
              "4     [0.0033812039, 0.0036342381, 0.0033554344, 0.0...  44100   \n",
              "...                                                 ...    ...   \n",
              "1203  [7.613921e-06, 0.00039439645, -0.000219392, -0...  44100   \n",
              "1204  [0.0003486598, 3.1747815e-05, -0.00021428091, ...  44100   \n",
              "1205  [-0.006481275, -0.005286367, -0.0028302197, -0...  44100   \n",
              "1206  [0.005190153, 0.0057454286, 0.0057890974, 0.00...  44100   \n",
              "1207  [0.0008739565, -6.754252e-05, -0.0007542508, -...  44100   \n",
              "\n",
              "                                            spectrogram  \n",
              "0     [[0, 0, 0, 0, 0, 0, 0, 0, 0, 0, 0, 0, 0, 0, 0,...  \n",
              "1     [[0, 0, 0, 0, 0, 0, 0, 0, 0, 0, 0, 0, 0, 0, 0,...  \n",
              "2     [[0, 0, 0, 0, 0, 0, 0, 0, 0, 0, 0, 0, 0, 0, 0,...  \n",
              "3     [[0, 0, 0, 0, 0, 0, 0, 0, 0, 0, 0, 0, 0, 0, 0,...  \n",
              "4     [[0, 0, 0, 0, 0, 0, 0, 0, 0, 0, 0, 0, 0, 0, 0,...  \n",
              "...                                                 ...  \n",
              "1203  [[0, 0, 0, 0, 0, 0, 0, 0, 0, 0, 0, 0, 0, 0, 0,...  \n",
              "1204  [[0, 0, 0, 0, 0, 0, 0, 0, 0, 0, 0, 0, 0, 0, 0,...  \n",
              "1205  [[0, 0, 0, 0, 0, 0, 0, 0, 0, 0, 0, 0, 0, 0, 0,...  \n",
              "1206  [[0, 0, 0, 0, 0, 0, 0, 0, 0, 0, 0, 0, 0, 0, 0,...  \n",
              "1207  [[0, 0, 0, 0, 0, 0, 0, 0, 0, 0, 0, 0, 0, 0, 0,...  \n",
              "\n",
              "[1208 rows x 9 columns]"
            ]
          },
          "metadata": {
            "tags": []
          },
          "execution_count": 88
        }
      ]
    },
    {
      "cell_type": "code",
      "metadata": {
        "id": "P1gIbzmc9X_0"
      },
      "source": [
        "ensure_dir(save_loc)\n",
        "syllable_df.to_pickle(save_loc)"
      ],
      "execution_count": 89,
      "outputs": []
    },
    {
      "cell_type": "code",
      "metadata": {
        "id": "FZfZXoYaEy3D"
      },
      "source": [
        "## For direct saving to google drive\n",
        "syllable_df.to_pickle('/content/gdrive/My Drive/ZFDataset/'+'zf_Nest5_noRescale.pickle')"
      ],
      "execution_count": 90,
      "outputs": []
    },
    {
      "cell_type": "code",
      "metadata": {
        "id": "4yvNZukl9dwN"
      },
      "source": [
        "del syllable_df"
      ],
      "execution_count": null,
      "outputs": []
    },
    {
      "cell_type": "code",
      "metadata": {
        "id": "NTNugLuC7HMS",
        "colab": {
          "base_uri": "https://localhost:8080/",
          "height": 419
        },
        "outputId": "55c274a2-d160-4a32-b3f5-00be7bd31ed7"
      },
      "source": [
        "pd.read_pickle('/content/Nest-Seq-Analysis/data/syllable_dfs/zebra_finch_sakata/zf_Nest4_noRescale.pickle')"
      ],
      "execution_count": 91,
      "outputs": [
        {
          "output_type": "execute_result",
          "data": {
            "text/html": [
              "<div>\n",
              "<style scoped>\n",
              "    .dataframe tbody tr th:only-of-type {\n",
              "        vertical-align: middle;\n",
              "    }\n",
              "\n",
              "    .dataframe tbody tr th {\n",
              "        vertical-align: top;\n",
              "    }\n",
              "\n",
              "    .dataframe thead th {\n",
              "        text-align: right;\n",
              "    }\n",
              "</style>\n",
              "<table border=\"1\" class=\"dataframe\">\n",
              "  <thead>\n",
              "    <tr style=\"text-align: right;\">\n",
              "      <th></th>\n",
              "      <th>start_time</th>\n",
              "      <th>end_time</th>\n",
              "      <th>labels</th>\n",
              "      <th>indv</th>\n",
              "      <th>indvi</th>\n",
              "      <th>key</th>\n",
              "      <th>audio</th>\n",
              "      <th>rate</th>\n",
              "      <th>spectrogram</th>\n",
              "    </tr>\n",
              "  </thead>\n",
              "  <tbody>\n",
              "    <tr>\n",
              "      <th>0</th>\n",
              "      <td>0.190428</td>\n",
              "      <td>0.241086</td>\n",
              "      <td>i</td>\n",
              "      <td>gthh</td>\n",
              "      <td>1</td>\n",
              "      <td>gthh_0011</td>\n",
              "      <td>[0.0072043934, 0.0075306967, 0.0070742657, 0.0...</td>\n",
              "      <td>44100</td>\n",
              "      <td>[[0, 0, 0, 0, 0, 0, 0, 0, 0, 0, 0, 0, 0, 0, 0,...</td>\n",
              "    </tr>\n",
              "    <tr>\n",
              "      <th>1</th>\n",
              "      <td>0.291562</td>\n",
              "      <td>0.344124</td>\n",
              "      <td>a</td>\n",
              "      <td>gthh</td>\n",
              "      <td>2</td>\n",
              "      <td>gthh_0011</td>\n",
              "      <td>[0.0033425759, 0.0036643278, 0.0033675095, 0.0...</td>\n",
              "      <td>44100</td>\n",
              "      <td>[[0, 0, 0, 0, 0, 0, 0, 0, 0, 0, 0, 0, 0, 0, 0,...</td>\n",
              "    </tr>\n",
              "    <tr>\n",
              "      <th>2</th>\n",
              "      <td>0.376279</td>\n",
              "      <td>0.602492</td>\n",
              "      <td>b</td>\n",
              "      <td>gthh</td>\n",
              "      <td>3</td>\n",
              "      <td>gthh_0011</td>\n",
              "      <td>[-0.0070047914, -0.0076078335, -0.008018323, -...</td>\n",
              "      <td>44100</td>\n",
              "      <td>[[0, 0, 0, 0, 0, 0, 0, 0, 0, 0, 0, 0, 0, 0, 0,...</td>\n",
              "    </tr>\n",
              "    <tr>\n",
              "      <th>3</th>\n",
              "      <td>0.645961</td>\n",
              "      <td>0.743149</td>\n",
              "      <td>c</td>\n",
              "      <td>gthh</td>\n",
              "      <td>4</td>\n",
              "      <td>gthh_0011</td>\n",
              "      <td>[0.005392619, 0.005975974, 0.0071191886, 0.007...</td>\n",
              "      <td>44100</td>\n",
              "      <td>[[0, 0, 0, 0, 0, 0, 0, 0, 0, 0, 0, 0, 0, 0, 0,...</td>\n",
              "    </tr>\n",
              "    <tr>\n",
              "      <th>4</th>\n",
              "      <td>0.756936</td>\n",
              "      <td>0.940791</td>\n",
              "      <td>d</td>\n",
              "      <td>gthh</td>\n",
              "      <td>5</td>\n",
              "      <td>gthh_0011</td>\n",
              "      <td>[0.0022676613, -0.00297497, -0.007925726, -0.0...</td>\n",
              "      <td>44100</td>\n",
              "      <td>[[0, 0, 0, 0, 0, 0, 0, 0, 0, 0, 0, 0, 0, 0, 0,...</td>\n",
              "    </tr>\n",
              "    <tr>\n",
              "      <th>...</th>\n",
              "      <td>...</td>\n",
              "      <td>...</td>\n",
              "      <td>...</td>\n",
              "      <td>...</td>\n",
              "      <td>...</td>\n",
              "      <td>...</td>\n",
              "      <td>...</td>\n",
              "      <td>...</td>\n",
              "      <td>...</td>\n",
              "    </tr>\n",
              "    <tr>\n",
              "      <th>1188</th>\n",
              "      <td>0.248738</td>\n",
              "      <td>0.294770</td>\n",
              "      <td>i</td>\n",
              "      <td>gthh</td>\n",
              "      <td>2</td>\n",
              "      <td>gthh_0030</td>\n",
              "      <td>[0.0018945934, -4.4041597e-05, -0.0014835176, ...</td>\n",
              "      <td>44100</td>\n",
              "      <td>[[0, 0, 0, 0, 0, 0, 0, 0, 0, 0, 0, 0, 0, 0, 0,...</td>\n",
              "    </tr>\n",
              "    <tr>\n",
              "      <th>1189</th>\n",
              "      <td>0.355314</td>\n",
              "      <td>0.405155</td>\n",
              "      <td>a</td>\n",
              "      <td>gthh</td>\n",
              "      <td>3</td>\n",
              "      <td>gthh_0030</td>\n",
              "      <td>[0.00080393214, 0.0010610136, 0.0011871265, 0....</td>\n",
              "      <td>44100</td>\n",
              "      <td>[[0, 0, 0, 0, 0, 0, 0, 0, 0, 0, 0, 0, 0, 0, 0,...</td>\n",
              "    </tr>\n",
              "    <tr>\n",
              "      <th>1190</th>\n",
              "      <td>0.441822</td>\n",
              "      <td>0.663296</td>\n",
              "      <td>b</td>\n",
              "      <td>gthh</td>\n",
              "      <td>4</td>\n",
              "      <td>gthh_0030</td>\n",
              "      <td>[-0.00039143433, -0.00030651106, 0.00012114198...</td>\n",
              "      <td>44100</td>\n",
              "      <td>[[0, 0, 0, 0, 0, 0, 0, 0, 0, 0, 0, 0, 0, 0, 0,...</td>\n",
              "    </tr>\n",
              "    <tr>\n",
              "      <th>1191</th>\n",
              "      <td>0.710756</td>\n",
              "      <td>0.805790</td>\n",
              "      <td>c</td>\n",
              "      <td>gthh</td>\n",
              "      <td>5</td>\n",
              "      <td>gthh_0030</td>\n",
              "      <td>[0.016255975, 0.011684088, 0.0056451773, 0.001...</td>\n",
              "      <td>44100</td>\n",
              "      <td>[[0, 0, 0, 0, 0, 0, 0, 0, 0, 0, 0, 0, 0, 0, 0,...</td>\n",
              "    </tr>\n",
              "    <tr>\n",
              "      <th>1192</th>\n",
              "      <td>0.829214</td>\n",
              "      <td>0.999350</td>\n",
              "      <td>d</td>\n",
              "      <td>gthh</td>\n",
              "      <td>6</td>\n",
              "      <td>gthh_0030</td>\n",
              "      <td>[-0.0063406588, -0.0076942747, -0.006567941, -...</td>\n",
              "      <td>44100</td>\n",
              "      <td>[[0, 0, 0, 0, 0, 0, 0, 0, 0, 0, 0, 0, 0, 0, 0,...</td>\n",
              "    </tr>\n",
              "  </tbody>\n",
              "</table>\n",
              "<p>1193 rows × 9 columns</p>\n",
              "</div>"
            ],
            "text/plain": [
              "      start_time  end_time labels  indv  indvi        key  \\\n",
              "0       0.190428  0.241086      i  gthh      1  gthh_0011   \n",
              "1       0.291562  0.344124      a  gthh      2  gthh_0011   \n",
              "2       0.376279  0.602492      b  gthh      3  gthh_0011   \n",
              "3       0.645961  0.743149      c  gthh      4  gthh_0011   \n",
              "4       0.756936  0.940791      d  gthh      5  gthh_0011   \n",
              "...          ...       ...    ...   ...    ...        ...   \n",
              "1188    0.248738  0.294770      i  gthh      2  gthh_0030   \n",
              "1189    0.355314  0.405155      a  gthh      3  gthh_0030   \n",
              "1190    0.441822  0.663296      b  gthh      4  gthh_0030   \n",
              "1191    0.710756  0.805790      c  gthh      5  gthh_0030   \n",
              "1192    0.829214  0.999350      d  gthh      6  gthh_0030   \n",
              "\n",
              "                                                  audio   rate  \\\n",
              "0     [0.0072043934, 0.0075306967, 0.0070742657, 0.0...  44100   \n",
              "1     [0.0033425759, 0.0036643278, 0.0033675095, 0.0...  44100   \n",
              "2     [-0.0070047914, -0.0076078335, -0.008018323, -...  44100   \n",
              "3     [0.005392619, 0.005975974, 0.0071191886, 0.007...  44100   \n",
              "4     [0.0022676613, -0.00297497, -0.007925726, -0.0...  44100   \n",
              "...                                                 ...    ...   \n",
              "1188  [0.0018945934, -4.4041597e-05, -0.0014835176, ...  44100   \n",
              "1189  [0.00080393214, 0.0010610136, 0.0011871265, 0....  44100   \n",
              "1190  [-0.00039143433, -0.00030651106, 0.00012114198...  44100   \n",
              "1191  [0.016255975, 0.011684088, 0.0056451773, 0.001...  44100   \n",
              "1192  [-0.0063406588, -0.0076942747, -0.006567941, -...  44100   \n",
              "\n",
              "                                            spectrogram  \n",
              "0     [[0, 0, 0, 0, 0, 0, 0, 0, 0, 0, 0, 0, 0, 0, 0,...  \n",
              "1     [[0, 0, 0, 0, 0, 0, 0, 0, 0, 0, 0, 0, 0, 0, 0,...  \n",
              "2     [[0, 0, 0, 0, 0, 0, 0, 0, 0, 0, 0, 0, 0, 0, 0,...  \n",
              "3     [[0, 0, 0, 0, 0, 0, 0, 0, 0, 0, 0, 0, 0, 0, 0,...  \n",
              "4     [[0, 0, 0, 0, 0, 0, 0, 0, 0, 0, 0, 0, 0, 0, 0,...  \n",
              "...                                                 ...  \n",
              "1188  [[0, 0, 0, 0, 0, 0, 0, 0, 0, 0, 0, 0, 0, 0, 0,...  \n",
              "1189  [[0, 0, 0, 0, 0, 0, 0, 0, 0, 0, 0, 0, 0, 0, 0,...  \n",
              "1190  [[0, 0, 0, 0, 0, 0, 0, 0, 0, 0, 0, 0, 0, 0, 0,...  \n",
              "1191  [[0, 0, 0, 0, 0, 0, 0, 0, 0, 0, 0, 0, 0, 0, 0,...  \n",
              "1192  [[0, 0, 0, 0, 0, 0, 0, 0, 0, 0, 0, 0, 0, 0, 0,...  \n",
              "\n",
              "[1193 rows x 9 columns]"
            ]
          },
          "metadata": {
            "tags": []
          },
          "execution_count": 91
        }
      ]
    }
  ]
}